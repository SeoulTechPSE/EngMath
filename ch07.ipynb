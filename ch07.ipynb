{
 "cells": [
  {
   "cell_type": "markdown",
   "metadata": {
    "slideshow": {
     "slide_type": "skip"
    }
   },
   "source": [
    "[![Open In Colab](https://colab.research.google.com/assets/colab-badge.svg)](https://colab.research.google.com/github/SeoulTechPSE/EngMath/blob/master/ch07.ipynb)"
   ]
  },
  {
   "cell_type": "markdown",
   "metadata": {
    "slideshow": {
     "slide_type": "slide"
    }
   },
   "source": [
    "# Chapter 7. $~$Vectors"
   ]
  },
  {
   "cell_type": "markdown",
   "metadata": {
    "slideshow": {
     "slide_type": "fragment"
    }
   },
   "source": [
    "### Contents\n",
    "\n",
    "* Vectors in 2-Space\n",
    "* Vectors in 3-Space\n",
    "* Dot Product\n",
    "* Cross Product\n",
    "* Lines and Plains in 3-Space\n",
    "* Vector Spaces\n",
    "* Gram-Schmidt Orthogonalization Process"
   ]
  },
  {
   "cell_type": "markdown",
   "metadata": {
    "slideshow": {
     "slide_type": "slide"
    }
   },
   "source": [
    "## 7.1$~$ Vectors in 2-Space"
   ]
  },
  {
   "cell_type": "markdown",
   "metadata": {
    "slideshow": {
     "slide_type": "fragment"
    }
   },
   "source": [
    "* We distinguish two important quantities: $~$**scalars** and **vectors**\n",
    "    * A scalar is simply a real number or a quantity that has <font color='red'>*magnitude*</font>\n",
    "    * A vector is usually described as a quantity that has both <font color='red'>*magnitude*</font> and <font color='red'>*direction*</font>"
   ]
  },
  {
   "cell_type": "markdown",
   "metadata": {
    "cell_style": "split",
    "slideshow": {
     "slide_type": "subslide"
    }
   },
   "source": [
    "* Equal, $~$Scalar Multiplication\n",
    "\n",
    "$\\text{ }$\n",
    "\n",
    "<img src=\"figures/ch07_figure00.png\" alt=\"Equal\" style=\"width:300px; float:left\"/>\n",
    "\n",
    "$\\text{ }$\n",
    "\n",
    "<img src=\"figures/ch07_figure01.png\" alt=\"Parallel_Vectors\" style=\"width:300px; float:left\"/>"
   ]
  },
  {
   "cell_type": "markdown",
   "metadata": {
    "cell_style": "split",
    "slideshow": {
     "slide_type": "fragment"
    }
   },
   "source": [
    "* Addition and Subtraction\n",
    "\n",
    "$\\text{ }$\n",
    "\n",
    "<img src=\"figures/ch07_figure02.png\" alt=\"Addition\" style=\"width:300px; float:left\"/>\n",
    "\n",
    "$\\text{ }\\text{ }$\n",
    "\n",
    "<img src=\"figures/ch07_figure03.png\" alt=\"Subttraction\" style=\"width:300px; float:left\"/> "
   ]
  },
  {
   "cell_type": "markdown",
   "metadata": {
    "slideshow": {
     "slide_type": "subslide"
    }
   },
   "source": [
    "* Vectors in a Coordinate Plane\n",
    "\n",
    " ![Components](figures/ch07_figure04.png)\n",
    " \n",
    " $\\mathbf{a}=\\left \\langle a_1, a_2 \\right \\rangle$\n",
    " \n",
    " Let $~$$\\mathbf{a}=\\left \\langle a_1, a_2 \\right \\rangle~$ and $~$$\\mathbf{b}=\\left \\langle b_1, b_2 \\right \\rangle~$ \n",
    " be vectors in $\\mathbb{R}^2$\n",
    " \n",
    "    * Equality: $\\text{ }$ $\\mathbf{a} =\\mathbf{b}~$ if and only if $~a_1 =b_1, \\;a_2=b_2$\n",
    "    * Addition: $\\text{ }$ $\\mathbf{a} +\\mathbf{b} =\\left \\langle a_1 +b_1, a_2 +b_2 \\right \\rangle$\n",
    "    * Scalar multiplication: $\\text{ }$ $k\\mathbf{a} =\\left \\langle k a_1, k a_2 \\right \\rangle$"
   ]
  },
  {
   "cell_type": "markdown",
   "metadata": {
    "cell_style": "split",
    "slideshow": {
     "slide_type": "subslide"
    }
   },
   "source": [
    "* Properties of Vectors\n",
    "\n",
    "   $\\mathbf{a} +\\mathbf{b} = \\mathbf{b} +\\mathbf{a}$\n",
    "   \n",
    "   $\\mathbf{a} +(\\mathbf{b} +\\mathbf{c}) = (\\mathbf{a} +\\mathbf{b}) +\\mathbf{c}$\n",
    "   \n",
    "   $\\mathbf{a} +\\mathbf{0} = \\mathbf{a}$\n",
    "   \n",
    "   $\\mathbf{a} +(-\\mathbf{a}) = \\mathbf{0}$\n",
    "   \n",
    "   $k(\\mathbf{a} +\\mathbf{b}) = k\\mathbf{a} +k\\mathbf{b}$\n",
    "     \n",
    "   $(k_1 +k_2)\\mathbf{a} = k_1\\mathbf{a} +k_2\\mathbf{a}$\n",
    "   \n",
    "   $k_1(k_2 \\mathbf{a}) = (k_1 k_2) \\mathbf{a}$\n",
    "   \n",
    "   $1\\mathbf{a} = \\mathbf{a}$\n",
    "   \n",
    "   $0\\mathbf{a} = \\mathbf{0}$    "
   ]
  },
  {
   "cell_type": "markdown",
   "metadata": {
    "cell_style": "split",
    "slideshow": {
     "slide_type": "fragment"
    }
   },
   "source": [
    "* Magnitude, $~$Unit Vector\n",
    "\n",
    "    $\\mathbf{a} =\\left \\langle a_1, a_2 \\right \\rangle$ to be $\\left \\| \\mathbf{a} \\right \\| = \\sqrt{a_1^2 +a_2^2}$\n",
    "    \n",
    "    $\\displaystyle\\mathbf{u} = \\frac{\\mathbf{a}}{\\left \\| \\mathbf{a} \\right \\|}$"
   ]
  },
  {
   "cell_type": "markdown",
   "metadata": {
    "cell_style": "center",
    "slideshow": {
     "slide_type": "subslide"
    }
   },
   "source": [
    "* $\\mathbf{i}$, $~\\mathbf{j}$ vectors\n",
    "\n",
    "  $\\mathbf{a} =\\left \\langle a_1, a_2 \\right \\rangle =\\left \\langle a_1, 0 \\right \\rangle +\\left \\langle 0, a_2 \\right \\rangle =\n",
    "     a_1 \\left \\langle 1, 0 \\right \\rangle +a_2 \\left \\langle 0, 1 \\right \\rangle = a_1 \\mathbf{i} +a_2 \\mathbf{j}$"
   ]
  },
  {
   "cell_type": "markdown",
   "metadata": {
    "slideshow": {
     "slide_type": "subslide"
    }
   },
   "source": [
    "## 7.2$~$ Vectors in 3-Space"
   ]
  },
  {
   "cell_type": "markdown",
   "metadata": {
    "cell_style": "split",
    "slideshow": {
     "slide_type": "fragment"
    }
   },
   "source": [
    "\n",
    "\n",
    "$\\text{ }$\n",
    "\n",
    "<img src=\"figures/ch07_figure06.png\" alt=\"3_space\" style=\"width:350px\"/>"
   ]
  },
  {
   "cell_type": "markdown",
   "metadata": {
    "cell_style": "split",
    "slideshow": {
     "slide_type": "fragment"
    }
   },
   "source": [
    "* $\\mathbf{i}$, $~\\mathbf{j}$, and $~\\mathbf{k}$ vectors\n",
    "\n",
    "\\begin{align*}\n",
    " \\mathbf{a} &= \\left \\langle a_1, a_2, a_3 \\right \\rangle \\\\ \n",
    " &=\\left \\langle a_1, 0, 0 \\right \\rangle +\\left \\langle 0, a_2, 0 \\right \\rangle \n",
    "  +\\left \\langle 0, 0, a_3 \\right \\rangle \\\\ \n",
    " &=  a_1 \\left \\langle 1, 0, 0 \\right \\rangle +a_2 \\left \\langle 0, 1, 0 \\right \\rangle\n",
    "    +a_3 \\left \\langle 0, 0, 1 \\right \\rangle \\\\\n",
    " &= a_1 \\mathbf{i} +a_2 \\mathbf{j} +a_3 \\mathbf{k}\n",
    "\\end{align*}"
   ]
  },
  {
   "cell_type": "markdown",
   "metadata": {
    "cell_style": "center",
    "slideshow": {
     "slide_type": "subslide"
    }
   },
   "source": [
    "* Octants\n",
    "\n",
    "<p>\n",
    "<div class=pull-left>\n",
    "\n",
    "<img src=\"figures/ch07_figure05.png\" alt=\"Octants\" width=\"400\"/> \n",
    "\n",
    "</div>\n",
    "\n",
    "| Axes | Coordinates | Plane | Coordinates |\n",
    "|------|-------------|-------|-------------|\n",
    "| $x$ | $(a, 0, 0)$ | $xy$ | $(a, b, 0)$|\n",
    "| $y$ | $(0, b, 0)$ | $yz$ | $(0, b, c)$|\n",
    "| $z$ | $(0, 0, c)$ | $xz$ | $(a, 0, c)$|\n",
    "\n",
    "</p>"
   ]
  },
  {
   "cell_type": "markdown",
   "metadata": {
    "slideshow": {
     "slide_type": "subslide"
    }
   },
   "source": [
    "* **Component Definitions in 3-Space** \n",
    "\n",
    "  Let $\\mathbf{a}=\\left \\langle a_1, a_2, a_3 \\right \\rangle\\text{ }$ and $\\text{ }\\mathbf{b}=\\left \\langle b_1, b_2, b_3 \\right \\rangle$ be vectors in $\\mathbb{R}^3$\n",
    "\n",
    "  * Equality: $\\text{ }$ $\\mathbf{a} =\\mathbf{b}~$ if and only if $~a_1 =b_1, \\;a_2=b_2, \\;a_3=b_3$\n",
    "  * Addition: $\\text{ }$ $\\mathbf{a} +\\mathbf{b} =\\left \\langle a_1 +b_1, a_2 +b_2, a_3 +b_3 \\right \\rangle$\n",
    "  * Scalar multiplication: $\\text{ }$ $k\\mathbf{a} =\\left \\langle k a_1, k a_2, k a_3 \\right \\rangle$\n",
    "  * Negative: $\\text{ }$ $-\\mathbf{b} =(-1)\\mathbf{b} =\\left \\langle -b_1, -b_2, -b_3 \\right \\rangle$\n",
    "  * Subtraction: $\\text{ }$ $\\mathbf{a} -\\mathbf{b} = \\mathbf{a} +(-1)\\mathbf{b} =\\left \\langle a_1 -b_1, a_2 -b_2, a_3 -b_3 \\right \\rangle$\n",
    "  * Zero vector: $\\text{ }$ $\\mathbf{0} =\\left \\langle 0, 0, 0 \\right \\rangle$\n",
    "  * Magnitude: $\\text{ }$ $\\left \\| \\mathbf{a} \\right \\| =\\sqrt{a_1^2 +a_2^2 +a_3^2}$"
   ]
  },
  {
   "cell_type": "markdown",
   "metadata": {
    "slideshow": {
     "slide_type": "slide"
    }
   },
   "source": [
    "## 7.3 $~$Dot Product (or Inner or Scalar Product)"
   ]
  },
  {
   "cell_type": "markdown",
   "metadata": {
    "slideshow": {
     "slide_type": "fragment"
    }
   },
   "source": [
    "* The dot product of two vectors $\\text{ }\\mathbf{a}=\\left \\langle a_1, a_2, a_3 \\right \\rangle$ and $\\text{ }\\mathbf{b}=\\left \\langle b_1, b_2, b_3 \\right \\rangle\\text{ }$ is\n",
    "\n",
    "  $\n",
    "  \\mathbf{a} \\cdot \\mathbf{b} = a_1 b_1 + a_2 b_2 + a_3 b_3 \n",
    "  $"
   ]
  },
  {
   "cell_type": "markdown",
   "metadata": {
    "slideshow": {
     "slide_type": "fragment"
    }
   },
   "source": [
    "* Properties of the Dot Product\n",
    "\n",
    "  * $\\mathbf{a}\\cdot\\mathbf{b} = 0~$ if $~\\mathbf{a}=\\mathbf{0}$ or $\\mathbf{b}=\\mathbf{0}$\n",
    "  * $\\mathbf{a}\\cdot\\mathbf{b} = \\mathbf{b}\\cdot\\mathbf{a}$\n",
    "  * $\\mathbf{a}\\cdot(\\mathbf{b} +\\mathbf{c}) = \\mathbf{a}\\cdot\\mathbf{b} +\\mathbf{a}\\cdot\\mathbf{c}$\n",
    "  * $\\mathbf{a}\\cdot(k\\mathbf{b}) = (k\\mathbf{a})\\cdot\\mathbf{b} =k(\\mathbf{a}\\cdot\\mathbf{b})$\n",
    "  * $\\mathbf{a}\\cdot\\mathbf{a} \\geq 0$\n",
    "  * $\\mathbf{a}\\cdot\\mathbf{a} =\\left \\| \\mathbf{a} \\right \\|^2$"
   ]
  },
  {
   "cell_type": "markdown",
   "metadata": {
    "slideshow": {
     "slide_type": "subslide"
    }
   },
   "source": [
    "* Alternative Form\n",
    "\n",
    "  The dot product of two vectors $\\mathbf{a}$ and $\\mathbf{b}$ is\n",
    "  \n",
    "  > $\\mathbf{a}\\cdot\\mathbf{b} =\\left\\| \\mathbf{a} \\right\\| \\left\\| \\mathbf{b} \\right\\| \\cos\\theta$\n",
    "  \n",
    "  where $\\theta$ is the angle between the vectors such that $0 \\leq \\theta \\leq \\pi$"
   ]
  },
  {
   "cell_type": "markdown",
   "metadata": {
    "cell_style": "split",
    "slideshow": {
     "slide_type": "fragment"
    }
   },
   "source": [
    "* Angle between two vectors\n",
    "\n",
    "  $\\displaystyle\\cos\\theta = \\frac{a_1 b_1 +a_2 b_2 + a_3 b_3}{\\left\\| \\mathbf{a}\\right\\| \\left\\| \\mathbf{b}\\right\\|}$"
   ]
  },
  {
   "cell_type": "markdown",
   "metadata": {
    "cell_style": "split",
    "slideshow": {
     "slide_type": "fragment"
    }
   },
   "source": [
    "* Direction cosines\n",
    "\n",
    "  <img src=\"figures/ch07_figure07.png\" alt=\"Direction_cosines\" style=\"width:350px; float:left\"/> \n",
    "  \n",
    "  $~\\displaystyle\\cos\\alpha=\\frac{a_1}{\\left\\|\\mathbf{a}\\right\\|}$, \n",
    "  $~\\displaystyle\\cos\\beta=\\frac{a_2}{\\left\\|\\mathbf{a}\\right\\|}$,\n",
    "  $~\\displaystyle\\cos\\gamma=\\frac{a_3}{\\left\\|\\mathbf{a}\\right\\|}$"
   ]
  },
  {
   "cell_type": "markdown",
   "metadata": {
    "slideshow": {
     "slide_type": "subslide"
    }
   },
   "source": [
    "* Orthogonal vectors\n",
    "\n",
    "  Two nonzero vectors $\\mathbf{a}$ and $\\mathbf{b}$ are orthogonal if and only if $~\\mathbf{a}\\cdot\\mathbf{b}=0$"
   ]
  },
  {
   "cell_type": "markdown",
   "metadata": {
    "slideshow": {
     "slide_type": "subslide"
    }
   },
   "source": [
    "* Component of $\\mathbf{a}$ on $\\mathbf{b}$\n",
    "\n",
    "  To find the component of $\\mathbf{a}$ on a vector $\\mathbf{b}$, we dot $\\mathbf{a}$ with a unit vector in the direction of $\\mathbf{b}$\n",
    "  \n",
    "    <img src=\"figures/ch07_figure08.png\" alt=\"component_of_a_on_b\" style=\"width:350px; float:left\"/>\n",
    "    \n",
    "  $\\displaystyle\\text{comp}_{\\mathbf{b}} \\mathbf{a} =\\left\\| \\mathbf{a} \\right\\| \\cos\\theta\n",
    "   =\\left\\| \\mathbf{a} \\right\\| \\cos\\theta \\frac{\\left\\| \\mathbf{b} \\right\\|}{\\left\\| \\mathbf{b} \\right\\|}\n",
    "   =\\frac{\\mathbf{a}\\cdot\\mathbf{b}}{\\left\\| \\mathbf{b} \\right\\|}\n",
    "   =\\mathbf{a} \\cdot\\frac{\\mathbf{b}}{\\left\\| \\mathbf{b} \\right\\|}$"
   ]
  },
  {
   "cell_type": "markdown",
   "metadata": {
    "slideshow": {
     "slide_type": "subslide"
    }
   },
   "source": [
    "* Projection of $\\mathbf{a}$ onto $\\mathbf{b}$\n",
    "\n",
    "    <img src=\"figures/ch07_figure09.png\" alt=\"projection_of_a_onto_b\" style=\"width:350px; float:left\"/>\n",
    "    \n",
    "    $\\displaystyle\\text{proj}_{\\mathbf{b}} \\mathbf{a} = \\left(\\text{comp}_{\\mathbf{b}} \\mathbf{a} \\right) \\left(\\frac{\\mathbf{b}}{\\left\\| \\mathbf{b} \\right\\|} \\right)\n",
    "     =\\left(\\frac{\\mathbf{a}\\cdot\\mathbf{b}}{\\mathbf{b}\\cdot\\mathbf{b}}\\right) \\mathbf{b}$"
   ]
  },
  {
   "cell_type": "markdown",
   "metadata": {
    "slideshow": {
     "slide_type": "slide"
    }
   },
   "source": [
    "## 7.4 $~$Cross Product"
   ]
  },
  {
   "cell_type": "markdown",
   "metadata": {
    "slideshow": {
     "slide_type": "fragment"
    }
   },
   "source": [
    "* Cross product of Two vectors\n",
    "\n",
    "  $\\mathbf{a} \\times \\mathbf{b} \n",
    "   =\\left|\\begin{matrix} \\mathbf{i} & \\mathbf{j} & \\mathbf{k}\\\\ a_1 &  a_2 & a_3\\\\ b_1 &  b_2 & b_3 \\end{matrix}\\right|\n",
    "   =\\left|\\begin{matrix} a_2 & a_3\\\\ b_2 & b_3 \\end{matrix}\\right| \\mathbf{i}\n",
    "   -\\left|\\begin{matrix} a_1 & a_3\\\\ b_1 & b_3 \\end{matrix}\\right| \\mathbf{j}\n",
    "   +\\left|\\begin{matrix} a_1 & a_2\\\\ b_1 & b_2 \\end{matrix}\\right| \\mathbf{k}$"
   ]
  },
  {
   "cell_type": "markdown",
   "metadata": {
    "slideshow": {
     "slide_type": "fragment"
    }
   },
   "source": [
    "* Alternative Form and Magnitude of the Cross Product\n",
    " \n",
    "  $\\mathbf{a}\\times\\mathbf{b} =(\\left\\| \\mathbf{a} \\right\\| \\left\\| \\mathbf{b} \\right\\| \\sin\\theta)\\,\\mathbf{n} =\\left\\| \\mathbf{a}\\times\\mathbf{b} \\right\\| \\mathbf{n}$"
   ]
  },
  {
   "cell_type": "markdown",
   "metadata": {
    "slideshow": {
     "slide_type": "subslide"
    }
   },
   "source": [
    "* Right-Hand Rule\n",
    "\n",
    "  The vectors $\\mathbf{a}$, $\\mathbf{b}$, and $~\\mathbf{a}\\times\\mathbf{b}~$ form a right-hand system:\n",
    "  \n",
    "  <img src=\"figures/ch07_figure10.png\" alt=\"right_hand_rule\" style=\"width:400px; float:left\"/>"
   ]
  },
  {
   "cell_type": "markdown",
   "metadata": {
    "slideshow": {
     "slide_type": "fragment"
    }
   },
   "source": [
    "* Parallel Vectors\n",
    "\n",
    "  Two nonzero vectors $\\mathbf{a}$ and $\\mathbf{b}$ are parallel if and only if $~\\mathbf{a}\\times\\mathbf{b}=\\mathbf{0}$"
   ]
  },
  {
   "cell_type": "markdown",
   "metadata": {
    "slideshow": {
     "slide_type": "subslide"
    }
   },
   "source": [
    "* Properties of the Cross Product\n",
    "\n",
    "  * $\\mathbf{a}\\times\\mathbf{b} = \\mathbf{0}~$ if $~\\mathbf{a}=\\mathbf{0}~$ or $~\\mathbf{b}=\\mathbf{0}$\n",
    "  * $\\mathbf{a}\\times\\mathbf{b} =-\\mathbf{b}\\times\\mathbf{a}$\n",
    "  * $\\mathbf{a}\\times(\\mathbf{b} +\\mathbf{c}) = (\\mathbf{a}\\times\\mathbf{b}) +(\\mathbf{a}\\times\\mathbf{c})$\n",
    "  * $(\\mathbf{a} +\\mathbf{b}) \\times\\mathbf{c} = (\\mathbf{a}\\times\\mathbf{c}) +(\\mathbf{b}\\times\\mathbf{c})$  \n",
    "  * $\\mathbf{a}\\times(k\\mathbf{b}) = (k\\mathbf{a})\\times\\mathbf{b} =k(\\mathbf{a}\\times\\mathbf{b})$\n",
    "  * $\\mathbf{a}\\times\\mathbf{a} =\\mathbf{0}$\n",
    "  * $\\mathbf{a}\\cdot(\\mathbf{a}\\times\\mathbf{b})=0$\n",
    "  * $\\mathbf{b}\\cdot(\\mathbf{a}\\times\\mathbf{b})=0$  "
   ]
  },
  {
   "cell_type": "markdown",
   "metadata": {
    "cell_style": "split",
    "slideshow": {
     "slide_type": "subslide"
    }
   },
   "source": [
    "* Areas of a parallelogram and a Trianlge \n",
    "\n",
    "  (a) $~A =\\left\\|\\mathbf{a} \\times \\mathbf{b} \\right\\|$, $\\text{ }$ (b) $~A =\\frac{1}{2}\\left\\|\\mathbf{a} \\times \\mathbf{b} \\right\\|$\n",
    "\n",
    "  <img src=\"figures/ch07_figure11.png\" alt=\"area_parallelogram\" style=\"width:350px; float:left\"/>"
   ]
  },
  {
   "cell_type": "markdown",
   "metadata": {
    "cell_style": "split",
    "slideshow": {
     "slide_type": "fragment"
    }
   },
   "source": [
    "* Volume of a Parallelepiped\n",
    "\n",
    "  $V=\\left| \\mathbf{a} \\cdot (\\mathbf{b} \\times \\mathbf{c})\\right|$\n",
    "\n",
    "  <img src=\"figures/ch07_figure12.png\" alt=\"volume_parallelepiped\" style=\"width:350px; float:left\"/>"
   ]
  },
  {
   "cell_type": "markdown",
   "metadata": {
    "slideshow": {
     "slide_type": "subslide"
    }
   },
   "source": [
    "* Special Products\n",
    "\n",
    "  $\\mathbf{a} \\cdot (\\mathbf{b} \\times \\mathbf{c}) =\n",
    "   \\left|\\begin{matrix}\n",
    "    a_1 & a_2 & a_3\\\\ \n",
    "    b_1 & b_2 & b_3\\\\ \n",
    "    c_1 & c_2 & c_3 \n",
    "   \\end{matrix}\\right| = (\\mathbf{a} \\times \\mathbf{b}) \\cdot \\mathbf{c}\n",
    "  $\n",
    "  \n",
    "  $\\mathbf{a} \\times (\\mathbf{b} \\times \\mathbf{c}) = (\\mathbf{a} \\cdot \\mathbf{c}) \\mathbf{b}\n",
    "   -(\\mathbf{a} \\cdot \\mathbf{b}) \\mathbf{c}\n",
    "  $"
   ]
  },
  {
   "cell_type": "markdown",
   "metadata": {
    "slideshow": {
     "slide_type": "slide"
    }
   },
   "source": [
    "## 7.5$~$ Lines and Planes in 3-Space"
   ]
  },
  {
   "cell_type": "markdown",
   "metadata": {
    "slideshow": {
     "slide_type": "fragment"
    }
   },
   "source": [
    "* Lines\n",
    "\n",
    "  $\\mathbf{r} -\\mathbf{r}_2 = t(\\mathbf{r}_2 -\\mathbf{r}_1) = t\\mathbf{a}=t \\left \\langle x_2 -x_1, y_2 -y_1, z_2 -z_1 \\right \\rangle\n",
    "  \\Rightarrow \\displaystyle t = \\frac{x - x_2}{a_1} = \\frac{y - y_2}{a_2} = \\frac{z - z_2}{a_3}$\n",
    "  \n",
    "  <img src=\"figures/ch07_figure13.png\" alt=\"Lines\" style=\"width:400px; float:left\"/>  "
   ]
  },
  {
   "cell_type": "markdown",
   "metadata": {
    "slideshow": {
     "slide_type": "subslide"
    }
   },
   "source": [
    "* Planes\n",
    "\n",
    "   If the normal vector is $\\mathbf{n}=a\\mathbf{i} +b\\mathbf{j} +c\\mathbf{k}$, $~$then\n",
    "   \n",
    "   $\\mathbf{n}\\cdot(\\mathbf{r} -\\mathbf{r}_1)=0 ~\\Rightarrow~ a(x -x_1) +b (y -y_1) +c(z- z_1)=0$\n",
    "\n",
    "  <img src=\"figures/ch07_figure14.png\" alt=\"Planes_1\" style=\"width:400px; float:left\"/>\n",
    "\n",
    "  <img src=\"figures/ch07_figure15.png\" alt=\"Planes_2\" style=\"width:350px; float:left\"/>"
   ]
  },
  {
   "cell_type": "markdown",
   "metadata": {
    "slideshow": {
     "slide_type": "slide"
    }
   },
   "source": [
    "## 7.6$~$ Vector Spaces"
   ]
  },
  {
   "cell_type": "markdown",
   "metadata": {
    "slideshow": {
     "slide_type": "fragment"
    }
   },
   "source": [
    "* $n$-Space\n",
    "\n",
    "  * A **vector in n-space** is any ordered $n$-tuple $\\mathbf{a}=\\left\\langle a_1, a_2, \\cdots, a_n \\right\\rangle$ of real numbers called the components of $\\mathbf{a}$.\n",
    "  * The set of all vectors in $n$-space is denoted by $\\mathbb{R}^n$\n",
    "  * The component definitions in 3-space carry over to $\\mathbb{R}^n$ in a natural way\n",
    "  * The standard **dot** or **inner product** of two $n$-vectors is the real number defined by\n",
    "  \n",
    "    $\\mathbf{a} \\cdot \\mathbf{b} =\\left\\langle a_1, a_2, \\cdots, a_n \\right\\rangle \\cdot \\left\\langle b_1, b_2, \\cdots, b_n \\right\\rangle\n",
    "     =a_1 b_1 +a_2 b_2 + \\cdots + a_n b_n$\n",
    "     \n",
    "    Two nonzero vectors $\\mathbf{a}$ and $\\mathbf{b}$ in $\\mathbb{R}^n$ are said to be **orthogonal** if and only if $\\mathbf{a} \\cdot \\mathbf{b} = 0$"
   ]
  },
  {
   "cell_type": "markdown",
   "metadata": {
    "slideshow": {
     "slide_type": "subslide"
    }
   },
   "source": [
    "* Vector Space\n",
    "\n",
    " Let $V$ be a set of elements on which two operations called **vector addition** and **scalar multiplication** are defined. Then $V$ is said to be a **vector space** if the following 10 properties are satisfied\n",
    " \n",
    " **Axioms for Vector Addition**\n",
    " \n",
    " * If $\\mathbf{x}$ and $\\mathbf{y}$ are in $V$, $~$then $\\mathbf{x} +\\mathbf{y}$ is in $V$\n",
    " * For all $\\mathbf{x}$, $\\mathbf{y}$ in $V$, $~$$\\mathbf{x} +\\mathbf{y} = \\mathbf{y} +\\mathbf{x}$\n",
    " * For all $\\mathbf{x}$, $\\mathbf{y}$, $\\mathbf{z}$ in $V$, $~$$\\mathbf{x} +(\\mathbf{y} +\\mathbf{z}) = (\\mathbf{x} +\\mathbf{y}) +\\mathbf{z}$\n",
    " * There is a unique vector $\\mathbf{0}$ in $V$ such that $~$$\\mathbf{0} +\\mathbf{x} = \\mathbf{x} +\\mathbf{0}$\n",
    "   \n",
    " * For each $\\mathbf{x}$ in $V$, $~$there exists a vector $=\\mathbf{x}$ such that \n",
    "   $\\mathbf{x} +(-\\mathbf{x}) = (-\\mathbf{x}) +\\mathbf{x} =\\mathbf{0}$"
   ]
  },
  {
   "cell_type": "markdown",
   "metadata": {
    "slideshow": {
     "slide_type": "subslide"
    }
   },
   "source": [
    " **Axioms for Scalar Multiplication**\n",
    " \n",
    " * If $k$ is any scalar and $\\mathbf{x}$ is in $V$, $~$then $k\\mathbf{x}$ is in $V$\n",
    " * $k(\\mathbf{x} +\\mathbf{y}) =k\\mathbf{x} + k\\mathbf{y}$\n",
    " * $(k_1 +k_2)\\mathbf{x} =k_1\\mathbf{x} + k_2\\mathbf{x}$\n",
    " * $k_1(k_2\\mathbf{x})=(k_2k_2)\\mathbf{x}$\n",
    " * $1\\mathbf{x}=\\mathbf{x}$"
   ]
  },
  {
   "cell_type": "markdown",
   "metadata": {
    "slideshow": {
     "slide_type": "subslide"
    }
   },
   "source": [
    "Here are some important vector spaces:\n",
    "\n",
    "  * The set $\\mathbb{R}$ of real numbers\n",
    "  * The set $\\mathbb{R}^2$ of ordered pairs\n",
    "  * The set $\\mathbb{R}^3$ of ordered triples\n",
    "  * The set $\\mathbb{R}^n$ of ordered $n$-tuples\n",
    "  * The set $P_n$ of polynomials of degree less than or equal to $n$\n",
    "  * The set $P$ of all polynomials\n",
    "  * The set of real-valued functions $f$ defined on the entire real line\n",
    "  * The set $C[a,b]$ of real-valued functions $f$ continuous on the closed interval $[a,b]$\n",
    "  * The set $C(-\\infty,\\infty)$ of real-valued functions $f$ continuous on the entire real line\n",
    "  * The set $C^n[a,b]$ of all real-valued functions $f$ for which $f$, $f'$, $f''$, $\\cdots$, $f^{(n)}$ exist and are continuous on the closed interval $[a,b]$"
   ]
  },
  {
   "cell_type": "markdown",
   "metadata": {
    "slideshow": {
     "slide_type": "subslide"
    }
   },
   "source": [
    "* **Example** \n",
    "\n",
    " Consider the set $V$ of positive real numbers. If $x$ and $y$ denote positive real numbers, then we write vectors in $V$ as $\\mathbf{x}=x$ and\n",
    " $\\mathbf{y}=y$. Now, addition of vectors is defined by\n",
    "\n",
    " >$\\mathbf{x} +\\mathbf{y} =xy$\n",
    "\n",
    " and scalar multiplication is defined by\n",
    "\n",
    " >$k\\mathbf{x}=x^k$\n",
    "\n",
    " Determine whether $V$ is a vector space."
   ]
  },
  {
   "cell_type": "markdown",
   "metadata": {
    "slideshow": {
     "slide_type": "subslide"
    }
   },
   "source": [
    "* **Subspace**\n",
    "\n",
    "  If a subset $W$ of a vector space $V$ is itself a vector space under the operations of vector addition and scalar multiplication defined on $V$, $~$then $W$ is called a **subspace** of $V$\n",
    "  \n",
    "  A nonempty subset $W$ of a vector space $V$ is a subspace of $V$ if and only if $W$ is closed under vector addition and scalar multiplication defined on $V$:\n",
    "  \n",
    "  * If $\\mathbf{x}$ and $\\mathbf{y}$ are in $W$, then $\\mathbf{x} +\\mathbf{y}$ is in $W$\n",
    "  * If $\\mathbf{x}$ is in $W$ and $k$ is any scalar, then $k\\mathbf{x}$ is in $W$ "
   ]
  },
  {
   "cell_type": "markdown",
   "metadata": {
    "slideshow": {
     "slide_type": "subslide"
    }
   },
   "source": [
    "* **Linear Independence**\n",
    "\n",
    "  A set of vectors $\\left\\{ \\mathbf{x}_1, \\mathbf{x}_2, \\cdots, \\mathbf{x}_n \\right\\}$ is said to be **linearly indpenedent** \n",
    "  if the only constants satisfying the equation\n",
    "  \n",
    "  >$k_1\\mathbf{x}_1 +k_2\\mathbf{x}_2 +\\cdots +k_n\\mathbf{x}_n=\\mathbf{0}$\n",
    "  \n",
    "  are $k_1=k_2=\\cdots=k_n=0$. $~$If the set of vectors is not linearly indpenedent, then it is said to be **linearly dependent** "
   ]
  },
  {
   "cell_type": "markdown",
   "metadata": {
    "slideshow": {
     "slide_type": "subslide"
    }
   },
   "source": [
    "* **Basis**\n",
    "\n",
    "  Consider a set of vectors $B=\\left\\{\\mathbf{x}_1, \\mathbf{x}_2,\\cdots,\\mathbf{x}_n\\right\\}$ in a vector space $V$. $~$If the set $B$ is linearly independent\n",
    "  and if every vector in $V$ can be expressed as a linear combination of these vectors, <br>then $B$ is said to be a **basis** in $V$\n",
    "  \n",
    "  Although we cannot prove it in this course, every vector space has a basis"
   ]
  },
  {
   "cell_type": "markdown",
   "metadata": {
    "slideshow": {
     "slide_type": "fragment"
    }
   },
   "source": [
    "* **Dimension**\n",
    "\n",
    "  The number of vectors in a basis $B$ for a vector space $V$ is said to be the **dimension** of the space"
   ]
  },
  {
   "cell_type": "markdown",
   "metadata": {
    "slideshow": {
     "slide_type": "subslide"
    }
   },
   "source": [
    "* **Span**\n",
    "\n",
    "  If $S$ denotes any set of vectors $\\left\\{\\mathbf{x}_1, \\mathbf{x}_2,\\cdots,\\mathbf{x}_n\\right\\}$ in a vector space $V$, then the set of all linear combinations of the vector $\\mathbf{x}_1,\\mathbf{x}_2,\\cdots,\\mathbf{x}_n$ in $S$,\n",
    "  \n",
    "  > $\\left\\{ k_1\\mathbf{x}_1 +k_2\\mathbf{x}_2+ \\cdots+k_n\\mathbf{x}_n\\right\\}$,\n",
    "  \n",
    "  where the $k_i$ are scalars, is called the **span** of the vectors and written $\\mathrm{span}(S)$ or $\\mathrm{span}(\\mathbf{x}_1,\\mathbf{x}_2,\\cdots,\\mathbf{x}_n)$\n",
    "  \n",
    "  If $V=\\text{span}(S)$, then we say that $S$ is a spanning set for the vector space $V$, $~$or that $S$ spans $V$"
   ]
  },
  {
   "cell_type": "markdown",
   "metadata": {
    "slideshow": {
     "slide_type": "slide"
    }
   },
   "source": [
    "## 7.7 $~$Gram-Schmidt Orthogonalization Process"
   ]
  },
  {
   "cell_type": "markdown",
   "metadata": {
    "slideshow": {
     "slide_type": "fragment"
    }
   },
   "source": [
    "* **Example**\n",
    "\n",
    "  Every vector $\\mathbf{u}$ in $\\mathbb{R}^n$ can be written as a linear combination of the vectors in the standard basis $B=\\left\\{ \\mathbf{e}_1, \\mathbf{e}_2, \\cdots, \\mathbf{e}_n \\right\\}$:\n",
    "  \n",
    "  > $\\mathbf{e}_1 =\\left\\langle 1,0,0,\\cdots,0 \\right\\rangle$, $\\text{ }\\mathbf{e}_2 =\\left\\langle 0,1,0,\\cdots,0 \\right\\rangle$, $\\cdots$,\n",
    "    $\\text{ }\\mathbf{e}_n =\\left\\langle 0,0,0,\\cdots,1 \\right\\rangle$\n",
    "    \n",
    "  This standard basis $B=\\left\\{ \\mathbf{e}_1, \\mathbf{e}_2, \\cdots, \\mathbf{e}_n \\right\\}$ is also an example of an **orthonormal basis**\n",
    "  \n",
    "  > $\\mathbf{e}_i \\cdot \\mathbf{e}_j = 0, i \\neq j\\text{ }$ and $\\text{ }\\left\\| \\mathbf{e}_i \\right\\|=1$, $~$$i=1,2,\\cdots,n$"
   ]
  },
  {
   "cell_type": "markdown",
   "metadata": {
    "slideshow": {
     "slide_type": "subslide"
    }
   },
   "source": [
    "* Coordinates Relative to an Orthonormal Basis\n",
    "\n",
    "  Suppose $B=\\left\\{ \\mathbf{w}_1, \\mathbf{w}_2, \\cdots, \\mathbf{w}_n \\right\\}$ is an orthonormal basis for $\\mathbb{R}^n$. \n",
    "  $~$If $\\mathbf{u}$ is any vector in $\\mathbb{R}^n$, then\n",
    "  \n",
    "  > $\\mathbf{u} = (\\mathbf{u}\\cdot\\mathbf{w}_1)\\mathbf{w}_1 +(\\mathbf{u}\\cdot\\mathbf{w}_2)\\mathbf{w}_2 + \\cdots +(\\mathbf{u}\\cdot\\mathbf{w}_n)\\mathbf{w}_n$\n",
    "  "
   ]
  },
  {
   "cell_type": "markdown",
   "metadata": {
    "cell_style": "split",
    "slideshow": {
     "slide_type": "subslide"
    }
   },
   "source": [
    "* Constructing an Orthogonal Basis for $\\mathbb{R}^2$\n",
    "\n",
    "  $\\begin{align*} \\mathbf{v}_1 &= \\mathbf{u}_1 \\\\ \\mathbf{v}_2 &= \\mathbf{u}_2 -\\left( \\frac{\\mathbf{u}_2 \\cdot \\mathbf{v}_1}{\\mathbf{v}_1 \\cdot \\mathbf{v}_1}\\right) \\mathbf{v}_1\\end{align*}$"
   ]
  },
  {
   "cell_type": "markdown",
   "metadata": {
    "cell_style": "split",
    "slideshow": {
     "slide_type": "fragment"
    }
   },
   "source": [
    "  <img src=\"figures/ch07_figure16.png\" alt=\"constructing_an_orthogonal_basis_R2\" style=\"width:400px; float:left\"/>"
   ]
  },
  {
   "cell_type": "markdown",
   "metadata": {
    "cell_style": "split",
    "slideshow": {
     "slide_type": "subslide"
    }
   },
   "source": [
    "* Constructing an Orthogonal Basis for $\\mathbb{R}^3$\n",
    "\n",
    "  $\\begin{align*} \\mathbf{v}_1 &= \\mathbf{u}_1 \\\\ \n",
    "   \\mathbf{v}_2 &= \\mathbf{u}_2 -\\left( \\frac{\\mathbf{u}_2 \\cdot \\mathbf{v}_1}{\\mathbf{v}_1 \\cdot \\mathbf{v}_1}\\right) \\mathbf{v}_1 \\\\\n",
    "   \\mathbf{v}_3 &= \\mathbf{u}_3 -\\left( \\frac{\\mathbf{u}_3 \\cdot \\mathbf{v}_1}{\\mathbf{v}_1 \\cdot \\mathbf{v}_1}\\right) \\mathbf{v}_1\n",
    "   -\\left( \\frac{\\mathbf{u}_3 \\cdot \\mathbf{v}_2}{\\mathbf{v}_2 \\cdot \\mathbf{v}_2}\\right) \\mathbf{v}_2 \\end{align*}$"
   ]
  },
  {
   "cell_type": "markdown",
   "metadata": {
    "cell_style": "split",
    "slideshow": {
     "slide_type": "fragment"
    }
   },
   "source": [
    "  <img src=\"figures/ch07_figure17.png\" alt=\"constructing_an_orthogonal_basis_R3\" style=\"width:450px; float:left\"/>   "
   ]
  },
  {
   "cell_type": "markdown",
   "metadata": {
    "slideshow": {
     "slide_type": "subslide"
    }
   },
   "source": [
    "* **Gram-Schmidt Orthogonalization Process**\n",
    "\n",
    "  Let $B=\\left\\{ \\mathbf{u}_1, \\mathbf{u}_2, \\cdots, \\mathbf{u}_m \\right\\}$, $m \\leq n$, be a basis for a subspace $W_m$ of $\\mathbb{R}^n$. \n",
    "  Then $B'=\\left\\{ \\mathbf{v}_1, \\mathbf{v}_2, \\cdots, \\mathbf{v}_m \\right\\}$, where\n",
    "  \n",
    "  >$\\begin{align*} \\mathbf{v}_1 &= \\mathbf{u}_1 \\\\ \n",
    "   \\mathbf{v}_2 &= \\mathbf{u}_2 -\\left( \\frac{\\mathbf{u}_2 \\cdot \\mathbf{v}_1}{\\mathbf{v}_1 \\cdot \\mathbf{v}_1}\\right) \\mathbf{v}_1 \\\\\n",
    "   \\mathbf{v}_3 &= \\mathbf{u}_3 -\\left( \\frac{\\mathbf{u}_3 \\cdot \\mathbf{v}_1}{\\mathbf{v}_1 \\cdot \\mathbf{v}_1}\\right) \\mathbf{v}_1\n",
    "   -\\left( \\frac{\\mathbf{u}_3 \\cdot \\mathbf{v}_2}{\\mathbf{v}_2 \\cdot \\mathbf{v}_2}\\right) \\mathbf{v}_2 \\\\\n",
    "   &\\;\\vdots \\\\\n",
    "   \\mathbf{v}_m &= \\mathbf{u}_m -\\left( \\frac{\\mathbf{u}_m \\cdot \\mathbf{v}_1}{\\mathbf{v}_1 \\cdot \\mathbf{v}_1}\\right) \\mathbf{v}_1\n",
    "   -\\left( \\frac{\\mathbf{u}_m \\cdot \\mathbf{v}_2}{\\mathbf{v}_2 \\cdot \\mathbf{v}_2}\\right) \\mathbf{v}_2\n",
    "   -\\cdots -\\left( \\frac{\\mathbf{u}_m \\cdot \\mathbf{v}_{m-1}}{\\mathbf{v}_{m-1} \\cdot \\mathbf{v}_{m-1}}\\right) \\mathbf{v}_{m-1}     \n",
    "   \\end{align*}$ \n",
    "   \n",
    "  is an orthogonal basis for $W_m$. "
   ]
  },
  {
   "cell_type": "markdown",
   "metadata": {
    "slideshow": {
     "slide_type": "subslide"
    }
   },
   "source": [
    "An orthonormal basis for $W_m$ is\n",
    "  \n",
    "  >$B''=\\left\\{ \\mathbf{w}_1, \\mathbf{w}_2, \\cdots, \\mathbf{w}_m \\right\\}=\\left\\{ \\frac{1}{\\left\\| \\mathbf{v}_1 \\right\\|} \\mathbf{v}_1,\n",
    "  \\frac{1}{\\left\\| \\mathbf{v}_2 \\right\\|} \\mathbf{v}_2, \\cdots, \\frac{1}{\\left\\| \\mathbf{v}_m \\right\\|} \\mathbf{v}_m \\right\\}$"
   ]
  }
 ],
 "metadata": {
  "celltoolbar": "Slideshow",
  "kernelspec": {
   "display_name": "Python 3 (ipykernel)",
   "language": "python",
   "name": "python3"
  },
  "language_info": {
   "codemirror_mode": {
    "name": "ipython",
    "version": 3
   },
   "file_extension": ".py",
   "mimetype": "text/x-python",
   "name": "python",
   "nbconvert_exporter": "python",
   "pygments_lexer": "ipython3",
   "version": "3.8.12"
  }
 },
 "nbformat": 4,
 "nbformat_minor": 4
}
