{
 "cells": [
  {
   "cell_type": "markdown",
   "metadata": {
    "slideshow": {
     "slide_type": "skip"
    }
   },
   "source": [
    "[![Open In Colab](https://colab.research.google.com/assets/colab-badge.svg)](https://colab.research.google.com/github/SeoulTechPSE/EngMath/blob/master/exercises/ch01_exer02.ipynb)"
   ]
  },
  {
   "cell_type": "markdown",
   "metadata": {
    "slideshow": {
     "slide_type": "slide"
    }
   },
   "source": [
    "**1.** $~y=1/(1 +c_1 e^{-x})$ is a one-parameter family of solutions of the first-order DE $y'=y -y^2$. Find a solution of the first-order IVP consisting of this differential equation and the given initial condition:\n",
    "\n",
    ">$y(0)=-\\frac{1}{3}$"
   ]
  },
  {
   "cell_type": "markdown",
   "metadata": {
    "slideshow": {
     "slide_type": "fragment"
    }
   },
   "source": [
    "$\\text{ }$ **solution**\n",
    "\n",
    ">$\\begin{align*}\n",
    " y &= \\frac{1}{1 +c_1 e^{-x}}\\\\ \n",
    " &\\Downarrow {\\scriptstyle \\text{at } x = 0}\\\\ \n",
    " -\\frac{1}{3} &= \\frac{1}{1 +c_1} \\\\\n",
    " &\\Downarrow \\\\\n",
    " c_1 &= -4 \\\\\n",
    " &\\Downarrow \\\\ \n",
    " y &= \\frac{1}{1 -4 e^{-x}}\n",
    "\\end{align*}$"
   ]
  },
  {
   "cell_type": "markdown",
   "metadata": {
    "slideshow": {
     "slide_type": "slide"
    }
   },
   "source": [
    "**3.** $~y=1/(x^2 +c)$ is a one-parameter family of solutions of the first-order DE $y' +2xy^2=0$. Find a solution of the first-order IVP consisting of this differential equation and the given initial condition. Give the largest interval $I$ over which the solution is defined\n",
    "\n",
    ">$y(2)=\\frac{1}{3}$"
   ]
  },
  {
   "cell_type": "markdown",
   "metadata": {
    "slideshow": {
     "slide_type": "fragment"
    }
   },
   "source": [
    "$\\text{ }$ **solution**\n",
    "\n",
    ">$\\begin{align*}\n",
    " y &= \\frac{1}{x^2 +c}\\\\ \n",
    " &\\Downarrow {\\scriptstyle \\text{at } x = 2}\\\\ \n",
    " \\frac{1}{3} &= \\frac{1}{4 +c} \\\\\n",
    " &\\Downarrow \\\\ \n",
    " c = -1 \\, &, \\;\\; I =(1,\\infty) \\\\\n",
    " &\\Downarrow \\\\ \n",
    " y &= \\frac{1}{x^2 -1} \n",
    "\\end{align*}$"
   ]
  },
  {
   "cell_type": "code",
   "execution_count": 1,
   "metadata": {
    "slideshow": {
     "slide_type": "slide"
    }
   },
   "outputs": [],
   "source": [
    "%matplotlib inline\n",
    "import numpy as np\n",
    "import matplotlib.pyplot as plt\n",
    "\n",
    "x = np.linspace(-5, 5, 200)\n",
    "y = 1.0 /(x**2 -1)\n",
    "\n",
    "threshold = 20\n",
    "y[y > threshold] = np.inf\n",
    "y[y <-threshold] = np.inf"
   ]
  },
  {
   "cell_type": "code",
   "execution_count": 2,
   "metadata": {
    "slideshow": {
     "slide_type": "subslide"
    }
   },
   "outputs": [
    {
     "data": {
      "image/png": "[encoded data removed]",
      "text/plain": [
       "<Figure size 432x288 with 1 Axes>"
      ]
     },
     "metadata": {
      "needs_background": "light"
     },
     "output_type": "display_data"
    }
   ],
   "source": [
    "plt.plot(x,y)\n",
    "plt.scatter(2, 1/3, color='red')\n",
    "\n",
    "plt.title(r'$y=\\frac{1}{x^2 -1}$')\n",
    "plt.xlabel('$x$')\n",
    "plt.ylabel('$y$')\n",
    "plt.grid()"
   ]
  },
  {
   "cell_type": "markdown",
   "metadata": {
    "slideshow": {
     "slide_type": "slide"
    }
   },
   "source": [
    "**7.** $x(t)=c_1\\cos t +c_2\\sin t$ is a two-parameter family of solutions of the second-order DE $x''+x=0$. Find a solution of the second-order IVP consisting of this differential equation and the given initial conditions.\n",
    "\n",
    ">$x(0)=-1, \\; x'(0)=8$"
   ]
  },
  {
   "cell_type": "markdown",
   "metadata": {
    "slideshow": {
     "slide_type": "fragment"
    }
   },
   "source": [
    "$\\text{ }$ **solution**\n",
    "\n",
    ">$\\begin{align*}\n",
    " x(t) &= c_1\\cos t +c_2\\sin t \\\\ \n",
    " &\\Downarrow \\;{\\scriptstyle x(0)=-1, \\; x'(0)=8}\\\\ \n",
    " -1 &= c_1 \\\\\n",
    "  8 &= c_2 \\\\\n",
    " &\\Downarrow \\\\\n",
    " x(t) &= -\\cos t +8\\sin t\n",
    "\\end{align*}$"
   ]
  },
  {
   "cell_type": "markdown",
   "metadata": {
    "slideshow": {
     "slide_type": "slide"
    }
   },
   "source": [
    "**17.** Determine a region of the xy-plane for which the given differential equation would have a unique solution whose graph passes through a point $(x_0, y_0)$ in the region.\n",
    "\n",
    "> $\\displaystyle \\frac{dy}{dx}=y^{2/3}$"
   ]
  },
  {
   "cell_type": "markdown",
   "metadata": {
    "slideshow": {
     "slide_type": "fragment"
    }
   },
   "source": [
    "$\\text{ }$ **solution**\n",
    "\n",
    "> "
   ]
  },
  {
   "cell_type": "markdown",
   "metadata": {
    "slideshow": {
     "slide_type": "slide"
    }
   },
   "source": [
    "**29.** \n",
    "\n",
    "1. By inspection, find a one-parameter family of solutions of the differential equation $xy'=y$. Verify that each member of the family is a solution of the initial value problem $xy'=y, y(0)=0$\n",
    "1. Explain part 1. by determining a region $R$ in the $xy$-plane for which the differential equation $xy'=y$ would have a unique solution through a point $(x_0, y_0)$ in  $R$\n",
    "1. Verify that the piecewise-defined function\n",
    "\n",
    "   $y= \\begin{cases}\n",
    " 0, & x < 0 \\\\ \n",
    " x, & x \\ge 0 \n",
    "\\end{cases}$\n",
    "\n",
    "   satisfies the condition $y(0)=0$. Determine whether this function is also a solution of the initial-value problem in part 1"
   ]
  },
  {
   "cell_type": "markdown",
   "metadata": {
    "slideshow": {
     "slide_type": "fragment"
    }
   },
   "source": [
    "$\\text{ }$ **solution**\n",
    "\n",
    "> "
   ]
  }
 ],
 "metadata": {
  "celltoolbar": "Slideshow",
  "kernelspec": {
   "display_name": "Python 3 (ipykernel)",
   "language": "python",
   "name": "python3"
  },
  "language_info": {
   "codemirror_mode": {
    "name": "ipython",
    "version": 3
   },
   "file_extension": ".py",
   "mimetype": "text/x-python",
   "name": "python",
   "nbconvert_exporter": "python",
   "pygments_lexer": "ipython3",
   "version": "3.9.18"
  }
 },
 "nbformat": 4,
 "nbformat_minor": 4
}
