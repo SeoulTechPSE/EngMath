{
 "cells": [
  {
   "cell_type": "markdown",
   "metadata": {
    "slideshow": {
     "slide_type": "skip"
    }
   },
   "source": [
    "[![Open In Colab](https://colab.research.google.com/assets/colab-badge.svg)](https://colab.research.google.com/github/SeoulTechPSE/EngMath/blob/master/exercises/ch02_exer02.ipynb)"
   ]
  },
  {
   "cell_type": "markdown",
   "metadata": {
    "slideshow": {
     "slide_type": "slide"
    }
   },
   "source": [
    "$\\text{ }$ Solve the given differential equation by separation of variables\n",
    "\n",
    "**1.** $\\text{ }\\displaystyle \\frac{dy}{dx}=\\sin 5 x$\n",
    "\n",
    "$\\text{ }$ **solution**\n",
    "\n",
    ">$\\begin{align*}\n",
    " \\frac{dy}{dx} &=\\sin 5x\\\\ \n",
    " &\\Downarrow \\\\ \n",
    " dy &= \\sin 5x \\,dx \\\\\n",
    " &\\Downarrow \\\\ \n",
    " y &=-\\frac{1}{5} \\cos 5x +c \n",
    "\\end{align*}$"
   ]
  },
  {
   "cell_type": "markdown",
   "metadata": {
    "slideshow": {
     "slide_type": "slide"
    }
   },
   "source": [
    "**3.** $\\text{ }\\displaystyle dx +e^{3x} dy = 0$\n",
    "\n",
    "$\\text{ }$ **solution**\n",
    "\n",
    ">$\\begin{align*}\n",
    " dy &=-e^{-3x} \\,dx\\\\ \n",
    " &\\Downarrow \\\\ \n",
    " y &= \\frac{1}{3}e^{-3x} +c \n",
    "\\end{align*}$"
   ]
  },
  {
   "cell_type": "markdown",
   "metadata": {
    "slideshow": {
     "slide_type": "slide"
    }
   },
   "source": [
    "**21.** $\\text{ }\\displaystyle \\frac{dy}{dx} = x\\sqrt{1 -y^2}$\n",
    "\n",
    "$\\text{ }$ **solution**\n",
    "\n",
    ">$\\begin{align*}\n",
    " \\frac{1}{\\sqrt{1 -y^2}}dy &= x \\,dx\\\\ \n",
    " &\\Downarrow \\\\ \n",
    " \\arcsin y &= \\frac{1}{2}x^2 +c \\\\\n",
    " &\\Downarrow \\\\\n",
    " y &= \\sin \\left(\\frac{1}{2}x^2 +c \\right)\n",
    "\\end{align*}$"
   ]
  },
  {
   "cell_type": "markdown",
   "metadata": {
    "slideshow": {
     "slide_type": "slide"
    }
   },
   "source": [
    "Find an implicit and an explicit solution of the given initial-value problem\n",
    "\n",
    "**25.** $\\text{ }\\displaystyle x^2 \\frac{dy}{dx} = y -xy, \\;\\;y(-1)=-1$\n",
    "\n",
    "$\\text{ }$ **solution**\n",
    "\n",
    ">$\\begin{align*}\n",
    " \\frac{1}{y}dy &= \\frac{1-x}{x^2} \\,dx\\\\ \n",
    " &\\Downarrow \\\\ \n",
    " \\ln |y| &= -\\left(\\frac{1}{x} +\\ln |x| \\right) +c \\\\\n",
    " &\\Downarrow y(-1)=-1 \\; \\Rightarrow \\; c=-1\\\\\n",
    " \\ln |y| &= -\\left(1 +\\frac{1}{x} \\right) -\\ln |x| \\\\\n",
    " &\\Downarrow \\\\ \n",
    " y &= \\frac{1}{x} e^{-\\left( 1 +\\frac{1}{x}\\right)}\n",
    "\\end{align*}$"
   ]
  }
 ],
 "metadata": {
  "celltoolbar": "Slideshow",
  "kernelspec": {
   "display_name": "Python 3 (ipykernel)",
   "language": "python",
   "name": "python3"
  },
  "language_info": {
   "codemirror_mode": {
    "name": "ipython",
    "version": 3
   },
   "file_extension": ".py",
   "mimetype": "text/x-python",
   "name": "python",
   "nbconvert_exporter": "python",
   "pygments_lexer": "ipython3",
   "version": "3.9.13"
  }
 },
 "nbformat": 4,
 "nbformat_minor": 4
}
