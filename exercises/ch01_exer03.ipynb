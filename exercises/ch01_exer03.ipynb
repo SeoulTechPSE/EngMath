{
 "cells": [
  {
   "cell_type": "markdown",
   "metadata": {
    "slideshow": {
     "slide_type": "skip"
    }
   },
   "source": [
    "[![Open In Colab](https://colab.research.google.com/assets/colab-badge.svg)](https://colab.research.google.com/github/SeoulTechPSE/EngMath/blob/master/exercises/ch01_exer03.ipynb)"
   ]
  },
  {
   "cell_type": "markdown",
   "metadata": {
    "slideshow": {
     "slide_type": "slide"
    }
   },
   "source": [
    "**5.** $\\text{ }$ A cup of coffee cools according to Newton's law of cooling. Use data from the graph of the temperature $T(t)$ in figure to estimate the constants $T_m$, $T_0$, and $k$ in a model of the form of the first-order initial-value problem\n",
    "\n",
    ">$\\displaystyle \\frac{dT}{dt}=k(T -T_m), \\;\\;T(0)=T_0$\n",
    "\n",
    "><img src=\"figs/ch01_exer01.png\" width=\"200\">"
   ]
  },
  {
   "cell_type": "markdown",
   "metadata": {
    "slideshow": {
     "slide_type": "fragment"
    }
   },
   "source": [
    "$\\text{ }$ **solution**\n",
    "\n",
    ">$\\begin{align*}\n",
    " \\frac{dT}{dt} &=k(T -T_m), \\;\\;T(0)=T_0 \\\\ \n",
    " &\\Downarrow \\\\ \n",
    " T(0) &= T_0 \\\\\n",
    " T(\\infty) &= T_m \\\\\n",
    " \\text{plot }\\ln \\left( \\frac{T -T_m}{T_0 -T_m} \\right) &\\text{ vs. } t \\;\\rightarrow \\; k \\\\\n",
    "\\end{align*}$"
   ]
  },
  {
   "cell_type": "markdown",
   "metadata": {
    "slideshow": {
     "slide_type": "slide"
    }
   },
   "source": [
    "**19.** After a mass $m$ is attached to a spring, it stretches $s$ units and then hangs at rest in the equilibrium position as shown in Figure (b). After the spring/mass system has been set in motion, let $x(t)$ denote the directed distance of the mass beyond the equilibrium position. As indicated in Figure (c), assume that the downward direction is positive, that the motion takes place in a vertical straight line through the center of gravitiy of the mass, and that the only forces acting on the system are the weight of the mass and the restoring force of the stretched spring. Use Hooke's law: The restoring force of a spring is proportional to its total elongation. Determine a differential equation for the displacement $x(t)$ a time $t$\n",
    "\n",
    "><img src=\"figs/ch01_exer03.png\" width=\"400\">"
   ]
  },
  {
   "cell_type": "markdown",
   "metadata": {
    "slideshow": {
     "slide_type": "fragment"
    }
   },
   "source": [
    "$\\text{ }$ **solution**\n",
    "\n",
    ">"
   ]
  }
 ],
 "metadata": {
  "celltoolbar": "Slideshow",
  "kernelspec": {
   "display_name": "Python 3 (ipykernel)",
   "language": "python",
   "name": "python3"
  },
  "language_info": {
   "codemirror_mode": {
    "name": "ipython",
    "version": 3
   },
   "file_extension": ".py",
   "mimetype": "text/x-python",
   "name": "python",
   "nbconvert_exporter": "python",
   "pygments_lexer": "ipython3",
   "version": "3.9.18"
  }
 },
 "nbformat": 4,
 "nbformat_minor": 4
}
