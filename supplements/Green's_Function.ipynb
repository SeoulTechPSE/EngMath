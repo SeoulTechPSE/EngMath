{
 "cells": [
  {
   "cell_type": "markdown",
   "metadata": {
    "slideshow": {
     "slide_type": "skip"
    }
   },
   "source": [
    "[![Open In Colab](https://colab.research.google.com/assets/colab-badge.svg)](https://colab.research.google.com/github/SeoulTechPSE/EngMath/blob/master/supplements/Green's_Function.ipynb)"
   ]
  },
  {
   "cell_type": "markdown",
   "metadata": {
    "slideshow": {
     "slide_type": "slide"
    }
   },
   "source": [
    "# Green's Function: Nonhomogeneous Problems"
   ]
  },
  {
   "cell_type": "markdown",
   "metadata": {
    "slideshow": {
     "slide_type": "fragment"
    }
   },
   "source": [
    "### 1. Initial Value Problems of the Second-Order Ordinary Differential Equations "
   ]
  },
  {
   "cell_type": "markdown",
   "metadata": {
    "slideshow": {
     "slide_type": "fragment"
    }
   },
   "source": [
    "* We shall consider the self-adjoint form\n",
    "\n",
    "  >$\\displaystyle \\frac{d}{dx} \\left[ p(x)\\frac{du}{dx} \\right] +q(x)u = -f(x)\\;\\;$ **(E1)**\n",
    "\n",
    "  The function $p(x)$ is continuously differentiable and positive, $~$and $q(x)$ and $f(x)$ are continuous for $\\alpha < x < \\beta$\n",
    "\n",
    "* The homogeneous second-order differential equation\n",
    "\n",
    "  >$\\displaystyle \\frac{d}{dx} \\left[ p(x)\\frac{dv}{dx} \\right] +q(x)v = 0\\;\\;$ **(E2)**\n",
    "\n",
    "  has exactly two linearly independent solutions $v_1(x)$ and $v_2(x)$: any solution of (E2) can be written in the form\n",
    "\n",
    "  >$\\displaystyle v(x) = c_1 v_1(x) +c_2 v_2(x)$\n",
    "\n",
    "  where $c_1$ and $c_2$ are constants"
   ]
  },
  {
   "cell_type": "markdown",
   "metadata": {
    "slideshow": {
     "slide_type": "subslide"
    }
   },
   "source": [
    "* We now consider the function\n",
    "\n",
    "  >$\\displaystyle w = v_1(x) \\int_\\alpha^x v_2(\\xi) f(\\xi)\\, d\\xi -v_2(x) \\int_\\alpha^x v_1(\\xi) f(\\xi)\\, d\\xi$\n",
    "\n",
    "  Differentiating $w$, $~$we have\n",
    "\n",
    "  >$\\begin{align*}\n",
    " \\frac{dw}{dx} &= v_1'(x) \\int_\\alpha^x v_2(\\xi) f(\\xi)\\, d\\xi -v_2'(x) \\int_\\alpha^x v_1(\\xi) f(\\xi)\\, d\\xi  \n",
    " + \\underbrace{\\left[ v_1(x) v_2(x) -v_2(x) v_1(x) \\right]}_{=0} f(x)\\\\ \n",
    " &= v_1'(x) \\int_\\alpha^x v_2(\\xi) f(\\xi)\\, d\\xi -v_2'(x) \\int_\\alpha^x v_1(\\xi) f(\\xi)\\, d\\xi \n",
    "\\end{align*}$"
   ]
  },
  {
   "cell_type": "markdown",
   "metadata": {
    "slideshow": {
     "slide_type": "subslide"
    }
   },
   "source": [
    "Then\n",
    "\n",
    ">$\\begin{align*}\n",
    " \\frac{d}{dx}\\left[ p(x)\\frac{dw}{dx} \\right] &=  \\underbrace{\\frac{d}{dx}\\left[ p(x)v_1'(x) \\right]}_{-q(x)v_1} \\int_\\alpha^x v_2(\\xi) f(\\xi)\\, d\\xi -\\underbrace{\\frac{d}{dx}\\left[ p(x)v_2'(x) \\right]}_{-q(x) v_2} \\int_\\alpha^x v_1(\\xi) f(\\xi)\\, d\\xi \\\\\n",
    " &+ \\underbrace{p(x) \\left[ v_1'(x) v_2(x) -v_2'(x) v_1(x) \\right]}_{-K} f(x) \\\\\n",
    " &=-q(x) w -Kf(x)\n",
    "\\end{align*}$\n",
    "\n",
    "where\n",
    "\n",
    ">$\\begin{align*}\n",
    " \\frac{d}{dx} &\\left\\{p(x) \\left[ v_1'(x) v_2(x) -v_2'(x) v_1(x) \\right] \\right\\} \\\\ \n",
    " &= \\underbrace{\\frac{d}{dx} \\left[ p(x) v_1'(x) \\right]}_{-q(x) v_1(x)} v_2(x) -\\underbrace{\\frac{d}{dx} \\left[ p(x) v_2'(x) \\right]}_{-q(x)v_2(x)} v_1(x) +p(x)v_1'(x)v_2'(x) -p(x)v_2'(x)v_1'(x)\\\\ \n",
    " &= 0 \\\\\n",
    " &\\Downarrow \\\\\n",
    " p(x) &\\left[ v_1'(x) v_2(x) -v_2'(x) v_1(x) \\right] = -K\n",
    "\\end{align*}$"
   ]
  },
  {
   "cell_type": "markdown",
   "metadata": {
    "slideshow": {
     "slide_type": "subslide"
    }
   },
   "source": [
    "* We have shown that $w$ satisfies the equation:\n",
    "\n",
    "  >$\\displaystyle \\frac{d}{dx} \\left[ p(x)\\frac{dw}{dx} \\right] +q(x)w = -Kf(x)\\;\\;$\n",
    "\n",
    "  Moreover, $~$as $x \\rightarrow \\alpha$\n",
    "\n",
    "  >$\\displaystyle w(\\alpha)=w'(\\alpha)=0$"
   ]
  },
  {
   "cell_type": "markdown",
   "metadata": {
    "slideshow": {
     "slide_type": "subslide"
    }
   },
   "source": [
    "  Dividing by the constant $K$, $~$we find that the function\n",
    "\n",
    "  >$\\displaystyle u(x) = \\int_\\alpha^x R(x,\\xi)\\,f(\\xi)\\,d\\xi\\;\\;$ **(E3)**\n",
    "\n",
    "  where\n",
    "\n",
    "  >$\\displaystyle R(x,\\xi)=\\frac{v_1(x)v_2(\\xi) - v_2(x)v_1(\\xi)}{K}=-\\frac{v_1(x)v_2(\\xi) - v_2(x)v_1(\\xi)}{p(x) \\left[ v_1'(x) v_2(x) -v_2'(x) v_1(x) \\right]}\\;\\;$ **(E4)**\n",
    "\n",
    "  is the solution of the initial value problem\n",
    "\n",
    "  >$\\begin{align*}\n",
    " \\frac{d}{dx} &\\left[ p(x) \\frac{du}{dx}\\right] +qu = -f(x)\\;\\; \\text{ for } x > \\alpha \\\\ \n",
    " u&(\\alpha) = u'(\\alpha) = 0 \n",
    "\\end{align*}$"
   ]
  },
  {
   "cell_type": "markdown",
   "metadata": {
    "slideshow": {
     "slide_type": "subslide"
    }
   },
   "source": [
    "* Since the denominator of $R(x,\\xi)$ is a constant, $~$the function $R(x,\\xi)$ satisfies the homogeneous equation (E2) as either a function of $x$ or $\\xi$. In fact, \n",
    "\n",
    "  >$\\displaystyle R(x,\\xi)=-R(\\xi,x)$\n",
    "\n",
    "  For a fixed value of $\\xi$, $~R(x,\\xi)$ is completely characterized as the solution of the homogeneous initial value problem\n",
    "\n",
    "  >$\\begin{align*}\n",
    " \\frac{d}{dx} \\left[ p(x) \\frac{dR}{dx}\\right] &+q(x)R = 0\\;\\; \\text{ for } x > \\xi \\\\ \n",
    " \\left. R \\right|_{x=\\xi} &= 0 \\\\ \n",
    " \\left. R' \\right|_{x=\\xi} &= -\\frac{1}{p(\\xi)} \\\\ \n",
    "\\end{align*}$\n",
    "\n",
    "  The function $R(x,\\xi)$ describes the influence on the value of $u$ at $x$ of a disturbance(impulse) concentrated at $\\xi$. It is sometimes called the **influence function**, or the one-sided Green's function\n",
    "\n",
    "  $~$\n",
    "* If the values of $u(\\alpha)$ and $u'(\\alpha)$ are prescribed to be other than zero, $~$we must simply add a suitable solution $c_1 v_1(x) +c_2 v_2(x)$ to the expression (E3)"
   ]
  },
  {
   "cell_type": "markdown",
   "metadata": {
    "slideshow": {
     "slide_type": "subslide"
    }
   },
   "source": [
    "**Example** $\\text{ }$ Consider the problem\n",
    "\n",
    ">$\\begin{align*}\n",
    " u'' +u &= -f(x)\\;\\; \\text{ for } x > 0 \\\\ \n",
    " u(0) &= 1 \\\\ \n",
    " u'(0) &=-1 \\\\ \n",
    "\\end{align*}$"
   ]
  },
  {
   "cell_type": "markdown",
   "metadata": {
    "slideshow": {
     "slide_type": "subslide"
    }
   },
   "source": [
    "**Solution** $\\text{ } u(x) = w(x) +v(x)$\n",
    "\n",
    "**(1)** \n",
    ">$\\begin{align*}\n",
    " w'' +w &= -f(x)\\;\\; \\text{ for } x > 0 \\\\ \n",
    " w(0) &= 0 \\\\ \n",
    " w'(0) &= 0 \\\\ \n",
    "\\end{align*}$\n",
    "\n",
    "For a fixed value of $\\xi$, $~$the influence function $R(x,\\xi)$ satisfies\n",
    "\n",
    ">$\\begin{align*}\n",
    " \\frac{d^2R}{dx^2} +R &= 0\\;\\; \\text{ for } x > \\xi \\\\ \n",
    " \\left. R \\right|_{x=\\xi} &= 0 \\\\ \n",
    " \\left. R' \\right|_{x=\\xi} &= -1 \n",
    "\\end{align*}$"
   ]
  },
  {
   "cell_type": "markdown",
   "metadata": {
    "slideshow": {
     "slide_type": "subslide"
    }
   },
   "source": [
    "Thus\n",
    "\n",
    ">$\\displaystyle R(x,\\xi)=\\sin(\\xi -x)$\n",
    "\n",
    "and the solution is\n",
    "\n",
    ">$\\displaystyle w(x)=\\int_0^x \\sin(\\xi -x)\\,f(\\xi)\\,d\\xi$\n",
    "\n",
    "**(2)**\n",
    "\n",
    ">$\\begin{align*}\n",
    " v'' +v &= 0\\;\\; \\text{ for } x > 0 \\\\ \n",
    " v(0) &= 1 \\\\ \n",
    " v'(0) &=-1 \\\\ \n",
    "\\end{align*}$\n",
    "\n",
    ">$\\displaystyle v(x)=\\cos x -\\sin x$"
   ]
  },
  {
   "cell_type": "markdown",
   "metadata": {
    "slideshow": {
     "slide_type": "slide"
    }
   },
   "source": [
    "### 2. Boundary Value Problems of the Second-Order Ordinary Differential Equations"
   ]
  },
  {
   "cell_type": "markdown",
   "metadata": {
    "slideshow": {
     "slide_type": "fragment"
    }
   },
   "source": [
    "* Here, we research a two-point boundary value problem:\n",
    "\n",
    "  >$\\begin{align*}\n",
    " \\frac{d}{dx} &\\left[ p(x)\\frac{du}{dx} \\right] +q(x)u = -f(x)\\;\\; \\text{ for } \\alpha < x < \\beta \\\\ \n",
    " &u(\\alpha)=u(\\beta)=0\n",
    "\\end{align*}\\;\\;$ **(E5)**\n",
    "\n",
    "  Writing the general solution in the form\n",
    "\n",
    "  >$\\displaystyle u(x) = \\int_\\alpha^x R(x,\\xi)\\,f(\\xi)\\,d\\xi +c_1 v_1(x) +c_2 v_2(x)$\n",
    "\n",
    "  we obtain the two equations\n",
    "\n",
    "  >$\\begin{align*}\n",
    " c_1 v_1(\\alpha) +c_2 v_2(\\alpha) &= 0\\\\ \n",
    " c_1 v_1(\\beta) +c_2 v_2(\\beta) &= -\\int_\\alpha^\\beta R(\\beta,\\xi)\\,f(\\xi)\\,d\\xi\n",
    "\\end{align*}$\n",
    "\n",
    "  These two equations determine a unique pair of constants $c_1$ and $c_2$, $~$provided the determinant of their coefficients is not zero; that is, provided\n",
    "\n",
    "  >$\\displaystyle D \\equiv v_1(\\alpha)v_2(\\beta)-v_2(\\alpha)v_1(\\beta) \\neq 0$"
   ]
  },
  {
   "cell_type": "markdown",
   "metadata": {
    "slideshow": {
     "slide_type": "subslide"
    }
   },
   "source": [
    "We assume this for the moment. Then\n",
    "\n",
    ">$\\begin{align*}\n",
    " c_1 &= \\frac{v_2(\\alpha)}{D} \\int_\\alpha^\\beta R(\\beta,\\xi)\\,f(\\xi)\\,d\\xi \n",
    "    =\\frac{v_2(\\alpha)}{D} \\int_\\alpha^x R(\\beta,\\xi)\\,f(\\xi)\\,d\\xi\n",
    "    +\\frac{v_2(\\alpha)}{D} \\int_x^\\beta R(\\beta,\\xi)\\,f(\\xi)\\,d\\xi\\\\   \n",
    " c_2 &= -\\frac{v_1(\\alpha)}{D} \\int_\\alpha^\\beta R(\\beta,\\xi)\\,f(\\xi)\\,d\\xi \n",
    "    = -\\frac{v_1(\\alpha)}{D} \\int_\\alpha^x R(\\beta,\\xi)\\,f(\\xi)\\,d\\xi\n",
    "    -\\frac{v_1(\\alpha)}{D} \\int_x^\\beta R(\\beta,\\xi)\\,f(\\xi)\\,d\\xi  \n",
    "\\end{align*}$\n",
    "\n",
    "The solution can then be written as\n",
    "\n",
    ">$\\begin{align*}\n",
    " u(x) &= \\int_\\alpha^x \\left[ R(x,\\xi) +\\frac{v_2(\\alpha)v_1(x) -v_1(\\alpha)v_2(x)}{D} R(\\beta,\\xi) \\right]\\,f(\\xi)\\,d\\xi\\\\ \n",
    "     &+\\int_x^\\beta \\frac{v_2(\\alpha)v_1(x) -v_1(\\alpha)v_2(x)}{D}  R(\\beta,\\xi)\\,f(\\xi)\\,d\\xi\n",
    "\\end{align*}$"
   ]
  },
  {
   "cell_type": "markdown",
   "metadata": {
    "slideshow": {
     "slide_type": "subslide"
    }
   },
   "source": [
    "We find after some algebraic manipulation that\n",
    "\n",
    ">$\\begin{align*}\n",
    " G(x,\\xi) &=R(x,\\xi) +\\frac{v_2(\\alpha)v_1(x) -v_1(\\alpha)v_2(x)}{D} R(\\beta,\\xi)  \\\\ \n",
    " &= \\frac{v_1(x)v_2(\\xi) - v_2(x)v_1(\\xi)}{K} \\frac{v_1(\\alpha)v_2(\\beta) -v_2(\\alpha)v_1(\\beta)}{D}\n",
    "  +\\frac{v_2(\\alpha)v_1(x) -v_1(\\alpha)v_2(x)}{D} \\frac{v_1(\\beta)v_2(\\xi) - v_2(\\beta)v_1(\\xi)}{K}\\\\ \n",
    " &= \\frac{\\left[v_1(\\alpha)v_2(\\xi) -v_2(\\alpha)v_1(\\xi)\\right] \\left[v_1(x)v_2(\\beta) -v_2(x)v_1(\\beta) \\right]}{KD}\\;\\;\\text{ for } \\xi \\leq x\n",
    "\\end{align*}$\n",
    "\n",
    ">$\\begin{align*}\n",
    " G(x,\\xi) &=\\frac{v_2(\\alpha)v_1(x) -v_1(\\alpha)v_2(x)}{D} R(\\beta,\\xi)  \\\\ \n",
    " &= \\frac{\\left[v_1(x)v_2(\\alpha) -v_2(x)v_1(\\alpha)\\right] \\left[v_1(\\beta)v_2(\\xi) -v_2(\\beta)v_1(\\xi) \\right]}{KD}\\;\\;\\text{ for } x \\leq \\xi\n",
    "\\end{align*}$\n",
    "\n",
    "Then the solution of the two-point boundary value problem (E5) can be written in the form\n",
    "\n",
    ">$\\displaystyle u(x)=\\int_\\alpha^\\beta G(x,\\xi)\\,f(\\xi)\\,d\\xi\\;\\;$ **(E6)**"
   ]
  },
  {
   "cell_type": "markdown",
   "metadata": {
    "slideshow": {
     "slide_type": "subslide"
    }
   },
   "source": [
    "The function $G(x,\\xi)$ is called the **Green's function** of the problem (E5). It is symmetric. That is\n",
    "\n",
    ">$G(x,\\xi)=G(\\xi,x)$\n",
    "\n",
    "To determine the Green's function, we note that for each $\\xi$ it satisfies the following boundary value problem\n",
    "\n",
    ">$\\begin{align*}\n",
    " \\frac{d}{dx} \\left[ p(x) \\frac{dG}{dx}\\right] &+q(x)G = 0\\;\\; \\text{ for } x \\neq \\xi \\\\ \n",
    " \\left. G \\right|_{x=\\alpha} &= \\left. G \\right|_{x=\\beta}=0 \\\\ \n",
    " \\left. G \\right|_{x=\\xi+0} &- \\left. G \\right|_{x=\\xi -0}=0 \\\\  \n",
    " \\left. G' \\right|_{x=\\xi+0} &-\\left. G' \\right|_{x=\\xi-0}=-\\frac{1}{p(\\xi)} \\\\ \n",
    "\\end{align*}$"
   ]
  },
  {
   "cell_type": "markdown",
   "metadata": {
    "slideshow": {
     "slide_type": "subslide"
    }
   },
   "source": [
    "**Example** $\\text{ }$ Consider the problem\n",
    "\n",
    ">$\\begin{align*}\n",
    " u'' &= -f(x)\\;\\; \\text{ for}\\; 0 < x < 1\\\\ \n",
    " u(0) &= 0 \\\\ \n",
    " u(1) &= 0 \\\\ \n",
    "\\end{align*}$"
   ]
  },
  {
   "cell_type": "markdown",
   "metadata": {
    "slideshow": {
     "slide_type": "subslide"
    }
   },
   "source": [
    "**Solution**\n",
    "\n",
    ">$\\begin{align*}\n",
    " G''&= 0\\\\ \n",
    " &\\Downarrow \\\\\n",
    " G &= ax+b\\\\\n",
    " &\\Downarrow {\\scriptstyle G|_{x=0} = G|_{x=1}=0} \\\\ \n",
    " G(x,\\xi) &= \n",
    "\\begin{cases}\n",
    " a_1(\\xi)\\, x& \\text{ for } x < \\xi \\\\ \n",
    " a_2(\\xi)(1-x)& \\text{ for } x > \\xi \n",
    "\\end{cases}\\\\\n",
    " &\\Downarrow {\\scriptstyle G(x,\\xi)=G(\\xi,x)}\\\\\n",
    " a_1(\\xi)&= A(1 -\\xi) \\\\\n",
    " a_2(\\xi)&=A\\xi \\\\\n",
    " &\\Downarrow {\\scriptstyle \\left. G' \\right|_{x=\\xi+0} -\\left. G' \\right|_{x=\\xi-0}=-1}\\\\\n",
    " -A\\xi -A(1 -\\xi) &=-1 \\rightarrow A = 1 \\\\\n",
    " &\\Downarrow \\\\\n",
    " G(x,\\xi) &= \n",
    "\\begin{cases}\n",
    " (1-\\xi) x& \\text{ for } x \\leq \\xi \\\\ \n",
    " \\xi(1-x)& \\text{ for } x \\geq \\xi \n",
    "\\end{cases}\n",
    "\\end{align*}$\n",
    "\n",
    "The solution is\n",
    "\n",
    ">$\\displaystyle u(x)= \\int_0^x \\xi(1-x)\\,f(\\xi)\\,d\\xi +\\int_x^1 (1-\\xi)x \\,f(\\xi)\\,d\\xi$"
   ]
  },
  {
   "cell_type": "markdown",
   "metadata": {
    "slideshow": {
     "slide_type": "subslide"
    }
   },
   "source": [
    "Two-point boundary value problems with more general boundary conditions can be treated in the same manner. We consider the problem\n",
    "\n",
    ">$\\begin{align*}\n",
    " \\frac{d}{dx} &\\left[ p(x)\\frac{du}{dx} \\right] +q(x)u = -f(x)\\;\\; \\text{ for } \\alpha < x < \\beta \\\\ \n",
    " -&\\mu_1 u'(\\alpha) +\\sigma_1 u(\\alpha)=0 \\\\\n",
    " &\\mu_2 u'(\\beta) +\\sigma_2 u(\\beta)=0\n",
    "\\end{align*}\\;\\;$ **(E7)**\n",
    "\n",
    "The Green's function $G(x,\\xi)$ is derived as before, provided the condition\n",
    "\n",
    ">$D\\equiv \\left[ -\\mu_1 v_1'(\\alpha) +\\sigma_1v_1(\\alpha)\\right]\\left[ \\mu_2 v_2'(\\beta) +\\sigma_2v_2(\\beta)\\right]\n",
    "  -\\left[ -\\mu_1 v_2'(\\alpha) +\\sigma_1v_2(\\alpha)\\right]\\left[ \\mu_2 v_1'(\\beta) +\\sigma_2v_1(\\beta)\\right]\\neq0$\n",
    "  \n",
    "is satisfied. The Green's function $G(x,\\xi)$ is the solution of the problem\n",
    "\n",
    ">$\\begin{align*}\n",
    " \\frac{d}{dx} \\left[ p(x) \\frac{dG}{dx}\\right] &+q(x)G = 0\\;\\; \\text{ for } x \\neq \\xi \\\\ \n",
    " -\\mu_1\\left. G' \\right|_{x=\\alpha} &+\\sigma_1 \\left. G\\right|_{x=\\alpha}  = \\mu_2\\left. G' \\right|_{x=\\beta} +\\sigma_2\\left. G \\right|_{x=\\beta}=0 \\\\ \n",
    " \\left. G \\right|_{x=\\xi+0} &- \\left. G \\right|_{x=\\xi -0}=0 \\\\  \n",
    " \\left. G' \\right|_{x=\\xi+0} &-\\left. G' \\right|_{x=\\xi-0}=-\\frac{1}{p(\\xi)} \\\\ \n",
    "\\end{align*}$\n",
    "\n",
    "It still satisfies the symmetry relation $G(x,\\xi)=G(\\xi,x)$"
   ]
  },
  {
   "cell_type": "markdown",
   "metadata": {
    "slideshow": {
     "slide_type": "subslide"
    }
   },
   "source": [
    "**Example** $\\text{ }$ Consider the problem\n",
    "\n",
    ">$\\begin{align*}\n",
    " u'' &= -f(x)\\;\\; \\text{ for } 0 < x < 1\\\\ \n",
    " u(0) &= 0 \\\\ \n",
    " u'(1) +\\sigma_2 u(1)&= 1 \\\\ \n",
    "\\end{align*}$"
   ]
  },
  {
   "cell_type": "markdown",
   "metadata": {
    "slideshow": {
     "slide_type": "subslide"
    }
   },
   "source": [
    "**Solution** $\\text{ } u(x) = w(x) +v(x)$\n",
    "\n",
    "**(1)**\n",
    "\n",
    ">$\\begin{align*}\n",
    " w'' &= -f(x)\\;\\; \\text{ for } 0 < x < 1\\\\ \n",
    " w(0) &= 0 \\\\ \n",
    " w'(1) +\\sigma_2 w(1)&= 0 \\\\ \n",
    "\\end{align*}$\n",
    "\n",
    ">$\\begin{align*}\n",
    " G''&= 0\\\\ \n",
    " &\\Downarrow \\\\\n",
    " G &= ax+b\\\\\n",
    " &\\Downarrow {\\scriptstyle G|_{x=0} = G'|_{x=1} +\\sigma_2  G|_{x=1}=0} \\\\ \n",
    " G(x,\\xi) &= \n",
    "\\begin{cases}\n",
    " a_1(\\xi)\\, x& \\text{ for } x < \\xi \\\\ \n",
    " a_2(\\xi)\\left[1+\\sigma_2(1 -x)\\right]& \\text{ for } x > \\xi \n",
    "\\end{cases}\\\\\n",
    " &\\Downarrow {\\scriptstyle G(x,\\xi)=G(\\xi,x)}\\\\\n",
    " a_1(\\xi)&= A\\left[1 +\\sigma_2(1 -\\xi)\\right] \\\\\n",
    " a_2(\\xi)&=A\\xi \\\\\n",
    " &\\Downarrow {\\scriptstyle \\left. G' \\right|_{x=\\xi+0} -\\left. G' \\right|_{x=\\xi-0}=-1}\\\\\n",
    " A\\xi\\cdot-\\sigma_2 -A\\left[1 +\\sigma_2(1 -\\xi)\\right] &=-1 \\rightarrow A = \\frac{1}{1+\\sigma_2} \\\\\n",
    " \\end{align*}$\n"
   ]
  },
  {
   "cell_type": "markdown",
   "metadata": {
    "slideshow": {
     "slide_type": "subslide"
    }
   },
   "source": [
    "  $\\begin{align*}\n",
    " &\\Downarrow \\\\\n",
    " G(x,\\xi) &= \n",
    "\\begin{cases}\n",
    " \\frac{\\left[ 1+\\sigma_2(1 -\\xi)\\right]\\,x}{1+\\sigma_2} & \\text{ for } x \\leq \\xi \\\\ \n",
    " \\frac{\\xi \\,\\left[ 1+\\sigma_2(1 -x)\\right]}{1+\\sigma_2} & \\text{ for } x \\geq \\xi \n",
    "\\end{cases}\n",
    "\\end{align*}$\n",
    "\n",
    "  The solution is\n",
    "\n",
    "  >$\\displaystyle w(x)= \\int_0^x \\frac{\\xi \\,\\left[ 1+\\sigma_2(1 -x)\\right]}{1+\\sigma_2}\\,f(\\xi)\\,d\\xi \n",
    "  +\\int_x^1 \\frac{\\left[ 1+\\sigma_2(1 -\\xi)\\right]\\,x}{1+\\sigma_2} \\,f(\\xi)\\,d\\xi$\n",
    "\n",
    "**(2)**\n",
    "\n",
    ">$\\begin{align*}\n",
    " v'' &= 0\\;\\; \\text{ for } 0 < x < 1\\\\ \n",
    " v(0) &= 0 \\\\ \n",
    " v'(1) +\\sigma_2 v(1)&= 1 \\\\ \n",
    "\\end{align*}$\n",
    "\n",
    ">$\\displaystyle v(x)=\\frac{x}{1+\\sigma_2}$"
   ]
  },
  {
   "cell_type": "markdown",
   "metadata": {
    "slideshow": {
     "slide_type": "subslide"
    }
   },
   "source": [
    "**Example** $\\text{ }$ Consider the problem\n",
    "\n",
    ">$\\begin{align*}\n",
    " r^2 u'' +2r u' &-n(n +1) u = -r^2 F(r), \\; \n",
    " u(R)= 0, \\;u \\sim \\text{bounded}\\\\ \n",
    "\\end{align*}$"
   ]
  },
  {
   "cell_type": "markdown",
   "metadata": {
    "slideshow": {
     "slide_type": "subslide"
    }
   },
   "source": [
    "**Solution**\n",
    "\n",
    ">$\\begin{align*}\n",
    " \\frac{d}{dr}\\left[r^2\\frac{dG}{dr} \\right] &-n(n+1) G = 0\\\\ \n",
    " &\\Downarrow \\\\ \n",
    " G &= c_1r^n +c_2r^{-(n+1)} \\\\ \n",
    " &\\Downarrow {\\scriptstyle G|_{r=0} = \\text{ bounded },\\;\\; G|_{r=R} = 0} \\\\ \n",
    " G(r,\\rho) &= \n",
    "\\begin{cases}\n",
    " a_1(\\rho) r^n\\, & \\text{ for } r < \\rho \\\\ \n",
    " a_2(\\rho)\\left[\\left(\\frac{r}{R} \\right)^{-(n+1)} -\\left(\\frac{r}{R} \\right)^{n} \\right]& \\text{ for } r > \\rho \n",
    "\\end{cases}\\\\ \n",
    " &\\Downarrow {\\scriptstyle G(r,\\rho)=G(\\rho,r)}\\\\\n",
    " a_1(\\rho)&= A\\left[\\left(\\frac{\\rho}{R} \\right)^{-(n+1)} -\\left(\\frac{\\rho}{R} \\right)^{n} \\right] \\\\\n",
    " a_2(\\rho)&=A\\rho^n \\\\\n",
    " &\\Downarrow {\\scriptstyle \\left. G' \\right|_{r=\\rho+0} -\\left. G' \\right|_{r=\\rho-0}=-1/\\rho^2}\\\\\n",
    " \\frac{A\\rho^n}{R} \\left[-(n +1)\\left(\\frac{\\rho}{R} \\right)^{-(n+2)} -n \\left(\\frac{\\rho}{R} \\right)^{n-1}\\right]\n",
    " &-An\\rho^{n-1}\\left[\\left(\\frac{\\rho}{R} \\right)^{-(n+1)} -\\left(\\frac{\\rho}{R} \\right)^{n}\\right] =-\\frac{1}{\\rho^2} \\;\\;\\rightarrow\\;\\; A=\\frac{1}{(2n +1)R^{n+1}}\\\\\n",
    " &\\Downarrow \\\\\n",
    " G(r,\\rho) &= \n",
    "\\begin{cases}\n",
    " \\frac{1}{(2n +1)R}\\left(\\frac{r}{R} \\right)^n\\left[\\left(\\frac{\\rho}{R} \\right)^{-(n+1)} -\\left(\\frac{\\rho}{R} \\right)^{n} \\right] & \\text{ for } r \\leq \\rho \\\\ \n",
    " \\frac{1}{(2n +1)R}\\left(\\frac{\\rho}{R} \\right)^n\\left[\\left(\\frac{r}{R} \\right)^{-(n+1)} -\\left(\\frac{r}{R} \\right)^{n} \\right]& \\text{ for } r \\geq \\rho \n",
    "\\end{cases}\\\\ \n",
    "\\end{align*}$"
   ]
  },
  {
   "cell_type": "markdown",
   "metadata": {
    "slideshow": {
     "slide_type": "subslide"
    }
   },
   "source": [
    "The solution is\n",
    "\n",
    ">$\\displaystyle u(x)= \\int_0^R G(r,\\rho)\\,F(\\rho) \\rho^2 d\\rho$"
   ]
  }
 ],
 "metadata": {
  "celltoolbar": "Slideshow",
  "kernelspec": {
   "display_name": "Python 3 (ipykernel)",
   "language": "python",
   "name": "python3"
  },
  "language_info": {
   "codemirror_mode": {
    "name": "ipython",
    "version": 3
   },
   "file_extension": ".py",
   "mimetype": "text/x-python",
   "name": "python",
   "nbconvert_exporter": "python",
   "pygments_lexer": "ipython3",
   "version": "3.9.13"
  }
 },
 "nbformat": 4,
 "nbformat_minor": 4
}
