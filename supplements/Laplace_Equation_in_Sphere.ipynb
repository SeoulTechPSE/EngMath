{
 "cells": [
  {
   "cell_type": "markdown",
   "metadata": {
    "slideshow": {
     "slide_type": "skip"
    }
   },
   "source": [
    "[![Open In Colab](https://colab.research.google.com/assets/colab-badge.svg)](https://colab.research.google.com/github/SeoulTechPSE/EngMath/blob/master/supplements/Laplace_Equation_in_Sphere.ipynb)"
   ]
  },
  {
   "cell_type": "markdown",
   "metadata": {
    "slideshow": {
     "slide_type": "slide"
    }
   },
   "source": [
    "## Laplace's Equation in the Sphere"
   ]
  },
  {
   "cell_type": "markdown",
   "metadata": {
    "slideshow": {
     "slide_type": "fragment"
    }
   },
   "source": [
    "We consider the boundary value problem\n",
    "\n",
    ">$\\color{red}{\\begin{align*}\n",
    " u_{rr} +\\frac{2}{r} u_r &+\\frac{1}{r^2}u_{\\phi\\phi} +\\frac{\\cot\\phi}{r^2} u_{\\phi} +\\frac{1}{r^2\\sin^2\\phi}u_{\\theta\\theta} = 0, \\;\\; r < R \\\\ \n",
    " u(R,\\phi,\\theta) &= g(\\phi,\\theta)\\\\ \n",
    "\\end{align*}}\\;\\;$ **(P1)**\n",
    "\n",
    "in a sphere of radius $R$. \n",
    "\n",
    "> (a) $~$Solve this problem by separation of variables, \n",
    "\n",
    "> (b) $~$derive $K(r,\\phi,\\theta; R,\\varphi,\\vartheta)$ in the equivalent integral formula:\n",
    "\n",
    ">>$\\displaystyle u(r,\\phi,\\theta) = \\int_0^{2\\pi} \\int_0^\\pi K(r,\\phi,\\theta; R,\\varphi,\\vartheta)\\, g(\\varphi,\\vartheta) \\sin\\varphi \\,d\\varphi \\, d\\vartheta$"
   ]
  },
  {
   "cell_type": "markdown",
   "metadata": {
    "slideshow": {
     "slide_type": "slide"
    }
   },
   "source": [
    "**(a)** $\\text{ }$ Applying separation of variables, $~$we find that the equation has the solution of the form $R(r) \\,\\Phi(\\phi) \\,\\Theta(\\theta)$, $~$provided\n",
    "\n",
    ">$ \\displaystyle -r^2 \\sin^2\\phi \\, \\frac{R'' +\\frac{2}{r}R'}{R} -\\sin\\phi\\frac{(\\sin\\phi\\, \\Phi')'}{\\Phi} = \\frac{\\;\\Theta''}{\\Theta}= -\\mu < 0$\n",
    "\n",
    "  Since $\\Theta$ must be periodic of period $2\\pi$, $~$we have $\\color{blue}{\\Theta=\\cos m\\theta}\\;$ or $\\;\\color{blue}{\\sin m\\theta}$, $~$where $\\color{blue}{\\mu = m^2, \\; m = 0, 1, 2,\\cdots}$. $~$Then\n",
    "\n",
    ">$\\begin{align*}\n",
    " -\\frac{r^2 R'' +2rR'}{R} = \\frac{(\\sin\\phi\\, \\Phi')'}{\\sin\\phi\\,\\Phi} &-\\frac{m^2}{\\sin^2\\phi} = -\\lambda < 0 \\\\ \n",
    " &\\Downarrow \\\\ \n",
    " \\color{blue}{(\\sin\\phi\\, \\Phi')' +\\left(\\lambda \\sin\\phi  \\color{red}{-\\frac{m^2}{\\sin\\phi}} \\right) \\Phi }&\\color{blue}{= 0}\\\\ \n",
    " \\color{blue}{r^2 R'' +2r R' -\\lambda R} &\\color{blue}{= 0} \n",
    "\\end{align*}$"
   ]
  },
  {
   "cell_type": "markdown",
   "metadata": {
    "slideshow": {
     "slide_type": "slide"
    }
   },
   "source": [
    "* The equation for $\\Phi(\\phi)$ is singular at its two endpoints $\\phi=0$ and $\\phi=\\pi$. $~$In lieu of boundary conditions, $~$we impose the condition that $\\Phi$ and $\\Phi'$ remain bounded at both ends. This gives an eigenvalue problem with two singular endpoints. We introduce the new variable $x=\\cos\\phi$ and let $\\Phi(\\phi)=P(\\cos\\phi)$. Then the equation for $\\Phi(\\phi)$  becomes\n",
    "\n",
    "  > $\\displaystyle\\color{red}{\\frac{d}{dx} \\left[\\left(1 -x^2\\right) \\frac{dP}{dx} \\right] +\\left[\\lambda -\\frac{m^2}{1 -x^2 } \\right] P = 0}\\;\\;$ **(E1)**\n",
    "\n",
    "* In the case of $m=0$: \n",
    "\n",
    "  > $\\displaystyle\\frac{d}{dx} \\left[\\left(1 -x^2\\right) \\frac{dP}{dx} \\right] +\\lambda P = 0\\;\\;$ **(E2)**\n",
    "\n",
    "  we obtain a function which is bounded for $-1 \\leq x \\leq 1$ if and only if\n",
    "\n",
    "  > $\\lambda=n(n+1), \\;\\;n=0,1,2,\\cdots$\n",
    "\n",
    "  These, $\\,$then, $\\,$are the eigenvalues. Setting $P_n(1)=1$, $~$we obtain the eigenfunction $P_n(x)$ corresponding to the eigenvalue $\\lambda_n=n(n+1)$:\n",
    "\n",
    "  > $\\displaystyle P_n(x)= \\sum_{k=0}^n \\frac{(n +k)!}{2^k (k!)^2 (n -k)!}(x - 1)^k\\;\\;$\n",
    "\n",
    "  It is called a **Legendre polynomial**"
   ]
  },
  {
   "cell_type": "markdown",
   "metadata": {
    "slideshow": {
     "slide_type": "slide"
    }
   },
   "source": [
    "* Since $P_n(x)$ is of exactly degree $n$ in $x$, $~$any polynomial of degree $k$ can be expressed as a linear combination of $P_n(x)$ with $n=0,1,\\cdots,k$. $~$Since $P_n(x)$ are orthogonal, $~$each $P_n(x)$ must therefore be orthogonal to all powers of $x$ less than $n$:\n",
    "\n",
    "  > $\\displaystyle \\int_{-1}^1 x^k P_n(x)\\, dx=0, \\;\\;k=0,1,\\cdots, n-1$\n",
    "\n",
    "  These $n$ linear conditions, $\\,$together with the fact that $P_n(x)$ is of degree $n$, $~$determine $P_n(x)$ uniquely\n",
    "\n",
    "* We can verify the identity\n",
    "\n",
    "  > $\\displaystyle P_n(x)=\\frac{1}{2^n n!}\\frac{d^n}{dx^n} \\left(x^2 -1\\right)^n$\n",
    "\n",
    "  which is called the **Rodrigues formula**. $\\,$It is clear from this formula that $P_n(x)$ is even in $x$ if $n$ is even, $\\,$and odd if $n$ is odd\n",
    "\n",
    "* The Legendre polynomials can also be defined as the coefficients in a formal expansion in powers of $t$ of the **generating function**\n",
    "\n",
    "  > $\\displaystyle \\frac{1}{\\sqrt{1 -2xt +t^2}} = \\sum_{n=0}^\\infty P_n(x) t^n$"
   ]
  },
  {
   "cell_type": "markdown",
   "metadata": {
    "slideshow": {
     "slide_type": "slide"
    }
   },
   "source": [
    "* We now wish to consider the equation **(E1)** with a positive $m$. $\\,$For this purpose, $\\,$we first differentiate the equation **(E2)** $m$ times with respect to $x$. $\\,$This gives\n",
    "\n",
    "  > $\\displaystyle \\left(1 -x^2\\right) \\frac{d^{m+2}}{dx^{m+2}}P -2(m +1)x \\frac{d^{m+1}}{dx^{m+1}}P +\\left[ \\lambda -m(m +1)\\right] \\frac{d^{m}}{dx^{m}}P=0$\n",
    "\n",
    "  We now introduce the new dependent variable\n",
    "\n",
    "  > $\\displaystyle \\color{red}{Q(x)=\\left(1 -x^2\\right)^{m/2} \\frac{d^{m}}{dx^{m}}P(x)}$\n",
    "\n",
    "  The above equation becomes\n",
    "\n",
    "  > $\\displaystyle\\frac{d}{dx} \\left[\\left(1 -x^2\\right) \\frac{dQ}{dx} \\right] +\\left[\\lambda -\\frac{m^2}{1 -x^2 } \\right] Q = 0\\;\\;$\n",
    "\n",
    "  Thus any solution $P(x)$ of **(E2)** leads to a solution $Q(x)$ of **(E1)**, $\\,$unless $P(x)$ is a polynomial of degree less than $m$. $~$Since $P_n(x)$ is a polynomial of degree $n$, $~(d^m/dx^m) P_n = 0~$ for $n<m$, $\\,$and we get no eigenfunction. Therefore, $\\,$the eigenvalues are precisely $n(n+1)$ with $n=m, m+1, \\cdots$. $\\,$The eigenfunctions\n",
    "\n",
    "  > $\\displaystyle \\color{red}{P_n^m(x)=\\left(1 -x^2 \\right)^{m/2} \\frac{d^m}{dx^m} P_n(x)=\\frac{1}{2^n n!} \\left(1 -x^2 \\right)^{m/2} \\frac{d^{m +n}}{dx^{m +n}} \\left(x^2 -1 \\right)^n}$\n",
    "\n",
    "  are called the **associated Legendre functions**. $\\,P_n^m(x)$ corresponds to the eigenvalue $n(n +1)$, $\\,$and $n \\geq m$ "
   ]
  },
  {
   "cell_type": "markdown",
   "metadata": {
    "slideshow": {
     "slide_type": "slide"
    }
   },
   "source": [
    "* In Fourier expressions, $\\,$it is useful to know the integrals of $\\left[P_n^m(x)\\right]^2$. $\\,$It follows from the Rodrigues formula and $\\,n\\,$ integrations by parts that\n",
    "\n",
    " > $\\begin{align*}\n",
    " \\int_0^\\pi \\left[ P_n(\\cos\\phi)\\right]^2 \\,\\sin\\phi  \\,d\\phi &= \\int_{-1}^1 \\left[P_n(x) \\right]^2 \\,dx\\\\ \n",
    " &= \\frac{1}{2^{2n} n!^2} \\int_{-1}^1 \\left[ \\frac{d^n}{dx^n} \\left(1- x^2 \\right)^n\\right]^2 \\, dx\\\\ \n",
    " &= \\frac{1}{2^{2n} n!^2} \\left[ \\underbrace{\\left.\\frac{d^{n-1}}{dx^{n-1}} \\left(1- x^2 \\right)^n\n",
    "    \\frac{d^{n}}{dx^{n}} \\left(1- x^2 \\right)^n \\right|_{-1}^{1}}_{=0} \n",
    "    -\\int_{-1}^1 \\frac{d^{n-1}}{dx^{n-1}} \\left(1- x^2 \\right)^n\n",
    "    \\frac{d^{n+1}}{dx^{n+1}} \\left(1- x^2 \\right)^n \\,dx\\right]\\\\ \n",
    " &\\;\\vdots \\\\ \n",
    " &=\\frac{(-1)^n}{2^{2n} n!^2} \\int_{-1}^1 \\left(1- x^2 \\right)^n\n",
    "    \\underbrace{\\frac{d^{2n}}{dx^{2n}} \\left(1- x^2 \\right)^n}_{(-1)^n (2n)!} \\,dx \\\\\n",
    " &=\\frac{(2n)!}{2^{2n} n!^2} \\int_{-1}^1 \\left(1- x^2 \\right)^n \\,dx = \\frac{(2n)!}{2^{2n} n!^2} 2^{2n +1} \\frac{n!^2}{(2n+1)!}=\\frac{2}{2n +1}\n",
    "\\end{align*}$"
   ]
  },
  {
   "cell_type": "markdown",
   "metadata": {
    "slideshow": {
     "slide_type": "slide"
    }
   },
   "source": [
    "* Similarly,\n",
    "\n",
    "  > $\\begin{align*}\n",
    " \\color{blue}{\\int_0^\\pi \\left[ P_n^m(\\cos\\phi)\\right]^2 \\,\\sin\\phi  \\,d\\phi} &= \\int_{-1}^1 \\left[P_n^m(x) \\right]^2 \\,dx \n",
    " = \\int_{-1}^1 \\left[ \\left(1 -x^2 \\right)^{m/2} \\frac{d^m}{dx^m} P_n(x) \\right]^2 \\, dx\\\\ \n",
    " &= \\underbrace{\\left. \\frac{d^{m-1}}{dx^{m-1}} P_n(x)\n",
    "    \\left\\{ \\left(1- x^2 \\right)^m  \\frac{d^m}{dx^m} P_n(x) \\right\\} \\right|_{-1}^{\\;\\;1}}_{=0} \n",
    "    -\\int_{-1}^1 \\frac{d^{m-1}}{dx^{m-1}} P_n(x)\n",
    "    \\frac{d}{dx} \\left\\{\\left(1- x^2 \\right)^m  \\frac{d^m}{dx^m} P_n(x)  \\right\\} \\,dx \\\\ \n",
    " &\\;\\big\\Downarrow \\;\\;{\\scriptsize\\left(1- x^2 \\right)^m = (-1)^m x^{2m}+\\cdots, \\;\\;\\frac{d^m}{dx^m} P_n(x)=c_n \\frac{n!}{(n -m)!}x^{n -m}+\\cdots}\\\\ \n",
    " &= (-1)^m \\int_{-1}^1 P_n(x)\n",
    "    \\underbrace{\\frac{d^m}{dx^m} \\left\\{\\left(1- x^2 \\right)^m  \\frac{d^m}{dx^m} P_n(x) \\right\\}}_{(-1)^m c_n \\frac{n!}{(n-m)!} \\frac{(n +m)!}{n!} x^n +\\cdots} \\,dx \\\\\n",
    " &=\\frac{(n+m)!}{(n-m)!} \\int_{-1}^1 P_n(x) c_n x^n \\,dx \\\\\n",
    " &=\\frac{(n+m)!}{(n-m)!} \\int_{-1}^1 \\left[ P_n(x) \\right ]^2 \\,dx \\\\\n",
    " &=\\color{blue}{\\frac{2}{2n +1}\\frac{(n+m)!}{(n-m)!}}\n",
    "\\end{align*}$\n",
    "\n",
    "  in which $c_n$ is the coefficient of $x^n$ in $P_n(x)$"
   ]
  },
  {
   "cell_type": "markdown",
   "metadata": {
    "slideshow": {
     "slide_type": "slide"
    }
   },
   "source": [
    "* Putting $\\lambda=n(n+1)$ in the equation for $R(r)$, $~$we obtain the two solutions $r^n$ and $r^{-(n +1)}$. $~$Only the first of these is bounded at $r=0$\n",
    "\n",
    "* The method of separation of variables thus gives the harmonic functions\n",
    "\n",
    "  > $\\begin{align*}\n",
    " &r^n P_n^m(\\cos\\phi) \\cos m\\theta\\\\ \n",
    " &r^n P_n^m(\\cos\\phi) \\sin m\\theta \n",
    "\\end{align*}$\n",
    "\n",
    "  * We note that $P_n^m(\\cos\\phi)$ is $\\sin^m\\phi$ times a polynomial of degree $n -m$ in $\\cos\\phi$ which is even or odd according as $n -m$ is even or odd\n",
    "  \n",
    "  * Since $r\\cos\\phi=z$, $~$it follows that $r^{n-m}$ times this polynomial is a polynomial in $r^2$ and $z$, and hence in $x$, $y$, and $z$\n",
    "  \n",
    "  * Also, $r\\sin\\phi=\\sqrt{x^2 +y^2}$. Thus $r^m\\sin^m\\phi \\cos m\\theta$ and $r^m\\sin^m\\phi \\sin m\\theta$ are the polynomial solutions \n",
    "in $x$ and $y$ obtained by separating the two-dimensional Laplace's equation in polar coordinates\n",
    "\n",
    "  * We see then that the functions $r^n P_n^m(\\cos\\phi) \\cos m\\theta$ and $r^n P_n^m(\\cos\\phi) \\sin m\\theta$ are homogeneous polynomials of degree $n$ in $x$, $y$, and $z$. They are of degree $n -m$ in $z$. These polynomials are called **spherical harmonics**"
   ]
  },
  {
   "cell_type": "markdown",
   "metadata": {
    "slideshow": {
     "slide_type": "slide"
    }
   },
   "source": [
    "* The formal solution of the problem is then\n",
    "\n",
    "  > $\\displaystyle \\color{red}{u(r,\\phi,\\theta) = \\sum_{n=0}^\\infty \\left( \\frac{r}{R} \\right)^n \\left[ \\frac{1}{2} a_{n0} P_n(\\cos\\phi) +\\sum_{m=1}^n \\left(a_{nm} \\cos m\\theta +b_{nm} \\sin m\\theta \\right) P_n^m(\\cos\\phi) \\right]}$\n",
    "\n",
    "  where\n",
    "\n",
    "  > $\\begin{align*}\n",
    " a_{nm} &= \\frac{(2n +1)}{2\\pi}\\frac{(n -m)!}{(n +m)!} \\int_{0}^{2\\pi} \\int_{0}^\\pi g(\\phi,\\theta) \\,P_n^m(\\cos\\phi) \\,\\cos m\\theta \\,\\sin\\phi \\,d\\phi \\,d\\theta \\\\ \n",
    " b_{nm} &= \\frac{(2n +1)}{2\\pi}\\frac{(n -m)!}{(n +m)!} \\int_{0}^{2\\pi} \\int_{0}^\\pi g(\\phi,\\theta) \\,P_n^m(\\cos\\phi) \\,\\sin m\\theta \\,\\sin\\phi \\,d\\phi \\,d\\theta\n",
    "\\end{align*}$\n",
    "\n",
    "  are the $n$-th Fourier coefficients of $g(\\phi,\\theta)=u(R,\\phi,\\theta)$"
   ]
  },
  {
   "cell_type": "markdown",
   "metadata": {
    "slideshow": {
     "slide_type": "slide"
    }
   },
   "source": [
    "**(b)** $\\text{ }$ We can write this solution as\n",
    "\n",
    "  > $\\displaystyle u(r,\\phi,\\theta) = \\int_0^{2\\pi} \\int_0^\\pi K(r,\\phi,\\theta; R,\\varphi,\\vartheta)\\, g(\\varphi,\\vartheta) \\sin\\varphi \\,d\\varphi \\, d\\vartheta$\n",
    "\n",
    "  where\n",
    "\n",
    "  > $\\displaystyle K(r,\\phi,\\theta; R,\\varphi,\\vartheta)=\\sum_{n=0}^\\infty \\left( \\frac{r}{R} \\right)^n \\underbrace{\\left[ \\frac{2n +1}{4\\pi} P_n(\\cos\\phi) P_n(\\cos\\varphi) +\\sum_{m=1}^n \\frac{(2n +1)}{2\\pi}\\frac{(n -m)!}{(n +m)!} P_n^m(\\cos\\phi) P_n^m(\\cos\\varphi) \\cos m(\\theta -\\vartheta) \\right]}_{K_n(\\phi,\\,\\theta; \\,\\varphi,\\,\\vartheta)}\\;\\;$ **(E3)**\n",
    "\n",
    "* For a fixed $n$, \n",
    "\n",
    "  > $\\begin{align*}\n",
    "\\int_{0}^{2\\pi} \\int_{0}^\\pi & \\,K_n(\\phi,\\theta;\\varphi,\\vartheta)\\, r^l \\,P_l^m(\\cos\\varphi) \\,(a\\cos m\\vartheta +b\\sin m\\vartheta) \\,\\sin\\varphi \\,d\\varphi \\,d\\vartheta \\\\ \n",
    " &= \n",
    "\\begin{cases}\n",
    " r^n P_n^m(\\cos\\phi) (a\\cos m\\theta +b\\sin m\\theta)& \\text{ for } l=n \\\\ \n",
    " 0 & \\text{ for } l \\neq n \n",
    "\\end{cases}\n",
    "\\end{align*}$\n",
    "\n",
    "* This means that any homogeneous polynomial of degree $l$ which is a solution of Laplace's equation can be written as a linear combination of the $2l+1$ spherical harmonics $r^l \\,P_l^m(\\cos\\phi)\\cos m\\theta$ and $r^l \\,P_l^m(\\cos\\phi)\\sin m\\theta$. $\\,$The kernel $K_n(\\phi,\\theta;\\varphi,\\vartheta)$ has the property that it reproduces all homogeneous harmonic polynomials of degree $n$, $\\,$and reduces those of other degrees to zero"
   ]
  },
  {
   "cell_type": "markdown",
   "metadata": {
    "slideshow": {
     "slide_type": "slide"
    }
   },
   "source": [
    "* Since rotation of the coordinate axes takes a homogeneous harmonic polynomial of degree $l\\,$ into another such polynomial in the new variable, $~$the kernel $K_n$ must be unchanged by such a rotation. $~$That is, $\\,$if the new polar coordinates are $(r',\\phi',\\theta')$, $~$we have $K_n(\\phi,\\theta;\\varphi,\\vartheta)=K_n(\\phi',\\theta';\\varphi',\\vartheta')$. $~$In particular, $\\,$we can rotate our coordinates so that the new $z$-axis passes through $(r,\\phi,\\theta)$; $~$that is, $~$so that $\\phi'=0$\n",
    "\n",
    "* By definition, $P_n(1)=1$. On the other hand, $\\,P_n^m(x)$ with $m \\geq 1$ has a factor $\\left(1 -x^2\\right)^{m/2}$, $\\;$so that $P_n^m(1)=0$, $\\,$for $m \\geq 1$. $\\,$Therefore \n",
    "\n",
    "  > $\\displaystyle K_n(\\phi,\\theta;\\varphi,\\vartheta) =K_n(0,\\theta';\\varphi',\\vartheta')= \\frac{2n+1}{4\\pi} P_n(\\cos\\varphi')\\;\\;$ **(E4)**\n",
    "\n",
    "  where $\\varphi'$ is the angle between the direction $(\\phi,\\theta)$ and $(\\varphi,\\vartheta)$:\n",
    "\n",
    "  > $\\displaystyle \\cos\\varphi'=\\cos\\phi\\cos\\varphi +\\sin\\phi\\sin\\varphi \\cos(\\theta-\\vartheta)$\n",
    "\n",
    "  Substituting the identity (E4) in (E3), $\\,$we find\n",
    "\n",
    "  > $\\begin{align*}\n",
    " K(r,\\phi,\\theta;R,\\varphi,\\vartheta) &= \\frac{1}{4\\pi} \\sum_{n=0}^\\infty (2n +1) \\left( \\frac{r}{R} \\right)^n P_n(\\cos\\varphi')\\\\ \n",
    " &= \\frac{1}{4\\pi} \\left( 2r\\frac{\\partial }{\\partial r} +1 \\right) \\sum_{n=0}^\\infty \\left( \\frac{r}{R} \\right)^n P_n(\\cos\\varphi')\n",
    "\\end{align*}$"
   ]
  },
  {
   "cell_type": "markdown",
   "metadata": {
    "slideshow": {
     "slide_type": "slide"
    }
   },
   "source": [
    "* Evaluating the generating function at $x=\\cos\\varphi'$ and $\\displaystyle \\,t=\\frac{r}{R}$, $~$we have the identity\n",
    "\n",
    "  > $\\displaystyle \\frac{R}{\\sqrt{r^2 +R^2 -2rR\\cos\\varphi'}} = \\sum_{n=0}^\\infty \\left( \\frac{r}{R}\\right)^n P_n(\\cos\\varphi')$\n",
    "\n",
    "  Since\n",
    "\n",
    "  > $\\displaystyle \\left( 2r\\frac{\\partial}{\\partial r} +1\\right)\\frac{R}{\\sqrt{r^2 +R^2 -2rR\\cos\\varphi'}} = \\frac{R\\left(R^2 -r^2\\right)}{\\left(r^2 +R^2 -2rR\\cos\\varphi'\\right)^{3/2}}= \\frac{\\displaystyle 1 -\\left(\\frac{r}{R}\\right)^2}{\\displaystyle\\left(1 +\\left(\\frac{r}{R}\\right)^2 -2\\frac{r}{R}\\cos\\varphi'\\right)^{3/2}}$\n",
    "\n",
    "  thus, the solution formula is equivalent to the integral formula\n",
    "\n",
    "  > $\\displaystyle \\color{red}{u(r,\\phi,\\theta)=\\frac{1}{4\\pi} \\int_0^{2\\pi} \\int_0^\\pi \n",
    " \\frac{\\displaystyle 1 -\\left(\\frac{r}{R}\\right)^2}{\\displaystyle\\left(1 +\\left(\\frac{r}{R}\\right)^2 -2\\frac{r}{R}\\cos\\varphi'\\right)^{3/2}} \\, g(\\varphi,\\vartheta) \\sin\\varphi \\,d\\varphi \\, d\\vartheta}$\n",
    " \n",
    "  where $\\left(r^2 +R^2 -2rR\\cos\\varphi'\\right)^{1/2}$ is the distance from the point $(r,\\phi,\\theta)$ to the point $(R,\\varphi,\\vartheta)$. This is **Poisson's integral formula** in three dimensions"
   ]
  }
 ],
 "metadata": {
  "celltoolbar": "Slideshow",
  "kernelspec": {
   "display_name": "Python 3 (ipykernel)",
   "language": "python",
   "name": "python3"
  },
  "language_info": {
   "codemirror_mode": {
    "name": "ipython",
    "version": 3
   },
   "file_extension": ".py",
   "mimetype": "text/x-python",
   "name": "python",
   "nbconvert_exporter": "python",
   "pygments_lexer": "ipython3",
   "version": "3.9.13"
  }
 },
 "nbformat": 4,
 "nbformat_minor": 4
}
