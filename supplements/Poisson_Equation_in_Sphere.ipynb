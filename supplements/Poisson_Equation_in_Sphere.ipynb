{
 "cells": [
  {
   "cell_type": "markdown",
   "metadata": {
    "slideshow": {
     "slide_type": "skip"
    }
   },
   "source": [
    "[![Open In Colab](https://colab.research.google.com/assets/colab-badge.svg)](https://colab.research.google.com/github/SeoulTechPSE/EngMath/blob/master/supplements/Poisson_Equation_in_Sphere.ipynb)"
   ]
  },
  {
   "cell_type": "markdown",
   "metadata": {
    "slideshow": {
     "slide_type": "slide"
    }
   },
   "source": [
    "## Poisson's Equation for the Sphere"
   ]
  },
  {
   "cell_type": "markdown",
   "metadata": {
    "slideshow": {
     "slide_type": "fragment"
    }
   },
   "source": [
    "We consider the problem\n",
    "\n",
    ">$\\begin{align*}\n",
    " u_{rr} +\\frac{2}{r} u_r &+\\frac{1}{r^2}u_{\\phi\\phi} +\\frac{\\cot\\phi}{r^2} u_{\\phi} +\\frac{1}{r^2\\sin^2\\phi}u_{\\theta\\theta} = -F(r,\\phi,\\theta), \\;\\; r < R \\\\ \n",
    " u(R,\\phi,\\theta) &= 0\\\\ \n",
    "\\end{align*}\\;\\;$ **(P2)**\n",
    "\n",
    "(a) $~$solve by taking the finite Fourier Transforms, $~$(b) $~$derive $\\,G(r,\\phi,\\theta; \\rho,\\varphi,\\vartheta)\\,$ in the equivalent integral formula:\n",
    "\n",
    ">$\\displaystyle u(r,\\phi,\\theta) = \\int_0^{2\\pi} \\int_0^\\pi \\int_0^R G(r,\\phi,\\theta; \\rho,\\varphi,\\vartheta)\\, F(\\rho, \\varphi,\\vartheta) \\,\\rho^2 \\sin\\varphi \\,d\\rho \\,d\\varphi \\, d\\vartheta$"
   ]
  },
  {
   "cell_type": "markdown",
   "metadata": {
    "slideshow": {
     "slide_type": "slide"
    }
   },
   "source": [
    "**(a)** $\\text{ }$ We expand $u$ and $F$ in Fourier series in $P_n^m(\\cos\\phi)\\cos m\\theta$ and $P_n^m(\\cos\\phi)\\sin m\\theta$. $~$That is, $~$we take their finite Fourier transforms:\n",
    "\n",
    ">$\\begin{align*}\n",
    " a_{nm}(r) &= \\frac{2n +1}{2\\pi} \\frac{(n -m)!}{(n +m)!}\n",
    "  \\int_{0}^{2\\pi} \\int_{0}^\\pi u(r,\\phi,\\theta) \\,P_n^m(\\cos\\phi) \\,\\cos m\\theta \\,\\sin\\phi \\,d\\phi \\,d\\theta\\\\ \n",
    " b_{nm}(r) &= \\frac{2n +1}{2\\pi} \\frac{(n -m)!}{(n +m)!}\n",
    "  \\int_{0}^{2\\pi} \\int_{0}^\\pi u(r,\\phi,\\theta) \\,P_n^m(\\cos\\phi) \\,\\sin m\\theta \\,\\sin\\phi \\,d\\phi \\,d\\theta\\\\ \n",
    " A_{nm}(r) &= \\frac{2n +1}{2\\pi} \\frac{(n -m)!}{(n +m)!}\n",
    "  \\int_{0}^{2\\pi} \\int_{0}^\\pi F(r,\\phi,\\theta) \\,P_n^m(\\cos\\phi) \\,\\cos m\\theta \\,\\sin\\phi \\,d\\phi \\,d\\theta\\\\ \n",
    " B_{nm}(r) &= \\frac{2n +1}{2\\pi} \\frac{(n -m)!}{(n +m)!}\n",
    "  \\int_{0}^{2\\pi} \\int_{0}^\\pi F(r,\\phi,\\theta) \\,P_n^m(\\cos\\phi) \\,\\sin m\\theta \\,\\sin\\phi \\,d\\phi \\,d\\theta\n",
    "\\end{align*}$\n",
    "\n",
    "Taking finite Fourier transforms of the differential equation and integrating by parts leads to the system\n",
    "\n",
    ">$\\begin{align*}\n",
    " r^2 a_{nm}'' +2r a_{nm}' &-n(n +1) a_{nm} = -r^2 A_{nm}, \\; \n",
    " a_{nm}(R)= 0, \\;a_{nm} \\sim \\text{bounded}\\\\ \n",
    " r^2 b_{nm}'' +2r b_{nm}' &-n(n +1) b_{nm} = -r^2 B_{nm}, \\; \n",
    " b_{nm}(R)= 0, \\;b_{nm} \\sim \\text{bounded} \n",
    "\\end{align*}$\n"
   ]
  },
  {
   "cell_type": "markdown",
   "metadata": {
    "slideshow": {
     "slide_type": "slide"
    }
   },
   "source": [
    "These problems have the solutions\n",
    "\n",
    ">$\\begin{align*}\n",
    " a_{nm}(r) &=\\int_0^R G_n(r,\\rho)\\,A_{nm}(\\rho)\\,\\rho^2 \\,d\\rho \\\\ \n",
    " b_{nm}(r) &=\\int_0^R G_n(r,\\rho)\\,B_{nm}(\\rho)\\,\\rho^2 \\,d\\rho\n",
    "\\end{align*}\\;\\;$ **(E5)**\n",
    "\n",
    "where [Colab: Green's function](https://colab.research.google.com/github/SeoulTechPSE/EngMath/blob/master/supplements/Green's_Function.ipynb) or [local: Green's function](https://colab.research.google.com/github/SeoulTechPSE/EngMath/blob/master/supplements/Green's_Function.ipynb)\n",
    "\n",
    ">$\\displaystyle G_n(r,\\rho) = \n",
    "\\begin{cases}\n",
    " \\displaystyle\\frac{1}{(2n +1)R}\\left(\\frac{r}{R} \\right)^n\\left[\\left(\\frac{\\rho}{R} \\right)^{-(n+1)} -\\left(\\frac{\\rho}{R} \\right)^{n} \\right] & \\text{ for } r \\leq \\rho \\\\ \n",
    " \\displaystyle\\frac{1}{(2n +1)R}\\left(\\frac{\\rho}{R} \\right)^n\\left[\\left(\\frac{r}{R} \\right)^{-(n+1)} -\\left(\\frac{r}{R} \\right)^{n} \\right]& \\text{ for } r \\geq \\rho \n",
    "\\end{cases}$\n",
    "\n",
    "If the problem (P2) has a solution, $~$it is\n",
    "\n",
    ">$\\displaystyle u(r,\\phi,\\theta) = \\sum_{n=0}^\\infty \\left[ \\frac{1}{2} a_{n0}(r) P_n(\\cos\\phi) +\\sum_{m=1}^n \\left(a_{nm}(r) \\cos m\\theta +b_{nm}(r) \\sin m\\theta \\right) P_n^m(\\cos\\phi) \\right]\\;\\;$ **(E6)**"
   ]
  },
  {
   "cell_type": "markdown",
   "metadata": {
    "slideshow": {
     "slide_type": "slide"
    }
   },
   "source": [
    "**(b)** $\\text{ }$ We substitute the definitions of $A_{nm}(r)$ and $B_{nm}(r)$ in (E5), $~$and formally interchange integration and summation in (E6). $~$This process gives the formal solution \n",
    "\n",
    ">$\\displaystyle u(r,\\phi,\\theta) = \\int_0^{2\\pi} \\int_0^\\pi \\int_0^R G(r,\\phi,\\theta; \\rho,\\varphi,\\vartheta)\\, F(\\rho, \\varphi,\\vartheta) \\,\\rho^2 \\sin\\varphi \\,d\\rho \\,d\\varphi \\, d\\vartheta$\n",
    "\n",
    "where for $r > \\rho$\n",
    "\n",
    ">$\\begin{align*}\n",
    " G(r,\\phi,\\theta;\\rho,\\varphi,\\vartheta) &=\\sum_{n=0}^\\infty \\frac{1}{(2n +1)R}\n",
    "  \\left(\\frac{\\rho}{R} \\right)^n \n",
    "  \\left[ \\left(\\frac{r}{R} \\right)^{-(n +1)} -\\left(\\frac{r}{R} \\right)^{n} \\right] \n",
    "  K_n(\\phi,\\theta;\\varphi,\\vartheta)\\\\ \n",
    " &= \\frac{1}{4\\pi R} \\sum_{n=0}^\\infty \\left(\\frac{\\rho}{R} \\right)^n \n",
    "  \\left[ \\left(\\frac{r}{R} \\right)^{-(n +1)} -\\left(\\frac{r}{R} \\right)^{n} \\right] P_n(\\cos\\varphi') \n",
    "\\end{align*}$\n",
    "\n",
    "For $r < \\rho$, $~$we must only interchange $r$ and $\\rho$ in this formula. To evaluate the series in the above equation, $~$we use the generating function:\n",
    "\n",
    ">$\\begin{align*}\n",
    " G(r,\\phi,\\theta;\\rho,\\varphi,\\vartheta) &=\\frac{1}{4\\pi} \\frac{1}{\\sqrt{r^2+\\rho^2-2r\\rho\\cos\\varphi'}}\n",
    " -\\frac{1}{4\\pi} \\frac{1}{\\sqrt{R^2 +\\frac{r^2\\rho^2}{R^2} -2r\\rho\\cos\\varphi'}}\n",
    "\\end{align*}\n",
    "$\n",
    "\n",
    "This, then, is the Green's function for $r > \\rho$. $~$It is already symmetric in $r$ and $\\rho$, $~$so that the same formula holds for $r < \\rho$, and even for $r=\\rho$. $~$We note that $G=0$ for $r=R$"
   ]
  }
 ],
 "metadata": {
  "celltoolbar": "Slideshow",
  "kernelspec": {
   "display_name": "Python 3 (ipykernel)",
   "language": "python",
   "name": "python3"
  },
  "language_info": {
   "codemirror_mode": {
    "name": "ipython",
    "version": 3
   },
   "file_extension": ".py",
   "mimetype": "text/x-python",
   "name": "python",
   "nbconvert_exporter": "python",
   "pygments_lexer": "ipython3",
   "version": "3.8.12"
  }
 },
 "nbformat": 4,
 "nbformat_minor": 4
}
