{
 "cells": [
  {
   "cell_type": "markdown",
   "metadata": {
    "slideshow": {
     "slide_type": "skip"
    }
   },
   "source": [
    "[![Open In Colab](https://colab.research.google.com/assets/colab-badge.svg)](https://colab.research.google.com/github/SeoulTechPSE/EngMath/blob/master/supplements/hydrogen.ipynb)"
   ]
  },
  {
   "cell_type": "markdown",
   "metadata": {
    "slideshow": {
     "slide_type": "slide"
    }
   },
   "source": [
    "## The Hydrogen Atom"
   ]
  },
  {
   "cell_type": "markdown",
   "metadata": {
    "slideshow": {
     "slide_type": "fragment"
    }
   },
   "source": [
    "As the electron circles around the nucleus, $\\,$the system (the proton and the electron) rotates around the center of gravity. $\\,$For the rotating system, $\\,$we can write the reduced mass, $\\mu$, as\n",
    "\n",
    ">$\\displaystyle \\frac{1}{\\mu} = \\frac{1}{m_e} + \\frac{1}{m_p}$\n",
    "\n",
    "or, $\\,$solving for $\\mu$,\n",
    "\n",
    ">$\\displaystyle \\mu = \\frac{m_em_p}{m_e +m_p}$\n",
    "\n",
    "Since the mass of the electron is so much less than that of the proton, $\\,$$m_e +m_p \\approx m_p$ and $\\mu = m_e$. $\\,$Assuming that the nucleus is stationary and that the electron does all of the moving (known as the Born-Oppenheimer approximation) leads to the same result"
   ]
  },
  {
   "cell_type": "markdown",
   "metadata": {
    "slideshow": {
     "slide_type": "slide"
    }
   },
   "source": [
    "The Hamiltonian can be written as the sum of the kinetic and potential energies\n",
    "\n",
    ">$H = T + V$\n",
    "\n",
    "in which $T = p^2/2\\mu$ and the potential energy, $\\,V$, for the interaction of the electron with the proton is $-e^2/r$. $\\,$Therefore, the Hamiltonian operator $\\hat{H}$ is\n",
    "\n",
    ">$\\displaystyle \\hat{H}=-\\frac{\\hbar^2}{2\\mu} \\nabla^2 -\\frac{e^2}{r}$"
   ]
  },
  {
   "cell_type": "markdown",
   "metadata": {
    "slideshow": {
     "slide_type": "slide"
    }
   },
   "source": [
    "Therefore, $\\,$the time-independent wave function $\\psi$ gives\n",
    "\n",
    ">$\\begin{align*}\n",
    " \\hat{H} \\psi &= E \\psi \\\\ \n",
    " &\\Downarrow \\\\\n",
    " \\nabla^2 \\psi +\\frac{2\\mu}{\\hbar^2} &\\left( \\frac{e^2}{r} +E \\right) \\psi =0 \\\\\n",
    " &\\Downarrow \\\\\n",
    " \\frac{1}{r^2}\\left( r^2 \\psi_r \\right)_r +\\frac{1}{r^2\\sin\\phi} \\left( \\sin\\phi\\, \\psi_\\phi \\right)_\\phi \n",
    "  &+\\frac{1}{r^2\\sin^2\\phi} \\psi_{\\theta\\theta} +\\frac{2\\mu}{\\hbar^2} \\left( \\frac{e^2}{r} +E \\right) \\psi =0 \n",
    "\\end{align*}$ "
   ]
  },
  {
   "cell_type": "markdown",
   "metadata": {
    "slideshow": {
     "slide_type": "slide"
    }
   },
   "source": [
    "We assume that $\\psi(r,\\phi,\\theta)=R(r)\\,\\Phi(\\phi)\\,\\Theta(\\theta)$ and make the substitution. $\\,$For simplicity, $\\,$we will write the partial solutions as $R$, $\\Phi$, and $\\Theta$ without showing the functionality. $\\,$We now divide both sides by $R\\,\\Phi\\,\\Theta$ and multiply by $r^2\\sin^2\\phi$:\n",
    "\n",
    ">$\\displaystyle \\frac{\\sin^2\\phi}{R}\\left( r^2 R_r \\right)_r +\\frac{\\sin\\phi}{\\Phi} \\left( \\sin\\phi\\, \\Phi_\\phi \\right)_\\phi \n",
    "  +\\frac{1}{\\Theta} \\Theta_{\\theta\\theta} +\\frac{2\\mu r^2\\sin^2\\phi}{\\hbar^2} \\left( \\frac{e^2}{r} +E \\right) =0 $"
   ]
  },
  {
   "cell_type": "markdown",
   "metadata": {
    "slideshow": {
     "slide_type": "slide"
    }
   },
   "source": [
    "Inspection shows that, of the four terms on the left side of the equation, there is no functional dependence on $\\theta$ except in the third term. $\\,$Therefore, with respect to the other variables, $\\,$the third term can be treated as a constant:\n",
    "\n",
    ">$\\begin{align*}\n",
    " -\\frac{\\sin^2\\phi}{R}\\left( r^2 R_r \\right)_r -\\frac{\\sin\\phi}{\\Phi} \\left( \\sin\\phi\\, \\Phi_\\phi \\right)_\\phi \n",
    "  &-\\frac{2\\mu r^2\\sin^2\\phi}{\\hbar^2} \\left( \\frac{e^2}{r} +E \\right) \n",
    "  = \\frac{1}{\\Theta} \\Theta_{\\theta\\theta} = -\\lambda <0 \\\\ \n",
    " &\\Downarrow \\\\ \n",
    " \\Theta_{\\theta\\theta} &+\\lambda \\Theta = 0, \\;\\;\\Theta(0)=\\Theta(2\\pi)\\\\\n",
    "  &\\Downarrow \\;\\;e^{\\pm i2\\pi \\sqrt{\\lambda}} =1\\\\\n",
    "  \\lambda_m = m^2, &\\;m=0,\\pm 1, \\pm 2,\\cdots \\\\ \n",
    "  \\Theta_m(\\theta) &= \\frac{1}{\\sqrt{2\\pi}} e^{im\\theta} \n",
    "\\end{align*}$\n",
    "\n",
    "Actually, $\\,$there are two solutions: $e^{im\\theta}$ and $e^{-im\\theta}$, $\\,$but we cover the latter by allowing $m$ to run negative"
   ]
  },
  {
   "cell_type": "markdown",
   "metadata": {
    "slideshow": {
     "slide_type": "slide"
    }
   },
   "source": [
    "We can now write the wave equation as\n",
    "\n",
    ">$\\displaystyle\\frac{\\sin^2\\phi}{R}\\left( r^2 R_r \\right)_r +\\frac{\\sin\\phi}{\\Phi} \\left( \\sin\\phi\\, \\Phi_\\phi \\right)_\\phi \n",
    "  -m^2 +\\frac{2\\mu r^2\\sin^2\\phi}{\\hbar^2} \\left( \\frac{e^2}{r} +E \\right) \n",
    "  = 0$\n",
    "  \n",
    "If we divide the equation by $\\sin^2\\phi$ and rearrange, $~$we obtain\n",
    "\n",
    ">$\\begin{align*}\n",
    " \\frac{1}{R}\\left( r^2 R_r \\right)_r +\\frac{2\\mu r^2}{\\hbar^2} \\left( \\frac{e^2}{r} +E \\right) &+\\frac{1}{\\Phi\\sin\\phi} \n",
    "  \\left( \\sin\\phi\\, \\Phi_\\phi \\right)_\\phi -\\frac{m^2}{\\sin^2\\phi} = 0 \\\\\n",
    " &\\Downarrow \\\\\n",
    "  \\frac{1}{\\Phi\\sin\\phi} \\left( \\sin\\phi\\, \\Phi_\\phi \\right)_\\phi &-\\frac{m^2}{\\sin^2\\phi} = -\\beta \\\\\n",
    "  \\frac{1}{R}\\left( r^2 R_r \\right)_r +\\frac{2\\mu r^2}{\\hbar^2} &\\left( \\frac{e^2}{r} +E \\right) = \\beta \\\\\n",
    " &\\Downarrow \\\\\n",
    "  \\frac{1}{\\sin\\phi} \\left( \\sin\\phi\\, \\Phi_\\phi \\right)_\\phi &+\\left( \\beta-\\frac{m^2}{\\sin^2\\phi}\\right)\\Phi = 0 \\\\\n",
    "  \\frac{1}{r^2}\\left( r^2 R_r \\right)_r +\\frac{2\\mu}{\\hbar^2} &\\left( \\frac{e^2}{r} +E \\right)R -\\frac{\\beta}{r^2}R=0\n",
    "\\end{align*}$"
   ]
  },
  {
   "cell_type": "markdown",
   "metadata": {
    "slideshow": {
     "slide_type": "slide"
    }
   },
   "source": [
    "We will now turn our attention to the equation involving $\\phi$. The standard method for solving this equation is to make the transformation $x=\\cos\\phi$\n",
    "\n",
    ">$\\begin{align*}\n",
    " \\frac{1}{\\sin\\phi} \\frac{d}{d\\phi} \\left( \\frac{\\sin^2\\phi}{\\sin\\phi}\\, \\frac{d\\Phi}{d\\phi} \\right) &+\\left( \\beta-\\frac{m^2}{\\sin^2\\phi}\\right)\\Phi = 0 \\\\ \n",
    " &\\Downarrow\\;\\;x=\\cos\\phi,\\;dx=-\\sin\\phi\\,d\\phi \\\\ \n",
    " \\frac{d}{dx} \\left[ (1 -x^2) \\frac{d\\Phi}{dx} \\right] &+ \\left( \\beta-\\frac{m^2}{1 -x^2}\\right)\\Phi = 0 \\\\ \n",
    " &\\Downarrow \\\\\n",
    " (1 -x^2) \\frac{d^2\\Phi}{dx^2} -2x \\frac{d\\Phi}{dx} &+ \\left( \\beta-\\frac{m^2}{1 -x^2}\\right)\\Phi = 0 \n",
    "\\end{align*}$\n",
    "\n",
    "This is the associated Legendre equation. If you start with the Legendre equation and differentiate it $|m|$ times, $\\,$you end up with a new differential equation for the functions $y = \\left(\\frac{d}{dx}\\right)^{|m|} P_l(x)$\n",
    "\n",
    ">$\\begin{align*}\n",
    " (1 -x^2)P_l''(x) -&2xP_l'(x) +l(l+1)P_l(x) = 0,\\;\\;\\; l=0,1,2,\\cdots \\\\ \n",
    " &\\Downarrow\\;\\; {\\scriptstyle \\text{differentiate it } |m| \\text{ times}, \\;\\;y = \\left(\\frac{d}{dx}\\right)^{|m|} P_l(x),\\; \\; |m|\\, \\leq\\, l} \\\\ \n",
    " (1 -x^2)y''(x) -2 |m| x y'&-|m|(|m| -1)y -2x y' -2|m|y +l(l +1)y = 0\\\\ \n",
    " &\\Downarrow\\\\ \n",
    " (1 -x^2)y''(x) -2x(|m| +1)&y'(x) +\\left[l(l +1) -|m|(|m| +1)\\right] y(x) = 0 \n",
    "\\end{align*}$"
   ]
  },
  {
   "cell_type": "markdown",
   "metadata": {
    "slideshow": {
     "slide_type": "slide"
    }
   },
   "source": [
    "And the substitution\n",
    "\n",
    ">$\\begin{align*}\n",
    " y&= (1 -x^2)^{-|m|/2} \\Phi \\\\ \n",
    " y'&= (1 -x^2)^{-|m|/2} \\left[\\frac{d\\Phi}{dx} +\\frac{|m|x}{1 -x^2}\\Phi \\right] \\\\ \n",
    " y''&= (1 -x^2)^{-|m|/2} \\left[\\frac{d^2\\Phi}{dx^2} +\\frac{2|m|x}{1 -x^2}\\frac{d\\Phi}{dx} \n",
    "  +\\frac{|m|+|m|x^2 +|m|^2x^2}{(1-x^2)^2} \\Phi \\right]\n",
    "\\end{align*}$\n",
    "\n",
    "puts the equation into standard form with respect to $\\Phi$. $\\,$Then the standard solutions of the associated Legendre equation were found to be\n",
    "\n",
    ">$\\displaystyle \\Phi(x) = P_l^{|m|}(x) = (1 -x^2)^{|m|/2} \\left(\\frac{d}{dx}\\right)^{|m|} P_l(x) = (1 -x^2)^{|m|/2} \\frac{1}{2^l l!} \\left(\\frac{d}{dx}\\right)^{|m|+l} (x^2 -1)^l$\n",
    "\n",
    "and $P_l^{|m|}(x)$ are orthogonal with the weight function $1$\n",
    "\n",
    ">$\\displaystyle \\int_{-1}^1 P_l^{|m|}(x)\\, P_{l'}^{|m|}(x)\\,dx = \\frac{2}{2l +1} \\frac{(l +|m|)!}{(l -|m|)!} \\,\\delta_{ll'}$"
   ]
  },
  {
   "cell_type": "markdown",
   "metadata": {
    "slideshow": {
     "slide_type": "slide"
    }
   },
   "source": [
    "Notice that $l$ must be a nonnegative integer. $\\,$For any given $l$, $\\,$then, $\\,$there are $(2l +1)$ possible values of $m$:\n",
    "\n",
    ">$l=0,1,2,\\cdots; \\;\\;m =-l, -1 +1, \\cdots, -1, 0, 1, \\cdots, l -1, l$\n",
    "\n",
    "For historical reasons, $\\,l$ is called the azimuthal quantum number, $\\,$and $\\,m$ the magnetic quantum number\n",
    "\n",
    "The normalized angular wave functions are called spherical harmonics:\n",
    "\n",
    ">$\\displaystyle Y_l^{m}(\\phi,\\theta)=\\epsilon \\sqrt{\\frac{(21 +1)}{4\\pi} \\frac{(l -|m|)!}{(l +|m|)!}} P_l^{|m|}(\\cos\\phi) e^{im\\theta} $\n",
    "\n",
    "where $\\epsilon=(-1)^m$ for $m \\geq 0\\,$ and $\\,\\epsilon=1$ for $m < 0$"
   ]
  },
  {
   "cell_type": "markdown",
   "metadata": {
    "slideshow": {
     "slide_type": "slide"
    }
   },
   "source": [
    "Notice that the angular part of the wave function, $\\,Y(\\phi,\\theta)$, $\\,$is the same for all spherically symmetric potentials; $\\,$the actual shape of the potential, $\\,V(r)$, $\\,$affects only the radial part of the wave function, $\\,R(r)$,$\\,$ which is determined by\n",
    "\n",
    ">$\\displaystyle \\frac{1}{r^2}\\left( r^2 R_r \\right)_r +\\frac{2\\mu}{\\hbar^2} \\left( \\frac{e^2}{r} +E \\right)R -\\frac{l(l +1)}{r^2}R=0$\n",
    "\n",
    "This equation simplifies if we change variables:\n",
    "\n",
    ">$\\begin{align*}\n",
    " \\text{Let } u(r) &= rR(r) \\\\ \n",
    " &\\Downarrow \\;{\\scriptsize\\text{so that}} \\\\ \n",
    " R &= \\frac{u}{r} \\\\ \n",
    " \\frac{dR}{dr} &= \\frac{1}{r^2} \\left( r\\frac{du}{dr} -u \\right) \\\\ \n",
    " \\frac{d}{dr} \\left[ r^2 \\frac{dR}{dr} \\right] &= r\\frac{d^2 u}{dr^2} \\\\\n",
    " &\\Downarrow \n",
    " {\\scriptsize \\kappa = \\frac{\\sqrt{-2\\mu E}}{\\hbar}\\;\\;\\text{ and } \\;\\rho_0 = \\frac{2\\mu e^2}{\\hbar^2 \\kappa}} \\\\\n",
    " \\frac{d^2u}{dr^2} =\\left[-\\frac{\\rho_0 \\kappa}{ r} +\\kappa^2 +\\frac{l(l +1)}{r^2} \\right] u \\;\\;&\\overset{\\rho=\\kappa r}{\\rightarrow}\\;\\;\\frac{d^2u}{d\\rho^2} =\\left[1 -\\frac{\\rho_0}{\\rho}\\right. +\\left.\\frac{l(l +1)}{\\rho^2} \\right] u\n",
    "\\end{align*}$"
   ]
  },
  {
   "cell_type": "markdown",
   "metadata": {
    "slideshow": {
     "slide_type": "slide"
    }
   },
   "source": [
    "The next step is to peel off the asymptotic behavior, $\\,$introducing the new function $v(\\rho)$\n",
    "\n",
    ">$u(\\rho)=\\rho^{l +1} e^{-\\rho} v(\\rho)$\n",
    "\n",
    "in the hope that $v(\\rho)$ will turn out to be simpler than $u(\\rho)$. In terms of $v(\\rho)$, $\\,$then, $\\,$the radial equation reads\n",
    "\n",
    ">$\\displaystyle \\rho \\frac{d^2v}{d\\rho^2} +2(l +1 -\\rho) \\frac{dv}{d\\rho} +\\left[ \\rho_0 -2(l +1) \\right]v=0$\n",
    "\n",
    "Finally, $\\,$we assume the solution can be expressed as a power series in $\\rho$:\n",
    "\n",
    ">$\\displaystyle v(\\rho) = \\sum_{k = 0}^\\infty c_k \\rho^k$\n",
    "\n",
    "Inserting the power series into the equation and equating the coefficients of like powers yields\n",
    "\n",
    ">$\\displaystyle c_{k +1} = \\frac{2(k +l +1) -\\rho_0}{(k +1)(k +2l +2)} c_k$"
   ]
  },
  {
   "cell_type": "markdown",
   "metadata": {
    "slideshow": {
     "slide_type": "slide"
    }
   },
   "source": [
    "Now let's see what the coefficients look like for large $k$. In this regime the recursion formula says\n",
    "\n",
    ">$\\displaystyle c_{k +1} \\approx \\frac{2}{k +1} c_k$\n",
    "\n",
    "Suppose for a moment that this were exact. Then\n",
    "\n",
    ">$\\displaystyle c_k = \\frac{2^k}{k!} c_0$\n",
    "\n",
    "so\n",
    "\n",
    ">$\\displaystyle v(\\rho) = c_0 \\sum_{k=0}^\\infty \\frac{2^k}{k!} \\rho^k = c_0 e^{2\\rho}$\n",
    "\n",
    "and hence\n",
    "\n",
    ">$\\displaystyle u(\\rho)=c_0\\rho^{l +1} e^\\rho$\n",
    "\n",
    "which blows up at large $\\rho$. The positive exponential is precisely the asymptotic behavior we didn't want."
   ]
  },
  {
   "cell_type": "markdown",
   "metadata": {
    "slideshow": {
     "slide_type": "slide"
    }
   },
   "source": [
    "There is only one way out of this dilemma: *The series must terminate*. There must occur some maximal integer, $\\,j_{max}$, $\\,$such that\n",
    "\n",
    ">$\\displaystyle c_{j_{max} +1} = 0$\n",
    "\n",
    "and beyound which all coefficient vanish automatically. $\\,$Evidently\n",
    "\n",
    ">$\\displaystyle 2(j_{max} +l +1) -\\rho_0 = 0$\n",
    "\n",
    "Defining the so-called principle quantum number\n",
    "\n",
    ">$n = j_{max} +l +1$,\n",
    "\n",
    "we have \n",
    "\n",
    ">$\\rho_0 = 2n$"
   ]
  },
  {
   "cell_type": "markdown",
   "metadata": {
    "slideshow": {
     "slide_type": "slide"
    }
   },
   "source": [
    "But $\\rho_0$ determine $E$\n",
    "\n",
    ">$\\displaystyle E = -\\frac{\\hbar^2 \\kappa^2}{2 \\mu} = -\\frac{2\\mu e^4}{\\hbar^2 \\rho_0^2}$\n",
    "\n",
    "so the allowed energies are\n",
    "\n",
    ">$\\displaystyle E_n = - \\left[ \\frac{\\mu e^4}{2\\hbar^2} \\right] \\frac{1}{n^2}, \\;\\;\\;n=1,2,3,\\cdots$\n",
    "\n",
    "This is the famous **Bohr formula**. The ground state (that is, $\\,$the state of lowest energy) is the case $n=1$; $\\,$putting in the accepted values for the physical constants, $\\,$we get\n",
    "\n",
    ">$\\displaystyle E_1 = - \\left[ \\frac{\\mu e^4}{2\\hbar^2} \\right] =-13.6\\,eV$"
   ]
  },
  {
   "cell_type": "markdown",
   "metadata": {
    "slideshow": {
     "slide_type": "slide"
    }
   },
   "source": [
    "and we find that \n",
    "\n",
    ">$\\displaystyle \\kappa = \\frac{\\mu e^2}{\\hbar^2} \\frac{1}{n} = \\frac{1}{a n},\\;\\;\\rho = \\frac{r}{an}$\n",
    "\n",
    "where\n",
    "\n",
    ">$\\displaystyle a = \\frac{\\hbar^2}{\\mu e^2} = 0.529 \\times 10^{-10} m$\n",
    "\n",
    "is the so-called **Bohr radius**."
   ]
  },
  {
   "cell_type": "markdown",
   "metadata": {
    "slideshow": {
     "slide_type": "slide"
    }
   },
   "source": [
    " Anyway the radial equation gives\n",
    "\n",
    ">$\\displaystyle R_{nl}(r) = \\frac{1}{r} \\rho^{l +1} e^{-\\rho} v(\\rho)$\n",
    "\n",
    "in which $v(\\rho)$ is a polynomial of degree $j_{max} = n -l -1$ in $\\rho$, $\\,$whose coefficients are determined by the recursion formula\n",
    "\n",
    ">$\\displaystyle c_{k +1} = \\frac{2(k +l +1 -n)}{(k +1)(k +2l +2)} c_k$\n",
    "\n",
    "For arbitrary $n$, $\\,$the possible values of $l$ are\n",
    "\n",
    ">$l=0,1,2,\\cdots,n-1$\n",
    "\n",
    "and for each $l$, $\\,$there are $(2l +1)$ possible values of $m$, $\\,$so the total degeneracy of the energy level $E_n$ is\n",
    "\n",
    ">$\\displaystyle d(n)=\\sum_{l=0}^{n-1}(2l +1)=n^2$"
   ]
  },
  {
   "cell_type": "markdown",
   "metadata": {
    "slideshow": {
     "slide_type": "slide"
    }
   },
   "source": [
    "The polynomial $v(\\rho)$ is a function well known to applied mathematicians;  $\\,$it can be written as\n",
    "\n",
    ">$\\displaystyle v(\\rho) = L_{n -l -1}^{2l +1}(2\\rho)$\n",
    "\n",
    "where\n",
    "\n",
    ">$\\displaystyle L_{q-p}^p(x)=(-1)^p \\left( \\frac{d}{dx} \\right)^p L_q(x)$\n",
    "\n",
    "is an associated Laguerre polynomial, and\n",
    "\n",
    ">$\\displaystyle L_q(x) =e^x \\left( \\frac{d}{dx} \\right)^q (e^{-x} x^q)$\n",
    "\n",
    "is the $q$-th Laguerre polynomial"
   ]
  },
  {
   "cell_type": "markdown",
   "metadata": {
    "slideshow": {
     "slide_type": "slide"
    }
   },
   "source": [
    "The normalized hydrogen wave functions are\n",
    "\n",
    ">$\\displaystyle \\psi_{nlm} = \\sqrt{\\left( \\frac{2}{na}\\right)^3 \\frac{(n -l -1)!}{2n(n +l)!}} e^{-r/na}\n",
    "\\left( \\frac{2r}{na} \\right)^l \\, L_{n -l -1}^{2l +1} \\left( \\frac{2r}{na} \\right)\\,Y_l^m(\\phi,\\theta)=R_{nl}(r)\\,Y_l^m(\\phi,\\theta)$"
   ]
  }
 ],
 "metadata": {
  "celltoolbar": "Slideshow",
  "kernelspec": {
   "display_name": "Python 3 (ipykernel)",
   "language": "python",
   "name": "python3"
  },
  "language_info": {
   "codemirror_mode": {
    "name": "ipython",
    "version": 3
   },
   "file_extension": ".py",
   "mimetype": "text/x-python",
   "name": "python",
   "nbconvert_exporter": "python",
   "pygments_lexer": "ipython3",
   "version": "3.8.12"
  }
 },
 "nbformat": 4,
 "nbformat_minor": 4
}
