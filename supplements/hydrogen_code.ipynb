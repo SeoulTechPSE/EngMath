{
 "cells": [
  {
   "cell_type": "code",
   "execution_count": 1,
   "metadata": {
    "slideshow": {
     "slide_type": "skip"
    }
   },
   "outputs": [],
   "source": [
    "# Installation ipyvolume\n",
    "# !conda install -c conda-forge ipyvolume"
   ]
  },
  {
   "cell_type": "code",
   "execution_count": 2,
   "metadata": {
    "slideshow": {
     "slide_type": "skip"
    }
   },
   "outputs": [
    {
     "ename": "ModuleNotFoundError",
     "evalue": "No module named 'ipyvolume'",
     "output_type": "error",
     "traceback": [
      "\u001b[0;31m---------------------------------------------------------------------------\u001b[0m",
      "\u001b[0;31mModuleNotFoundError\u001b[0m                       Traceback (most recent call last)",
      "Cell \u001b[0;32mIn[2], line 16\u001b[0m\n\u001b[1;32m     14\u001b[0m \u001b[38;5;66;03m# Load interactive widgets\u001b[39;00m\n\u001b[1;32m     15\u001b[0m \u001b[38;5;28;01mimport\u001b[39;00m \u001b[38;5;21;01mipywidgets\u001b[39;00m \u001b[38;5;28;01mas\u001b[39;00m \u001b[38;5;21;01mwidgets\u001b[39;00m\n\u001b[0;32m---> 16\u001b[0m \u001b[38;5;28;01mimport\u001b[39;00m \u001b[38;5;21;01mipyvolume\u001b[39;00m \u001b[38;5;28;01mas\u001b[39;00m \u001b[38;5;21;01mipv\u001b[39;00m\n",
      "\u001b[0;31mModuleNotFoundError\u001b[0m: No module named 'ipyvolume'"
     ]
    }
   ],
   "source": [
    "%matplotlib inline\n",
    "import matplotlib.pyplot as plt\n",
    "\n",
    "from matplotlib import cm, colors\n",
    "from mpl_toolkits.mplot3d import Axes3D\n",
    "\n",
    "import numpy as np\n",
    "import scipy.integrate as integrate\n",
    "import scipy.special as spe\n",
    "\n",
    "# Increase resolution for retina display\n",
    "%config InlineBackend.figure_format = 'retina'\n",
    "\n",
    "# Load interactive widgets\n",
    "import ipywidgets as widgets\n",
    "import ipyvolume as ipv"
   ]
  },
  {
   "cell_type": "markdown",
   "metadata": {
    "slideshow": {
     "slide_type": "slide"
    }
   },
   "source": [
    "## Plotting the radial part of wavefunction \n",
    "\n",
    "<br>\n",
    "\n",
    ">$\\displaystyle R_{nl}(r) = \\sqrt{\\left( \\frac{2}{na}\\right)^3 \\frac{(n -l -1)!}{2n(n +l)!}} e^{-r/na}\n",
    "\\left( \\frac{2r}{na} \\right)^l \\, L_{n -l -1}^{2l +1} \\left( \\frac{2r}{na} \\right)$\n",
    "\n",
    "<br>\n",
    "In what follows we will adopt atomic units\n",
    "\n",
    "> $a=1, \\hbar=1, \\; \\mu=1, \\;e=1$"
   ]
  },
  {
   "cell_type": "code",
   "execution_count": null,
   "metadata": {
    "slideshow": {
     "slide_type": "slide"
    }
   },
   "outputs": [],
   "source": [
    "def psi_R(r, n=1, l=0):\n",
    "\n",
    "    coeff = np.sqrt((2.0/n)**3 *spe.factorial(n-l-1) /(2.0*n*spe.factorial(n+l)))   \n",
    "    laguerre = spe.assoc_laguerre(2.0*r/n, n-l-1, 2*l+1)\n",
    "    \n",
    "    return coeff * np.exp(-r/n) * (2.0*r/n)**l * laguerre"
   ]
  },
  {
   "cell_type": "code",
   "execution_count": null,
   "metadata": {
    "slideshow": {
     "slide_type": "slide"
    }
   },
   "outputs": [],
   "source": [
    "r = np.linspace(0, 100, 1000)\n",
    "R = psi_R(r, n=3, l=1)\n",
    "\n",
    "plt.plot(r, R**2, lw=3)\n",
    "\n",
    "plt.grid()\n",
    "plt.title('$n=3, \\;l=1$')\n",
    "plt.xlabel('$r, [a]$', fontsize=16)\n",
    "plt.ylabel('$R_{nl}^2(r)$', fontsize=16)\n",
    "\n",
    "plt.show()"
   ]
  },
  {
   "cell_type": "code",
   "execution_count": null,
   "metadata": {
    "slideshow": {
     "slide_type": "slide"
    }
   },
   "outputs": [],
   "source": [
    "nmax = 10\n",
    "\n",
    "@widgets.interact(n = np.arange(1, nmax, 1), l = np.arange(0, nmax -1, 1))\n",
    "\n",
    "def plot_radial(n=1, l=0):\n",
    "    \n",
    "    r = np.linspace(0, 250, 10000)   \n",
    "    psi2 = psi_R(r, n, l)**2 *r**2  # Probability as a function of radial distance goes like r^2 R(r)\n",
    "    \n",
    "    plt.plot(r, psi2, lw=2, color='red')  \n",
    "    \n",
    "    plt.xlabel('$r, [a]$')\n",
    "    plt.ylabel('Electron probabilty, $r^2 R_{nl}^2(r)$')\n",
    "    \n",
    "    rmax = n**2 *(1 +0.5 *(1 -l *(l +1) /n**2))   \n",
    "    plt.xlim([0, 2.2*rmax])\n"
   ]
  },
  {
   "cell_type": "markdown",
   "metadata": {
    "slideshow": {
     "slide_type": "slide"
    }
   },
   "source": [
    "## Plotting the angular part of wavefunction: Spherical Harmonics \n",
    "\n",
    "<br>\n",
    "\n",
    ">$\\displaystyle Y_l^{m}(\\phi,\\theta)=\\epsilon \\sqrt{\\frac{(21 +1)}{4\\pi} \\frac{(l -|m|)!}{(l +|m|)!}} P_l^{|m|}(\\cos\\phi) e^{im\\theta} $"
   ]
  },
  {
   "cell_type": "code",
   "execution_count": null,
   "metadata": {
    "slideshow": {
     "slide_type": "slide"
    }
   },
   "outputs": [],
   "source": [
    "def psi_ang(phi, theta, l=0, m=0):\n",
    "    \n",
    "    # We use real part of the spherical harmonics which is physically identical to imaginary counterparts\n",
    "    sphHarm = spe.sph_harm(m, l, theta, phi)\n",
    "    \n",
    "    return sphHarm.real\n"
   ]
  },
  {
   "cell_type": "code",
   "execution_count": null,
   "metadata": {
    "slideshow": {
     "slide_type": "slide"
    }
   },
   "outputs": [],
   "source": [
    "phi, theta = np.linspace(0, np.pi, 100), np.linspace(0, 2*np.pi, 100)\n",
    "phi, theta = np.meshgrid(phi, theta)\n",
    "\n",
    "Ylm = psi_ang(phi, theta, l=2, m=0)\n"
   ]
  },
  {
   "cell_type": "code",
   "execution_count": null,
   "metadata": {
    "slideshow": {
     "slide_type": "slide"
    }
   },
   "outputs": [],
   "source": [
    "x = np.sin(phi) * np.cos(theta) * abs(Ylm)\n",
    "y = np.sin(phi) * np.sin(theta) * abs(Ylm)\n",
    "z = np.cos(phi) * abs(Ylm)\n"
   ]
  },
  {
   "cell_type": "code",
   "execution_count": null,
   "metadata": {
    "slideshow": {
     "slide_type": "slide"
    }
   },
   "outputs": [],
   "source": [
    "# Set up the 3D Canvas\n",
    "\n",
    "fig = plt.figure(figsize=(10, 10))\n",
    "ax = fig.add_subplot(111, projection='3d')\n",
    "\n",
    "# Normalize color bar to [0,1] scale\n",
    "\n",
    "fcolors = (Ylm - Ylm.min()) /(Ylm.max() - Ylm.min())\n",
    "\n",
    "# Make 3D plot of real part of spherical harmonic\n",
    "\n",
    "ax.plot_surface(x, y, z, facecolors=cm.seismic(fcolors), alpha=0.3)\n",
    "\n",
    "\n",
    "# Project 3D plot onto 2D planes\n",
    "\n",
    "cset = ax.contour(x, y, z, 20, zdir='z', offset = -1, cmap='summer')\n",
    "cset = ax.contour(x, y, z, 20, zdir='y', offset =  1, cmap='winter' )\n",
    "cset = ax.contour(x, y, z, 20, zdir='x', offset = -1, cmap='autumn')\n",
    "\n",
    "\n",
    "# Set axes limit to keep aspect ratio 1:1:1 \n",
    "\n",
    "ax.set_xlim(-1, 1)\n",
    "ax.set_ylim(-1, 1)\n",
    "ax.set_zlim(-1, 1)\n",
    "\n",
    "plt.show()"
   ]
  },
  {
   "cell_type": "markdown",
   "metadata": {
    "slideshow": {
     "slide_type": "slide"
    }
   },
   "source": [
    "## Plotting the full atomic orbitals"
   ]
  },
  {
   "cell_type": "code",
   "execution_count": null,
   "metadata": {
    "slideshow": {
     "slide_type": "slide"
    }
   },
   "outputs": [],
   "source": [
    "def HFunc(r, theta, phi, n, l, m):\n",
    "    '''\n",
    "    Hydrogen wavefunction: a = 1\n",
    "\n",
    "    INPUT\n",
    "        r: Radial coordinate\n",
    "        phi: Polar coordinate\n",
    "        theta: Azimuthal coordinate\n",
    "        n: Principle quantum number\n",
    "        l: Angular momentum quantum number\n",
    "        m: Magnetic quantum number\n",
    "\n",
    "    OUTPUT\n",
    "        Value of wavefunction\n",
    "    '''\n",
    "\n",
    "\n",
    "    return psi_R(r,n,l) * psi_ang(phi,theta,l,m)\n"
   ]
  },
  {
   "cell_type": "code",
   "execution_count": null,
   "metadata": {
    "slideshow": {
     "slide_type": "slide"
    }
   },
   "outputs": [],
   "source": [
    "nmax = 10\n",
    "lmax = nmax-1\n",
    "\n",
    "@widgets.interact(n=np.arange(1,nmax,1), l = np.arange(0,nmax-1,1), m=np.arange(-lmax,lmax+1,1))\n",
    "\n",
    "def psi_xz_plot(n=1,l=0,m=0):\n",
    "\n",
    "    plt.figure(figsize=(10,8))\n",
    "    \n",
    "    \n",
    "    limit = 4*(n+l) \n",
    "    \n",
    "    x_1d = np.linspace(-limit,limit,500)\n",
    "    z_1d = np.linspace(-limit,limit,500)\n",
    "    \n",
    "    x,z = np.meshgrid(x_1d,z_1d)\n",
    "    y   = 0\n",
    "    \n",
    "    r     = np.sqrt(x**2 + y**2 + z**2)\n",
    "    theta = np.arctan2(np.sqrt(x**2+y**2), z )\n",
    "    phi   = np.arctan2(y, x)\n",
    "\n",
    "    \n",
    "    psi_nlm = HFunc(r,theta,phi,n,l,m)\n",
    "    \n",
    "    #plt.pcolormesh(x, z, psi_nlm, cmap='inferno')  # Try cmap = inferno, rainbow, autumn, summer, \n",
    "    \n",
    "    plt.contourf(x, z,  psi_nlm, 20, cmap='seismic', alpha=0.6)  # Classic orbitals\n",
    "    \n",
    "    plt.colorbar()\n",
    "    \n",
    "    plt.title(f\"$n,l,m={n,l,m}$\",fontsize=20)\n",
    "    plt.xlabel('X',fontsize=20)\n",
    "    plt.ylabel('Z',fontsize=20)\n"
   ]
  },
  {
   "cell_type": "code",
   "execution_count": null,
   "metadata": {
    "slideshow": {
     "slide_type": "slide"
    }
   },
   "outputs": [],
   "source": [
    "#Variables to adjust\n",
    "maxi = 60\n",
    "resolution = 160\n",
    "\n",
    "base = np.linspace(-maxi, maxi, resolution)[:,np.newaxis,np.newaxis]\n",
    "x2 = np.tile(base, (1,resolution,resolution))\n",
    "y2 = np.swapaxes(x2,0,1)\n",
    "z2 = np.swapaxes(x2,0,2)\n",
    "\n",
    "total = np.concatenate((x2[np.newaxis,:],y2[np.newaxis,:],z2[np.newaxis,:]), axis=0)\n",
    "\n",
    "r2 = np.linalg.norm(total, axis=0)\n",
    "#Alternative theta calculation\n",
    "#theta3 = np.abs(np.arctan2(np.linalg.norm(total[:2], axis=0),-total[2]))\n",
    "np.seterr(all='ignore')\n",
    "phi2 = np.arctan(np.divide(total[2],np.linalg.norm(total[:2], axis=0))) + np.pi/2\n",
    "theta2 = np.arctan2(total[1],total[0])\n"
   ]
  },
  {
   "cell_type": "code",
   "execution_count": null,
   "metadata": {
    "slideshow": {
     "slide_type": "slide"
    }
   },
   "outputs": [],
   "source": [
    "ipv.figure()\n",
    "\n",
    "psi = HFunc(r2,theta2,phi2,2,1,1)\n",
    "\n",
    "ipv.volshow(r2**2 * np.sin(phi2)*psi**2)\n",
    "\n",
    "ipv.show()\n"
   ]
  },
  {
   "cell_type": "code",
   "execution_count": null,
   "metadata": {
    "slideshow": {
     "slide_type": "slide"
    }
   },
   "outputs": [],
   "source": [
    "psi.shape\n"
   ]
  }
 ],
 "metadata": {
  "celltoolbar": "Slideshow",
  "kernelspec": {
   "display_name": "Python 3 (ipykernel)",
   "language": "python",
   "name": "python3"
  },
  "language_info": {
   "codemirror_mode": {
    "name": "ipython",
    "version": 3
   },
   "file_extension": ".py",
   "mimetype": "text/x-python",
   "name": "python",
   "nbconvert_exporter": "python",
   "pygments_lexer": "ipython3",
   "version": "3.9.13"
  }
 },
 "nbformat": 4,
 "nbformat_minor": 4
}
