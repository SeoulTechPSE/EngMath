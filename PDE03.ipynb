{
 "cells": [
  {
   "cell_type": "markdown",
   "metadata": {
    "slideshow": {
     "slide_type": "skip"
    }
   },
   "source": [
    "[![Open In Colab](https://colab.research.google.com/assets/colab-badge.svg)](https://colab.research.google.com/github/SeoulTechPSE/EngMath/blob/master/PDE03.ipynb)"
   ]
  },
  {
   "cell_type": "markdown",
   "metadata": {
    "slideshow": {
     "slide_type": "slide"
    }
   },
   "source": [
    "## Lesson 31. The Laplacian (an Intuitive Description)"
   ]
  },
  {
   "cell_type": "markdown",
   "metadata": {
    "slideshow": {
     "slide_type": "fragment"
    }
   },
   "source": [
    "The <font color=red> Laplacian operator </font>\n",
    "\n",
    ">$\\displaystyle \\nabla^2 =\\frac{\\partial^2}{\\partial x^2} +\\frac{\\partial^2}{\\partial y^2} +\\frac{\\partial^2}{\\partial z^2}$\n",
    "\n",
    "is probably the most important operator in mathematical physics. The question is, what does it mean and why should the sum of three second derivatives have anything to do with the laws of nature? \n",
    "\n",
    "The answer to this lies in the fact that <font color=red>the Laplacian of a function allows us to compare the function at a point with the function at neighboring points</font>. It does what the second derivative did in one dimension and might be thought of as <font color=blue>a second derivative generalized to higher dimensions</font>"
   ]
  },
  {
   "cell_type": "markdown",
   "metadata": {
    "slideshow": {
     "slide_type": "subslide"
    }
   },
   "source": [
    "<center><img src=\"figures/pde03_figure01.jpg\" alt=\"Intutive Meaning of the Laplacia\" width=\"1000\"/></center>"
   ]
  },
  {
   "cell_type": "markdown",
   "metadata": {
    "slideshow": {
     "slide_type": "subslide"
    }
   },
   "source": [
    "* The heat equation $~u_t=\\alpha\\nabla^2 u~$ measures temperature $u$, and the equation can be interpreted to mean that <font color=blue>the change in temperature with respect to time $u_t$ is proportional to $\\nabla^2 u$</font>. That is, the temperature at a point is increasing if the temperature at that point is less than the average of the temperature on a circle around the point\n",
    "\n",
    "* The wave equation $~u_{tt}=c^2\\nabla^2 u~$ measures the displacement of a drumhead and can be interpreted to mean that <font color=blue>the acceleration (or force) of a point on the drumhead $u_{tt}$ is proportional to $\\nabla^2 u$</font>. That is, the drumhead at a point is accelerating upward if the drumhead at that point is less than the average of its neighbors"
   ]
  },
  {
   "cell_type": "markdown",
   "metadata": {
    "slideshow": {
     "slide_type": "subslide"
    }
   },
   "source": [
    "* <font color=blue>Laplace's equation $\\nabla^2 u = 0$ says that the solution $u$ is always equal to the average of its neighbors</font>. For example, $~$a steady-state, stretched rubber membrane satisfies Laplace's equation, hence, the height of the membrane at any point is equal to the average height of the membrane on a circle around the point\n",
    "\n",
    "* <font color=blue>Poisson's equation $\\nabla^2 u=f$</font>, $~$where $f$ is a function that depends only on the space variables\n",
    "\n",
    "  * $\\nabla^2 u=-\\rho~$ describes the potential of an electrostatic field where $\\rho$ represents a constant charge density\n",
    "  * $\\nabla^2 u =-g(x,y)~$ describes the steady-state temperature $u(x,y)$ due to a heat source $g(x,y)$ \n",
    "\n",
    "* <font color=blue>$\\nabla^2 u +\\lambda u =0~$ is known as the Helmholtz equation</font> which describes the fundamental shapes of a stretched membrane"
   ]
  },
  {
   "cell_type": "markdown",
   "metadata": {
    "slideshow": {
     "slide_type": "subslide"
    }
   },
   "source": [
    "### Changing Coordinates"
   ]
  },
  {
   "cell_type": "markdown",
   "metadata": {
    "slideshow": {
     "slide_type": "fragment"
    }
   },
   "source": [
    "Before we start, $~$however, $~$let's review briefly the three major coordinate systems in two or three dimensions except for Cartesian system:"
   ]
  },
  {
   "cell_type": "markdown",
   "metadata": {
    "slideshow": {
     "slide_type": "fragment"
    }
   },
   "source": [
    "* Polar Coordinates\n",
    "\n",
    "<img src=\"figures/pde03_figure02.jpg\" alt=\"Polar Coordinate\" width=\"400\"/>\n",
    "\n",
    ">$\\begin{matrix}\n",
    " x=r\\cos \\theta \\\\ \n",
    " y=r\\sin \\theta \\, \\\\ \n",
    "\\end{matrix} \\;\\; \\Rightarrow \\;\\;\n",
    "\\begin{matrix}\n",
    " r^2 = x^2 + y^2 \\;\\;\\;\\\\ \n",
    " \\tan\\theta = y/x \\;\\;\\;\\;\\;\n",
    "\\end{matrix}$"
   ]
  },
  {
   "cell_type": "markdown",
   "metadata": {
    "slideshow": {
     "slide_type": "subslide"
    }
   },
   "source": [
    "As an illustration, $~$we see how the two-dimensional Laplacian is transformed into polar coordinates:\n",
    "\n",
    ">$\\scriptsize \\begin{align*}\n",
    " \\nabla^2u &= u_{xx} +u_{yy}\\\\ \n",
    " &\\Updownarrow \\\\ \n",
    " u_x = u_r r_x +u_\\theta \\theta_x &= u_r \\cos\\theta -u_\\theta \\frac{\\sin\\theta}{r}\\\\ \n",
    " u_y = u_r r_y +u_\\theta \\theta_y &= u_r \\sin\\theta +u_\\theta \\frac{\\cos\\theta}{r}\\\\ \n",
    " &\\Downarrow \\\\\n",
    " u_{xx} = (u_x)_r r_x +(u_x)_\\theta \\theta_x =& \n",
    "  {\\tiny\\left( u_{rr} \\cos\\theta -u_{\\theta r} \\frac{\\sin\\theta}{r} +u_\\theta\\frac{\\sin\\theta}{r^2} \\right) \\cos\\theta \n",
    "  -\\left( u_{r\\theta} \\cos\\theta -u_r\\sin\\theta -u_{\\theta\\theta} \\frac{\\sin\\theta}{r} \n",
    "  -u_\\theta \\frac{\\cos\\theta}{r} \\right) \\frac{\\sin\\theta}{r} }\\\\\n",
    " u_{yy} = (u_y)_r r_y +(u_y)_\\theta \\theta_y =& \n",
    " {\\tiny  \\left( u_{rr} \\sin\\theta +u_{\\theta r} \\frac{\\cos\\theta}{r} -u_\\theta\\frac{\\cos\\theta}{r^2} \\right) \\sin\\theta \n",
    "  +\\left( u_{r\\theta} \\sin\\theta +u_r\\cos\\theta +u_{\\theta\\theta} \\frac{\\cos\\theta}{r} \n",
    "  -u_\\theta \\frac{\\sin\\theta}{r} \\right) \\frac{\\cos\\theta}{r} } \\\\\n",
    "  &\\Updownarrow \\\\\n",
    "  \\nabla^2 u = u_{rr} &+\\frac{1}{r} u_r +\\frac{1}{r^2} u_{\\theta\\theta} \n",
    "\\end{align*}$"
   ]
  },
  {
   "cell_type": "markdown",
   "metadata": {
    "cell_style": "split",
    "slideshow": {
     "slide_type": "subslide"
    }
   },
   "source": [
    "* Cylindrical Coordinates\n",
    "\n",
    "><img src=\"figures/pde03_figure03.jpg\" alt=\"Cylindrical Coordinate\" width=\"400\"/>\n",
    "\n",
    ">$\\begin{matrix}\n",
    "  x = r\\cos \\theta \\\\ \n",
    "  y = r\\sin \\theta \\, \\\\\n",
    "  z = z \\;\\;\\;\\;\\;\\;\\;\n",
    " \\end{matrix} \\;\\; \\Rightarrow \\;\\;\n",
    " \\begin{matrix}\n",
    "  r^2 = x^2 + y^2 \\;\\;\\;\\\\ \n",
    "  \\tan\\theta = y/x  \\;\\;\\;\\;\\; \\\\\n",
    "  z=z\\;\\;\\;\\;\\;\\;\\;\\;\\;\\;\\;\\;\n",
    " \\end{matrix}$"
   ]
  },
  {
   "cell_type": "markdown",
   "metadata": {
    "cell_style": "split",
    "slideshow": {
     "slide_type": "fragment"
    }
   },
   "source": [
    "Changing the Laplacian $\\nabla^2 u = u_{xx} +u_{yy} +u_{zz}$ to cylindrical coordinates, $~$we can show\n",
    "\n",
    ">$\\displaystyle \\nabla^2 u = u_{rr} +\\frac{1}{r} u_r +\\frac{1}{r^2} u_{\\theta\\theta} +u_{zz}$"
   ]
  },
  {
   "cell_type": "markdown",
   "metadata": {
    "slideshow": {
     "slide_type": "subslide"
    }
   },
   "source": [
    "* Spherical Coordinates\n",
    "\n",
    "><img src=\"figures/pde03_figure04.jpg\" alt=\"Spherical Coordinate\" width=\"400\"/>\n",
    "\n",
    ">$\\begin{matrix}\n",
    "  x = r\\sin\\phi\\cos \\theta \\\\ \n",
    "  y = r\\sin\\phi\\sin \\theta \\, \\\\\n",
    "  z = r\\cos\\phi \\;\\;\\;\\;\\;\\;\\;\n",
    " \\end{matrix} \\;\\; \\Rightarrow \\;\\;\n",
    " \\begin{matrix}\n",
    "  r^2 = x^2 + y^2 +z^2 \\;\\;\\;\\\\ \n",
    "  \\cos\\phi = z/r \\;\\;\\;\\;\\;\\;\\;\\;\\;\\;\\;\\;\\\\\n",
    "  \\tan\\theta=y/x\\;\\;\\;\\;\\;\\;\\;\\;\\;\\;\\;\\;\n",
    " \\end{matrix}$"
   ]
  },
  {
   "cell_type": "markdown",
   "metadata": {
    "slideshow": {
     "slide_type": "subslide"
    }
   },
   "source": [
    "Finally, $~$if we write the Laplacian in spherical coordinates, $~$we have\n",
    "\n",
    "$\\begin{align*}\n",
    " \\nabla^2u &= u_{xx} +u_{yy} +u_{zz}\\\\ \n",
    " &\\Updownarrow \\\\ \n",
    " u_x = u_r r_x +u_\\phi \\phi_x+u_\\theta \\theta_x &= u_r \\sin\\phi\\cos\\theta +u_\\phi \\frac{\\cos\\phi\\cos\\theta}{r}\n",
    "  -u_\\theta \\frac{\\sin\\theta}{r\\sin\\phi}\\\\ \n",
    " u_y = u_r r_y +u_\\phi \\phi_y+u_\\theta \\theta_y &= u_r \\sin\\phi\\sin\\theta +u_\\phi \\frac{\\cos\\phi\\sin\\theta}{r}\n",
    "  +u_\\theta \\frac{\\cos\\theta}{r \\sin\\phi}\\\\ \n",
    " u_z = u_r r_z +u_\\phi \\phi_z+u_\\theta \\theta_z &= u_r \\cos\\phi -u_\\phi\\frac{\\sin\\phi}{r} \\\\ \n",
    " &\\Downarrow \\\\\n",
    "    u_{xx} = (u_x)_r r_x +(u_x)_\\phi \\phi_x+(u_x)_\\theta \\theta_x &= \n",
    "  {\\tiny \\left( u_{rr} \\sin\\phi\\cos\\theta +u_{\\phi r} \\frac{\\cos\\phi\\cos\\theta}{r} -u_\\phi\\frac{\\cos\\phi\\cos\\theta}{r^2}\n",
    "    -u_{\\theta r} \\frac{\\sin\\theta}{r\\sin\\phi} +u_\\theta\\frac{\\sin\\theta}{r^2\\sin\\phi} \\right) \n",
    "    \\sin\\phi\\cos\\theta} \\\\\n",
    "  { \\tiny +\\left( u_{r\\phi}\\sin\\phi \\cos\\theta \\right. }&{\\tiny\\, \\left. +u_r\\cos\\phi\\cos\\theta +u_{\\phi\\phi} \\frac{\\cos\\phi\\cos\\theta}{r} -u_{\\phi} \\frac{\\sin\\phi\\cos\\theta}{r} \n",
    "    -u_{\\theta\\phi} \\frac{\\sin\\theta}{r\\sin\\phi} +u_\\theta \\frac{\\sin\\theta\\cot\\phi}{r\\sin\\phi}\n",
    "  \\right)\\frac{\\cos\\phi \\cos\\theta}{r}} \\\\\n",
    "   {\\tiny -\\left( u_{r\\theta}\\sin\\phi\\cos\\theta \\right. }&{\\tiny \\, \\left. -u_r \\sin\\phi\\sin\\theta +u_{\\phi\\theta} \\frac{\\cos\\phi\\cos\\theta}{r} \n",
    "   -u_\\phi \\frac{\\cos\\phi\\sin\\theta}{r} -u_{\\theta\\theta}\\frac{\\sin\\theta}{r\\sin\\phi} -u_\\theta \\frac{\\cos\\theta}{r\\sin\\phi} \\right) \n",
    "   \\frac{\\sin\\theta}{r\\sin\\phi} }\n",
    "\\end{align*}$"
   ]
  },
  {
   "cell_type": "markdown",
   "metadata": {
    "slideshow": {
     "slide_type": "subslide"
    }
   },
   "source": [
    "$\\scriptsize \\begin{align*}\n",
    "     u_{yy} = (u_y)_r r_y +(u_y)_\\phi \\phi_y+(u_y)_\\theta \\theta_y &= \n",
    "  {\\tiny \\left( u_{rr} \\sin\\phi\\sin\\theta +u_{\\phi r} \\frac{\\cos\\phi\\sin\\theta}{r}  -u_\\phi\\frac{\\cos\\phi\\sin\\theta}{r^2}\n",
    "    +u_{\\theta r} \\frac{\\cos\\theta}{r\\sin\\phi} -u_\\theta\\frac{\\cos\\theta}{r^2\\sin\\phi} \\right) \n",
    "    \\sin\\phi\\sin\\theta }\\\\\n",
    "  {\\tiny+\\left( u_{r\\phi}\\sin\\phi \\sin\\theta \\right.} &{\\tiny\\, \\left. +u_r\\cos\\phi\\sin\\theta +u_{\\phi\\phi} \\frac{\\cos\\phi\\sin\\theta}{r} -u_{\\phi} \\frac{\\sin\\phi\\sin\\theta}{r} \n",
    "    +u_{\\theta\\phi} \\frac{\\cos\\theta}{r\\sin\\phi} -u_\\theta \\frac{\\cos\\theta\\cot\\phi}{r\\sin\\phi}\n",
    "  \\right)\\frac{\\cos\\phi \\sin\\theta}{r}} \\\\\n",
    "  {\\tiny+\\left( u_{r\\theta}\\sin\\phi\\sin\\theta \\right.} &{\\tiny \\, \\left.+u_r \\sin\\phi\\cos\\theta +u_{\\phi\\theta} \\frac{\\cos\\phi\\sin\\theta}{r} \n",
    "   +u_\\phi \\frac{\\cos\\phi\\cos\\theta}{r} +u_{\\theta\\theta}\\frac{\\cos\\theta}{r\\sin\\phi} -u_\\theta \\frac{\\sin\\theta}{r\\sin\\phi} \\right) \n",
    "   \\frac{\\cos\\theta}{r\\sin\\phi} }\\\\\n",
    "    u_{zz} = (u_z)_r r_z +(u_z)_\\phi \\phi_z+(u_z)_\\theta \\theta_z \n",
    "    &={\\tiny \\left( u_{rr}\\cos\\phi -u_{\\phi r}\\frac{\\sin\\phi}{r} +u_\\phi\\frac{\\sin\\phi}{r^2} \\right) \\cos\\phi} \n",
    "    {\\tiny +\\left( -u_{r\\phi}\\cos\\phi \\right. +}{\\tiny\\, \\left. u_{r}\\sin\\phi +u_{\\phi\\phi}\\frac{\\sin\\phi}{r} +u_\\phi\\frac{\\cos\\phi}{r} \\right) \\frac{\\sin\\phi}{r}}\\\\ \n",
    "    &\\Downarrow \\\\\n",
    "    \\nabla^2 u =u_{rr} +\\frac{2}{r} u_r &+\\frac{1}{r^2}u_{\\phi\\phi} +\\frac{\\cot\\phi}{r^2} u_{\\phi} +\\frac{1}{r^2\\sin^2\\phi}u_{\\theta\\theta} \\\\\n",
    "     = \\frac{1}{r^2}\\left(  r^2 u_r \\right)_r & +\\frac{1}{r^2 \\sin\\phi} \\left( \\sin\\phi\\, u_\\phi \\right)_\\phi +\\frac{1}{r^2\\sin^2\\phi}u_{\\theta\\theta}\n",
    "\\end{align*}$"
   ]
  },
  {
   "cell_type": "markdown",
   "metadata": {
    "slideshow": {
     "slide_type": "subslide"
    }
   },
   "source": [
    "**NOTE**\n",
    "\n",
    "<font color=blue>The Laplacian in cartesian coordinates is the only one with constant coefficients</font>. $~$This is one reason why problems in other coordinate systems are harder to solve. <font color=blue>It is still possible to use the separation of variables for these equations with variable coefficients; $~$it's just that some of the resulting ordinary differential equations have variables coefficients</font>\n",
    "\n",
    "We arrive at a lot of fairly complicated equations, such as Bessel's equation, Legendre equation, and other so-called classical equations of physics. To solve these equations, $~$we must resort to inifinite-series solutions and, in particular, the method of Frobenious"
   ]
  },
  {
   "cell_type": "markdown",
   "metadata": {
    "slideshow": {
     "slide_type": "subslide"
    }
   },
   "source": [
    "**Example** $\\text{ }$ What is the wave equation $\\,u_{tt}=c^2\\nabla^2 u\\,$ in polar coordinates if you know that the solution $u$ depends only on $r$ and $t$"
   ]
  },
  {
   "cell_type": "markdown",
   "metadata": {
    "slideshow": {
     "slide_type": "fragment"
    }
   },
   "source": [
    "**Example** $~$ What is Laplace's equation in spherical coordinates if the solution $u$ depends only on $r$? $~$Can you find the solutions of this equation? These are the spherically symmetric potentials in three dimensions"
   ]
  },
  {
   "cell_type": "markdown",
   "metadata": {
    "slideshow": {
     "slide_type": "subslide"
    }
   },
   "source": [
    "## Lesson 32. $~$General Nature of Boundary-Value Problems "
   ]
  },
  {
   "cell_type": "markdown",
   "metadata": {
    "slideshow": {
     "slide_type": "fragment"
    }
   },
   "source": [
    "<font color=blue>Many important problems whose outcomes do not change with time are described by elliptic boundary-value problems</font>. There are two common situations in physical problems that give rise to PDEs that don't involve time; $~$they are:\n",
    "\n",
    "> <font color=blue>1. $\\;$Steady-state problems</font>\n",
    "\n",
    "> <font color=blue>2. $\\;$Problems where we factor out the time component in the solution</font>\n",
    "\n",
    "When studying boundary-value problems (BVPs), $~$ there are three types of BCs that are most common; $~$ we discuss these three types now"
   ]
  },
  {
   "cell_type": "markdown",
   "metadata": {
    "slideshow": {
     "slide_type": "subslide"
    }
   },
   "source": [
    "### Dirichlet Problems\n",
    "\n",
    "<font color=blue>Here, the PDE holds over a given region of space, and the solution is specified on the boundary of the region</font>. An example would be to find the steady-state temperature inside a circle with the temperature given on the boundary\n",
    "\n",
    ">$\\displaystyle u_{rr} +\\frac{1}{r}u_r + \\frac{1}{r^2} u_{\\theta\\theta}=0, $\n",
    "$\\;\\;\\displaystyle u(1,\\theta) = \\sin\\theta, \\;\\;\\;0 < r < 1,\\;\\;\\; 0 \\leq \\theta < 2\\pi$\n",
    "\n",
    "<center><img src=\"figures/pde03_figure05.jpg\" alt=\"Interior Dirichlet Problem\" width=\"500\"/></center>"
   ]
  },
  {
   "cell_type": "markdown",
   "metadata": {
    "slideshow": {
     "slide_type": "subslide"
    }
   },
   "source": [
    "Another example would be an exterior Dirichlet problem in which we are looking for the solution of Laplace's equation outside the unit circle, and the solution is given on the circle\n",
    "\n",
    "$~$\n",
    "\n",
    "<center><img src=\"figures/pde03_figure06.jpg\" alt=\"Exterior Dirichlet Problem\" width=\"500\"/></center>"
   ]
  },
  {
   "cell_type": "markdown",
   "metadata": {
    "slideshow": {
     "slide_type": "subslide"
    }
   },
   "source": [
    "### Neumann Problems\n",
    "\n",
    "Here, $~$<font color=blue>the PDE holds in some region of space, $~$but now the outward normal derivative $\\frac{\\partial u}{\\partial n}$ (which is proportional to the inward flux) is specified on the boundary</font>. $~$For example, $~$suppose the inward flow of heat varies around the circle according to\n",
    "\n",
    ">$\\displaystyle \\frac{\\partial u}{\\partial r}=\\sin\\theta$\n",
    "\n",
    "The steady-state temperature inside the circle would then be given by the solution of the BVP\n",
    "\n",
    ">$\\displaystyle \\nabla^2 u = 0, \\;\\;\\;\\; 0 < r < 1$\n",
    "\n",
    ">$\\displaystyle \\frac{\\partial u}{\\partial r} =\\sin\\theta, \\;\\;\\;\\; r=1, \\;\\; 0 \\leq \\theta < 2\\pi$"
   ]
  },
  {
   "cell_type": "markdown",
   "metadata": {
    "slideshow": {
     "slide_type": "subslide"
    }
   },
   "source": [
    "Here, $~$we can see that the flux of heat across the boundary is inward for $0 \\leq \\theta \\leq \\pi$ and outward for $\\pi \\leq \\theta < 2\\pi$\n",
    "\n",
    "$~$\n",
    "\n",
    "<center><img src=\"figures/pde03_figure07.jpg\" alt=\"flow of heat for the Neumann problem\" width=\"500\"/></center>\n"
   ]
  },
  {
   "cell_type": "markdown",
   "metadata": {
    "slideshow": {
     "slide_type": "subslide"
    }
   },
   "source": [
    "However, $~$since the total flux\n",
    "\n",
    ">$\\displaystyle \\int_0^{2\\pi} \\frac{\\partial u}{\\partial r}\\, d\\theta\\;=\\int_0^{2\\pi} \\sin\\theta \\,d\\theta = 0$\n",
    "\n",
    "(a condition that must be true for Neumann problems), $~$we can say that the temperature at each point inside circle does not change with respect to time. $~$In other words, $~$<font color=blue>Neumann problems make sense only if the net gain in heat across the boundary is zero</font>\n",
    "\n",
    "The Neumann problem is somewhat different from other boundary conditions, in that solutions are not unique. In other words, the above Neumann problem has an infinite number of solutions $u(r,\\theta)$. <font color=blue>Once we have one solution, we can get the others just by adding a constant.</font> For example, one solution to our Neumann problem is\n",
    "\n",
    ">$\\displaystyle u(r,\\theta)=r\\sin\\theta$\n",
    "\n",
    "and it is obvious that if we add a constant to this solution, another one is obtained. For this reason, <font color=blue>if we want to find one solution to the Neumann problem, $~$we must have some additional information (like knowing the solution at one point)</font>"
   ]
  },
  {
   "cell_type": "markdown",
   "metadata": {
    "slideshow": {
     "slide_type": "subslide"
    }
   },
   "source": [
    "### Robin Problems\n",
    "\n",
    "These problems correspond to the PDEs being given in some region of space, $~$<font color=blue>but now the condition on the boundary is a mixture of the first two kinds</font>\n",
    "\n",
    ">$\\displaystyle \\frac{\\partial u}{\\partial n} = -h(u -g)$\n",
    "\n",
    "where $h$ is a constant and $g$ is a given function that can vary over the boundary. $~$This BC says the inward flux across the boundary is proportional to the difference between the temperature $u$ and some specified temperature $g$ "
   ]
  },
  {
   "cell_type": "markdown",
   "metadata": {
    "slideshow": {
     "slide_type": "fragment"
    }
   },
   "source": [
    "This, of course, is just Newton's law of cooling.\n",
    "The constant $h$ is a physical parameter that measures the amount of flux across the boundary per difference between $u$ and $g$. $~$If $h$ is large, and so the solution looks very much like the solution of the Dirichlet problem $u=g$. $~$On the order hand, $~$if $h=0$, then the BC is reduced to the insulated BC\n",
    "\n",
    ">$\\displaystyle \\frac{\\partial u}{\\partial r}=0$"
   ]
  },
  {
   "cell_type": "markdown",
   "metadata": {
    "slideshow": {
     "slide_type": "subslide"
    }
   },
   "source": [
    "**Example** $\\text{ }$ Does the following Neumann have a solution inside the circle?\n",
    "\n",
    ">$\\displaystyle \\nabla^2 u = 0, \\;\\;\\;\\; 0 < r < 1$\n",
    "\n",
    ">$\\displaystyle \\frac{\\partial u}{\\partial r} =\\sin^2\\theta, \\;\\;\\;\\; r=1, \\;\\; 0 \\leq \\theta < 2\\pi$"
   ]
  },
  {
   "cell_type": "markdown",
   "metadata": {
    "slideshow": {
     "slide_type": "subslide"
    }
   },
   "source": [
    "**Example** $\\text{ }$ For different values of $h$, $~$imagine the solution $u(r,\\theta)$ to\n",
    "\n",
    ">$\\displaystyle \\nabla^2 u = 0, \\;\\;\\;\\; 0 < r < 1$\n",
    "\n",
    ">$\\displaystyle \\frac{\\partial u}{\\partial r} +h(u -\\sin\\theta)=0, \\;\\;\\;\\; r=1, \\;\\; 0 \\leq \\theta < 2\\pi$"
   ]
  },
  {
   "cell_type": "markdown",
   "metadata": {
    "slideshow": {
     "slide_type": "subslide"
    }
   },
   "source": [
    "## Lesson 33. Interior Dirichlet Problem for a Circle"
   ]
  },
  {
   "cell_type": "markdown",
   "metadata": {
    "slideshow": {
     "slide_type": "fragment"
    }
   },
   "source": [
    "This lesson presents a number of new ideas to solve the interior Dirichlet problem for the circle\n",
    "\n",
    ">$\\displaystyle u_{rr} +\\frac{1}{r}u_r + \\frac{1}{r^2} u_{\\theta\\theta}=0, \\;\\;\\;0 < r < 1$\n",
    "\n",
    ">$\\displaystyle u(1,\\theta) = g(\\theta), \\;\\;\\; 0 \\leq \\theta < 2\\pi$\n",
    "\n",
    "The method of separation of variables will be the usual procedure\n",
    "\n",
    ">$\\scriptsize\\begin{align*}\n",
    " u_{rr} +\\frac{1}{r}u_r &+\\frac{1}{r^2}u_{\\theta\\theta}= 0 \\\\ \n",
    "  u(1,\\theta) &= g(\\theta) \\\\ \n",
    " &\\Downarrow u(r,\\theta)=R(r)\\Theta(\\theta)\\\\ \n",
    "\\end{align*}$"
   ]
  },
  {
   "cell_type": "markdown",
   "metadata": {
    "slideshow": {
     "slide_type": "subslide"
    }
   },
   "source": [
    ">$\\scriptsize\\begin{align*}\n",
    " -\\frac{r^2R'' +rR'}{R} &= \\frac{\\;\\Theta''}{\\Theta} =-\\lambda  \\leq 0 \\\\ \n",
    " &\\Downarrow \\\\\n",
    "  \\Theta'' +\\lambda \\Theta =0 \\;\\; \\xrightarrow[]{\\;\\;\\Theta(0)=\\Theta(2\\pi),\\;\\Theta'(0)=\\Theta'(2\\pi)\\;\\;} \n",
    "    &\\;\\;\\Theta_n(\\theta)=a_n \\cos n\\theta +b_n \\sin n\\theta, \\;\\; \\lambda_n =n^2, \\;\\; n=0,1,2,\\cdots \\\\\n",
    " &\\Downarrow \\\\\n",
    "  r^2R_0'' +rR_0'=0\\; &\\xrightarrow[]{\\;\\;R_0(0) \\,<\\,\\infty \\;\\;} \\;\\; R_0(r)=1 \\\\ \n",
    "  r^2R_n''+rR_n' -n^2 R_n=0,\\;\\;n =1,2,\\cdots\\; &\\xrightarrow[]{\\;\\;R_n(0) \\,<\\,\\infty \\;\\;} \\;\\;R_n(r)= r^n \\\\ \n",
    " &\\Downarrow \\\\\n",
    " u(r,\\theta) =\\frac{a_0}{2} +\\sum_{n=1}^\\infty & r^n \\left( a_n \\cos n\\theta +b_n \\sin n\\theta \\right) \\\\\n",
    " a_n = \\frac{1}{\\pi} \\int_0^{2\\pi} &g(\\theta) \\cos n\\theta \\,d\\theta \\\\\n",
    " b_n = \\frac{1}{\\pi} \\int_0^{2\\pi} &g(\\theta) \\sin n\\theta \\,d\\theta\n",
    "\\end{align*}$"
   ]
  },
  {
   "cell_type": "markdown",
   "metadata": {
    "slideshow": {
     "slide_type": "subslide"
    }
   },
   "source": [
    "$\\textbf{1.}~$ The solution can be interpreted as expanding the boundary function $g(\\theta)$ as a Fourier series\n",
    "\n",
    "> $\\displaystyle g(\\theta)=\\frac{a_0}{2} +\\sum_{n=1}^\\infty \\left(a_n \\cos n\\theta +b_n \\sin n\\theta \\right)$\n",
    "\n",
    "   and solve the problem for $\\cos n\\theta$ and $\\sin n\\theta$ in the series. $~$Since each of these terms will give rise to solutions $r^n\\cos n\\theta$ and $r^n \\sin n\\theta$, $~$we can then say (by superposition) that\n",
    "\n",
    "> $\\displaystyle u(r,\\theta)=\\frac{a_0}{2} +\\sum_{n=1}^\\infty r^n \\left(a_n \\cos n\\theta +b_n \\sin n\\theta \\right)$"
   ]
  },
  {
   "cell_type": "markdown",
   "metadata": {
    "slideshow": {
     "slide_type": "subslide"
    }
   },
   "source": [
    "$\\textbf{2.}~$ Note that the constant term $\\displaystyle\\frac{a_0}{2}$ in the solution represents the average of $g(\\theta)$\n",
    "\n",
    ">$\\displaystyle \\frac{a_0}{2} = \\frac{1}{2\\pi} \\int_0^{2\\pi} g(\\theta)\\,d\\theta$\n",
    "\n",
    "$\\textbf{3.}~$ If  the radius of the circle was arbitrary (say $R$), $~$then the solution would be\n",
    "\n",
    ">$\\displaystyle u(r,\\theta)=\\frac{a_0}{2} +\\sum_{n=1}^\\infty \\left(\\frac{r}{R}\\right)^n \\left(a_n \\cos n\\theta +b_n \\sin n\\theta \\right)$\n",
    "\n",
    "This completes our discussion of the separation of variables solution. $~$We now go to the interesting Poisson integral formula"
   ]
  },
  {
   "cell_type": "markdown",
   "metadata": {
    "slideshow": {
     "slide_type": "subslide"
    }
   },
   "source": [
    "### Poisson Integral Formula "
   ]
  },
  {
   "cell_type": "markdown",
   "metadata": {
    "slideshow": {
     "slide_type": "fragment"
    }
   },
   "source": [
    "We start with the separation of varaiables solution\n",
    "\n",
    ">$\\displaystyle u(r,\\theta)=\\frac{a_0}{2} +\\sum_{n=1}^\\infty \\left(\\frac{r}{R}\\right)^n \\left(a_n \\cos n\\theta +b_n \\sin n\\theta \\right)$\n",
    "\n",
    "and substitute the coefficients $a_n$ and $b_n$. $~$After a few manipulations, $~$we have\n",
    "\n",
    ">$\\scriptsize\\begin{align*}\n",
    " u(r,\\theta) &= \\frac{1}{2\\pi} \\int_0^{2\\pi} g(\\alpha)\\,d\\alpha +\\frac{1}{\\pi} \n",
    "  \\sum_{n=1}^\\infty \\left(\\frac{r}{R} \\right)^n \\int_0^{2\\pi} g(\\alpha) \\left( \\cos n\\alpha\\cos n\\theta+\\sin n\\alpha \\sin n\\theta \\right)\\,d\\alpha \\\\ \n",
    " &= \\frac{1}{2\\pi} \\int_0^{2\\pi}  \\left\\{  1 +2\\sum_{n=1}^\\infty \\left(\\frac{r}{R} \\right)^n \\cos n(\\theta -\\alpha) \\right\\}\\,g(\\alpha)\\,d\\alpha \\\\ \n",
    "\\end{align*}$"
   ]
  },
  {
   "cell_type": "markdown",
   "metadata": {
    "slideshow": {
     "slide_type": "subslide"
    }
   },
   "source": [
    ">$\\scriptsize\\begin{align*}\n",
    " &= \\frac{1}{2\\pi} \\int_0^{2\\pi}  \\left\\{  1 +\\sum_{n=1}^\\infty \\left(\\frac{r}{R} \\right)^n \\left[e^{in(\\theta -\\alpha)} +e^{-in(\\theta -\\alpha)}  \\right] \\right\\}\\,g(\\alpha)\\,d\\alpha \\\\ \n",
    " &= \\frac{1}{2\\pi} \\int_0^{2\\pi}  \\left\\{  1 +\\frac{re^{i(\\theta -\\alpha)}}{R -re^{i(\\theta -\\alpha)}} \n",
    " +\\frac{re^{-i(\\theta -\\alpha)}}{R -re^{-i(\\theta -\\alpha)}} \\right\\}\\,g(\\alpha)\\,d\\alpha \\\\ \n",
    " &= \\frac{1}{2\\pi} \\int_0^{2\\pi}  \\left\\{ \\frac{R^2 -r^2}{R^2 +r^2 -2rR\\cos(\\theta -\\alpha)} \\right\\}\\,g(\\alpha)\\,d\\alpha \n",
    "\\end{align*}$\n",
    "\n",
    "This last equation is what we were looking for; $~$ it's <font color=blue>the Poisson Integral Formula</font>"
   ]
  },
  {
   "cell_type": "markdown",
   "metadata": {
    "slideshow": {
     "slide_type": "subslide"
    }
   },
   "source": [
    "$\\textbf{1.}~$ We can interpret the Poisson integral solution as finding the potential $u$ at $(r,\\theta)$ as a weighted average of the boundary potentials $g(\\theta)$ weighted by the Poisson kernel\n",
    "\n",
    ">$\\displaystyle \\text{Poisson kernel}=\\frac{R^2 -r^2}{R^2 +r^2 -2rR\\cos(\\theta -\\alpha)}$\n",
    "\n",
    "<center><img src=\"figures/pde03_figure08.jpg\" alt=\"Poisson Kernel\" width=\"550\"/></center>\n",
    "\n",
    "For boundary values $g(\\alpha)$ close to $(r,\\theta)$, $~$the Poisson kernel gets larger, $~$since the denominator of the Poisson kernel is the square of the distance from $(r,\\theta)$ to $(R,\\alpha)$"
   ]
  },
  {
   "cell_type": "markdown",
   "metadata": {
    "slideshow": {
     "slide_type": "subslide"
    }
   },
   "source": [
    "$\\textbf{2.}~$ If we evaluate the potential at the center of the circle by the Poisson integral, $~$we find\n",
    "\n",
    ">$\\displaystyle u(0,0) = \\frac{1}{2\\pi} \\int_0^{2\\pi} g(\\theta) \\,d\\theta$\n",
    "\n",
    "In other words, $~$the potential at the center of the circle is the average of the boundary potential"
   ]
  },
  {
   "cell_type": "markdown",
   "metadata": {
    "slideshow": {
     "slide_type": "slide"
    }
   },
   "source": [
    "**NOTES**\n",
    "\n",
    "**1.$~$ We can always solve the BVP (nonhomogeneous PDE)**\n",
    "\n",
    ">$\\displaystyle \n",
    "\\begin{align*}\n",
    " \\nabla^2 u &= f, \\;\\;\\;\\; \\text{Inside } D\\\\\n",
    " u &= 0, \\;\\;\\;\\;\\, \\text{On the boundary of } D\n",
    "\\end{align*}$\n",
    "\n",
    "> a. Finding any solution $v$ of $\\,\\nabla^2 v = f\\;$ (A particular solution) \n",
    "\n",
    "> b. Solving the new BVP\n",
    "\n",
    ">>$\\displaystyle \n",
    "\\begin{align*}\n",
    " \\nabla^2 w &= 0, \\;\\;\\;\\; \\text{Inside } D\\\\\n",
    " w &= v, \\;\\;\\;\\;\\, \\text{On the boundary of } D\n",
    "\\end{align*}$\n",
    "\n",
    "> c. Observing that $u = v -w$ is our desired solution\n",
    "\n",
    "In other words, $~$we can transfer the nonhomogeneity from the PDE to the BC"
   ]
  },
  {
   "cell_type": "markdown",
   "metadata": {
    "slideshow": {
     "slide_type": "subslide"
    }
   },
   "source": [
    "**2.$~$ We can solve the BVP (nonhomogeneous BC)**\n",
    "\n",
    ">$\\displaystyle \n",
    "\\begin{align*}\n",
    " \\nabla^2 u &= 0, \\;\\;\\;\\; \\text{Inside } D\\\\\n",
    " u &= f, \\;\\;\\; \\text{On the boundary of } D\n",
    "\\end{align*}$\n",
    "\n",
    "> a. Finding any function $v$ that satisfies the BC $v = f$ on the boundary of $D$\n",
    "\n",
    "> b. Solving the new BVP\n",
    "    \n",
    ">>$\\displaystyle \n",
    "\\begin{align*}\n",
    " \\nabla^2 w &= \\nabla^2 v, \\;\\;\\;\\; \\text{Inside } D\\\\\n",
    " w &= 0, \\;\\;\\;\\;\\;\\;\\;\\; \\text{On the boundary of } D\n",
    "\\end{align*}$ \n",
    "\n",
    "> c. Observing that $u = v -w$ is the solution to our problem\n",
    "    \n",
    "In orther words, $~$we can transform the nonhomogeneity from the BC to the PDE"
   ]
  },
  {
   "cell_type": "markdown",
   "metadata": {
    "slideshow": {
     "slide_type": "subslide"
    }
   },
   "source": [
    "## Lesson 34. The Dirichlet Problem in an Annulus \n",
    "\n",
    "\n",
    "The Dirichlet problem between two circles (annulus) is\n",
    "\n",
    ">$\\displaystyle u_{rr} +\\frac{1}{r}u_r + \\frac{1}{r^2} u_{\\theta\\theta}=0, \\;\\;R_1 < r < R_2$, $\\;\\;\\displaystyle \\begin{align*} u(R_1,\\theta) &= g_1(\\theta) \\\\ u(R_2,\\theta) &= g_2(\\theta) \\end{align*}, \\;\\;\\; 0 \\leq \\theta < 2\\pi$\n",
    "\n",
    "<center><img src=\"figures/pde03_figure09.jpg\" alt=\"An annulus\" width=\"550\"/></center>"
   ]
  },
  {
   "cell_type": "markdown",
   "metadata": {
    "slideshow": {
     "slide_type": "subslide"
    }
   },
   "source": [
    "We begin by looking for solutions of the form\n",
    "\n",
    ">$\\displaystyle u(r,\\theta)=R(r)\\Theta(\\theta)$\n",
    "\n",
    "Substituting this into Laplace's equation, $~$we get the two following ODEs in $R(r)$ and $\\Theta(\\theta)$:\n",
    "\n",
    ">$\\begin{align*}\n",
    " &r^2 R'' +rR' -\\lambda R = 0 \\;\\;\\;\\;(\\text{Euler's equation}) \\\\ \n",
    " &\\Theta'' +\\lambda \\Theta = 0 \n",
    "\\end{align*}$\n",
    "\n",
    "Note that in the two equations, $~$we required the separation constant $\\lambda$ to be greater than, or equal to zero, or else the solution for $\\Theta(\\theta)$ would not be periodic"
   ]
  },
  {
   "cell_type": "markdown",
   "metadata": {
    "slideshow": {
     "slide_type": "subslide"
    }
   },
   "source": [
    "Solving these two ODEs, $~$we now have\n",
    "\n",
    ">$\\begin{align*}\n",
    " \\lambda = 0 \\;\\; \n",
    " &\\begin{cases}\n",
    " \\Theta(\\theta)= \\alpha + \\beta\\theta \\\\\n",
    " R(r) = \\gamma + \\delta\\ln r \n",
    " \\end{cases} \\\\ \n",
    " \\lambda > 0 \\;\\;\n",
    " &\\begin{cases}\n",
    " \\Theta(\\theta)=  a\\cos\\sqrt{\\lambda}\\theta +b\\sin \\sqrt{\\lambda}\\theta\\\\ \n",
    " R(r) = cr^{\\sqrt{\\lambda}} +dr^{-\\sqrt{\\lambda}}   \n",
    " \\end{cases} \n",
    "\\end{align*}$\n",
    "\n",
    "and using the requirement that $\\Theta(\\theta)$ must be periodic with period $2\\pi$, $~$we have that $\\beta=0$ and $\\lambda$ must be $n^2$, $n= 0,1,2,\\cdots$. $~$Hence, we arrive at the following solutions to Laplace's equation\n",
    "\n",
    ">$\\begin{align*}\n",
    " &1 \\;\\;\\;(\\text{constants}) \\\\ \n",
    " &\\ln r \\\\ \n",
    " &r^n \\cos n\\theta \\\\ \n",
    " &r^n \\sin n\\theta \\\\ \n",
    " &r^{-n} \\cos n\\theta \\\\\n",
    " &r^{-n} \\sin n\\theta \n",
    "\\end{align*}$"
   ]
  },
  {
   "cell_type": "markdown",
   "metadata": {
    "slideshow": {
     "slide_type": "subslide"
    }
   },
   "source": [
    "Since any sum of these solutions is also a solution, $~$we arrive at our general solution\n",
    "\n",
    ">$\\displaystyle u(r,\\theta) = \\frac{a_0}{2} +\\frac{\\hat{a}_{0}}{2} \\ln r +\\sum_{n=1}^\\infty \\left[ \\left(a_n r^n +\\hat{a}_{n} r^{-n}\\right) \\cos n\\theta +\n",
    "\\left(b_n r^n +\\hat{b}_{n} r^{-n}\\right) \\sin n\\theta \\right]$\n",
    "\n",
    "The only task left is to determine the constants in the sum so that $u(r,\\theta)$ satisfies the BCs\n",
    "\n",
    ">$\\displaystyle \\begin{align*} u(R_1,\\theta) &= g_1(\\theta) \\\\ u(R_2,\\theta) &= g_2(\\theta) \\end{align*}, \\;\\;\\; 0 \\leq \\theta < 2\\pi$"
   ]
  },
  {
   "cell_type": "markdown",
   "metadata": {
    "slideshow": {
     "slide_type": "subslide"
    }
   },
   "source": [
    "Substituting the general solution into these BCs and integrating gives the following equations\n",
    "\n",
    ">$\\scriptsize\\begin{align*}\n",
    " &\\begin{cases}\n",
    "  \\displaystyle a_0 +\\hat{a}_0 \\ln R_1 =\\frac{1}{\\pi} \\int_0^{2\\pi} g_1(\\alpha)\\,d\\alpha \\\\ \n",
    "  \\displaystyle a_0 +\\hat{a}_0 \\ln R_2 =\\frac{1}{\\pi} \\int_0^{2\\pi} g_2(\\alpha)\\,d\\alpha\n",
    " \\end{cases} \\;\\;\\;\\;\\;\\;\\;\\;\\;\\;\\;\\;\\text{Solve for } a_0, \\hat{a}_0 \\\\ \n",
    " &\\begin{cases}\n",
    "  \\displaystyle a_n R_1^n +\\hat{a}_n R_1^{-n} =\\frac{1}{\\pi} \\int_0^{2\\pi} g_1(\\alpha) \\cos n\\alpha \\,d\\alpha \\\\ \n",
    "  \\displaystyle a_n R_2^n +\\hat{a}_n R_2^{-n} =\\frac{1}{\\pi} \\int_0^{2\\pi} g_2(\\alpha) \\cos n\\alpha \\,d\\alpha\n",
    "\\end{cases} \\;\\;\\;\\;\\text{Solve for } a_n, \\hat{a}_n \\\\ \n",
    " &\\begin{cases}\n",
    "  \\displaystyle b_n R_1^n +\\hat{b}_n R_1^{-n} =\\frac{1}{\\pi} \\int_0^{2\\pi} g_1(\\alpha) \\sin n\\alpha \\,d\\alpha \\\\ \n",
    "  \\displaystyle b_n R_2^n +\\hat{b}_n R_2^{-n} =\\frac{1}{\\pi} \\int_0^{2\\pi} g_2(\\alpha) \\sin n\\alpha \\,d\\alpha\n",
    "\\end{cases} \\;\\;\\;\\;\\;\\text{Solve for } b_n, \\hat{b}_n\n",
    "\\end{align*}$"
   ]
  },
  {
   "cell_type": "markdown",
   "metadata": {
    "slideshow": {
     "slide_type": "subslide"
    }
   },
   "source": [
    "**Example** $\\text{ }$ Suppose the potential on the inside circle is zero, $~$while the outside potential is $\\sin \\theta$\n",
    "\n",
    ">$\\displaystyle u_{rr} +\\frac{1}{r}u_r + \\frac{1}{r^2} u_{\\theta\\theta}=0, \\;\\;\\;1 < r < 2$\n",
    "\n",
    ">$\\displaystyle \\begin{align*} u(1,\\theta) &= 0 \\\\ u(2,\\theta) &= \\sin\\theta \\end{align*}, \\;\\;\\; 0 \\leq \\theta < 2\\pi$\n",
    "\n",
    "Solving the necessary equations for $a_0, \\hat{a}_0$, $a_n, \\hat{a}_n$, $b_n$, and $\\hat{b}_n$ yields\n",
    "\n",
    ">$\\displaystyle u(r,\\theta)=\\frac{2}{3} \\left(r -\\frac{1}{r} \\right) \\sin \\theta$"
   ]
  },
  {
   "cell_type": "markdown",
   "metadata": {
    "slideshow": {
     "slide_type": "subslide"
    }
   },
   "source": [
    "**Example** $\\text{ }$ Consider the problem with constant potentials on the boundaries\n",
    "\n",
    ">$\\displaystyle u_{rr} +\\frac{1}{r}u_r + \\frac{1}{r^2} u_{\\theta\\theta}=0, \\;\\;\\;1 < r < 2$\n",
    "\n",
    ">$\\displaystyle \\begin{align*} u(1,\\theta) &= 3 \\\\ u(2,\\theta) &= 5 \\end{align*}, \\;\\;\\; 0 \\leq \\theta < 2\\pi$"
   ]
  },
  {
   "cell_type": "markdown",
   "metadata": {
    "slideshow": {
     "slide_type": "subslide"
    }
   },
   "source": [
    "In this case, $~$since it's obvious that the solution is independent of $\\theta$, $~$we know our solution must be of the form $a_0 +\\hat{a}_0 \\ln r$. $~$Using our two equations for $a_0$ and $\\hat{a}_0$, $~$we obtain\n",
    "\n",
    ">$\\displaystyle u(r,\\theta)=3 +\\frac{2}{\\ln 2} \\ln r$\n",
    "\n",
    "The only solutions of the two dimensional Laplace equation that depend only on $r$ are constant and $\\ln r$. $~$The potential $\\ln r$ is very important and is called the logarithmic potential"
   ]
  },
  {
   "cell_type": "markdown",
   "metadata": {
    "slideshow": {
     "slide_type": "subslide"
    }
   },
   "source": [
    "**Example** $\\text{ }$ Another interesting problem is\n",
    "\n",
    ">$\\displaystyle u_{rr} +\\frac{1}{r}u_r + \\frac{1}{r^2} u_{\\theta\\theta}=0, \\;\\;\\;1 < r < 2$\n",
    "\n",
    ">$\\displaystyle \\begin{align*} u(1,\\theta) &= \\sin\\theta \\\\ u(2,\\theta) &= \\sin\\theta \\end{align*}, \\;\\;\\; 0 \\leq \\theta < 2\\pi$\n",
    "\n",
    "A quick check of the coefficients reveals that they are all zero except for $b_1$ and $\\hat{b}_1$. Solving for $b_1$ and $\\hat{b}_1$ gives the solution\n",
    "\n",
    ">$\\displaystyle u(r,\\theta)=\\left(\\frac{r}{3} +\\frac{2}{3r}\\right) \\sin\\theta$"
   ]
  },
  {
   "cell_type": "markdown",
   "metadata": {
    "slideshow": {
     "slide_type": "subslide"
    }
   },
   "source": [
    "### Exterior Dirichlet Problem\n",
    "\n",
    "\n",
    "The exterior Dirichlet problem\n",
    "\n",
    ">$\\displaystyle u_{rr} +\\frac{1}{r}u_r + \\frac{1}{r^2} u_{\\theta\\theta}=0, \\;\\;\\;R_1 < r < \\infty$\n",
    "\n",
    ">$\\displaystyle u(R_1,\\theta)=g(\\theta), \\;\\;\\; 0 \\leq \\theta < 2\\pi$\n",
    "\n",
    "is solved exactly like the interior Dirichlet problem except that now we throw out the solutions that are unbounded as $r$ goes to infinity. "
   ]
  },
  {
   "cell_type": "markdown",
   "metadata": {
    "slideshow": {
     "slide_type": "subslide"
    }
   },
   "source": [
    "Hence, $~$we left with the solution\n",
    "\n",
    ">$\\displaystyle u(r,\\theta)= \\frac{a_0}{2} +\\sum_{n=1}^{\\infty} \\left(\\frac{r}{R_1}\\right)^{-n}\\left( \\hat{a}_n \\cos n\\theta +\\hat{b}_n \\sin n \\theta \\right)$\n",
    "\n",
    "where $a_0$, $\\hat{a}_n$, and $\\hat{b}_n$ are exactly as Fourier series. $~$In other words, $~$we merely expand $u(R_1,\\theta)=g(\\theta)$ as a Fourier series\n",
    "\n",
    ">$\\displaystyle g(\\theta)=\\frac{a_0}{2} +\\sum_{n=1}^\\infty \\left( \\hat{a}_n \\cos n\\theta +\\hat{b}_n \\sin n\\theta \\right)$\n",
    "\n",
    "and then insert the factor $\\left(\\frac{r}{R_1}\\right)^{-n}$ in each term to get the solution"
   ]
  },
  {
   "cell_type": "markdown",
   "metadata": {
    "slideshow": {
     "slide_type": "subslide"
    }
   },
   "source": [
    "**Example** $\\text{ }$ The exterior problem \n",
    "\n",
    ">$\\displaystyle u_{rr} +\\frac{1}{r}u_r + \\frac{1}{r^2} u_{\\theta\\theta}=0, \\;\\;\\;1 < r < \\infty$\n",
    "\n",
    ">$\\displaystyle u(1,\\theta)=1 +\\sin\\theta +\\cos 3\\theta, \\;\\;\\; 0 \\leq \\theta < 2\\pi$\n",
    "\n",
    "has the solution\n",
    "\n",
    ">$\\displaystyle u(r,\\theta)=1 +\\frac{1}{r}\\sin\\theta +\\frac{1}{r^3}\\cos 3\\theta, \\;\\;\\; 0 \\leq \\theta < 2\\pi$"
   ]
  },
  {
   "cell_type": "markdown",
   "metadata": {
    "slideshow": {
     "slide_type": "subslide"
    }
   },
   "source": [
    "**Example** $\\text{ }$ The exterior Neumann problem\n",
    "\n",
    ">$\\displaystyle u_{rr} +\\frac{1}{r}u_r + \\frac{1}{r^2} u_{\\theta\\theta}=0, \\;\\;\\;1 < r < \\infty$\n",
    "\n",
    ">$\\displaystyle \\frac{\\partial u}{\\partial r}(1,\\theta)=g(\\theta), \\;\\;\\; 0 \\leq \\theta < 2\\pi$\n",
    "\n",
    "has a solution that is the same form as the Dirichlet problem\n",
    "\n",
    ">$\\displaystyle u(r,\\theta)= \\frac{a_0}{2} +\\sum_{n=1}^{\\infty} r^{-n}\\left( \\hat{a}_n \\cos n\\theta +\\hat{b}_n \\sin n \\theta \\right)$\n",
    "\n",
    "but now the coefficients $a_0$, $\\hat{a}_n$, and $\\hat{b}_n$ must satisfy the new BC.\n",
    "Of course, once you have this solution, any constant plus this solution is also a solution"
   ]
  },
  {
   "cell_type": "markdown",
   "metadata": {
    "slideshow": {
     "slide_type": "subslide"
    }
   },
   "source": [
    "## Lesson 35. Laplace's Equation in Spherical Coordinates (Spherical Harmonics)"
   ]
  },
  {
   "cell_type": "markdown",
   "metadata": {
    "cell_style": "split",
    "slideshow": {
     "slide_type": "fragment"
    }
   },
   "source": [
    "An important problem in physics is to find the potential inside or outside a sphere when the potential is given on the boundary \n",
    "\n",
    "For the interior problem, we must find the solution $u(r,\\phi,\\theta)$ that satisfies\n",
    "\n",
    ">$\\displaystyle \\left( r^2 u_r \\right)_r +\\frac{1}{\\sin\\phi} \\left( \\sin\\phi\\, u_\\phi \\right)_\\phi +\\frac{1}{\\sin^2\\phi} u_{\\theta\\theta} = 0$\n",
    "\n",
    "$~\\;\\;\\;\\;\\;$<font color=blue> $u(1,\\phi,\\theta)=g(\\phi,\\theta)$ </font>,$\\;0\\leq \\theta <2\\pi,\\;0 \\leq \\phi < \\pi$\n",
    "\n",
    "Note that this spherical Laplacian is written in a different form than those we've seen before. This form is slightly more compact and easier to use"
   ]
  },
  {
   "cell_type": "markdown",
   "metadata": {
    "cell_style": "split",
    "slideshow": {
     "slide_type": "fragment"
    }
   },
   "source": [
    "Quite often $g(\\phi,\\theta)$ has a specific form, so that it isn't necessary to solve the problem in its most general form. Two important special cases are considered in this Lesson. <font color=blue>One is the case when $g(\\phi,\\theta)$ is constant, and the other is when it depends only on the angle $\\phi$ (the angle from the north pole)</font>\n",
    "\n",
    "<center><img src=\"figures/pde03_figure10.jpg\" alt=\"spherical coordinate\" width=\"600\"/></center>"
   ]
  },
  {
   "cell_type": "markdown",
   "metadata": {
    "slideshow": {
     "slide_type": "subslide"
    }
   },
   "source": [
    "#### Special Case 1 $\\text{ }$ $-\\;\\;g(\\phi,\\theta) = \\text{constant}$"
   ]
  },
  {
   "cell_type": "markdown",
   "metadata": {
    "slideshow": {
     "slide_type": "fragment"
    }
   },
   "source": [
    "In this case, $~$it is clear that the solution is independent of $\\phi$ and $\\theta$, and so Laplace's equation reduces to the ODE\n",
    "\n",
    ">$\\displaystyle \\left( r^2 u_r \\right)_r = 0$\n",
    "\n",
    "This is a simple ODE that the student can easily solve; $~$the general solution is \n",
    "\n",
    ">$\\displaystyle u(r)=\\frac{a}{r} +b$\n",
    "\n",
    "In other words, constant and $a/r$ are the only potential that depend only on the radial distance from the origin. The potential $1/r$ is very important in physics and is called the Newtonian potential"
   ]
  },
  {
   "cell_type": "markdown",
   "metadata": {
    "slideshow": {
     "slide_type": "subslide"
    }
   },
   "source": [
    "**Example** $\\text{ }$ (Potential interior to a sphere)\n",
    "\n",
    ">$\\displaystyle \\nabla^2 u = 0, \\;\\;\\; 0 < r < 1$\n",
    "\n",
    ">$u(1,\\phi,\\theta) = 3$\n",
    "\n",
    "Here solution must be $u(r,\\phi,\\theta) = 3$ in order to be bounded"
   ]
  },
  {
   "cell_type": "markdown",
   "metadata": {
    "slideshow": {
     "slide_type": "subslide"
    }
   },
   "source": [
    "**Example** $\\text{ }$ (Potential between two spheres each at constant potential)\n",
    "\n",
    "Suppose we want to find the steady-state temperature between two spheres held at different temperatures\n",
    "\n",
    ">$\\displaystyle \\nabla^2 u = 0, \\;\\;\\; R_1 < r < R_2$\n",
    "\n",
    ">$\\begin{align*}\n",
    " u(R_1,\\phi,\\theta) &= A \\\\ \n",
    " u(R_2,\\phi,\\theta) &= B \n",
    "\\end{align*}$\n",
    "\n",
    "Since we know the potential has the general solution\n",
    "\n",
    ">$\\displaystyle u(r)=\\frac{a}{r} +b$"
   ]
  },
  {
   "cell_type": "markdown",
   "metadata": {
    "slideshow": {
     "slide_type": "subslide"
    }
   },
   "source": [
    "we substitute it in the BCs and solve for $a$ and $b$; $~$doing this gives\n",
    "\n",
    ">$\\displaystyle u(r)= (A -B) \\frac{R_1 R_2}{R_2 -R_1} \\frac{1}{r} + \\frac{R_2 B -R_1 A}{R_2 -R_1}$\n",
    "\n",
    "$~$\n",
    "\n",
    "<center><img src=\"figures/pde03_figure11.jpg\" alt=\"potential between two concentric spheres\" width=\"900\"/></center>"
   ]
  },
  {
   "cell_type": "markdown",
   "metadata": {
    "slideshow": {
     "slide_type": "subslide"
    }
   },
   "source": [
    "#### Special Case 2 $\\text{ }$ $-\\;\\;g(\\phi,\\theta) \\text{ depends only on } \\phi$\n",
    "\n",
    "Here, the Dirichlet problem takes the form\n",
    "\n",
    ">$\\displaystyle \\left( r^2 u_r \\right)_r +\\frac{1}{\\sin\\phi} \\left( \\sin\\phi\\, u_\\phi \\right)_\\phi = 0, \\;\\;\\; 0 < r < 1$\n",
    "\n",
    ">$u(1,\\phi)=g(\\phi),\\;\\;\\; 0 \\leq \\phi \\leq \\pi$\n",
    "\n"
   ]
  },
  {
   "cell_type": "markdown",
   "metadata": {
    "slideshow": {
     "slide_type": "subslide"
    }
   },
   "source": [
    "Using separation of variables, $~$we look for solutions of the form\n",
    "\n",
    ">$\\displaystyle u(r,\\phi)=R(r)\\Phi(\\phi)$\n",
    "\n",
    "and arrive at the two ODEs\n",
    "\n",
    ">$\\begin{align*}\n",
    " &\\left(\\sin\\phi\\, \\Phi' \\right)' +\\lambda \\sin\\phi \\Phi= 0\\;\\;\\;\\text{Legendre's equation}\\\\ \n",
    " &r^2R'' +2rR' -\\lambda R = 0 \\;\\;\\; \\text{Euler's equation}\n",
    "\\end{align*}$\n",
    "\n",
    "Legendre's equation isn't easy; $~$the general strategy in solving this equation is to make the substitution\n",
    "\n",
    "><font color=blue>$x=\\cos\\phi$</font>\n",
    "\n",
    "Making this change of variable gives rise to the new Legendre's equation"
   ]
  },
  {
   "cell_type": "markdown",
   "metadata": {
    "slideshow": {
     "slide_type": "subslide"
    }
   },
   "source": [
    ">$\\scriptsize \\begin{align*}\n",
    " \\left(\\sin\\phi\\, \\Phi' \\right)' &+\\lambda \\sin\\phi \\Phi= 0\\\\ \n",
    " & \\Downarrow \\;\\;x=\\cos\\phi\\\\\n",
    " \\Phi'&=\\frac{d\\Phi}{dx} \\frac{dx}{d\\phi}=-\\sin\\phi\\frac{d\\Phi}{dx} \\\\\n",
    " \\left(\\sin\\phi\\, \\Phi' \\right)'&=-\\frac{d}{dx}\\left(\\sin^2\\phi \\frac{d\\Phi}{dx} \\right) \\frac{dx}{d\\phi}\n",
    "  =\\left(\\sin^2\\phi \\frac{d^2\\Phi}{dx^2} +2\\sin\\phi\\cos\\phi \\frac{d\\phi}{dx}\\frac{d\\Phi}{dx} \\right)\\sin\\phi \\\\\n",
    "  &=\\left[ (1 -x^2) \\frac{d^2\\Phi}{dx^2} -2x\\frac{d\\Phi}{dx} \\right] \\sin\\phi \\\\\n",
    " &\\Downarrow \\\\\n",
    " (1 -x^2) \\frac{d^2\\Phi}{dx^2} &-2x\\frac{d\\Phi}{dx} +\\lambda \\Phi = 0, \\;\\;\\; -1 \\leq x \\leq 1 \\\\\n",
    " &\\Downarrow \\\\\n",
    " \\frac{d}{dx} \\left[ (1 -x^2) \\frac{d\\Phi}{dx} \\right] &+\\lambda \\Phi = 0\n",
    "\\end{align*}$"
   ]
  },
  {
   "cell_type": "markdown",
   "metadata": {
    "slideshow": {
     "slide_type": "subslide"
    }
   },
   "source": [
    "One of the difficulties in this equation is that the coefficient $(1-x^2)$ of $d^2\\Phi/dx^2$ is zero at the ends of the domain $-1 \\leq x \\leq 1$. Equations like this are called singular differential equations. We arrive at a very interesting conclusion. <font color=red>The only bounded solutions of Legendre's equation occur when $\\lambda=n(n +1)$, $\\;n=0,1,2,\\cdots$ and these solutions are Legendre polynomials $P_n(x)$</font>\n",
    "\n",
    ">$\\begin{align*}\n",
    " &P_0(x) = 1 \\\\ \n",
    " &P_1(x) = x \\\\ \n",
    " &P_2(x) = \\frac{1}{2}(3x^2 -1) \\\\ \n",
    " &P_3(x) = \\frac{1}{2}(5x^3 -3x) \\\\\n",
    " &\\;\\;\\;\\;\\;\\;\\;\\; \\vdots \\\\\n",
    " &P_n(x) = \\frac{1}{2^n n!} \\frac{d^n}{dx^n} \\left[ (x^2 -1)^n \\right]\n",
    "\\end{align*}$"
   ]
  },
  {
   "cell_type": "markdown",
   "metadata": {
    "slideshow": {
     "slide_type": "subslide"
    }
   },
   "source": [
    "The graphs of a few Legendre polynomials are shown in\n",
    "\n",
    "$~$\n",
    "\n",
    "<center><img src=\"figures/pde03_figure12.jpg\" alt=\"Legendre polynomials\" width=\"900\"/></center>"
   ]
  },
  {
   "cell_type": "markdown",
   "metadata": {
    "slideshow": {
     "slide_type": "subslide"
    }
   },
   "source": [
    "We now solve Euler's equation by substituting $\\lambda = n(n+1)$ and $R(r)=r^\\alpha$ in the equation and solving for $\\alpha$. $~$Doing this,$~$ we get two values\n",
    "\n",
    ">$\\alpha = \\begin{cases}\n",
    "   \\;\\;\\;\\;\\;\\;\\; n \\\\ \n",
    " -(n +1) \n",
    "\\end{cases}$\n",
    "\n",
    "and, hence, Euler's equation has the general solution\n",
    "\n",
    ">$R_n(r)= a_n r^n + b_n r^{-(n +1)} \\;\\;\\xrightarrow[]{\\text{ bounded solution }}\\;\\;a_n r^n$"
   ]
  },
  {
   "cell_type": "markdown",
   "metadata": {
    "slideshow": {
     "slide_type": "subslide"
    }
   },
   "source": [
    "The final step is to form the sum\n",
    "\n",
    ">$\\displaystyle u(r,\\phi) = \\sum_{n=0}^\\infty a_n r^n P_n(\\cos\\phi)\\;\\;\\;$ (SOL) \n",
    "\n",
    "in such a way that it agrees with the BC $\\,u(1,\\phi)=g(\\phi)$. $~$Substituting the above solution into the BC gives\n",
    "\n",
    ">$\\displaystyle g(\\phi) = \\sum_{n=0}^\\infty a_n P_n(\\cos\\phi)$"
   ]
  },
  {
   "cell_type": "markdown",
   "metadata": {
    "slideshow": {
     "slide_type": "subslide"
    }
   },
   "source": [
    "If we multiply each side of this equation by $P_m(\\cos\\phi)\\sin\\phi$ and integrate $\\phi$ from $0$ to $\\pi$, $~$we get\n",
    "\n",
    ">$\\begin{align*}\n",
    " \\int_0^\\pi g(\\phi) P_m(\\cos\\phi)\\,\\sin\\phi \\,d\\phi &= \n",
    "   \\sum_{n=0}^\\infty a_n \\int_0^{\\pi} P_n(\\cos\\phi) P_m(\\cos\\phi)\\,\\sin\\phi \\, d\\phi \\\\\n",
    " &= \\sum_{n=0}^\\infty a_n \\int_{-1}^1 P_n(x) P_m(x) \\,dx \\\\ \n",
    " &=\n",
    " \\begin{cases}\n",
    "  \\;\\;\\;\\;\\, 0  & n \\neq m \\\\ \n",
    "  \\displaystyle \\frac{2}{2m +1}\\, a_m & n = m \n",
    " \\end{cases} \\\\ \n",
    " &\\Downarrow \\\\ \n",
    " a_n &=\\frac{2n +1}{2} \\int_0^{\\pi} g(\\phi) P_n(\\cos\\phi)\\, \\sin \\phi \\,d\\phi\n",
    "\\end{align*}$"
   ]
  },
  {
   "cell_type": "markdown",
   "metadata": {
    "slideshow": {
     "slide_type": "subslide"
    }
   },
   "source": [
    "**Example** $\\text{ }$ Suppose the temperature on the surface of the sphere is given by\n",
    "\n",
    ">$\\displaystyle g(\\phi) = 1 -\\cos 2\\phi, \\;\\;\\;\\; 0 \\leq \\phi \\leq \\pi$\n",
    "\n",
    "and suppose we would like to find the temperature inside the sphere. In this problem, $~$the temperature is constant on circles of constant latitude. To find $u$, $~$we must solve\n",
    "\n",
    ">$\\displaystyle \\left( r^2 u_r \\right)_r +\\frac{1}{\\sin\\phi} \\left( \\sin\\phi\\, u_\\phi \\right)_\\phi = 0, \\;\\;\\; 0 < r < 1$\n",
    "\n",
    ">$u(1,\\phi)=1 -\\cos 2\\phi,\\;\\;\\; 0 \\leq \\phi \\leq \\pi$"
   ]
  },
  {
   "cell_type": "markdown",
   "metadata": {
    "slideshow": {
     "slide_type": "subslide"
    }
   },
   "source": [
    "Our goal now is to expand $g(\\phi)$ as a series of Legendre polynomials;\n",
    "\n",
    ">$\\begin{align*}\n",
    " 1 -\\cos 2\\phi &= 1 - \\left( 2\\cos^2\\phi -1 \\right) \\\\ \n",
    " &= \\frac{4}{3} - \\frac{4}{3}\\left[ \\frac{1}{2} (3\\cos^2\\phi -1) \\right] \\\\ \n",
    " &= \\frac{4}{3} P_0(\\cos\\phi) -\\frac{4}{3}P_2(\\cos\\phi)\\\\\n",
    " &\\Downarrow \\\\\n",
    " a_0 = \\frac{4}{3},\\;\\; a_2&=-\\frac{4}{3},\\;\\;a_1=a_3=a_4=a_5=\\cdots =0\n",
    "\\end{align*}$\n",
    "\n",
    "Hence, the solution to the problem is\n",
    "\n",
    ">$\\begin{align*}\n",
    " u(r,\\phi) &= \\frac{4}{3} P_0(\\cos\\phi) -\\frac{4}{3} r^2 P_2(\\cos\\phi)\n",
    " = \\frac{4}{3} - \\frac{2}{3} r^2 (3\\cos^2\\phi -1) \n",
    "\\end{align*}$"
   ]
  },
  {
   "cell_type": "markdown",
   "metadata": {
    "slideshow": {
     "slide_type": "subslide"
    }
   },
   "source": [
    "**NOTES** $\\text{ }$ The solution of the exterior Dirichlet problem\n",
    "\n",
    "  > $\\;\\;\\displaystyle \\left( r^2 u_r \\right)_r +\\frac{1}{\\sin\\phi} \\left( \\sin\\phi\\, u_\\phi \\right)_\\phi = 0, \\;\\; 1 < r < \\infty, \\;\\;u(1,\\phi)=g(\\phi),\\;\\;\\; 0 \\leq \\phi \\leq \\pi$\n",
    "\n",
    "  $~$ is $\\;\\displaystyle u(r,\\phi)=\\sum_{n=0}^\\infty \\frac{b_n}{r^{n+1}} P_n(\\cos\\phi)$,\n",
    "  $~$ where $\\;\\displaystyle b_n = \\frac{2n +1}{2} \\int_0^\\pi g(\\phi) P_n(\\cos\\phi)\\, \\sin\\phi \\, d\\phi$\n",
    "\n",
    "  For example, the BC $g(\\phi)=3$ would yield the solution $u(r,\\theta)=3/r$. $~$Note that in this problem, the solution goes to zero, while in two dimensions, the exterior solution with constant BC was itself a constant"
   ]
  },
  {
   "cell_type": "markdown",
   "metadata": {
    "slideshow": {
     "slide_type": "subslide"
    }
   },
   "source": [
    "## Lesson 36. A Nonhomogeneous Dirichlet Problem (Green's Function) \n",
    "\n",
    "A common problem in applied mathematics is to find the potential in some region of space in response to a forcing term $f$. $~$A typical example would be to find the potential inside a circle in two dimensions that satisfies\n",
    "\n",
    ">$\\displaystyle u_{rr} +\\frac{1}{r}u_r + \\frac{1}{r^2} u_{\\theta\\theta}=f(r,\\theta), \\;\\;\\;0 < r < 1$\n",
    "\n",
    ">$\\displaystyle u(1,\\theta) = 0, \\;\\;\\; 0 \\leq \\theta < 2\\pi$\n",
    "\n",
    "Note that we have chosen the boundary values to be zero. If we wanted to solve the general case, where both the equation and BC were nonhomogeneous, $~$we could add the Poisson integral formula from Lesson 32 to the solution from this Lesson"
   ]
  },
  {
   "cell_type": "markdown",
   "metadata": {
    "slideshow": {
     "slide_type": "subslide"
    }
   },
   "source": [
    "In order to gain a little intuition about nonhomogeneous differential equations, $~$let's consider graphing the solution to the following Poisson's equation:\n",
    "\n",
    ">$\\displaystyle u_{rr} +\\frac{1}{r}u_r + \\frac{1}{r^2} u_{\\theta\\theta}=-q, \\;\\;\\;0 < r < 1$\n",
    "\n",
    ">$\\displaystyle u(1,\\theta) = 0, \\;\\;\\; 0 \\leq \\theta < 2\\pi$\n",
    "\n",
    "Here, the potential is fixed at zero on the boundary, $~$and the Laplacian of $u$ is always equal to $-q$ inside the circle. Since $\\nabla^2 u(p)$ measures the difference between $u(p)$ and the average of its neighbors, it will look like a thin membrane fixed at the boundary that was continuously being pushed up by a stream of air from below"
   ]
  },
  {
   "cell_type": "markdown",
   "metadata": {
    "slideshow": {
     "slide_type": "subslide"
    }
   },
   "source": [
    "### Potentials from Point Sources and Sinks\n",
    "\n",
    "In solving a nonhomogeneous linear equation, it is sufficient to solve the equation with a point source since we can find the solution to the general problem by summing the responses to point sources. $~$Our goal here is to find the potential in some region of space due to a point source (or sink).\n",
    "\n",
    "Suppose we have a single point source of magnitude $q$ located at the origin. $~$It is clear that the heat will flow outward along radial lines, and, hence, $~$if we compute the total outward flux across a circle of radius $r$, $~$we have\n",
    "\n",
    ">$\\displaystyle \\text{Total outward flux across the circle }=-\\int_0^{2\\pi} u_r(r) r\\,d\\theta = -2\\pi r u_r(r)$"
   ]
  },
  {
   "cell_type": "markdown",
   "metadata": {
    "slideshow": {
     "slide_type": "subslide"
    }
   },
   "source": [
    "But the outward flux must be equal to the heat generated within the circle (conservation of energy), $~$so we have\n",
    "\n",
    ">$-2\\pi r u_r(r) = q$\n",
    "\n",
    "Solving this simple differential equation for $u_r(r)$, $~$we get\n",
    "\n",
    ">$\\displaystyle u(r)=\\frac{q}{2\\pi} \\ln \\frac{1}{r}$\n",
    "\n",
    "A sink, on the other hand, is represented by a negative source, and so a sink with magnitude $-q~$ would give rise to a potential field\n",
    "\n",
    ">$\\displaystyle u(r)=-\\frac{q}{2\\pi} \\ln \\frac{1}{r}$"
   ]
  },
  {
   "cell_type": "markdown",
   "metadata": {
    "slideshow": {
     "slide_type": "subslide"
    }
   },
   "source": [
    "### Poisson's Equation Inside a Circle"
   ]
  },
  {
   "cell_type": "markdown",
   "metadata": {
    "slideshow": {
     "slide_type": "fragment"
    }
   },
   "source": [
    "We will now solve the important problem\n",
    "\n",
    ">$\\displaystyle u_{rr} +\\frac{1}{r}u_r + \\frac{1}{r^2} u_{\\theta\\theta}=f(r,\\theta), \\;\\;\\;0 < r < 1$\n",
    "\n",
    ">$\\displaystyle u(1,\\theta) = 0, \\;\\;\\; 0 \\leq \\theta < 2\\pi$"
   ]
  },
  {
   "cell_type": "markdown",
   "metadata": {
    "slideshow": {
     "slide_type": "subslide"
    }
   },
   "source": [
    "The Green function technique (impulse-response method) consists of two steps:\n",
    "\n",
    "1. Finding the potential $G(r,\\theta,\\rho,\\phi)$ at $(r,\\theta)$, $~$which we force to be zero on the boundary and which is due to a single charge (magnitude 1) at $(\\rho,\\phi)$\n",
    "\n",
    "2. Summing the individual responses $G(r,\\theta,\\rho,\\phi)$ weighted by $f(\\rho,\\phi)$ over all $(\\rho,\\phi)$ in the circle to get the solution\n",
    "\n",
    ">$\\displaystyle u(r,\\theta)=\\int_0^{2\\pi} \\int_0^1 G(r,\\theta,\\rho,\\phi)\\, f(\\rho,\\phi)\\,\\rho\\, d\\rho d\\phi$"
   ]
  },
  {
   "cell_type": "markdown",
   "metadata": {
    "cell_style": "split",
    "slideshow": {
     "slide_type": "subslide"
    }
   },
   "source": [
    "**STEP 1** $\\text{ }$ Since the function\n",
    "\n",
    ">$\\displaystyle \\frac{1}{2\\pi} \\ln \\frac{1}{R}$\n",
    "\n",
    "is the potential at $(r,\\theta)$ due to a single unit charge at $(\\rho,\\phi)$, $~$where $R$ is the distance from $(r,\\theta)$ to $(\\rho,\\phi)$, $~$the only thing left to do is to modify the function so that it is zero on the boundary"
   ]
  },
  {
   "cell_type": "markdown",
   "metadata": {
    "cell_style": "split",
    "slideshow": {
     "slide_type": "fragment"
    }
   },
   "source": [
    "**STEP 2** $\\text{ }$ The strategy is to place a sink outside the circle at such a point that the potential due to both is constant on the circle at $r=1$. We can then subtract this constant value to obtain a zero potential on the boundary. The big question is, of course, where do we place the sink outside circle, so that the potential on the boundary is constant? \n",
    "\n",
    "$~$\n",
    "\n",
    "$~$\n",
    "\n",
    "<center><img src=\"figures/pde03_figure13.jpg\" alt=\"potential field due to two opposite\" width=\"1100\"/></center>"
   ]
  },
  {
   "cell_type": "markdown",
   "metadata": {
    "slideshow": {
     "slide_type": "subslide"
    }
   },
   "source": [
    "Without going into the details, $~$we can show rather easily that if the sink is placed at $(1/\\rho,\\phi)$, then the potential due to the source and the sink will be constant on the circle $r=1$  \n",
    "\n",
    ">$\\begin{align*} \\displaystyle u^*(r,\\theta) &= \\frac{1}{2\\pi} \\ln \\frac{1}{R} -\\frac{1}{2\\pi} \\ln \\frac{1}{\\bar{R}} \n",
    "   = \\frac{1}{2\\pi} \\ln\\frac{\\bar{R}}{R} \\\\\n",
    "   &=\\frac{1}{2\\pi} \\ln \\frac{\\sqrt{r^2 +1/\\rho^2 -2r/\\rho \\cos(\\theta-\\phi)}}{\\sqrt{r^2 +\\rho^2 -2r\\rho \\cos(\\theta -\\phi)}} \\\\\n",
    "   &\\Downarrow \\;\\; r=1 \\\\\n",
    "   u^*(1,\\theta) &= -\\frac{1}{2\\pi} \\ln \\rho\n",
    "\\end{align*}$\n",
    "\n",
    "With these steps in mind, $~$we construct Green's function\n",
    "\n",
    ">$\\displaystyle G(r,\\theta,\\rho,\\phi)=\\frac{1}{2\\pi}\\ln \\left(\\rho\\frac{\\bar{R}}{R}\\right)$"
   ]
  },
  {
   "cell_type": "markdown",
   "metadata": {
    "slideshow": {
     "slide_type": "subslide"
    }
   },
   "source": [
    "To find the solution to our orginal problem, $~$we merely superimpose the impulse functions; $~$this brings us to the final step"
   ]
  },
  {
   "cell_type": "markdown",
   "metadata": {
    "slideshow": {
     "slide_type": "fragment"
    }
   },
   "source": [
    "**STEP 3** $\\text{ }$ This step is easy; $~$we just write\n",
    "\n",
    ">$\\displaystyle u(r,\\theta) = \\frac{1}{2\\pi} \\int_0^{2\\pi} \\int_0^1 \\ln \\left(\\rho\\frac{\\bar{R}}{R}\\right) \\, f(\\rho,\\phi)\\, \\rho\\,d\\rho\\,d\\phi\n",
    "\\;\\;\\;\\;$ (SOL-1)\n",
    "\n",
    "This is Green's function solution of Poisson's equation inside a circle"
   ]
  },
  {
   "cell_type": "markdown",
   "metadata": {
    "slideshow": {
     "slide_type": "subslide"
    }
   },
   "source": [
    "**NOTES**\n",
    "\n",
    "$\\textbf{1.}~$ It is also possible to solve\n",
    "\n",
    ">$\\displaystyle u_{rr} +\\frac{1}{r}u_r + \\frac{1}{r^2} u_{\\theta\\theta}=0, \\;\\;\\;0 < r < 1$\n",
    "\n",
    ">$\\displaystyle u(1,\\theta) = g(\\theta), \\;\\;\\; 0 \\leq \\theta < 2\\pi$\n",
    "\n",
    "by means of the Green's function approach"
   ]
  },
  {
   "cell_type": "markdown",
   "metadata": {
    "slideshow": {
     "slide_type": "subslide"
    }
   },
   "source": [
    "Choose any point $(r_0,\\phi_0)$ inside a circle. $~$Let $v(r,\\phi)$ be any twice continuously differentiable function in a circle such that $v=g$ on the boundary, $~$and $v=0$ near $(r_0,\\phi_0)$. $~$Let $w = u -v$. Then $w$ satisfies\n",
    "\n",
    ">$\\displaystyle \\nabla^2w = -\\nabla^2v, \\;\\;\\;0 < r < 1$\n",
    "\n",
    ">$\\displaystyle w(1,\\theta) = 0, \\;\\;\\; 0 \\leq \\theta < 2\\pi$\n",
    "\n",
    "Therefore\n",
    "\n",
    ">$\\displaystyle w(r_0,\\theta_0)=-\\int_0^{2\\pi} \\int_0^1 G(r_0,\\theta_0,\\rho,\\phi)\\, \\nabla^2 v\\,\\rho\\, d\\rho d\\phi$"
   ]
  },
  {
   "cell_type": "markdown",
   "metadata": {
    "slideshow": {
     "slide_type": "subslide"
    }
   },
   "source": [
    "Since $v=0$ near the singularity $(r_0,\\theta_0)$ of $G$, $~$we can apply the divergence theorem to the identity\n",
    "\n",
    ">$\\displaystyle \\nabla \\cdot \\left( G\\nabla v -v\\nabla G\\right) =G \\nabla^2 v -v\\nabla^2 G =G\\nabla^2 v$\n",
    "\n",
    "to find that\n",
    "\n",
    ">$\\displaystyle \\begin{align*} w(r_0,\\theta_0)&=-\\int_0^{2\\pi} \\int_0^1 G(r_0,\\theta_0,\\rho,\\phi)\\, \\nabla^2 v\\,\\rho\\, d\\rho d\\phi \\\\\n",
    " &\\Downarrow \\;\\;{\\scriptstyle \\text{Divergence Theorem}} \\\\\n",
    " &=-\\int_0^{2\\pi} G(r_0,\\theta_0,1,\\phi) \\frac{\\partial v}{\\partial r} -v\\frac{\\partial G}{\\partial r}(r_0,\\theta_0,1,\\phi)\\,d\\phi \\\\\n",
    " &\\Downarrow \\;\\;{\\scriptstyle \\text{ On the boundary } G = 0, \\; v = g} \\\\\n",
    " &= \\int_0^{2\\pi} \\frac{\\partial G}{\\partial r}(r_0,\\theta_0,1,\\phi) \\,g(\\phi)\\,d\\phi \n",
    "\\end{align*}$"
   ]
  },
  {
   "cell_type": "markdown",
   "metadata": {
    "slideshow": {
     "slide_type": "subslide"
    }
   },
   "source": [
    "But $v(r_0,\\theta_0)=0$, $~$so that $w(r_0,\\theta_0)=u(r_0,\\theta_0)$. $~$Since $(r_0,\\theta_0)$ was any point in a circle, the solution is\n",
    "\n",
    ">$\\displaystyle u(r,\\theta) = \\int_0^{2\\pi} \\frac{\\partial G}{\\partial r}(r,\\theta,1,\\phi)\\,g(\\phi)\\,d\\phi$\n",
    "\n",
    "which, if we compute $\\partial G/\\partial r$, gives\n",
    "\n",
    ">$\\displaystyle u(r,\\theta) = \\frac{1}{2\\pi} \\int_0^{2\\pi} \\left[ \\frac{1 - r^2}{1 -2r\\cos(\\theta -\\phi) +r^2} \\right]\\,g(\\phi)\\,d\\phi\n",
    "\\;\\;\\;\\;$ (SOL-2)\n",
    "\n",
    "which is the Poisson integral formula"
   ]
  },
  {
   "cell_type": "markdown",
   "metadata": {
    "slideshow": {
     "slide_type": "subslide"
    }
   },
   "source": [
    "$\\textbf{2.}~$ The solution to the general Dirichlet problem\n",
    "\n",
    ">$\\displaystyle u_{rr} +\\frac{1}{r}u_r + \\frac{1}{r^2} u_{\\theta\\theta}=f(r,\\theta), \\;\\;\\;0 < r < 1$\n",
    "\n",
    ">$\\displaystyle u(1,\\theta) = g(\\theta), \\;\\;\\; 0 \\leq \\theta < 2\\pi$\n",
    "\n",
    "would be the sum of solutions (SOL-1) and (SOL-2)"
   ]
  }
 ],
 "metadata": {
  "celltoolbar": "Slideshow",
  "kernelspec": {
   "display_name": "Python 3 (ipykernel)",
   "language": "python",
   "name": "python3"
  },
  "language_info": {
   "codemirror_mode": {
    "name": "ipython",
    "version": 3
   },
   "file_extension": ".py",
   "mimetype": "text/x-python",
   "name": "python",
   "nbconvert_exporter": "python",
   "pygments_lexer": "ipython3",
   "version": "3.8.12"
  }
 },
 "nbformat": 4,
 "nbformat_minor": 4
}
