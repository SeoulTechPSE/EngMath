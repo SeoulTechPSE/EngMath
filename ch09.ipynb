{
 "cells": [
  {
   "cell_type": "markdown",
   "metadata": {
    "colab_type": "text",
    "id": "GAt_L9SoVfvp",
    "slideshow": {
     "slide_type": "skip"
    }
   },
   "source": [
    "[![Open In Colab](https://colab.research.google.com/assets/colab-badge.svg)](https://colab.research.google.com/github/SeoulTechPSE/EngMath/blob/master/ch09.ipynb)"
   ]
  },
  {
   "cell_type": "markdown",
   "metadata": {
    "colab_type": "text",
    "id": "xeRC-DGjVfvs",
    "slideshow": {
     "slide_type": "slide"
    }
   },
   "source": [
    "# Chapter 9. Vector Calculus"
   ]
  },
  {
   "cell_type": "markdown",
   "metadata": {
    "cell_style": "split",
    "colab_type": "text",
    "id": "IGbCh-j6Vfvt",
    "slideshow": {
     "slide_type": "fragment"
    }
   },
   "source": [
    "### Contents\n",
    "\n",
    "* Vector Functions\n",
    "* Motion on a Curve\n",
    "* Curvature and Components of Acceleration\n",
    "* Partial Derivatives\n",
    "* Directional Derivatives\n",
    "* Tangent Planes and Normal Lines\n",
    "* Curl and Divergence\n",
    "* Line Integrals\n",
    "* Independence of the Path"
   ]
  },
  {
   "cell_type": "markdown",
   "metadata": {
    "cell_style": "split",
    "slideshow": {
     "slide_type": "fragment"
    }
   },
   "source": [
    "$~$\n",
    "\n",
    "* Double Integrals\n",
    "* Double Integrals in Polar Coordinates\n",
    "* Green's Theorem\n",
    "* Surface Integrals\n",
    "* Stokes' Theorem\n",
    "* Triple Integrals\n",
    "* Divergence Theorem\n",
    "* Change of Variables in Multiple Integrals"
   ]
  },
  {
   "cell_type": "markdown",
   "metadata": {
    "colab_type": "text",
    "id": "s1VkPYrxVfvu",
    "slideshow": {
     "slide_type": "slide"
    }
   },
   "source": [
    "## 9.1. Vector Functions "
   ]
  },
  {
   "cell_type": "markdown",
   "metadata": {
    "cell_style": "split",
    "colab_type": "text",
    "id": "uvN3dL-2Vfvv",
    "slideshow": {
     "slide_type": "fragment"
    }
   },
   "source": [
    "<center><img src=\"figures/ch09_figure01.png\" width=400/> </center>"
   ]
  },
  {
   "cell_type": "markdown",
   "metadata": {
    "cell_style": "split",
    "colab_type": "text",
    "id": "GQ9fsOCMVfvw",
    "slideshow": {
     "slide_type": "fragment"
    }
   },
   "source": [
    "* A parametric curve in space is a set of ordered  triples $(x,y,z)$, where\n",
    "  \n",
    "  $\\quad x=f(t), \\;y=g(t), \\;z=h(t)$\n",
    "  \n",
    "  are continuous on an interval: $a \\leq t \\leq b$\n",
    "  \n",
    "  $~$\n",
    "  \n",
    "* The following \n",
    "  \n",
    "  $\\quad{\\scriptsize\\mathbf{r}(t) =\\left\\langle f(t), \\,g(t), \\,h(t) \\right\\rangle = f(t)\\,\\mathbf{i} +g(t)\\,\\mathbf{j} +h(t)\\,\\mathbf{k}}$ \n",
    "  \n",
    "  are **vector-valued functions**"
   ]
  },
  {
   "cell_type": "markdown",
   "metadata": {
    "slideshow": {
     "slide_type": "slide"
    }
   },
   "source": [
    "* Limits, Continuity, and Derivatives\n",
    "\n",
    "  * $\\displaystyle\\lim_{t \\to a} \\mathbf{r}(t)=\\left\\langle \\lim_{t \\to a} f(t), \\;\\lim_{t \\to a} g(t), \\;\\lim_{t \\to a} h(t) \\right\\rangle$\n",
    "  \n",
    "     $~$\n",
    "  \n",
    "  * If $~$$\\displaystyle\\lim_{t\\to a} \\mathbf{r}_1(t)=\\mathbf{L}_1$ and $~$$\\displaystyle\\lim_{t\\to a} \\mathbf{r}_2(t)=\\mathbf{L}_2$, $~$then\n",
    "  \n",
    "      $\\displaystyle\\lim_{t\\to a} c\\mathbf{r}_1(t)=c\\mathbf{L}_1$\n",
    "    \n",
    "      $\\displaystyle\\lim_{t\\to a} \\left[\\mathbf{r}_1(t) +\\mathbf{r}_2(t) \\right] =\\mathbf{L}_1 +\\mathbf{L}_2$\n",
    "    \n",
    "      $\\displaystyle\\lim_{t\\to a} \\left[\\mathbf{r}_1(t) \\cdot \\mathbf{r}_2(t) \\right] =\\mathbf{L}_1 \\cdot \\mathbf{L}_2$"
   ]
  },
  {
   "cell_type": "markdown",
   "metadata": {
    "slideshow": {
     "slide_type": "slide"
    }
   },
   "source": [
    " * A vector function $\\mathbf{r}$ is said to be **continuous** at $t=a$ $\\text{ }$ if\n",
    "  \n",
    "    1. $~\\mathbf{r}(a)$ is defined, \n",
    "    \n",
    "    2. $~\\displaystyle\\lim_{t\\to a} \\mathbf{r}(t)$ exists, and \n",
    "    \n",
    "    3. $~\\displaystyle\\lim_{t\\to a} \\mathbf{r}(t) = \\mathbf{r}(a)$\n",
    "    \n",
    "    \n",
    "  * The **derivative** of a vector function $\\mathbf{r}$ is\n",
    "  \n",
    "    >$\\displaystyle\\mathbf{r}'(t) = \\lim_{\\Delta t\\to 0} \\frac{1}{\\Delta t} \\left[ \\mathbf{r}(t +\\Delta t) -\\mathbf{r}(t) \\right]$\n",
    "    \n",
    "    for all $t$ for which the limit exists. If $ \\mathbf{r}(t) = \\langle f(t), g(t), h(t) \\rangle$, $~$where $f$, $g$, and $h$ are differentiable, then\n",
    "    \n",
    "    >$\\mathbf{r}'(t) = \\left\\langle f'(t), g'(t), h'(t) \\right\\rangle$"
   ]
  },
  {
   "cell_type": "markdown",
   "metadata": {
    "cell_style": "split",
    "colab_type": "text",
    "id": "1X8qZ57GVfvx",
    "slideshow": {
     "slide_type": "slide"
    }
   },
   "source": [
    "\n",
    "When $\\mathbf{r}$ have continuous first derivative and $\\mathbf{r}'(t)\\neq\\mathbf{0}~$ for all $~t~$ in the open interval $(a,b)$, $~$then $\\mathbf{r}$ is said to be a **smooth function**\n",
    "    \n",
    "<img src=\"figures/ch09_figure02.png\" alt=\"tangents\" style=\"width:450px; float:left; padding:20px;\">"
   ]
  },
  {
   "cell_type": "markdown",
   "metadata": {
    "cell_style": "split",
    "colab_type": "text",
    "id": "0lpN_NdFVfvx",
    "slideshow": {
     "slide_type": "fragment"
    }
   },
   "source": [
    "* In the case of the **second derivative**, $~$we have\n",
    "  \n",
    "  > $\\begin{align*}\n",
    " \\mathbf{r}''(t) &= \\left\\langle f''(t), g''(t), h''(t) \\right\\rangle\\\\ \n",
    " &= f''(t)\\mathbf{i} +g''(t)\\mathbf{j} +h''(t)\\mathbf{k}\n",
    "\\end{align*}\n",
    "$\n",
    "\n",
    "* Chain rule\n",
    "\n",
    "  If $\\mathbf{r}$ is a differentiable vector function and $s=u(t)$ is a differentiable scalar function, then the derivative of $\\mathbf{r}(s)$ with respect to $t$ is\n",
    "  \n",
    "  > $\\displaystyle\\frac{d\\mathbf{r}}{dt} =\\frac{d\\mathbf{r}}{ds} \\frac{ds}{dt} =\\mathbf{r}'(s) u'(t)$"
   ]
  },
  {
   "cell_type": "markdown",
   "metadata": {
    "colab_type": "text",
    "id": "HcM3-qHtVfvy",
    "slideshow": {
     "slide_type": "slide"
    }
   },
   "source": [
    "* Rules of Differentiation\n",
    "\n",
    "  Let $\\mathbf{r}_1(t)$ and $\\mathbf{r}_2(t)$ be differentiable vector functions \n",
    "  and $u(t)$ a differentiable scalar function\n",
    "  \n",
    "  * $\\displaystyle \\frac{d}{dt} \\left[ \\mathbf{r}_1(t) +\\mathbf{r}_2(t) \\right] = \\mathbf{r}_1'(t) +\\mathbf{r}_2'(t)$\n",
    "  * $\\displaystyle \\frac{d}{dt} \\left[ u(t)\\mathbf{r}_1(t) \\right] = u(t)\\mathbf{r}_1'(t) +u'(t)\\mathbf{r}_1(t)$\n",
    "  * $\\displaystyle \\frac{d}{dt} \\left[ \\mathbf{r}_1(t) \\cdot \\mathbf{r}_2(t) \\right] = \\mathbf{r}_1(t)\\cdot\\mathbf{r}_2'(t) +\\mathbf{r}_1'(t)\\cdot\\mathbf{r}_2(t)$\n",
    "  * $\\displaystyle \\frac{d}{dt} \\left[ \\mathbf{r}_1(t) \\times \\mathbf{r}_2(t) \\right] = \\mathbf{r}_1(t)\\times\\mathbf{r}_2'(t) +\\mathbf{r}_1'(t)\\times\\mathbf{r}_2(t)$"
   ]
  },
  {
   "cell_type": "markdown",
   "metadata": {
    "colab_type": "text",
    "id": "rQ-_DziUVfvz",
    "slideshow": {
     "slide_type": "slide"
    }
   },
   "source": [
    "* Integrals\n",
    "\n",
    "  $\\displaystyle\\int \\mathbf{r}(t) \\,dt = \\left[ \\int f(t) \\,dt \\right]\\mathbf{i} +\\left[ \\int g(t) \\,dt \\right]\\mathbf{j} +\\left[ \\int h(t) \\,dt \\right]\\mathbf{k}$"
   ]
  },
  {
   "cell_type": "markdown",
   "metadata": {
    "colab_type": "text",
    "id": "tZOWD8bPVfv0",
    "slideshow": {
     "slide_type": "fragment"
    }
   },
   "source": [
    "* Length of a Space Curve\n",
    "\n",
    "  If $~\\mathbf{r}(t) = f(t)\\mathbf{i} +g(t)\\mathbf{j} +h(t)\\mathbf{k}~$ is a smooth function, $~$then it can be shown that the **length** of the smooth curve traced by\n",
    "  $~\\mathbf{r}~$ is given by\n",
    "  \n",
    "  >$\\displaystyle s = \\int_a^b \\sqrt{\\left[ f'(t) \\right]^2 +\\left[ g'(t) \\right]^2 +\\left[ h'(t) \\right]^2}\\,dt =\\int_a^b \\left\\| \\mathbf{r}'(t) \\right\\|\\,dt$"
   ]
  },
  {
   "cell_type": "markdown",
   "metadata": {
    "colab_type": "text",
    "id": "vD4P7GnnVfv1",
    "slideshow": {
     "slide_type": "slide"
    }
   },
   "source": [
    "## 9.2. Motion on a Curve "
   ]
  },
  {
   "cell_type": "markdown",
   "metadata": {
    "colab_type": "text",
    "id": "wWSP9vrxVfv2",
    "slideshow": {
     "slide_type": "fragment"
    }
   },
   "source": [
    "* Velocity and Acceleration\n",
    "\n",
    "  Suppose a body moves along a curve $C$ so that its position at time $t$ is given \n",
    "  by the vector function \n",
    "\n",
    "  >$\\mathbf{r}(t) = f(t)\\mathbf{i} +g(t)\\mathbf{j} +h(t)\\mathbf{k}$\n",
    "  \n",
    "  $~$\n",
    "  If $f$, $g$, and $h$ have second derivatives, $~$then the vectors\n",
    "  \n",
    "  > $\\mathbf{v}(t) = \\mathbf{r}'(t) = f'(t)\\mathbf{i} +g'(t)\\mathbf{j} +h'(t)\\mathbf{k}$ \n",
    "       \n",
    "  > $\\mathbf{a}(t) = \\mathbf{r}''(t) = f''(t)\\mathbf{i} +g''(t)\\mathbf{j} +h''(t)\\mathbf{k}$\n",
    " \n",
    "  are called the **velocity** and **acceleration** of the particle, respectively"
   ]
  },
  {
   "cell_type": "markdown",
   "metadata": {
    "colab_type": "text",
    "id": "AUCc1hzaVfv2",
    "slideshow": {
     "slide_type": "slide"
    }
   },
   "source": [
    "* The scalar function $\\left\\| \\mathbf{v}(t)\\right\\|$ is the **speed** of the particle\n",
    "\n",
    "* The speed is related to arc length $s$ by $s'(t) = \\left\\| \\mathbf{v}(t) \\right\\|$\n",
    "\n",
    "* If a particle moves  with a constant speed $c$, $\\text{ }$then\n",
    "  its acceleration vector is perpendicular to the velocity vector $\\mathbf{v}$. \n",
    "  $\\text{ }$To see this, note that $\\mathbf{v}\\cdot\\mathbf{v}=c^2$.\n",
    "  $\\text{ }$We differentiate both sides with respect to $t$ and obtain\n",
    "  \n",
    "  > $\\displaystyle \\frac{d}{dt}(\\mathbf{v} \\cdot \\mathbf{v}) = \\mathbf{v}\\cdot\\frac{d\\mathbf{v}}{dt} +\\frac{d\\mathbf{v}}{dt} \\cdot \\mathbf{v}\n",
    "  =2\\mathbf{v}\\cdot\\frac{d\\mathbf{v}}{dt}=0$\n",
    "  \n",
    "  Thus, $\\displaystyle\\frac{d\\mathbf{v}}{dt} \\cdot \\mathbf{v}=0$ $\\text{ }$or$\\text{ }$ $\\mathbf{a}(t) \\cdot \\mathbf{v}(t)=0~$ for all $~t$"
   ]
  },
  {
   "cell_type": "markdown",
   "metadata": {
    "colab_type": "text",
    "id": "gHIMaTVTVfv3",
    "slideshow": {
     "slide_type": "slide"
    }
   },
   "source": [
    "* Centripetal Acceleration\n",
    "\n",
    "  For circular motion in the plane, described by $\\mathbf{r}(t) = r_0 \\cos\\omega t \\,\\mathbf{i} +r_0\\sin\\omega t \\,\\mathbf{j}$, $\\text{ }$it is evident that\n",
    "  \n",
    "  > $\\mathbf{r}''=-\\omega^2\\mathbf{r}$\n",
    "  \n",
    "  This means that the acceleration vector $\\mathbf{a}(t)=\\mathbf{r}''(t)$ points in the direction opposite to that of the position vector $\\mathbf{r}(t)$.\n",
    "  $~$We then say $~\\mathbf{a}(t)$ is **centripetal acceleration**"
   ]
  },
  {
   "cell_type": "markdown",
   "metadata": {
    "colab_type": "text",
    "id": "wzb7HkWBVfv4",
    "slideshow": {
     "slide_type": "slide"
    }
   },
   "source": [
    "## 9.3. Curvature and Components of Acceleration"
   ]
  },
  {
   "cell_type": "markdown",
   "metadata": {
    "colab_type": "text",
    "id": "4s5k-3IOVfv4",
    "slideshow": {
     "slide_type": "fragment"
    }
   },
   "source": [
    "* We know that $\\mathbf{r}'(t)$ is a tangent vector to the curve $C$, and consequently\n",
    "\n",
    "  > $\\displaystyle\\mathbf{T}(t) = \\frac{\\mathbf{r}'(t)}{\\left\\| \\mathbf{r}'(t) \\right\\|}$\n",
    "  \n",
    "  is a **unit tangent**\n",
    "  \n",
    "  <img src=\"figures/ch09_figure03.png\" alt=\"unit_tangents\" style=\"width:200px; float:left\" />\n",
    "  \n",
    "  $~$\n",
    "  $\\text{ }$ $\\text{ }$ $\\displaystyle\\frac{d\\mathbf{r}}{dt}=\\frac{d\\mathbf{r}}{ds} \\frac{ds}{dt}$ $\\text{ }$\n",
    "  and so $~\\displaystyle\\frac{d\\mathbf{r}}{ds} = \\frac{\\frac{d\\mathbf{r}}{dt}}{\\frac{ds}{dt}}=\\frac{\\mathbf{r}'(t)}{\\left\\| \\mathbf{r}'(t) \\right\\|} = \\mathbf{T}(t)$"
   ]
  },
  {
   "cell_type": "markdown",
   "metadata": {
    "colab_type": "text",
    "id": "cX5Qkkj9Vfv5",
    "slideshow": {
     "slide_type": "slide"
    }
   },
   "source": [
    "* Let $\\mathbf{r}(t)$ be a vector function defining a smooth curve $C$. $\\text{ }$If $s$ is the arc length parameter and $\\mathbf{T}=\\frac{d\\mathbf{r}}{ds}$\n",
    "  is the unit tangent vector, $~$then the **curvature** of $C$ at a point is\n",
    "  \n",
    "  > $\\displaystyle\\kappa=\\left\\|\\frac{d\\mathbf{T}}{ds}\\right\\|$\n",
    "  \n",
    "  Using the chain rule, $~$we can write\n",
    "  \n",
    "  > $\\displaystyle\\frac{d\\mathbf{T}}{dt}=\\frac{d\\mathbf{T}}{ds}\\frac{ds}{dt}$ and consequently $\\displaystyle\\frac{d\\mathbf{T}}{ds}=\\frac{\\frac{d\\mathbf{T}}{dt}}{\\frac{ds}{dt}}$\n",
    "  \n",
    "  In other words, curvature is given by\n",
    "  \n",
    "  > $\\displaystyle\\kappa(t)=\\frac{\\left\\|\\mathbf{T}'(t)\\right\\|}{\\left\\|\\mathbf{r}'(t)\\right\\|}$"
   ]
  },
  {
   "cell_type": "markdown",
   "metadata": {
    "colab_type": "text",
    "id": "CJLgkifTVfv6",
    "slideshow": {
     "slide_type": "slide"
    }
   },
   "source": [
    "* Tangential and Normal Components of Acceleration\n",
    "\n",
    "  The velocity of the particle on $C$ is $\\text{ }$$\\mathbf{v}(t)=\\mathbf{r}'(t)$, $\\text{ }$whereas its speed is $\\frac{ds}{dt}=v=\\| \\mathbf{v}(t) \\|$. $~$Thus, $\\mathbf{v}(t)=v\\mathbf{T}$. \n",
    "  $~$Differentiating this last expression with respect to $t$ gives acceleration\n",
    "  \n",
    "  > $\\displaystyle\\mathbf{a}(t)=v\\frac{d\\mathbf{T}}{dt}+\\frac{dv}{dt}\\mathbf{T}$\n",
    "  \n",
    "  It follows from the differentiation of $\\mathbf{T}\\cdot\\mathbf{T}=1$ that $\\mathbf{T}\\cdot \\frac{d\\mathbf{T}}{dt}=0$.\n",
    "  $\\text{ }$If $\\|\\frac{d\\mathbf{T}}{dt}\\| \\neq 0$, $\\text{ }$the vector\n",
    "  \n",
    "  > $\\displaystyle \\mathbf{N}(t) = \\frac{\\frac{d\\mathbf{T}}{dt}}{\\| \\frac{d\\mathbf{T}}{dt}\\|}$\n",
    "\n",
    "  is a **unit normal** to the curve $C$. $\\text{ }$The vector $\\mathbf{N}$ is also called the **principal normal** "
   ]
  },
  {
   "cell_type": "markdown",
   "metadata": {
    "cell_style": "split",
    "slideshow": {
     "slide_type": "slide"
    }
   },
   "source": [
    "Since curvature is $\\kappa = \\frac{\\|\\frac{d\\mathbf{T}}{dt} \\|}{v}$,\n",
    "\n",
    "$~$\n",
    "it follows that $\\frac{d\\mathbf{T}}{dt}=\\kappa v \\mathbf{N}$. Thus\n",
    "  \n",
    "  > $\\displaystyle\\mathbf{a}(t)=\\kappa v^2 \\mathbf{N} +\\frac{dv}{dt}\\mathbf{T} =a_N \\mathbf{N} +a_T\\mathbf{T}$"
   ]
  },
  {
   "cell_type": "markdown",
   "metadata": {
    "cell_style": "split",
    "slideshow": {
     "slide_type": "fragment"
    }
   },
   "source": [
    "  <img src=\"figures/ch09_figure04.png\" alt=\"components_acceleration\" style=\"width:450px\"/> "
   ]
  },
  {
   "cell_type": "markdown",
   "metadata": {
    "colab_type": "text",
    "id": "lg-RMZoMVfv6",
    "slideshow": {
     "slide_type": "slide"
    }
   },
   "source": [
    "* Binormal\n",
    "\n",
    "  $\\mathbf{B}(t)=\\mathbf{T}(t) \\times \\mathbf{N}(t)$\n",
    "\n",
    "  <img src=\"figures/ch09_figure05.png?raw=1\" alt=\"osculating\" style=\"width:450px; float:left\"/> "
   ]
  },
  {
   "cell_type": "markdown",
   "metadata": {
    "colab_type": "text",
    "id": "eHW8vjehVfv7",
    "slideshow": {
     "slide_type": "slide"
    }
   },
   "source": [
    "* Formulas for $a_T$, $a_N$, and Curvature\n",
    "\n",
    "  $\\displaystyle\\mathbf{v}\\cdot\\mathbf{a}=a_N(v\\mathbf{T}\\cdot\\mathbf{N}) +a_T(v\\mathbf{T}\\cdot\\mathbf{T})=a_T v\n",
    "  \\;\\Rightarrow \\; a_T =\\frac{dv}{dt} =\\frac{\\mathbf{v}\\cdot\\mathbf{a}}{\\| \\mathbf{v} \\|}\n",
    "  =\\frac{\\mathbf{r}'(t) \\cdot \\mathbf{r}''(t)}{\\| \\mathbf{r}'(t) \\|}$\n",
    "  \n",
    "  $\\displaystyle\\mathbf{v}\\times\\mathbf{a}=a_N(v\\mathbf{T}\\times\\mathbf{N}) +a_T(v\\mathbf{T}\\times\\mathbf{T})\n",
    "  =a_N v\\mathbf{B} \\;\\Rightarrow \\; a_N =\\kappa v^2 =\\frac{\\|\\mathbf{v}\\times\\mathbf{a}\\|}{\\| \\mathbf{v} \\|}\n",
    "  =\\frac{\\| \\mathbf{r}'(t) \\times \\mathbf{r}''(t) \\|}{\\| \\mathbf{r}'(t) \\|}$\n",
    "  \n",
    "  $\\displaystyle\\kappa(t)=\\frac{\\| \\mathbf{r}'(t)\\times\\mathbf{r}''(t) \\|}{\\| \\mathbf{r}'(t) \\|^3}$"
   ]
  },
  {
   "cell_type": "markdown",
   "metadata": {
    "colab_type": "text",
    "id": "HO_bMEWqVfv8",
    "slideshow": {
     "slide_type": "slide"
    }
   },
   "source": [
    "* Radius of Curvature\n",
    "\n",
    "  $\\displaystyle\\rho=\\frac{1}{\\kappa}$\n",
    "\n",
    "  <img src=\"figures/ch09_figure06.png\" alt=\"radius_curvature\" style=\"width:450px; float:left\"/> "
   ]
  },
  {
   "cell_type": "markdown",
   "metadata": {
    "colab_type": "text",
    "id": "3pOb0OuWVfv8",
    "slideshow": {
     "slide_type": "slide"
    }
   },
   "source": [
    "## 9.4. Partial Derivatives"
   ]
  },
  {
   "cell_type": "markdown",
   "metadata": {
    "colab_type": "text",
    "id": "kcuvPGn0Vfv9",
    "slideshow": {
     "slide_type": "fragment"
    }
   },
   "source": [
    "* Functions of Two Variables\n",
    "\n",
    "  <img src=\"figures/ch09_figure07.png\" alt=\"function_two_variables\" style=\"width:550px; float:left\"/> "
   ]
  },
  {
   "cell_type": "markdown",
   "metadata": {
    "cell_style": "split",
    "colab_type": "text",
    "id": "Zy61lkDiVfwC",
    "slideshow": {
     "slide_type": "slide"
    }
   },
   "source": [
    "* Level Curves\n",
    "\n",
    "  <img src=\"figures/ch09_figure08.png\" alt=\"surface_level_curves\" style=\"width:800px; float:left\"/> "
   ]
  },
  {
   "cell_type": "markdown",
   "metadata": {
    "cell_style": "split",
    "colab_type": "text",
    "id": "oGks-Sb5VfwD",
    "slideshow": {
     "slide_type": "fragment"
    }
   },
   "source": [
    "* Functions of Three Variables, Level Surfaces\n",
    "\n",
    "  $w=F(x,y,z) \\;\\Rightarrow \\; c=F(x,y,z)$\n",
    "  \n",
    "  ex) $~\\displaystyle w=\\frac{x^2+y^2}{z}$\n",
    "\n",
    "  <img src=\"figures/ch09_figure09.png\" alt=\"level_surfaces\" style=\"width:300px; float:left\"/> "
   ]
  },
  {
   "cell_type": "markdown",
   "metadata": {
    "colab_type": "text",
    "id": "TQV-ttJKVfwE",
    "slideshow": {
     "slide_type": "slide"
    }
   },
   "source": [
    "* Partial Derivatives\n",
    "\n",
    "  $\\displaystyle\\frac{\\partial z}{\\partial x}=\\lim_{\\Delta x \\to 0} \\frac{f(x+\\Delta x, y) -f(x,y)}{\\Delta x}=f_x$\n",
    "  \n",
    "  $\\displaystyle\\frac{\\partial z}{\\partial y}=\\lim_{\\Delta y \\to 0} \\frac{f(x, y+\\Delta y) -f(x,y)}{\\Delta y}=f_y$\n",
    "  \n",
    "  $\\displaystyle\\frac{\\partial^2 z}{\\partial x^2}=\\frac{\\partial}{\\partial x}\\left( \\frac{\\partial z}{\\partial x} \\right)=f_{xx}$\n",
    "  \n",
    "  $\\displaystyle\\frac{\\partial^2 z}{\\partial x \\partial y}=\\frac{\\partial}{\\partial x}\\left( \\frac{\\partial z}{\\partial y} \\right)=f_{xy}$"
   ]
  },
  {
   "cell_type": "markdown",
   "metadata": {
    "colab_type": "text",
    "id": "h3TFJOc3VfwG",
    "slideshow": {
     "slide_type": "slide"
    }
   },
   "source": [
    "* Chain Rule\n",
    "\n",
    "  If $z=f(u,v)$ is differentiable and $u=g(x,y)$ and $v=h(x,y)$ have continuous first partial derivatives, then\n",
    "  \n",
    "  >$\\begin{align*}\n",
    "    \\frac{\\partial z}{\\partial x}&= \\frac{\\partial z}{\\partial u}\\frac{\\partial u}{\\partial x} \n",
    "   +\\frac{\\partial z}{\\partial v}\\frac{\\partial v}{\\partial x}\\\\ \n",
    "    \\frac{\\partial z}{\\partial y}&= \\frac{\\partial z}{\\partial u}\\frac{\\partial u}{\\partial y} \n",
    "   +\\frac{\\partial z}{\\partial v}\\frac{\\partial v}{\\partial y} \n",
    "   \\end{align*}$\n",
    "   \n",
    "   If $z=f(u,v)$ is differentiable and $u=g(t)$ and $v=h(t)$ are differentiable functions of a single variable $t$,\n",
    "   the ordinary derivative $\\frac{dz}{dt}$ is\n",
    "   \n",
    "   > $\\displaystyle\\frac{dz}{dt}=\\frac{\\partial z}{\\partial u}\\frac{du}{dt}+\\frac{\\partial z}{\\partial v}\\frac{dv}{dt}$"
   ]
  },
  {
   "cell_type": "markdown",
   "metadata": {
    "colab_type": "text",
    "id": "hpLSDeksVfwH",
    "slideshow": {
     "slide_type": "slide"
    }
   },
   "source": [
    "## 9.5. Directional Derivatives"
   ]
  },
  {
   "cell_type": "markdown",
   "metadata": {
    "colab_type": "text",
    "id": "lxw1YfZaVfwJ",
    "slideshow": {
     "slide_type": "fragment"
    }
   },
   "source": [
    "  <img src=\"figures/ch09_figure10.png\" alt=\"arbitrary_direction\" style=\"width:500px; float:left\"/> "
   ]
  },
  {
   "cell_type": "markdown",
   "metadata": {
    "colab_type": "text",
    "id": "0xZYXnD5VfwK",
    "slideshow": {
     "slide_type": "slide"
    }
   },
   "source": [
    "* **Vector Differential Operator**\n",
    "\n",
    "  >$\\begin{align*}\n",
    " \\nabla  &= \\mathbf{i} \\frac{\\partial }{\\partial x} +\\mathbf{j}\\frac{\\partial }{\\partial y} \\\\ \n",
    " \\nabla  &= \\mathbf{i}\\frac{\\partial }{\\partial x} +\\mathbf{j}\\frac{\\partial }{\\partial y} +\\mathbf{k}\\frac{\\partial }{\\partial z}\n",
    "\\end{align*}$ "
   ]
  },
  {
   "cell_type": "markdown",
   "metadata": {
    "colab_type": "text",
    "id": "mfSlr22OVfwL",
    "slideshow": {
     "slide_type": "fragment"
    }
   },
   "source": [
    "* **Gradient of a Function**\n",
    "\n",
    "  >$\\begin{align*}\n",
    " \\nabla f &= \\mathbf{i} \\frac{\\partial f}{\\partial x} +\\mathbf{j}\\frac{\\partial f}{\\partial y} \\\\ \n",
    " \\nabla F &= \\mathbf{i}\\frac{\\partial F}{\\partial x} +\\mathbf{j}\\frac{\\partial F}{\\partial y} +\\mathbf{k}\\frac{\\partial F}{\\partial z}\n",
    "\\end{align*}$  "
   ]
  },
  {
   "cell_type": "markdown",
   "metadata": {
    "cell_style": "split",
    "colab_type": "text",
    "id": "ojd7t4uwVfwL",
    "slideshow": {
     "slide_type": "slide"
    }
   },
   "source": [
    "* Generalization of Partial Differentiation\n",
    "\n",
    "  $\\displaystyle{\\scriptsize \\frac{f(x+\\Delta x, y+\\Delta y) -f(x,y)}{h}}= \\\\ \\;\\;\\;\\; \\displaystyle{\\scriptsize \\frac{f(x+h\\cos\\theta, y+h\\sin\\theta) -f(x,y)}{h}}$\n",
    "\n",
    "* Directional Derivative\n",
    "\n",
    "  The **directional derivative** of $z=f(x,y)$ in the direction of a unit vector \n",
    "\n",
    "  $\\begin{align*}\n",
    " {\\scriptsize D_\\mathbf{u} f(x,y)} &{\\scriptsize = \\lim_{h\\to 0} \\frac{f(x+h\\cos\\theta, y+h\\sin\\theta) -f(x,y)}{h}} \\\\ \n",
    " &= \\nabla f(x,y)\\cdot \\mathbf{u}\n",
    "\\end{align*}$"
   ]
  },
  {
   "cell_type": "markdown",
   "metadata": {
    "cell_style": "split",
    "slideshow": {
     "slide_type": "fragment"
    }
   },
   "source": [
    "<img src=\"figures/ch09_figure11.png\" alt=\"gen_PD\" style=\"width:600px\"/>"
   ]
  },
  {
   "cell_type": "markdown",
   "metadata": {
    "colab_type": "text",
    "id": "j14O9sl-VfwM",
    "slideshow": {
     "slide_type": "slide"
    }
   },
   "source": [
    "  **Partial Proof** $\\text{ }$ Let $x$, $y$, and $\\theta$ be fixed so that $g(t)=f(x+t\\cos\\theta,y+t\\sin\\theta)$ is a function of one variable.\n",
    "  We wish to compare the value of $g'(0)$, which is found by two different methods. First, \n",
    "  by the definition of a derivative,\n",
    "  \n",
    "  > $\\displaystyle {\\scriptsize g'(0)=\\lim_{h\\to 0} \\frac{g(0+h)-g(0)}{h}\n",
    "  =\\lim_{h\\to 0}\\frac{f(x+h\\cos\\theta,y+h\\sin\\theta)-f(x,y)}{h} }$\n",
    "  \n",
    "  Second, by the chain rule,\n",
    "  \n",
    "  > \\begin{align*}\n",
    "      g'(t) &=f_1(x+t\\cos\\theta,y+t\\sin\\theta)\\frac{d}{dt}(x+t\\cos\\theta)\n",
    "            +f_2(x+t\\cos\\theta,y+t\\sin\\theta)\\frac{d}{dt}(x+t\\sin\\theta) \\\\ \n",
    "           & =f_1(x+t\\cos\\theta,y+t\\sin\\theta)\\cos\\theta +f_2(x+t\\cos\\theta,y+t\\sin\\theta)\\sin\\theta \\\\  \n",
    "           & \\Downarrow\\;t\\to 0 \\\\  \n",
    "      g'(0)& =f_x(x,y)\\cos\\theta+f_y(x,y)\\sin\\theta=\\left(f_x(x,y)\\,\\mathbf{i}+f_y(x,y)\\,\\mathbf{j}\\right)\\cdot \n",
    "            \\left(\\cos\\theta\\,\\mathbf{i}+\\sin\\theta\\,\\mathbf{j}\\right) \\\\\n",
    "            &=\\nabla f(x,y)\\cdot \\mathbf{u}\n",
    "     \\end{align*}"
   ]
  },
  {
   "cell_type": "markdown",
   "metadata": {
    "slideshow": {
     "slide_type": "slide"
    }
   },
   "source": [
    "  For a function $w=F(x,y,z)$, $~$the directional derivative is defined by\n",
    "  \n",
    "  > ${\\scriptsize \\displaystyle D_\\mathbf{u} F(x,y,z) = \\lim_{h\\to 0} \\frac{F(x+h\\cos\\alpha, y+h\\cos\\beta,z +h\\cos\\gamma) -F(x,y,z)}{h} =\\nabla F(x,y,z)\\cdot \\mathbf{u}}$  "
   ]
  },
  {
   "cell_type": "markdown",
   "metadata": {
    "colab_type": "text",
    "id": "kOa1ulPEVfwN",
    "slideshow": {
     "slide_type": "slide"
    }
   },
   "source": [
    "* Maximum Value of the Directional Derivative\n",
    "\n",
    "  $\\begin{align*}\n",
    " D_\\mathbf{u}f &= \\| \\nabla f\\| \\| \\mathbf{u} \\| \\cos\\phi =\\| \\nabla f\\| \\cos\\phi \\\\ \n",
    " &= \\Rightarrow \\, -\\| \\nabla f\\| \\leq D_\\mathbf{u} f \\leq \\| \\nabla f \\|\n",
    "\\end{align*}$\n",
    "  \n",
    "  $~$\n",
    "* The gradient vector $\\nabla f$ points in the direction in which $f$ increases most rapidly, \n",
    "  <br>whereas $-\\nabla f$ points in the direction of the most decrease of $f$"
   ]
  },
  {
   "cell_type": "markdown",
   "metadata": {
    "colab_type": "text",
    "id": "bSuTrguqVfwN",
    "slideshow": {
     "slide_type": "subslide"
    }
   },
   "source": [
    "## 9.6. Tangent Planes and Normal Lines"
   ]
  },
  {
   "cell_type": "markdown",
   "metadata": {
    "colab_type": "text",
    "id": "LB_iFH51VfwO",
    "slideshow": {
     "slide_type": "slide"
    }
   },
   "source": [
    "* Geometric Interpretation of the Gradient\n",
    "\n",
    "  The derivative of $f(x(t),y(t))=c~$ with respect to $t~$ is\n",
    "  \n",
    "> $\\displaystyle \\frac{\\partial f}{\\partial x}\\frac{dx}{dt} +\\frac{\\partial f}{\\partial y}\\frac{dy}{dt}=0\n",
    "  =\\left( \\frac{\\partial f}{\\partial x}\\mathbf{i} +\\frac{\\partial f}{\\partial y} \\mathbf{j} \\right)\n",
    "  \\cdot \\left( \\frac{dx}{dt}\\mathbf{i} +\\frac{dy}{dt} \\mathbf{j} \\right)=\\nabla f \\cdot \\mathbf{r}'$\n",
    "\n",
    "<img src=\"figures/ch09_figure12.png\" alt=\"gradient_tangent\" style=\"width:350px;float:left;\"/>\n",
    "\n",
    "$~$\n",
    "\n",
    "<font color=\"blue\">$\\text{ }$$\\nabla f$ is orthogonal to the level curve at $P$</font>"
   ]
  },
  {
   "cell_type": "markdown",
   "metadata": {
    "slideshow": {
     "slide_type": "slide"
    }
   },
   "source": [
    "  The derivative of $F(x(t),y(t),z(t))=c$ $\\text{ }$implies that\n",
    "\n",
    "  $\\quad\\displaystyle \\frac{\\partial F}{\\partial x}\\frac{dx}{dt} +\\frac{\\partial F}{\\partial y}\\frac{dy}{dt}\n",
    "  +\\frac{\\partial F}{\\partial z}\\frac{dz}{dt}=0\n",
    "  =\\left( \\frac{\\partial F}{\\partial x}\\mathbf{i} +\\frac{\\partial F}{\\partial y} \\mathbf{j} \n",
    "  +\\frac{\\partial F}{\\partial z} \\mathbf{k} \\right)\n",
    "  \\cdot \\left( \\frac{dx}{dt}\\mathbf{i} +\\frac{dy}{dt} \\mathbf{j} +\\frac{dz}{dt} \\mathbf{k} \\right)\n",
    "  =\\nabla F \\cdot \\mathbf{r}'$\n",
    "  \n",
    "<img src=\"figures/ch09_figure13.png\" alt=\"normal_tangent\" style=\"float:left;width:400px\"/>\n",
    "\n",
    "$~$\n",
    "\n",
    "<font color=\"blue\">$\\quad\\nabla F$ is normal(perpendicular) to the level surface at $P$</font> "
   ]
  },
  {
   "cell_type": "markdown",
   "metadata": {
    "colab_type": "text",
    "id": "cIKpPAs6VfwO",
    "slideshow": {
     "slide_type": "slide"
    }
   },
   "source": [
    "* Let $P(x_0,y_0,z_0)$ be a point on the graph of $F(x,y,z)=c$. $~$The **tangent plane** at $P$ is\n",
    "\n",
    "  >$F_x(x_0,y_0,z_0)(x-x_0) +F_y(x_0,y_0,z_0)(y-y_0) +F_z(x_0,y_0,z_0)(z-z_0)=0$\n",
    "  \n",
    "  The line containing $P(x_0,y_0,z_0)$ that is parallel to  $\\nabla F(x_0,y_0,z_0)$ is called the **normal line** to the\n",
    "  surface at $P$"
   ]
  },
  {
   "cell_type": "markdown",
   "metadata": {
    "colab_type": "text",
    "id": "IPKgRB-7VfwP",
    "slideshow": {
     "slide_type": "slide"
    }
   },
   "source": [
    "## 9.7. Gradient, Curl and Divergence"
   ]
  },
  {
   "cell_type": "markdown",
   "metadata": {
    "colab_type": "text",
    "id": "hQOl26EgVfwQ",
    "slideshow": {
     "slide_type": "fragment"
    }
   },
   "source": [
    "* Vector Fields - Vector functions of two or three variables\n",
    "\n",
    "  $\\begin{align*}\n",
    "   \\mathbf{f}(x,y)&= P(x,y) \\mathbf{i} +Q(x,y)\\mathbf{j}\\\\ \n",
    "   \\mathbf{f}(x,y,z)&= P(x,y,z) \\mathbf{i} +Q(x,y,z)\\mathbf{j} +R(x,y,z)\\mathbf{k}\n",
    "   \\end{align*}$\n",
    "\n",
    "   $~$\n",
    "\n",
    "  <img src=\"figures/ch09_figure14.png\" alt=\"vector_field\" style=\"float:left;width:1200px\"/>"
   ]
  },
  {
   "cell_type": "markdown",
   "metadata": {
    "colab_type": "text",
    "id": "XSGF8wXXVfwQ",
    "slideshow": {
     "slide_type": "slide"
    }
   },
   "source": [
    "* The del operator combined with a scalar function $\\phi(x,y,z)$ produces a vector field\n",
    "\n",
    "  >$\\displaystyle\\mathbf{f}(x,y,z)=\\nabla \\phi =\\frac{\\partial \\phi}{\\partial x}\\mathbf{i} +\\frac{\\partial \\phi}{\\partial y}\\mathbf{j} +\\frac{\\partial \\phi}{\\partial z}\\mathbf{k} \\;\\Rightarrow\\; \\delta_{ij} \\mathbf{e}_i \\frac{\\partial \\phi}{\\partial x_j}$\n",
    "  \n",
    "  called the <font color=\"red\">**gradient of $\\phi$**</font>, $~$where $\\delta_{ij}$ is *Kronecker delta*"
   ]
  },
  {
   "cell_type": "markdown",
   "metadata": {
    "colab_type": "text",
    "id": "1G1lTEpzVfwR",
    "slideshow": {
     "slide_type": "slide"
    }
   },
   "source": [
    "* The <font color=\"red\">**curl** of a vector field $~\\mathbf{f}=P\\,\\mathbf{i} +Q\\,\\mathbf{j} +R\\,\\mathbf{k}~$</font> is the vector field\n",
    "\n",
    "   > $\\mathrm{curl}\\, \\mathbf{f}=\\nabla \\times \\mathbf{f}= \n",
    "    \\begin{vmatrix}\n",
    "       \\mathbf{i} & \\mathbf{j} & \\mathbf{k}\\\\ \n",
    "       \\frac{\\partial }{\\partial x} & \\frac{\\partial }{\\partial y} & \\frac{\\partial }{\\partial z} \\\\\n",
    "       P & Q & R\n",
    "     \\end{vmatrix} \n",
    "  \\; \\Rightarrow \\; \\varepsilon_{ijk} \\mathbf{e}_i \\frac{\\partial}{\\partial x_j} f_k$\n",
    "    \n",
    "   where $\\varepsilon_{ijk}$ is *Levi-Civita Symbol*"
   ]
  },
  {
   "cell_type": "markdown",
   "metadata": {
    "colab_type": "text",
    "id": "kc4-9vXtVfwS",
    "slideshow": {
     "slide_type": "fragment"
    }
   },
   "source": [
    "* The <font color=\"red\">**divergence** of a vector field $~\\mathbf{f}=P\\,\\mathbf{i} +Q\\,\\mathbf{j} + R\\,\\mathbf{k}~$</font> is the scalar function\n",
    "\n",
    "  >$\\displaystyle\\mathrm{div} \\,\\mathbf{f}=\\nabla \\cdot \\mathbf{f}=\\frac{\\partial P}{\\partial x} +\\frac{\\partial Q}{\\partial y} +\\frac{\\partial R}{\\partial z}\n",
    "\\;\\Rightarrow\\;\\delta_{ij} \\frac{\\partial}{\\partial x_i} f_j$\n",
    "\n",
    "  "
   ]
  },
  {
   "cell_type": "markdown",
   "metadata": {
    "colab_type": "text",
    "id": "DJA6fDOQVfwT",
    "slideshow": {
     "slide_type": "slide"
    }
   },
   "source": [
    "* Two important properties and plus alpha\n",
    " \n",
    "  ><font color=\"blue\">$\\mathrm{curl}(\\mathrm{grad}\\, f) =\\nabla\\times\\nabla f=\\mathbf{0} \\; \\Rightarrow \\; \\varepsilon_{ijk} \\mathbf{e}_i \\frac{\\partial}{\\partial x_j} \\frac{\\partial f}{\\partial x_k}= 0 \\mathbf{e}_i=\\mathbf{0}$</font>\n",
    " \n",
    "  ><font color=\"blue\">$\\mathrm{div}(\\mathrm{curl} \\,\\mathbf{f})=\\nabla \\cdot(\\nabla\\times\\mathbf{f})=0 \\; \\Rightarrow \\; \n",
    "\\delta_{ij} \\frac{\\partial}{\\partial x_i} \\varepsilon_{jlm} \\frac{\\partial}{\\partial x_l} f_m \n",
    "=\\varepsilon_{ilm} \\frac{\\partial^2}{\\partial x_i \\partial x_l} f_m=0$</font>\n",
    "\n",
    "  ---\n",
    "\n",
    "  > <font color=\"red\">${\\scriptsize \\nabla \\cdot (\\nabla f) = \\nabla^2 f \\; \\Rightarrow \\; \\delta_{ij} \\frac{\\partial}{\\partial x_i} \\frac{\\partial f}{\\partial x_j} =\\frac{\\partial^2 f}{\\partial x_i^2} }$</font>\n",
    "  \n",
    "  > ${\\scriptsize\\nabla \\cdot \\nabla \\mathbf{f} = \\nabla^2 \\mathbf{f} \\; \\Rightarrow \\; \\delta_{ij} \\frac{\\partial}{\\partial x_i} \\mathbf{e}_m\\frac{\\partial f_m}{\\partial x_j} \n",
    "=\\mathbf{e}_m \\frac{\\partial^2 f_m}{\\partial x_i^2}}$\n",
    "  \n",
    "  > ${\\scriptsize\\nabla \\times (\\nabla \\times \\mathbf{f}) = \\nabla (\\nabla \\cdot \\mathbf{f}) -\\nabla^2 \\mathbf{f}=\\; \\Rightarrow \\; \\varepsilon_{ijk} \\mathbf{e}_i \\frac{\\partial}{\\partial x_j} \\varepsilon_{klm} \\frac{\\partial}{\\partial x_l}f_m = \n",
    "(\\delta_{il}\\delta_{jm}-\\delta_{im}\\delta_{jl})\\mathbf{e}_i \\frac{\\partial}{\\partial x_j} \\frac{\\partial}{\\partial x_l}f_m \n",
    "= \\mathbf{e}_i \\frac{\\partial}{\\partial x_i} \\frac{\\partial f_j}{\\partial x_j} -\\mathbf{e}_i \\frac{\\partial^2 f_i}{\\partial x_j^2}}$"
   ]
  },
  {
   "cell_type": "markdown",
   "metadata": {
    "colab_type": "text",
    "id": "s5J5L0wNVfwT",
    "slideshow": {
     "slide_type": "slide"
    }
   },
   "source": [
    "* Product Rules with $\\nabla$\n",
    "\n",
    "  > $\\nabla (fg) = f \\nabla g + g \\nabla f$\n",
    "  \n",
    "  > $\\nabla (\\mathbf{u} \\cdot \\mathbf{v}) = \\mathbf{u} \\times (\\nabla \\times \\mathbf{v}) +\\mathbf{v} \\times (\\nabla \n",
    "    \\times \\mathbf{u}) +(\\mathbf{u} \\cdot \\nabla) \\mathbf{v} +(\\mathbf{v} \\cdot \\nabla) \\mathbf{u} = \\mathbf{v} \\cdot \\nabla\n",
    "    \\mathbf{u} + \\mathbf{u} \\cdot \\nabla \\mathbf{v}$\n",
    "  \n",
    "  > $\\nabla \\cdot (f \\mathbf{u}) = f (\\nabla \\cdot \\mathbf{u}) +\\mathbf{u} \\cdot \\nabla f$\n",
    "\n",
    "  > $\\nabla \\cdot (\\mathbf{u} \\times \\mathbf{v}) = \\mathbf{v} \\cdot (\\nabla \\times \\mathbf{u}) \n",
    "   -\\mathbf{u} \\cdot (\\nabla \\times \\mathbf{v})$\n",
    "\n",
    "  > $\\nabla \\times (f \\mathbf{u}) = \\nabla f \\times \\mathbf{u} +f (\\nabla \\times \\mathbf{u})$\n",
    "\n",
    "  > $\\nabla \\times (\\mathbf{u} \\times \\mathbf{v}) = \\mathbf{u} (\\nabla \\cdot \\mathbf{v}) \n",
    "    -\\mathbf{v} (\\nabla \\cdot \\mathbf{u}) +(\\mathbf{v} \\cdot \\nabla) \\mathbf{u} -(\\mathbf{u} \\cdot \\nabla) \\mathbf{v}$"
   ]
  },
  {
   "cell_type": "markdown",
   "metadata": {
    "slideshow": {
     "slide_type": "slide"
    }
   },
   "source": [
    "* Cylinder Coordinates\n",
    "\n",
    " > $q_1=r, \\;q_2=\\theta, \\; q_3=z$\n",
    " \n",
    " > $h_1=h_r=1, \\;\\;h_2=h_\\theta=r, \\;\\;h_3=h_z=1$\n",
    " \n",
    "* Spherical Coordinates\n",
    " \n",
    " > $q_1=\\rho, \\;q_2=\\phi, \\; q_3=\\theta$\n",
    " \n",
    " > $h_1=h_\\rho=1, \\;\\;h_2=h_\\phi=\\rho, \\;\\;h_3=h_\\phi=\\rho \\sin\\phi$"
   ]
  },
  {
   "cell_type": "markdown",
   "metadata": {
    "slideshow": {
     "slide_type": "slide"
    }
   },
   "source": [
    "\n",
    "\\begin{align*}\n",
    " \\nabla f &= \\hat{\\mathbf{q}}_1 \\frac{1}{h_1} \\frac{\\partial f}{\\partial q_1}\n",
    "           + \\hat{\\mathbf{q}}_2 \\frac{1}{h_2} \\frac{\\partial f}{\\partial q_2}\n",
    "           + \\hat{\\mathbf{q}}_3 \\frac{1}{h_3} \\frac{\\partial f}{\\partial q_3}\\\\ \\\\\n",
    " \\nabla \\cdot \\mathbf{u} &= \\frac{1}{h_1 h_2 h_3} \\left[ \\frac{\\partial }{\\partial q_1} \\left( u_1h_2h_3 \\right)\n",
    "           + \\frac{\\partial }{\\partial q_2} \\left( u_2h_1h_3 \\right)  \n",
    "           + \\frac{\\partial }{\\partial q_3} \\left( u_3h_1h_2 \\right)\\right]\\\\ \\\\\n",
    " \\nabla^2 f&= \\frac{1}{h_1 h_2 h_3} \\left[ \\frac{\\partial }{\\partial q_1} \\left( \\frac{h_2 h_3}{h_1} \\frac{\\partial f}{\\partial q_1} \\right)\n",
    "           + \\frac{\\partial }{\\partial q_2} \\left( \\frac{h_1 h_3}{h_2} \\frac{\\partial f}{\\partial q_2}  \\right)  \n",
    "           + \\frac{\\partial }{\\partial q_3} \\left( \\frac{h_1 h_2}{h_3} \\frac{\\partial f}{\\partial q_3} \\right)\\right]\\\\  \\\\\n",
    " \\nabla \\times \\mathbf{u} &= \\frac{1}{h_1 h_2 h_3} \\begin{vmatrix}\n",
    " h_1 \\hat{\\mathbf{q}}_1 & h_2 \\hat{\\mathbf{q}}_2 & h_3 \\hat{\\mathbf{q}}_3\\\\ \n",
    " \\frac{\\partial }{\\partial q_1} & \\frac{\\partial }{\\partial q_2} & \\frac{\\partial }{\\partial q_3}\\\\ \n",
    " h_1 u_1 & h_2 u_2 & h_3 u_3 \n",
    "\\end{vmatrix}\n",
    "\\end{align*}"
   ]
  },
  {
   "cell_type": "markdown",
   "metadata": {
    "colab_type": "text",
    "id": "OqG7KDrBVfwU",
    "slideshow": {
     "slide_type": "slide"
    }
   },
   "source": [
    "* Physical Interpretations\n",
    "\n",
    "$~$\n",
    "\n",
    "<center>\n",
    "  <img src=\"figures/ch09_figure15.png\" alt=\"rotational\" style=\"width:600px\"/>  \n",
    "  <img src=\"figures/ch09_figure16.png\" alt=\"source_sink\" style=\"width:250px\"/>\n",
    "</center>"
   ]
  },
  {
   "cell_type": "markdown",
   "metadata": {
    "colab_type": "text",
    "id": "7IWFSUcaVfwW",
    "slideshow": {
     "slide_type": "slide"
    }
   },
   "source": [
    "## 9.8. Line Integrals "
   ]
  },
  {
   "cell_type": "markdown",
   "metadata": {
    "colab_type": "text",
    "id": "C04EV6nUVfwX",
    "slideshow": {
     "slide_type": "fragment"
    }
   },
   "source": [
    "* Integration of a function defined along a curve\n",
    "\n",
    "$~$\n",
    "<center><img src=\"figures/ch09_figure17.png\" alt=\"various_curve\" style=\"width:450px\"/></center>"
   ]
  },
  {
   "cell_type": "markdown",
   "metadata": {
    "colab_type": "text",
    "id": "yhWlUnaoVfwX",
    "slideshow": {
     "slide_type": "slide"
    }
   },
   "source": [
    "* Definite Integral\n",
    "\n",
    "  >$\\displaystyle \\lim_{\\|P\\|\\to 0} \\sum_{k=1}^n f(x_k^*)\\Delta x_k = \\int_a^b f(x)\\,dx$\n",
    "  \n",
    "<center> <img src=\"figures/ch09_figure18.png\" alt=\"sample_point_in_k\" style=\"width:550px\"/> </center>"
   ]
  },
  {
   "cell_type": "markdown",
   "metadata": {
    "cell_style": "split",
    "colab_type": "text",
    "id": "k2dwDpVkVfwY",
    "slideshow": {
     "slide_type": "slide"
    }
   },
   "source": [
    "* Line Integrals in the Plane\n",
    "\n",
    "\n",
    "$~$\n",
    "<center> <img src=\"figures/ch09_figure19.png\" alt=\"sample_point_in_k_subarc\" style=\"width:400px\"/>  </center> \n"
   ]
  },
  {
   "cell_type": "markdown",
   "metadata": {
    "cell_style": "split",
    "slideshow": {
     "slide_type": "fragment"
    }
   },
   "source": [
    "$~$\n",
    "$~$\n",
    "\n",
    "\\begin{align*}\n",
    "    \\lim_{\\| P \\|\\to 0} \\sum_{k=1}^n G(x_k^*, y_k^*)\\,\\Delta x_k &= \\int_C G(x,y)\\,dx\\\\ \n",
    "    \\lim_{\\| P \\|\\to 0} \\sum_{k=1}^n G(x_k^*, y_k^*)\\,\\Delta y_k &=\\int_C G(x,y)\\,dy\\\\\n",
    "    \\lim_{\\| P \\|\\to 0} \\sum_{k=1}^n G(x_k^*, y_k^*)\\,\\Delta s_k &= \\int_C G(x,y)\\,ds\n",
    "    \\end{align*}"
   ]
  },
  {
   "cell_type": "markdown",
   "metadata": {
    "colab_type": "text",
    "id": "pEhG-eluVfwZ",
    "slideshow": {
     "slide_type": "slide"
    }
   },
   "source": [
    "* Method of Evaluation - Curve Defined Parametrically, $\\;x=f(t)$, $\\;y=g(t)$, $\\;a\\leq t \\leq b$ \n",
    "\n",
    "  > \\begin{align*}\n",
    "     {\\scriptsize \\int_C G(x,y)\\,dx } &{\\scriptsize =  \\int_a^b G(f(t), g(t)) \\,f'(t)\\,dt }\\\\ \n",
    "    {\\scriptsize \\int_C G(x,y)\\,dy } &{\\scriptsize = \\int_a^b G(f(t), g(t)) \\,g'(t)\\,dt } \\\\\n",
    "    {\\scriptsize \\int_C G(x,y)\\,ds } &{\\scriptsize= \\int_a^b G(f(t), g(t)) \\,\\sqrt{[f'(t)]^2 +[g'(t)]^2}\\,dt }\n",
    "    \\end{align*}\n",
    "\n",
    "  and Curve Defined by an Explicit Function, $\\;y=f(x)$, $\\;a\\leq x \\leq b$ \n",
    "\n",
    "  > \\begin{align*}\n",
    "    {\\scriptsize \\int_C G(x,y)\\,dx } & {\\scriptsize = \\int_a^b G(x, f(x)) \\,dx } \\\\ \n",
    "    {\\scriptsize \\int_C G(x,y)\\,dy } & {\\scriptsize = \\int_a^b G(x, f(x)) \\,f'(x)\\,dx } \\\\\n",
    "    {\\scriptsize \\int_C G(x,y)\\,ds } & {\\scriptsize = \\int_a^b G(x, f(x)) \\,\\sqrt{1 +[f'(x)]^2}\\,dx }\n",
    "    \\end{align*}  "
   ]
  },
  {
   "cell_type": "markdown",
   "metadata": {
    "cell_style": "split",
    "colab_type": "text",
    "id": "UJe6fkgCVfwZ",
    "slideshow": {
     "slide_type": "slide"
    }
   },
   "source": [
    "* Notation\n",
    "\n",
    "  ${\\scriptsize \\displaystyle\\int_C P\\,dx +\\int_C Q\\,dy \\,\\Rightarrow \\, \\int_C P\\,dx +Q \\,dy}$\n",
    "\n",
    "  ${\\scriptsize \\displaystyle\\int_{-C} P\\,dx +Q\\,dy = -\\int_C P\\,dx +Q\\,dy}$\n",
    "\n",
    "$~$\n",
    "<center><img src=\"figures/ch09_figure20.png?raw=1\" alt=\"opposite_orientation\" style=\"width:350px\"/> </center>"
   ]
  },
  {
   "cell_type": "markdown",
   "metadata": {
    "cell_style": "split",
    "slideshow": {
     "slide_type": "fragment"
    }
   },
   "source": [
    "* A line integral along a closed curve $C$\n",
    "  \n",
    "  ${\\scriptsize \\,\\Rightarrow\\,\\text{ } \\displaystyle\\oint_C P \\,dx +Q \\,dy}$\n"
   ]
  },
  {
   "cell_type": "markdown",
   "metadata": {
    "colab_type": "text",
    "id": "uay2DqVeVfwa",
    "slideshow": {
     "slide_type": "slide"
    }
   },
   "source": [
    "* Line Integrals in Space\n",
    "\n",
    "  >$\\displaystyle\\int_C G(x,y,z)\\,ds = \\int_a^b G(f(t), g(t),h(t)) \\,\\sqrt{[f'(t)]^2 +[g'(t)]^2 +[h'(t)]^2}\\,dt$\n",
    "  \n",
    "  Suppose the vector-valued function $~\\mathbf{f}(x,y,z)=P(x,y,z)\\mathbf{i} +Q(x,y,z)\\mathbf{j} +R(x,y,z)\\mathbf{k}~$ is defined along a curve $C$ and\n",
    "  $d\\mathbf{r}=dx\\mathbf{i} +dy\\mathbf{j} +dz\\mathbf{k}~$ is the displacement vector of points on $C$, $~$then \n",
    "  \n",
    "  >$\\displaystyle\\int_C \\mathbf{f}\\cdot \\,d\\mathbf{r} =\\int_C P(x,y,z) \\, dx +Q(x,y,z) \\, dy +R(x,y,z) \\, dz$"
   ]
  },
  {
   "cell_type": "markdown",
   "metadata": {
    "colab_type": "text",
    "id": "WtT-ClqLVfwb",
    "slideshow": {
     "slide_type": "slide"
    }
   },
   "source": [
    "* Work and Circulation\n",
    "\n",
    " >$\\displaystyle W =\\int_C \\mathbf{f} \\cdot d\\mathbf{r} = \\int_C \\mathbf{f}\\cdot \\mathbf{T} \\,ds $\n",
    " \n",
    " >$\\displaystyle \\mathrm{Circulation}= \\oint_C \\mathbf{f} \\cdot d\\mathbf{r} = \\oint_C \\mathbf{f}\\cdot \\mathbf{T} \\,ds $\n",
    " \n",
    "<center> <img src=\"figures/ch09_figure21.png\" alt=\"circulation\" style=\"width:380px\"/> </center>"
   ]
  },
  {
   "cell_type": "markdown",
   "metadata": {
    "colab_type": "text",
    "id": "ScJvVIdwVfwb",
    "slideshow": {
     "slide_type": "slide"
    }
   },
   "source": [
    "## 9.9. Independence of the Path"
   ]
  },
  {
   "cell_type": "markdown",
   "metadata": {
    "colab_type": "text",
    "id": "C3iOal-YVfwc",
    "slideshow": {
     "slide_type": "fragment"
    }
   },
   "source": [
    "* The value of a line integral $\\displaystyle\\int_C \\mathbf{F}\\cdot \\,d\\mathbf{r}$ depends on the path of integration. Stated another way, <br>if $C_1$ and $C_2$ are two different paths between the same points $A$ and $B$, $~$then we expect that\n",
    "\n",
    "  $~$\n",
    "  $\\displaystyle\\int_{C_1} \\mathbf{F}\\cdot \\,d\\mathbf{r} \\neq \\int_{C_2} \\mathbf{F}\\cdot \\,d\\mathbf{r}$"
   ]
  },
  {
   "cell_type": "markdown",
   "metadata": {
    "colab_type": "text",
    "id": "RNeaw-A5Vfwe",
    "slideshow": {
     "slide_type": "fragment"
    }
   },
   "source": [
    "* **Path Independence**\n",
    "\n",
    "  A line integral $\\displaystyle\\int_C \\mathbf{f}\\cdot d\\mathbf{r}~$ is independence of the path if $\\displaystyle\\int_{C_1} \\mathbf{f}\\cdot d\\mathbf{r}=\\int_{C_2}\\mathbf{f}\\cdot d\\mathbf{r}~$\n",
    "  for any two paths $C_1$ and $C_2$ between $A$ and $B$"
   ]
  },
  {
   "cell_type": "markdown",
   "metadata": {
    "colab_type": "text",
    "id": "bIgU5E8pVfwc",
    "slideshow": {
     "slide_type": "slide"
    }
   },
   "source": [
    "* A vector function $\\mathbf{f}$ in 2- or 3-space is said to be **conservative** $\\text{ }$if $\\mathbf{f}$ can be written as the gradient of a scalar function $\\phi$. $\\text{ }$The function $\\phi$ is called a **potential function** for $\\mathbf{f}$\n",
    "  \n",
    "  In other words, $\\mathbf{f}$ is conservative if there exists a function $\\phi$ such that $\\mathbf{f}=\\nabla \\phi$. $\\text{ }$A conservative vector field is also called a **gradient vector field**"
   ]
  },
  {
   "cell_type": "markdown",
   "metadata": {
    "colab_type": "text",
    "id": "F1A0mAEKVfwe",
    "slideshow": {
     "slide_type": "fragment"
    }
   },
   "source": [
    "* **Fundamental Theorem**\n",
    "\n",
    "  If $~\\mathbf{f}(x,y,z)~$ is a conservative vector field in $R$ and $\\phi$ is a potential function for $\\mathbf{f}$, $~$then\n",
    "  \n",
    "  >$\\displaystyle\\int_C \\mathbf{f}\\cdot d\\mathbf{r}=\\int_C \\nabla\\phi \\cdot d\\mathbf{r}=\\phi(B) -\\phi(A)$\n",
    "  \n",
    "  where $A=(x(a), y(a), z(a))$ and $B=(x(b), y(b), z(b))$"
   ]
  },
  {
   "cell_type": "markdown",
   "metadata": {
    "colab_type": "text",
    "id": "otzdT1j_Vfwf",
    "slideshow": {
     "slide_type": "slide"
    }
   },
   "source": [
    "* Equivalent Concepts\n",
    "\n",
    "  * In an open connected region $R$, $\\displaystyle\\int_C \\mathbf{f}\\cdot d\\mathbf{r}$ is independent of the path $C$ if and only if the vector field $\\mathbf{f}$ is conservative in $R$\n",
    "  \n",
    "  * In an open connected region $R$, $\\displaystyle\\int_C \\mathbf{f}\\cdot d\\mathbf{r}$ is independent of the path $C$ if and only if \n",
    "    $\\displaystyle\\oint_{C'} \\mathbf{f}\\cdot d\\mathbf{r}=0~$ for every closed path $~C'$ in $R$   \n",
    "    \n",
    "  <img src=\"figures/ch09_figure22.png\" alt=\"regions\" style=\"width:350px\"/>    "
   ]
  },
  {
   "cell_type": "markdown",
   "metadata": {
    "colab_type": "text",
    "id": "-Z0AiG-sVfwg",
    "slideshow": {
     "slide_type": "slide"
    }
   },
   "source": [
    "* Test for a Conservative Field\n",
    "\n",
    "  Suppose $\\mathbf{f}(x,y,z)=P(x,y,z)\\mathbf{i} +Q(x,y,z)\\mathbf{j} +R(x,y,z)\\mathbf{k}$ is a conservative vector field in an open region of 3-space, and that $P$, $Q$, and $R$ are continuous and have continuous first partial derivatives in that region \n",
    "  \n",
    "  Then $\\text{ }$$\\mathbf{f}=\\nabla \\phi$ and $\\nabla\\times\\mathbf{f}=\\nabla\\times\\nabla\\phi=\\mathbf{0}$; $\\text{ }$that is\n",
    "  \n",
    "  >$\\displaystyle \\nabla\\times\\mathbf{f}=\\left( \\frac{\\partial R}{\\partial y} -\\frac{\\partial Q}{\\partial z}\\right)\\mathbf{i}\n",
    "   +\\left( \\frac{\\partial P}{\\partial z} -\\frac{\\partial R}{\\partial x}\\right)\\mathbf{j}\n",
    "   +\\left( \\frac{\\partial Q}{\\partial x} -\\frac{\\partial P}{\\partial y}\\right)\\mathbf{k}=\\mathbf{0}$\n",
    "  \n",
    "  >$\\text{ }\\;\\;\\;\\;\\Downarrow$\n",
    "  \n",
    "  >$\\displaystyle \\frac{\\partial P}{\\partial y} =\\frac{\\partial Q}{\\partial x}, \\;\\frac{\\partial P}{\\partial z} =\\frac{\\partial R}{\\partial x},\\;\n",
    "  \\frac{\\partial Q}{\\partial z} =\\frac{\\partial R}{\\partial y}$\n",
    "  \n",
    "  for all $(x,y,z)$ in that region"
   ]
  },
  {
   "cell_type": "markdown",
   "metadata": {
    "colab_type": "text",
    "id": "U3zDkO65Vfwh",
    "slideshow": {
     "slide_type": "slide"
    }
   },
   "source": [
    "## 9.10. Double Integrals"
   ]
  },
  {
   "cell_type": "markdown",
   "metadata": {
    "colab_type": "text",
    "id": "JtaP58mTVfwi",
    "slideshow": {
     "slide_type": "fragment"
    }
   },
   "source": [
    "* The Double Integral\n",
    " \n",
    "  Let $f$ be a function of two variables defined on a closed region $R$. Then the **double integral of $f$ over $R$** is given by\n",
    "  \n",
    "  >$\\displaystyle \\lim_{\\|P\\|\\to 0} \\sum_{k=1}^n f\\left(x_k^*, y_k^*\\right) \\Delta A_k = \\iint_R f(x,y)\\,dA$"
   ]
  },
  {
   "cell_type": "markdown",
   "metadata": {
    "cell_style": "split",
    "colab_type": "text",
    "id": "sIJzOdpHVfwk",
    "slideshow": {
     "slide_type": "slide"
    }
   },
   "source": [
    "* Area and Volume\n",
    "\n",
    ">$\\displaystyle A=\\iint_R dA\\;$ \n",
    "\n",
    ">$\\displaystyle\\; V=\\iint_R f(x,y) \\,dA$"
   ]
  },
  {
   "cell_type": "markdown",
   "metadata": {
    "cell_style": "split",
    "slideshow": {
     "slide_type": "fragment"
    }
   },
   "source": [
    "<center>  <img src=\"figures/ch09_figure23.png\" alt=\"volume\" style=\"width:500px\"/>  </center>"
   ]
  },
  {
   "cell_type": "markdown",
   "metadata": {
    "colab_type": "text",
    "id": "6uSRd30CVfwl",
    "slideshow": {
     "slide_type": "slide"
    }
   },
   "source": [
    "* Properties of Double Integrals\n",
    "\n",
    "  >$\\displaystyle\\iint_R kf(x,y) \\,dA = k \\iint_R f(x,y) \\,dA$\n",
    "\n",
    "  >$\\displaystyle\\iint_R f(x,y) \\pm g(x,y)  \\,dA = \\iint_R f(x,y) \\,dA \\pm \\iint_R g(x,y) \\,dA$\n",
    "  \n",
    "  >$\\displaystyle\\iint_R f(x,y) \\,dA = \\iint_{R_1} f(x,y) \\,dA + \\iint_{R_2} f(x,y) \\,dA$\n",
    "  \n",
    "  <img src=\"figures/ch09_figure24.png\" alt=\"union_region\" style=\"width:280px\"/>  "
   ]
  },
  {
   "cell_type": "markdown",
   "metadata": {
    "cell_style": "split",
    "colab_type": "text",
    "id": "65MzmFfmVfwm",
    "slideshow": {
     "slide_type": "slide"
    }
   },
   "source": [
    "### Evaluation of Double Integrals\n",
    "\n",
    "  $~$\n",
    "  Let $f$ be continuous on a region $R$\n",
    "  \n",
    "* If $R$ is of Type I, then\n",
    "  \n",
    "    $\\displaystyle\\iint_R f(x,y) \\,dA =\\int_a^b\\int_{g_1(x)}^{g_2(x)} f(x,y) \\,dydx$\n",
    "\n",
    "  $~$\n",
    "\n",
    "* If $R$ is of Type II, then\n",
    "  \n",
    "    $\\displaystyle\\iint_R f(x,y) \\,dA =\\int_c^d\\int_{h_1(y)}^{h_2(y)} f(x,y) \\,dxdy$\n",
    "    \n",
    "    "
   ]
  },
  {
   "cell_type": "markdown",
   "metadata": {
    "cell_style": "split",
    "slideshow": {
     "slide_type": "fragment"
    }
   },
   "source": [
    "$~$\n",
    "\n",
    "<center>  <img src=\"figures/ch09_figure25.png\" alt=\"region_type\" style=\"width:400px\"/> </center>"
   ]
  },
  {
   "cell_type": "markdown",
   "metadata": {
    "colab_type": "text",
    "id": "UVDMvGfFVfwm",
    "slideshow": {
     "slide_type": "slide"
    }
   },
   "source": [
    "* Center of Mass and Moments of Inertia\n",
    "\n",
    "> $\\displaystyle \\bar{x} = \\frac{\\displaystyle\\iint_R x\\rho(x,y)\\,dA}{M} \\, \\;\\textrm{and} \\; \\bar{y}=\\frac{\\displaystyle\\iint_R y\\rho(x,y) \\,dA}{M}$\n",
    "\n",
    "> $\\displaystyle I_y=\\iint_R x^2\\rho(x,y) \\, dA\\;\\textrm{and} \\; I_x=\\iint_R y^2\\rho(x,y) \\,dA$"
   ]
  },
  {
   "cell_type": "markdown",
   "metadata": {
    "colab_type": "text",
    "id": "olIiFLVEVfwn",
    "slideshow": {
     "slide_type": "slide"
    }
   },
   "source": [
    "## 9.11. Double Integrals in Polar Coordinates"
   ]
  },
  {
   "cell_type": "markdown",
   "metadata": {
    "cell_style": "split",
    "colab_type": "text",
    "id": "y4E9MrjaVfwo",
    "slideshow": {
     "slide_type": "fragment"
    }
   },
   "source": [
    "* Polar Rectangles\n",
    "\n",
    "  \\begin{align*}\n",
    "    \\Delta A_k &=\\frac{1}{2}(r_{k+1}^2 -r_k^2)\\Delta \\theta_k \\\\ &=\\frac{1}{2}(r_{k+1} +r_k)(r_{k+1} -r_k) \\Delta\\theta_k \\\\&=r_k^*\\Delta r_k \\Delta\\theta_k\n",
    "  \\end{align*}\n",
    "  "
   ]
  },
  {
   "cell_type": "markdown",
   "metadata": {
    "cell_style": "split",
    "slideshow": {
     "slide_type": "fragment"
    }
   },
   "source": [
    "  <img src=\"figures/ch09_figure26.png\" alt=\"polar_rectangle\" style=\"width:850px\"/>  "
   ]
  },
  {
   "cell_type": "markdown",
   "metadata": {
    "cell_style": "split",
    "colab_type": "text",
    "id": "oKABfaI2Vfwp",
    "slideshow": {
     "slide_type": "slide"
    }
   },
   "source": [
    "* Double Integrals in Polar Coordinates\n",
    "\n",
    "$\\begin{align*}\n",
    " \\lim_{\\| P \\|\\to 0} \\sum_{k=1}^n &f\\left( r_k^*, \\theta_k^* \\right) r_k^* \\Delta r_k \\Delta\\theta_k \\\\ \n",
    " &= \\iint_R f(r,\\theta) \\,dA\\\\ \n",
    " &= \\int_\\alpha^\\beta \\int_{g_1(\\theta)}^{g_2(\\theta)} f(r,\\theta)\\,r \\,dr \\,d\\theta \\\\\n",
    " &=\\int_a^b \\int_{h_1(r)}^{h_2(r)} f(r,\\theta)\\,r \\,d\\theta \\,dr\n",
    "\\end{align*}$\n"
   ]
  },
  {
   "cell_type": "markdown",
   "metadata": {
    "cell_style": "split",
    "slideshow": {
     "slide_type": "fragment"
    }
   },
   "source": [
    "  <img src=\"figures/ch09_figure27.png\" alt=\"R_1\" style=\"width:350px\"/>\n",
    "  <img src=\"figures/ch09_figure28.png?raw=1\" alt=\"R_2\" style=\"width:350px\"/>  "
   ]
  },
  {
   "cell_type": "markdown",
   "metadata": {
    "colab_type": "text",
    "id": "XvOXay8LVfwq",
    "slideshow": {
     "slide_type": "slide"
    }
   },
   "source": [
    "## 9.12. Green's Theorem"
   ]
  },
  {
   "cell_type": "markdown",
   "metadata": {
    "cell_style": "split",
    "colab_type": "text",
    "id": "RIz2iJ5tVfwq",
    "slideshow": {
     "slide_type": "fragment"
    }
   },
   "source": [
    "* **Green's Theorem in the Plane**\n",
    "\n",
    "  Suppose that $C$ is a piecewise-smooth simple closed curve bounding a simply connected region $R$ \n",
    "  \n",
    "  If $P$, $Q$, $\\frac{\\partial P}{\\partial y}$,\n",
    "  and $\\frac{\\partial Q}{\\partial x}$ are continuous on $R$, then\n",
    "  \n",
    "  $\\displaystyle\\oint_C P \\,dx +Q \\,dy = \\iint_R \\left( \\frac{\\partial Q}{\\partial x} -\\frac{\\partial P}{\\partial y} \\right)\\, dA$\n",
    "\n"
   ]
  },
  {
   "cell_type": "markdown",
   "metadata": {
    "cell_style": "split",
    "slideshow": {
     "slide_type": "fragment"
    }
   },
   "source": [
    "<center>  <img src=\"figures/ch09_figure29.png\" alt=\"direction_C\" style=\"width:400px\"/> </center>"
   ]
  },
  {
   "cell_type": "markdown",
   "metadata": {
    "slideshow": {
     "slide_type": "slide"
    }
   },
   "source": [
    "  * **Partial Proof**\n",
    "  \n",
    "  > \\begin{align*}\n",
    "     -\\iint_R \\frac{\\partial P}{\\partial y}\\, dA &= -\\int_a^b \\int_{g_1(x)}^{g_2(x)} \\frac{\\partial P}{\\partial y} \\,dy dx =-\\int_a^b [P(x,g_2(x)) -P(x,g_1(x))] \\,dx\\\\ \n",
    "     & =\\int_a^b P(x,g_1(x))\\,dx +\\int_b^a P(x,g_2(x)) \\,dx = \\oint_C P(x,y) \\,dx \n",
    "    \\end{align*}\n",
    "  <br>\n",
    "  <img src=\"figures/ch09_figure30.png\" alt=\"Green's Proof\" style=\"width:400px\"/>    "
   ]
  },
  {
   "cell_type": "markdown",
   "metadata": {
    "colab_type": "text",
    "id": "pzO33DqSVfwr",
    "slideshow": {
     "slide_type": "slide"
    }
   },
   "source": [
    "* Region with Holes\n",
    "\n",
    "  >\\begin{align*}\n",
    "    \\iint_R \\left( \\frac{\\partial Q}{\\partial x} -\\frac{\\partial P}{\\partial y} \\right)\\, dA &= \n",
    "     \\iint_{R_1} \\left( \\frac{\\partial Q}{\\partial x} -\\frac{\\partial P}{\\partial y} \\right)\\, dA \n",
    "     +\\iint_{R_2} \\left( \\frac{\\partial Q}{\\partial x} -\\frac{\\partial P}{\\partial y} \\right)\\, dA\\\\ \n",
    "    &=\\oint_{C_1} P \\,dx +Q \\,dy +\\oint_{C_2} P \\,dx +Q \\,dy =\\oint_C P \\,dx +Q \\,dy\n",
    "    \\end{align*}\n",
    "  \n",
    "<center> <img src=\"figures/ch09_figure31.png\" alt=\"region with hole\" style=\"width:650px\"/> <center>"
   ]
  },
  {
   "cell_type": "markdown",
   "metadata": {
    "colab_type": "text",
    "id": "jzWC3EF4Vfws",
    "slideshow": {
     "slide_type": "slide"
    }
   },
   "source": [
    "* **Example** $\\text{ }$Evaluate $\\displaystyle\\oint_{C} \\frac{-y}{x^2 +y^2}\\, dx + \\frac{x}{x^2 + y^2}\\,dy$, \n",
    "  $\\text{ }$where $C=C_1 \\cup C_2$ is the boundary of the shaded region $R$\n",
    "  \n",
    "  ><img src=\"figures/ch09_figure32.png\" alt=\"Ex_region\" style=\"width:400px\"/>  "
   ]
  },
  {
   "cell_type": "markdown",
   "metadata": {
    "slideshow": {
     "slide_type": "fragment"
    }
   },
   "source": [
    "* **Example** $\\text{ }$ Evaluate $\\displaystyle\\oint_{C_1} \\frac{-y}{x^2 +y^2}\\, dx + \\frac{x}{x^2 + y^2}\\,dy$"
   ]
  },
  {
   "cell_type": "markdown",
   "metadata": {
    "colab_type": "text",
    "id": "ULoIOzj4Vfws",
    "slideshow": {
     "slide_type": "slide"
    }
   },
   "source": [
    "## 9.13. Surface Integrals"
   ]
  },
  {
   "cell_type": "markdown",
   "metadata": {
    "cell_style": "split",
    "colab_type": "text",
    "id": "WbGiPyrsVfwt",
    "slideshow": {
     "slide_type": "fragment"
    }
   },
   "source": [
    "* Surface Area\n",
    "\n",
    "  $\\begin{align*}\n",
    " \\mathbf{u}&= \\Delta x_k \\mathbf{i} +f_x(x_k,y_k)\\Delta x_k \\mathbf{k}\\\\ \n",
    " \\mathbf{v}&= \\Delta y_k \\mathbf{j} +f_y(x_k,y_k)\\Delta y_k \\mathbf{k}\\\\\n",
    " & \\Downarrow \\\\ \n",
    " \\mathbf{u} \\times \\mathbf{v} &={\\scriptsize\\left[-f_x(x_k,y_k)\\mathbf{i} -f_y(x_k,y_k)\\mathbf{j}+\\mathbf{k}\\right] \\Delta x_k \\Delta y_k}\\\\\n",
    " & \\Downarrow \\\\\n",
    " \\Delta S_k &= {\\scriptsize \\sqrt{1 +[f_x(x_k,y_k)]^2 +[f_y(x_k,y_k)]^2}\\Delta A_k }\n",
    " \\end{align*}$\n",
    " \n",
    "Then the area of the surface over $R$ is given by \n",
    "  \n",
    ">$\\displaystyle S=\\iint_R \\sqrt{1+[f_x(x,y)]^2 +[f_y(x,y)]^2}\\,dA$"
   ]
  },
  {
   "cell_type": "markdown",
   "metadata": {
    "cell_style": "split",
    "slideshow": {
     "slide_type": "fragment"
    }
   },
   "source": [
    "<center> <img src=\"figures/ch09_figure33.png\" alt=\"surface_obove_R\" style=\"width:850px\"/></center>"
   ]
  },
  {
   "cell_type": "markdown",
   "metadata": {
    "cell_style": "center",
    "colab_type": "text",
    "id": "eu-se1UCVfwu",
    "slideshow": {
     "slide_type": "slide"
    }
   },
   "source": [
    "* Surface Integral\n",
    "\n",
    "  Let $G$ be a function of three variables defined over a region of space containing the surface $S$.\n",
    "  <br>Then the surface integral of $G$ over $S$ is given by\n",
    "  \n",
    "  >$\\begin{align*}\n",
    " \\lim_{\\|P\\|\\to 0}&\\sum_{k=1}^n G(x_k^*,y_k^*,z_k^*)\\,\\Delta S_k = \\iint_S G(x,y,z)\\,dS\\\\ \n",
    " &= \\iint_R G(x,y,f(x,y)) \\,\\sqrt{1+\\left[f_x(x,y)\\right]^2 +\\left[f_y(x,y)\\right]^2}\\,dA\n",
    "\\end{align*}$ \n"
   ]
  },
  {
   "cell_type": "markdown",
   "metadata": {
    "colab_type": "text",
    "id": "cd9P3PKCVfwv",
    "slideshow": {
     "slide_type": "slide"
    }
   },
   "source": [
    "* If a smooth surface $S$ is $g(x,y,z)=0$, $\\text{ }$a unit normal is\n",
    "\n",
    "  >$\\displaystyle\\mathbf{n}=\\frac{\\nabla g}{\\|\\nabla g\\|}$\n",
    "  \n",
    "  <img src=\"figures/ch09_figure35.png\" alt=\"unit_normal\" style=\"width:450px\"/>  "
   ]
  },
  {
   "cell_type": "markdown",
   "metadata": {
    "colab_type": "text",
    "id": "uUD0JO4PVfww",
    "slideshow": {
     "slide_type": "slide"
    }
   },
   "source": [
    "* Integrals of Vector Fields\n",
    "\n",
    "  The total volume of a fluid passing through $S$ is called the **flux of $\\mathbf{v}$ through $S$** and is given by\n",
    "  \n",
    "  >$\\displaystyle \\mathrm{flux} =\\iint_S (\\mathbf{v}\\cdot\\mathbf{n})\\,dS$\n",
    "  \n",
    "  <img src=\"figures/ch09_figure36.png\" alt=\"flux\" style=\"width:400px\"/>   "
   ]
  },
  {
   "cell_type": "markdown",
   "metadata": {
    "colab_type": "text",
    "id": "C4bFGdtXVfww",
    "slideshow": {
     "slide_type": "slide"
    }
   },
   "source": [
    "## 9.14. Stokes' Theorem"
   ]
  },
  {
   "cell_type": "markdown",
   "metadata": {
    "colab_type": "text",
    "id": "xV-upDxgVfwx",
    "slideshow": {
     "slide_type": "fragment"
    }
   },
   "source": [
    "* Vector Form of Green's Theorem\n",
    "\n",
    "  If $\\mathbf{f}(x,y)=P(x,y)\\mathbf{i} +Q(x,y)\\mathbf{j}\\;$ is a two-dimensional vector field, $\\text{ }$then\n",
    "  \n",
    "  >$\\displaystyle\\mathrm{curl}\\, \\mathbf{f} =\\nabla \\times \\mathbf{f} \n",
    "   =\\left|\\begin{matrix} \\mathbf{i} & \\mathbf{j} & \\mathbf{k}\\\\ \n",
    "      \\frac{\\partial}{\\partial x} & \\frac{\\partial}{\\partial y} & \\frac{\\partial}{\\partial z}\\\\ P & Q & 0 \\end{matrix}\\right|\n",
    "   =\\left( \\frac{\\partial Q}{\\partial x} -\\frac{\\partial P}{\\partial y} \\right )\\mathbf{k}$\n",
    "   \n",
    "  Green's theorem can be written in vector notation as\n",
    "  \n",
    "  >$\\displaystyle\\oint_C \\mathbf{f}\\cdot \\,d\\mathbf{r} =\\oint_C \\mathbf{f}\\cdot\\mathbf{T}\\,ds\n",
    "   =\\iint_R (\\nabla \\times \\mathbf{f}) \\cdot \\mathbf{k}\\,dA$"
   ]
  },
  {
   "cell_type": "markdown",
   "metadata": {
    "colab_type": "text",
    "id": "uCyVhPAHVfwx",
    "slideshow": {
     "slide_type": "slide"
    }
   },
   "source": [
    "* **Stokes' Theorem - Green's Theorem in 3-Space**\n",
    "\n",
    "  Let $S$ be a piecewise-smooth orientable surface bounded by a piecewise-smooth simple closed curve\n",
    "  $C$\n",
    "  \n",
    "  Let $~\\mathbf{f}(x,y,z)=P(x,y,z)\\mathbf{i} +Q(x,y,z)\\mathbf{j} +R(x,y,z)\\mathbf{k}~$ be\n",
    "  a vector field for which $P$, $Q$, and $R$ are continuous and have continuous first partial derivatives in\n",
    "  a region of 3-space containing $S$. $~$If $C$ is traversed in the positive direction, then\n",
    "  \n",
    "  >$\\displaystyle\\oint_C \\mathbf{f}\\cdot \\,d\\mathbf{r} =\\oint_C \\mathbf{f}\\cdot\\mathbf{T}\\,ds\n",
    "   =\\iint_R (\\nabla \\times\\mathbf{f}) \\cdot \\mathbf{n}\\,dS$\n",
    "   \n",
    " <img src=\"figures/ch09_figure37.png\" alt=\"Stokes\" style=\"width:400px\"/>   "
   ]
  },
  {
   "cell_type": "markdown",
   "metadata": {
    "colab_type": "text",
    "id": "uzDNb6DQVfwy",
    "slideshow": {
     "slide_type": "slide"
    }
   },
   "source": [
    "* Physical Interpretation of Curl\n",
    "\n",
    "  $\\begin{align*}\n",
    " \\oint_{C_r} \\mathbf{f} \\cdot d\\mathbf{r}&= \\iint_{S_r} \\left[\\nabla\\times\\mathbf{f}(P_0)\\right] \\cdot \\mathbf{n}(P_0)\\, dS\\\\ \n",
    " &= \\left[\\nabla\\times\\mathbf{f}(P_0)\\right]\\, \\cdot \\mathbf{n}(P_0)\\,\\iint_{S_r}\\,dS \n",
    "  =\\left[\\nabla\\times\\mathbf{f}(P_0)\\right] \\cdot \\mathbf{n}(P_0)\\,S_r\\\\ \n",
    " &\\Downarrow\\\\ \n",
    " \\left[\\nabla\\times\\mathbf{f}(P_0)\\right] \\cdot \\mathbf{n}(P_0) &= \\lim_{r\\to 0} \\frac{1}{S_r}\\oint_{C_r} \\mathbf{f} \\cdot \n",
    " d\\mathbf{r} \\approx \\frac{1}{S_r}\\oint_{C_r} \\mathbf{f} \\cdot \n",
    " d\\mathbf{r}\n",
    "\\end{align*}$\n",
    "\n",
    " <img src=\"figures/ch09_figure38.png\" alt=\"physical_meaning_curl\" style=\"width:400px\"/> "
   ]
  },
  {
   "cell_type": "markdown",
   "metadata": {
    "cell_style": "center",
    "colab_type": "text",
    "id": "zxUuPKhyVfw0",
    "slideshow": {
     "slide_type": "slide"
    }
   },
   "source": [
    "## 9.15. Triple Integrals"
   ]
  },
  {
   "cell_type": "markdown",
   "metadata": {
    "colab_type": "text",
    "id": "JD6-pVXPVfw1",
    "slideshow": {
     "slide_type": "fragment"
    }
   },
   "source": [
    "* Let $F$ be a function of three variables defined over a closed region $D$ of space. Then the triple integral of $F$\n",
    "  over $D$ is given by\n",
    "  \n",
    "  >$\\displaystyle \\lim_{\\| P\\|\\to 0} \\sum_{k=1}^n F(x_k^*,y_k^*,z_k^*)\\,\\Delta V_k = \\iiint_D F(x,y,z)\\,dV$\n",
    "  \n",
    "  ><img src=\"figures/ch09_figure39.png\" alt=\"sub_region\" style=\"width:400px\"/>   "
   ]
  },
  {
   "cell_type": "markdown",
   "metadata": {
    "colab_type": "text",
    "id": "3gvvfGNMVfw2",
    "slideshow": {
     "slide_type": "slide"
    }
   },
   "source": [
    "* Evaluation by Iterated Integrals\n",
    "\n",
    "  >${\\scriptsize \\displaystyle\\iiint_D F(x,y,z)\\,dV=\\iint_R \\left[ \\int_{f_1(x,y)}^{f_2(x,y)} F(x,y,z)\\,dz \\right]\\,dA =\\int_a^b \\int_{g_1(x)}^{g_2(x)} \\int_{f_1(x,y)}^{f_2(x,y)} F(x,y,z)\\,dz\\,dy\\,dx }$\n",
    "  \n",
    "  ><img src=\"figures/ch09_figure40.png\" alt=\"triple_integral\" style=\"width:500px\"/> "
   ]
  },
  {
   "cell_type": "markdown",
   "metadata": {
    "colab_type": "text",
    "id": "PCT0IgEMVfw2",
    "slideshow": {
     "slide_type": "slide"
    }
   },
   "source": [
    "* **Example**\n",
    "  $\\text{ }$ Find the volume of the solid in the first octant bounded by the graphs of $z=1-y^2$, $y=2x$, and $x=3$\n",
    "  \n",
    "  ><img src=\"figures/ch09_figure41.png\" alt=\"example\" style=\"width:750px\"/> "
   ]
  },
  {
   "cell_type": "markdown",
   "metadata": {
    "colab_type": "text",
    "id": "ABTQiXeKVfw3",
    "slideshow": {
     "slide_type": "slide"
    }
   },
   "source": [
    "* Cylindrical Coordinates\n",
    "\n",
    ">$\\begin{align*}\n",
    " x=r\\cos\\theta, \\;\\;&y=r\\sin\\theta, \\;\\;z=z \\\\ \n",
    " &\\Downarrow \\\\ \n",
    " r^2 =x^2 +y^2, \\;\\; &\\tan\\theta=\\frac{y}{x},\\;\\;z=z \n",
    "\\end{align*}$\n",
    "\n",
    "  ><img src=\"figures/ch09_figure42.png\" alt=\"cylindrical_coordinate\" style=\"width:600px\"/> "
   ]
  },
  {
   "cell_type": "markdown",
   "metadata": {
    "colab_type": "text",
    "id": "zd3N_sFZVfw3",
    "slideshow": {
     "slide_type": "slide"
    }
   },
   "source": [
    "* Triple Integrals in Cylindrical Coordinates\n",
    "\n",
    "  >${\\scriptsize \\displaystyle\\iiint_D F(r,\\theta,z)\\,dV=\\iint_R \\left[ \\int_{f_1(r,\\theta)}^{f_2(r,\\theta)} \n",
    "  F(r,\\theta,z)\\,dz \\right]\\,dA\n",
    "  =\\int_\\alpha^\\beta \\int_{g_1(\\theta)}^{g_2(\\theta)} \\int_{f_1(r,\\theta)}^{f_2(r,\\theta)} \n",
    "  F(r,\\theta,z)\\,r\\,dz\\,dr\\,d\\theta}$\n",
    "  \n",
    "  ><img src=\"figures/ch09_figure43.png\" alt=\"cylindrical_wedge\" style=\"width:950px\"/>"
   ]
  },
  {
   "cell_type": "markdown",
   "metadata": {
    "colab_type": "text",
    "id": "4iekIyN1Vfw4",
    "slideshow": {
     "slide_type": "slide"
    }
   },
   "source": [
    "* Spherical Coordinates\n",
    "\n",
    ">$\\begin{align*}\n",
    " x=\\rho\\sin\\phi\\cos\\theta, \\;\\;&y=\\rho\\sin\\phi\\sin\\theta, \\;\\;z=\\rho\\cos\\phi \\\\ \n",
    " &\\Downarrow \\\\ \n",
    " \\rho^2 =x^2 +y^2 +z^2, \\;\\; &\\tan\\theta=\\frac{y}{x},\\;\\;\\cos\\phi=\\frac{z}{\\sqrt{x^2 +y^2 +z^2}} \n",
    "\\end{align*}$\n",
    "\n",
    "  ><img src=\"figures/ch09_figure44.png\" alt=\"spherical_coordinate\" style=\"width:700px\"/> "
   ]
  },
  {
   "cell_type": "markdown",
   "metadata": {
    "colab_type": "text",
    "id": "JWaklpOXVfw4",
    "slideshow": {
     "slide_type": "slide"
    }
   },
   "source": [
    "* Triple Integrals in Spherical Coordinates\n",
    "\n",
    "  >$\\displaystyle\\iiint_D F(\\rho,\\theta,\\phi)\\,dV=\n",
    "  \\int_\\alpha^\\beta \\int_{g_1(\\theta)}^{g_2(\\theta)} \\int_{f_1(\\phi,\\theta)}^{f_2(\\phi,\\theta)} \n",
    "  F(\\rho,\\theta,\\phi)\\,\\rho^2 \\sin\\phi\\, d\\rho\\,d\\phi\\,d\\theta$\n",
    "\n",
    "  ><img src=\"figures/ch09_figure45.png\" alt=\"spherical_wedge\" style=\"width:550px\"/> "
   ]
  },
  {
   "cell_type": "markdown",
   "metadata": {
    "colab_type": "text",
    "id": "W-vTpLT9Vfw5",
    "slideshow": {
     "slide_type": "slide"
    }
   },
   "source": [
    "## 9.16. Divergence Theorem"
   ]
  },
  {
   "cell_type": "markdown",
   "metadata": {
    "colab_type": "text",
    "id": "Xc9B951AVfw7",
    "slideshow": {
     "slide_type": "fragment"
    }
   },
   "source": [
    "* Another Vector Form of Green's Theorem\n",
    "\n",
    "  >$\\begin{align*}\n",
    " \\oint_C (\\mathbf{f}\\cdot\\mathbf{n})\\,ds &= \\oint_C -Qdx +Pdy \\\\ \n",
    " &= \\iint_R \\left[ \\frac{\\partial P}{\\partial x} -\\left( -\\frac{\\partial Q}{\\partial y} \\right) \\right]\\,dA \n",
    " = \\iint_R \\left[ \\frac{\\partial P}{\\partial x} +\\frac{\\partial Q}{\\partial y} \\right]\\,dA \\\\ \n",
    " &= \\iint_R \\nabla\\cdot\\mathbf{f}\\,dA\n",
    "\\end{align*}$\n",
    "  \n",
    "  where $\\displaystyle\\mathbf{n}=\\frac{dy}{ds}\\mathbf{i} -\\frac{dx}{ds}\\mathbf{j}$"
   ]
  },
  {
   "cell_type": "markdown",
   "metadata": {
    "slideshow": {
     "slide_type": "slide"
    }
   },
   "source": [
    "* **Divergence Theorem**\n",
    "\n",
    "  Let $D\\,$ be a closed and bounded region in 3-space with a piecewise-smooth boundary $S$ that is oriented outward\n",
    "  \n",
    "  Let $\\;\\mathbf{f}(x,y,z)=P(x,y,z)\\,\\mathbf{i}+Q(x,y,z)\\,\\mathbf{j} +R(x,y,z)\\,\\mathbf{k}~$ be a vector field for which\n",
    "  $P$, $Q$, and $R$ are continuous first partial derivatives in a region of 3-space containing $D$. Then\n",
    "  \n",
    "  >$\\displaystyle\\iint_S (\\mathbf{f}\\cdot \\mathbf{n})\\,dS =\\iiint_D \\nabla\\cdot\\mathbf{f}\\,dV$"
   ]
  },
  {
   "cell_type": "markdown",
   "metadata": {
    "colab_type": "text",
    "id": "4QWOMmBHVfw9",
    "slideshow": {
     "slide_type": "slide"
    }
   },
   "source": [
    "<center><img src=\"figures/ch09_figure46.png\" alt=\"region_D\" style=\"width:350px\"/></center>\n",
    "\n",
    "* **Partial Proof**\n",
    "  \n",
    "  >${\\scriptsize \\displaystyle\\iiint_D \\frac{\\partial R}{\\partial z}\\,dV\n",
    "   =\\iint_{R'} \\left[ \\int_{f_1(x,y)}^{f_2(x,y)} \\frac{\\partial R}{\\partial z}\\,dz \\right]\\,dA\n",
    "   =\\iint_{R'} \\left[ R(x,y,f_2(x,y)) -R(x,y,f_1(x,y)) \\right] \\,dA }$\n",
    "   \n",
    "  >${\\scriptsize \\displaystyle\\iint_S R(\\mathbf{k}\\cdot\\mathbf{n}) \\,dS=\\iint_{S_1} R(\\mathbf{k}\\cdot\\mathbf{n})\\,dS\n",
    "   +\\iint_{S_2} R(\\mathbf{k}\\cdot\\mathbf{n})\\,dS +\\iint_{S_3} R(\\mathbf{k}\\cdot\\mathbf{n}) \\,dS }$"
   ]
  },
  {
   "cell_type": "markdown",
   "metadata": {
    "slideshow": {
     "slide_type": "slide"
    }
   },
   "source": [
    "On $S_1$: $\\text{ }$Since the outward normal points downward, $g(x,y,z)=f_1(x,y)-z=0$. Thus\n",
    "   \n",
    "  >${\\scriptsize\n",
    "\\begin{align*}\n",
    " \\mathbf{n} &= \\frac{ \\frac{\\partial f_1}{\\partial x} \\mathbf{i} \n",
    "   +\\frac{\\partial f_1}{\\partial y} \\mathbf{j} -\\mathbf{k} }{ \\sqrt{1+\\left(\\frac{\\partial f_1}{\\partial x}\\right)^2\n",
    "   +\\left(\\frac{\\partial f_1}{\\partial y}\\right)^2}} \\;\\; \n",
    "   \\Rightarrow \\;\\; \n",
    "\\mathbf{k}\\cdot\\mathbf{n}\n",
    "   =\\frac{-1}{\\sqrt{1+\\left(\\frac{\\partial f_1}{\\partial x}\\right)^2\n",
    "   +\\left(\\frac{\\partial f_1}{\\partial y}\\right)^2}} \\\\ \n",
    "  &\\Downarrow \\\\ \n",
    " \\iint_{S_1} &R(\\mathbf{k}\\cdot\\mathbf{n})\\,dS = -\\iint_{R'} R(x,y,f_1(x,y))\\,dA\n",
    "\\end{align*}\n",
    "}$\n",
    "\n",
    "On $S_2$: $\\text{ }$Since the outward normal points upward, $g(x,y,z)=z -f_2(x,y)=0$. Thus\n",
    "   \n",
    "   >${\\scriptsize\n",
    "\\begin{align*}\n",
    " \\mathbf{n} &= \\frac{ -\\frac{\\partial f_2}{\\partial x} \\mathbf{i} \n",
    "   -\\frac{\\partial f_2}{\\partial y} \\mathbf{j} +\\mathbf{k} }{ \\sqrt{1+\\left(\\frac{\\partial f_2}{\\partial x}\\right)^2\n",
    "   +\\left(\\frac{\\partial f_2}{\\partial y}\\right)^2}} \\;\\; \n",
    "   \\Rightarrow \\;\\; \n",
    "\\mathbf{k}\\cdot\\mathbf{n}\n",
    "   =\\frac{1}{\\sqrt{1+\\left(\\frac{\\partial f_2}{\\partial x}\\right)^2\n",
    "   +\\left(\\frac{\\partial f_2}{\\partial y}\\right)^2}} \\\\ \n",
    "  &\\Downarrow \\\\ \n",
    " \\iint_{S_2} &R(\\mathbf{k}\\cdot\\mathbf{n})\\,dS = \\iint_{R'} R(x,y,f_2(x,y))\\,dA\n",
    "\\end{align*}\n",
    "}$"
   ]
  },
  {
   "cell_type": "markdown",
   "metadata": {
    "slideshow": {
     "slide_type": "slide"
    }
   },
   "source": [
    "On $S_3$: $\\text{ }$$\\mathbf{k}\\cdot\\mathbf{n}=0$\n",
    "   \n",
    "   >${\\scriptsize \\displaystyle \\iint_{S_3} R(\\mathbf{k}\\cdot\\mathbf{n})\\,dS = 0}$"
   ]
  },
  {
   "cell_type": "markdown",
   "metadata": {
    "colab_type": "text",
    "id": "vzJUxZ3ZVfw-",
    "slideshow": {
     "slide_type": "slide"
    }
   },
   "source": [
    "* Physical Interpretation of Divergence\n",
    "\n",
    "  $\\begin{align*}\n",
    " \\iint_{S_r} (\\mathbf{f} \\cdot \\mathbf{n})\\,dS&= \\iiint_{D_r} \\nabla\\cdot\\mathbf{f}\\,dV\\approx\n",
    " \\iiint_{D_r} \\nabla\\cdot\\mathbf{f}(P_0)\\,dV \n",
    " = \\nabla\\cdot\\mathbf{f}(P_0) \\iiint_{D_r}\\,dV \n",
    "  =\\nabla\\cdot\\mathbf{f}(P_0) D_r\\\\ \n",
    " &\\Downarrow\\\\ \n",
    " \\nabla\\cdot\\mathbf{f}(P_0) &= \\lim_{r\\to 0} \\frac{1}{D_r}\\iint_{S_r} (\\mathbf{f} \\cdot \\mathbf{n})\\,dS\n",
    "\\end{align*}$\n",
    "\n",
    "<center> <img src=\"figures/ch09_figure47.png\" alt=\"region_D\" style=\"width:300px\"/> </center>"
   ]
  },
  {
   "cell_type": "markdown",
   "metadata": {
    "colab_type": "text",
    "id": "F85uTDVVVfw-",
    "slideshow": {
     "slide_type": "slide"
    }
   },
   "source": [
    "* Continuity Equation\n",
    "\n",
    ">$\\displaystyle\\frac{dm}{dt}=\\frac{d}{dt}\\iiint_D \\rho(x,y,z,t)\\,dV=\\iiint_D \\frac{\\partial \\rho}{\\partial t}\\,dV\n",
    "   =-\\iint_S (\\rho\\mathbf{v}\\cdot\\mathbf{n})\\,dS=-\\iiint_D \\nabla\\cdot(\\rho\\mathbf{v})\\,dV$\n",
    "   \n",
    ">$\\;\\;\\;\\Downarrow$\n",
    "\n",
    ">$\\displaystyle \\iiint_D \\left[ \\frac{\\partial \\rho}{\\partial t} +\\nabla\\cdot(\\rho\\mathbf{v}) \\right]\\,dV=0$\n",
    "\n",
    ">$\\;\\;\\;\\Downarrow$\n",
    "\n",
    ">$\\displaystyle\\frac{\\partial \\rho}{\\partial t} +\\nabla\\cdot(\\rho\\mathbf{v})=0$"
   ]
  },
  {
   "cell_type": "markdown",
   "metadata": {
    "colab_type": "text",
    "id": "SwLNF3BsVfxA",
    "slideshow": {
     "slide_type": "slide"
    }
   },
   "source": [
    "## 9.17. Change of Variables in Multiple Integrals "
   ]
  },
  {
   "cell_type": "markdown",
   "metadata": {
    "colab_type": "text",
    "id": "M5AYuuFhVfxB",
    "slideshow": {
     "slide_type": "fragment"
    }
   },
   "source": [
    "* To Change the Variable in a Definite Integral\n",
    "\n",
    "> $\\displaystyle\\int_a^b f(x)\\,dx =\\int_c^d f(g(u))\\, g'(u)\\,du$"
   ]
  },
  {
   "cell_type": "markdown",
   "metadata": {
    "colab_type": "text",
    "id": "TVdiEdlgVfxB",
    "slideshow": {
     "slide_type": "fragment"
    }
   },
   "source": [
    "* Double Integrals\n",
    "\n",
    ">$\\displaystyle\\iint_R F(x,y)\\,dA = \\iint_R F(f(u,v), g(u,v))\\, \\left| \\frac{\\partial(x,y)}{\\partial(u,v)} \\right|\\,dA'$\n",
    "\n",
    ">$\\displaystyle  \\left| \\frac{\\partial(x,y)}{\\partial(u,v)} \\right| =\n",
    "\\left|\\begin{matrix}\n",
    "\\frac{\\partial x}{\\partial u} & \\frac{\\partial x}{\\partial v}\\\\ \n",
    "\\frac{\\partial y}{\\partial u} & \\frac{\\partial y}{\\partial v}\n",
    "\\end{matrix}\\right| = h_1 h_2 dq_1 dq_2$"
   ]
  },
  {
   "cell_type": "markdown",
   "metadata": {
    "colab_type": "text",
    "id": "U3DZl08IVfxB",
    "slideshow": {
     "slide_type": "slide"
    }
   },
   "source": [
    "* Triple Integrals\n",
    "\n",
    ">$\\displaystyle\\iiint_D F(x,y,z)\\,dV = \\iiint_D F\\left(f(u,v,w), g(u,v,w), h(u,v,w)\\right)\\, \\left| \\frac{\\partial(x,y,z)}{\\partial(u,v,w)} \\right|\\,dV'$\n",
    "\n",
    ">$\\displaystyle \\left| \\frac{\\partial (x,y,z)}{\\partial (u,v,w)} \\right| =\n",
    "\\left|\\begin{matrix}\n",
    "\\frac{\\partial x}{\\partial u} & \\frac{\\partial x}{\\partial v} & \\frac{\\partial x}{\\partial w}\\\\ \n",
    "\\frac{\\partial y}{\\partial u} & \\frac{\\partial y}{\\partial v} & \\frac{\\partial y}{\\partial w}\\\\\n",
    "\\frac{\\partial z}{\\partial u} & \\frac{\\partial z}{\\partial v} & \\frac{\\partial z}{\\partial w} \n",
    "\\end{matrix}\\right| = h_1 h_2 h_3 dq_1 dq_2 dq_3$"
   ]
  }
 ],
 "metadata": {
  "celltoolbar": "Slideshow",
  "colab": {
   "name": "ch09.ipynb",
   "provenance": [],
   "version": "0.3.2"
  },
  "kernelspec": {
   "display_name": "Python 3 (ipykernel)",
   "language": "python",
   "name": "python3"
  },
  "language_info": {
   "codemirror_mode": {
    "name": "ipython",
    "version": 3
   },
   "file_extension": ".py",
   "mimetype": "text/x-python",
   "name": "python",
   "nbconvert_exporter": "python",
   "pygments_lexer": "ipython3",
   "version": "3.9.13"
  }
 },
 "nbformat": 4,
 "nbformat_minor": 2
}
