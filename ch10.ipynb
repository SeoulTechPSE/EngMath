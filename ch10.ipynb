{
 "cells": [
  {
   "cell_type": "markdown",
   "metadata": {
    "slideshow": {
     "slide_type": "skip"
    }
   },
   "source": [
    "<a href=\"https://colab.research.google.com/github/SeoulTechPSE/EngMath/blob/master/ch10.ipynb\" target=\"_parent\"><img src=\"https://colab.research.google.com/assets/colab-badge.svg\" alt=\"Open In Colab\"/></a>"
   ]
  },
  {
   "cell_type": "markdown",
   "metadata": {
    "slideshow": {
     "slide_type": "slide"
    }
   },
   "source": [
    "# Chapter 10. Systems of Linear Differential Equations"
   ]
  },
  {
   "cell_type": "markdown",
   "metadata": {
    "slideshow": {
     "slide_type": "fragment"
    }
   },
   "source": [
    "### Contents\n",
    "\n",
    "* Theory of Linear Systems\n",
    "* Homogeneous Linear Systems\n",
    "* Solution of Diagonalization\n",
    "* Nonhomogeneous Linear Systems\n",
    "* Matrix Exponential"
   ]
  },
  {
   "cell_type": "markdown",
   "metadata": {
    "slideshow": {
     "slide_type": "slide"
    }
   },
   "source": [
    "## 10.1 Theory of Linear Systems\n",
    "\n",
    "Here we confine our study to systems of first-order DEs that are special cases of systems that \n",
    "have the normal form\n",
    "\n",
    ">$\n",
    "\\begin{align*}\n",
    " \\frac{d x_1}{dt} &= g_1(t, x_1, x_2, \\cdots, x_n) \\\\\n",
    " \\frac{d x_2}{dt} &= g_2(t, x_1, x_2, \\cdots, x_n) \\\\ \n",
    "  &\\;\\vdots \\\\ \n",
    " \\frac{d x_n}{dt} &= g_n(t, x_1, x_2, \\cdots, x_n)  \n",
    "\\end{align*}\n",
    "$\n",
    "\n",
    "This system is called a **first-order system**"
   ]
  },
  {
   "cell_type": "markdown",
   "metadata": {
    "slideshow": {
     "slide_type": "subslide"
    }
   },
   "source": [
    " When each of the functions $g_i$, $i=1,\\cdots,n$ is linear in the dependent variables $x_i$, $i=1,\\cdots,n$, \n",
    " we get the normal form of a first-order system of linear equations\n",
    "\n",
    ">$\n",
    "\\begin{align*}\n",
    " \\frac{d x_1}{dt} &= a_{11}(t) x_1 +a_{12}(t) x_2 +\\cdots +a_{1n}(t) x_n +f_1(t) \\\\\n",
    " \\frac{d x_2}{dt} &= a_{21}(t) x_1 +a_{22}(t) x_2 +\\cdots +a_{2n}(t) x_n +f_2(t) \\\\ \n",
    "  &\\;\\vdots \\\\ \n",
    " \\frac{d x_n}{dt} &= a_{n1}(t) x_1 +a_{n2}(t) x_2 +\\cdots +a_{nn}(t) x_n +f_n(t) \\\\ \n",
    "\\end{align*} \\;\\;\\text{(LS)}\n",
    "$\n",
    "\n",
    "We refer to $\\text{(LS)}$ simply as a **linear system**. \n",
    "We assume that the coefficient $a_{ij}(t)$ as well as the functions $f_i(t)$ are continuous on a common interval $I$. When $f_i(t)=0$, $i=1,\\cdots,n$, the linear system is said to be **homogeneous**; otherwise it is **nonhomogeneous**"
   ]
  },
  {
   "cell_type": "markdown",
   "metadata": {
    "slideshow": {
     "slide_type": "subslide"
    }
   },
   "source": [
    "If $\\mathbf{x}$, $\\mathbf{A}$, and $\\mathbf{f}$ denote the respective\n",
    "matrices\n",
    "\n",
    ">$\n",
    "\\mathbf{x}=\n",
    "\\begin{pmatrix} x_1 \\\\ x_2 \\\\ \\vdots \\\\ x_n \\end{pmatrix}, \\;\n",
    "\\mathbf{A}=\n",
    "\\begin{pmatrix}\n",
    " a_{11} & a_{12} & \\cdots & a_{1n}\\\\ \n",
    " a_{21} & a_{22} & \\cdots & a_{2n}\\\\ \n",
    " \\vdots &        &        & \\vdots \\\\ \n",
    " a_{n1} & a_{n2} & \\cdots & a_{nn}\n",
    "\\end{pmatrix}, \\;\n",
    "\\mathbf{f}\n",
    "\\begin{pmatrix} f_1 \\\\ f_2 \\\\ \\vdots \\\\ f_n \\end{pmatrix}\n",
    "$\n",
    "\n",
    "then the system of linear first-order DEs can be written as\n",
    "\n",
    ">$\\displaystyle \\frac{d\\mathbf{x}}{dt}=\\mathbf{A}\\mathbf{x} +\\mathbf{f}, \\;\\;\\text{(LSM)}$\n",
    "\n",
    "A solution vector of $\\text{(LSM)}$ can be interpreted geometrically as a set\n",
    "of parametric equations of a space curve. In the case $n=2$ and $n=3$, the equations\n",
    "$x_1=\\phi_1(t)$, $x_2=\\phi_2(t)$, and $x_1=\\phi_1(t)$, $x_2=\\phi_2(t)$, $x_3=\\phi_3(t)$\n",
    "represent curves in 2-space and 3-space, respectively. It is common practice to call\n",
    "such a solution curve a **trajectory**. The plane is also called the **phase plane**\n",
    "\n"
   ]
  },
  {
   "cell_type": "markdown",
   "metadata": {
    "slideshow": {
     "slide_type": "subslide"
    }
   },
   "source": [
    "* **Initial-Value Problem**\n",
    "  \n",
    "  Let $t_0$ denote a point on an interval $I$ and\n",
    "  \n",
    "  >$\\mathbf{x}_0=\\begin{pmatrix} \\gamma_1 \\\\ \\gamma_2 \\\\ \\vdots \\\\ \\gamma_n \\end{pmatrix}$\n",
    "  \n",
    "  where $\\gamma_i$, $i=1,\\cdots,n$ are given constants. Then the problem\n",
    "  \n",
    "  >$\\displaystyle \n",
    "        \\frac{d\\mathbf{x}}{dt}=\\mathbf{A}(t)\\mathbf{x} +\\mathbf{f}(t), \\;\\; \n",
    "        \\mathbf{x}(t_0)=\\mathbf{x}_0\n",
    "   $\n",
    "   \n",
    "   is an **initial-value problem** on the interval. Here there exists a unique solution\n",
    "   of the initial-value problem if the entries of $\\mathbf{A}$ and $\\mathbf{f}$ are the \n",
    "   continuous functions on a common interval $I$"
   ]
  },
  {
   "cell_type": "markdown",
   "metadata": {
    "slideshow": {
     "slide_type": "subslide"
    }
   },
   "source": [
    "* **Superposition Principle**\n",
    "\n",
    "  Let $\\mathbf{x}_1$, $\\mathbf{x}_2$, $\\cdots$, $\\mathbf{x}_k$ be a set of solution vectors\n",
    "  of the homogeneous system $\\displaystyle\\frac{d\\mathbf{x}}{dt}=\\mathbf{A}(t)\\mathbf{x}$ \n",
    "  on an interval $I$. Then the linear combination\n",
    "  \n",
    "  >$\n",
    "   \\mathbf{x}=c_1\\mathbf{x}_1 +c_2\\mathbf{x}_2 +\\cdots +c_k\\mathbf{x}_k\n",
    "  $\n",
    "  \n",
    "  where $c_i$, $i=1,2,\\cdots,k$ are arbitrary constants, is also a solution on the interval"
   ]
  },
  {
   "cell_type": "markdown",
   "metadata": {
    "slideshow": {
     "slide_type": "subslide"
    }
   },
   "source": [
    "\n",
    "  We can introduce the concept of the **Wronskian** determinant as a test for linear\n",
    "  independence. Let $\\mathbf{x}_1$, $\\mathbf{x}_2$, $\\cdots$, $\\mathbf{x}_n$ be $n$ solution\n",
    "  vectors of the homogeneous system on $I$. Then the set of solution vectors is linearly\n",
    "  independent on $I$ if and only if the Wronskian\n",
    "  \n",
    "  >$\\scriptsize\n",
    "    W(\\mathbf{x}_1, \\mathbf{x}_2, \\cdots, \\mathbf{x}_n)=\n",
    "    \\begin{vmatrix}\n",
    "      x_{11} &  x_{12} & \\cdots & x_{1n} \\\\ \n",
    "      x_{21} &  x_{22} & \\cdots & x_{2n} \\\\ \n",
    "      \\vdots &         &        & \\vdots \\\\ \n",
    "      x_{n1} &  x_{n2} & \\cdots & x_{nn}\n",
    "    \\end{vmatrix} \\neq 0  \n",
    "  $\n",
    "  \n",
    "  for every $t$ in the interval. \n",
    "  \n",
    "  For every $t$ in $I$, either \n",
    "  $W(\\mathbf{x}_1$, $\\mathbf{x}_2$, $\\cdots$, $\\mathbf{x}_n)\\neq 0$ or\n",
    "  $W(\\mathbf{x}_1$, $\\mathbf{x}_2$, $\\cdots$, $\\mathbf{x}_n)= 0$. Thus if we can show that\n",
    "  $W\\neq 0$ for some $t_0$ in $I$, then $W\\neq 0$ for every $t$, hence the set of solutions\n",
    "  is linearly independent on the interval"
   ]
  },
  {
   "cell_type": "markdown",
   "metadata": {
    "slideshow": {
     "slide_type": "subslide"
    }
   },
   "source": [
    " Any set of $n$ linearly independent solution vectors\n",
    "  of the homogeneous system on an interval $I$ is said to be a **fundamental set of solutions**.\n",
    "  Then the **general solution** of the homogeneous system is\n",
    "  \n",
    "  >$\\mathbf{x}=c_1 \\mathbf{x}_1 +c_2 \\mathbf{x}_2 +\\cdots +c_n \\mathbf{x}_n$\n",
    "  \n",
    "  where $c_i$, $i=1,2,\\cdots,n$ are arbitrary constants"
   ]
  },
  {
   "cell_type": "markdown",
   "metadata": {
    "slideshow": {
     "slide_type": "subslide"
    }
   },
   "source": [
    "* **General Solution of the Nonhomogeneous System**\n",
    "\n",
    "  For nonhomogeneous systems, a **particular solution** $\\mathbf{x}_p$ on an interval $I$\n",
    "  is any vector, free of arbitrary parameters, whose entries are functions that satisfy system\n",
    "  $\\text{(LSM)}$. Let \n",
    "  \n",
    "  >$\\mathbf{x}_h=c_1 \\mathbf{x}_1 +c_2 \\mathbf{x}_2 +\\cdots +c_n \\mathbf{x}_n$\n",
    "  \n",
    "  denote the general solution of the associated homogeneous system. Then the general solution \n",
    "  of the nonhomogeneous system is\n",
    "  \n",
    "  >$\\mathbf{x}=\\mathbf{x}_h +\\mathbf{x}_p$"
   ]
  },
  {
   "cell_type": "markdown",
   "metadata": {
    "slideshow": {
     "slide_type": "slide"
    }
   },
   "source": [
    "## 10.2 Homogeneous Linear Systems"
   ]
  },
  {
   "cell_type": "markdown",
   "metadata": {
    "slideshow": {
     "slide_type": "fragment"
    }
   },
   "source": [
    "For the general homogeneous linear first-order system\n",
    "\n",
    ">$\\displaystyle\\frac{d\\mathbf{x}}{dt}=\\mathbf{A}\\mathbf{x} \\;\\;\\text{(HE)}$,\n",
    "\n",
    "we are prompted to ask whether we can always find a solution of the form\n",
    "\n",
    ">$\\mathbf{x}=\\begin{pmatrix} k_1 \\\\ k_2 \\\\ \\vdots \\\\ k_n \\end{pmatrix} e^{\\lambda t}\n",
    "    =\\mathbf{k} e^{\\lambda t} \\;\\;\\text{(SL)}\n",
    " $"
   ]
  },
  {
   "cell_type": "markdown",
   "metadata": {
    "slideshow": {
     "slide_type": "subslide"
    }
   },
   "source": [
    " If $\\text{(SL)}$ is to be a solution vector of the system, then\n",
    " \n",
    " >$\n",
    " \\begin{align*}\n",
    "     \\displaystyle \\frac{d \\mathbf{x}}{dt}&= \\mathbf{A}\\mathbf{x} \\\\ \n",
    "          &\\Downarrow \\;\\;\\mathbf{x}=\\mathbf{k}e^{\\lambda t} \\\\ \n",
    "     \\lambda \\mathbf{k} e^{\\lambda t}&= \\mathbf{A} \\mathbf{k} e^{\\lambda t}\\\\ \n",
    "          &\\Downarrow \\;\\; \\div \\,e^{\\lambda t} \\\\\n",
    "          (\\mathbf{A} -\\lambda \\mathbf{I}) \\mathbf{k} &= \\mathbf{0} \\;\\;\\text{(CE)}\n",
    " \\end{align*} \n",
    " $\n",
    " \n",
    " In order for $\\text{(CE)}$ to have solutions other than the obvious trivial solution \n",
    " $\\mathbf{k}=\\mathbf{0}$, we must have\n",
    " \n",
    " >$\\mathrm{det}(\\mathbf{A} -\\lambda\\mathbf{I})=0$\n",
    " \n",
    " This polynomial equation of $\\lambda$ is called the **characteristic equation** of $\\mathbf{A}$;\n",
    " its solutions are the **eigenvalues** of $\\mathbf{A}$. A solution $\\mathbf{k}\\neq \\mathbf{0}$ \n",
    " of $\\text{(CE)}$ corresponding to an eigenvalue $\\lambda$ is called an **eigenvector** of \n",
    " $\\mathbf{A}$"
   ]
  },
  {
   "cell_type": "markdown",
   "metadata": {
    "slideshow": {
     "slide_type": "subslide"
    }
   },
   "source": [
    "* **Distinct Real Eigenvalues**\n",
    "\n",
    "  When $\\mathbf{A}$ possesses $n$ distinct real eigenvalues $\\lambda_i$, $i=1,2,\\cdots,n$, then\n",
    "  a set of $n$ linearly independent eigenvectors $\\mathbf{k}_1$, $\\mathbf{k}_2$, $\\cdots$, \n",
    "  $\\mathbf{k}_n$ can always be found and\n",
    "  \n",
    "  >$\\mathbf{x}_1=\\mathbf{k}_1 e^{\\lambda_1 t}, \n",
    "    \\mathbf{x}_2=\\mathbf{k}_2 e^{\\lambda_2 t}, \\cdots,\n",
    "    \\mathbf{x}_n=\\mathbf{k}_n e^{\\lambda_n t} \n",
    "   $\n",
    "   \n",
    "  is a fundamental set of solutions of the homogeneous system $\\text{(HE)}$ on $(-\\infty,\\infty)$"
   ]
  },
  {
   "cell_type": "markdown",
   "metadata": {
    "slideshow": {
     "slide_type": "subslide"
    }
   },
   "source": [
    "  **Example:** $\\text{ }$ Solve\n",
    "  \n",
    "  >$\n",
    "  \\begin{align*}\n",
    "    \\frac{dx}{dt} &= 2x +3y\\\\ \n",
    "    \\frac{dy}{dt} &= 2x +y \n",
    "  \\end{align*} \\;\\; \\Rightarrow \n",
    "     \\;\\;\\displaystyle \\frac{d\\mathbf{x}}{dt}=\\mathbf{A}\\mathbf{x}, \n",
    "     \\;\\mathbf{A}=\n",
    "     \\begin{pmatrix}\n",
    "       2 & 3\\\\ \n",
    "       2 & 1\n",
    "     \\end{pmatrix}, \\;\\mathbf{x}=\\begin{pmatrix} x \\\\ y \\end{pmatrix}\n",
    "  $"
   ]
  },
  {
   "cell_type": "markdown",
   "metadata": {
    "slideshow": {
     "slide_type": "fragment"
    }
   },
   "source": [
    "  From the characteristic equation\n",
    "  \n",
    "  >$\\mathrm{det}(\\mathbf{A} -\\lambda\\mathbf{I})=\n",
    "    \\begin{vmatrix}\n",
    "       2 -\\lambda & 3\\\\ \n",
    "       2 & 1 -\\lambda \n",
    "    \\end{vmatrix}\n",
    "    =(\\lambda +1)(\\lambda -4)=0\n",
    "  $"
   ]
  },
  {
   "cell_type": "markdown",
   "metadata": {
    "slideshow": {
     "slide_type": "subslide"
    }
   },
   "source": [
    "  Now for $\\lambda_1=-1$,\n",
    "  \n",
    "  >$\n",
    "    \\begin{pmatrix}\n",
    "       3 & 3\\\\ \n",
    "       2 & 2\n",
    "    \\end{pmatrix} \\begin{pmatrix} k_1 \\\\ k_2 \\end{pmatrix}\n",
    "    =\\begin{pmatrix} 0 \\\\ 0 \\end{pmatrix}\n",
    "  $\n",
    "  \n",
    "  Thus $k_1=-k_2$. $\\text{ }$ When $k_2=-1$, the related eigenvector is\n",
    "  \n",
    "  >$\\mathbf{k}_1=\\begin{pmatrix} \\;\\;1 \\\\ -1 \\end{pmatrix}$"
   ]
  },
  {
   "cell_type": "markdown",
   "metadata": {
    "slideshow": {
     "slide_type": "subslide"
    }
   },
   "source": [
    "  For $\\lambda_2=4$,\n",
    "  \n",
    "  >$\n",
    "    \\begin{pmatrix}\n",
    "       -2 & \\;\\;3\\\\ \n",
    "       \\;\\;2 & -3\n",
    "    \\end{pmatrix} \\begin{pmatrix} k_1 \\\\ k_2 \\end{pmatrix}\n",
    "    =\\begin{pmatrix} 0 \\\\ 0 \\end{pmatrix}\n",
    "  $\n",
    "  \n",
    "  so that $k_1=\\frac{3}{2}k_2$, and therefore with $k_2=2$, the corresponding eigenvector\n",
    "  is\n",
    "  \n",
    "  >$\\mathbf{k}_2=\\begin{pmatrix} 3 \\\\ 2 \\end{pmatrix}$"
   ]
  },
  {
   "cell_type": "markdown",
   "metadata": {
    "slideshow": {
     "slide_type": "subslide"
    }
   },
   "source": [
    "\n",
    "  Since we have found two linearly independent solutions\n",
    "  \n",
    "  >$\\mathbf{x}_1=\\begin{pmatrix} \\;\\;1 \\\\ -1 \\end{pmatrix} e^{-t}\n",
    "    \\;\\text{ and }\\;\n",
    "    \\mathbf{x}_2=\\begin{pmatrix} 3 \\\\ 2 \\end{pmatrix}e^{4t}$\n",
    "    \n",
    "  the general solution of the system is\n",
    "  \n",
    "  >$\\mathbf{x}=c_1 \\mathbf{x}_1 +c_2\\mathbf{x}_2\n",
    "  $"
   ]
  },
  {
   "cell_type": "code",
   "execution_count": 1,
   "metadata": {
    "cell_style": "split",
    "slideshow": {
     "slide_type": "subslide"
    }
   },
   "outputs": [],
   "source": [
    "import numpy as np\n",
    "import matplotlib.pyplot as plt\n",
    "\n",
    "w = 6\n",
    "xl = np.arange(-w, w, 0.1)\n",
    "yl = np.arange(-w, w, 0.1)\n",
    "x, y = np.meshgrid(xl, yl)\n",
    "\n",
    "xdot = 2*x +3*y\n",
    "ydot = 2*x +y\n",
    "\n",
    "y_1 = -xl\n",
    "y_2 = 2/3 *xl"
   ]
  },
  {
   "cell_type": "code",
   "execution_count": 2,
   "metadata": {
    "cell_style": "split",
    "slideshow": {
     "slide_type": "fragment"
    }
   },
   "outputs": [
    {
     "data": {
      "image/png": "[encoded data removed]",
      "text/plain": [
       "<Figure size 360x360 with 1 Axes>"
      ]
     },
     "metadata": {
      "needs_background": "light"
     },
     "output_type": "display_data"
    }
   ],
   "source": [
    "fig, ax = plt.subplots(figsize=(5, 5))\n",
    "\n",
    "ax.streamplot(x, y, xdot, ydot, color='blue')\n",
    "ax.plot(xl, y_1, 'r:', xl, y_2, 'r:')\n",
    "ax.set_title('Phase Portrait')\n",
    "ax.axis((-w, w, -w, w))\n",
    "ax.set_xlabel('x')\n",
    "ax.set_ylabel('y')\n",
    "ax.grid()\n",
    "ax.tick_params(axis='both', direction='in')"
   ]
  },
  {
   "cell_type": "code",
   "execution_count": 3,
   "metadata": {
    "cell_style": "split",
    "slideshow": {
     "slide_type": "subslide"
    }
   },
   "outputs": [
    {
     "name": "stdout",
     "output_type": "stream",
     "text": [
      "Eigenvalues = array([ 4., -1.])\n",
      "Eigenvectors =\n",
      "array([[ 0.83205029, -0.70710678],\n",
      "       [ 0.5547002 ,  0.70710678]])\n"
     ]
    }
   ],
   "source": [
    "import pprint\n",
    "\n",
    "A = np.array([[2, 3], [2, 1]])\n",
    "ld, k = np.linalg.eig(A)\n",
    "\n",
    "print('Eigenvalues =', end = ' '); pprint.pprint(ld)\n",
    "print('Eigenvectors ='); pprint.pprint(k)"
   ]
  },
  {
   "cell_type": "code",
   "execution_count": 4,
   "metadata": {
    "cell_style": "split",
    "slideshow": {
     "slide_type": "fragment"
    }
   },
   "outputs": [
    {
     "data": {
      "image/png": "[encoded data removed]",
      "text/latex": [
       "$\\displaystyle \\left[ \\left( -1, \\  1, \\  \\left[ \\left[\\begin{matrix}-1\\\\1\\end{matrix}\\right]\\right]\\right), \\  \\left( 4, \\  1, \\  \\left[ \\left[\\begin{matrix}\\frac{3}{2}\\\\1\\end{matrix}\\right]\\right]\\right)\\right]$"
      ],
      "text/plain": [
       "⎡⎛       ⎡⎡-1⎤⎤⎞  ⎛      ⎡⎡3/2⎤⎤⎞⎤\n",
       "⎢⎜-1, 1, ⎢⎢  ⎥⎥⎟, ⎜4, 1, ⎢⎢   ⎥⎥⎟⎥\n",
       "⎣⎝       ⎣⎣1 ⎦⎦⎠  ⎝      ⎣⎣ 1 ⎦⎦⎠⎦"
      ]
     },
     "execution_count": 4,
     "metadata": {},
     "output_type": "execute_result"
    }
   ],
   "source": [
    "import sympy\n",
    "sympy.init_printing()\n",
    "\n",
    "A_ = sympy.Matrix(A)\n",
    "A_.eigenvects()"
   ]
  },
  {
   "cell_type": "markdown",
   "metadata": {
    "slideshow": {
     "slide_type": "subslide"
    }
   },
   "source": [
    "**Example:** Use python to obtain the phase portraits of the systems\n",
    "\n",
    "> **Attractor**\n",
    "  $\\begin{align*}\n",
    "    \\frac{dx}{dt} &=-\\frac{5}{2}x +2y\\\\ \n",
    "    \\frac{dy}{dt} &= \\frac{3}{4}x -2y \n",
    "  \\end{align*}\\;\\;\n",
    " $ \n",
    " \n",
    "> **Repeller**\n",
    " $\\;\\begin{align*}\n",
    "    \\frac{dx}{dt} &= 2x +2y\\\\ \n",
    "    \\frac{dy}{dt} &= x +3y \n",
    "   \\end{align*}$"
   ]
  },
  {
   "cell_type": "markdown",
   "metadata": {
    "slideshow": {
     "slide_type": "subslide"
    }
   },
   "source": [
    "* **Repeated Eigenvalues**\n",
    "\n",
    "    For an $n \\times n$ matrix $\\mathbf{A}$, if $m$ is a positive integer and $(\\lambda -\\lambda_1)^m$ \n",
    "    is a factor of the characteristic equation while $(\\lambda -\\lambda_1)^{m +1}$ is not a factor,\n",
    "    then $\\lambda_1$ is said to be an **eigenvalue of multiplicity $m$** \n",
    "    \n",
    "    * It may be possible to find *$m$ linearly independent eigenvectors* \n",
    "      $\\mathbf{k}_1$, $\\mathbf{k}_2$, $\\cdots$, $\\mathbf{k}_m$ corresponding to an eigenvalue $\\lambda_1$\n",
    "      of multiplicity $m \\leq n$. In this case, the general solution contains the linear combination\n",
    "    \n",
    "        $c_1 \\mathbf{k}_1 e^{\\lambda_1 t} +c_2 \\mathbf{k}_2 e^{\\lambda_1 t} +\\cdots\n",
    "         +c_m \\mathbf{k}_m e^{\\lambda_1 t}$"
   ]
  },
  {
   "cell_type": "markdown",
   "metadata": {
    "slideshow": {
     "slide_type": "subslide"
    }
   },
   "source": [
    "* If there is *only one eigenvector* corresponding to the eigenvalue $\\lambda_1$ of multiplicity $m$,\n",
    "  then $m$ linearly independent solutions of the form\n",
    "\n",
    "  $\\scriptsize\n",
    "        \\begin{align*}\n",
    "          \\mathbf{x}_1 &= \\mathbf{k}_{11} e^{\\lambda_1 t}\\\\\n",
    "          \\mathbf{x}_2 &= \\mathbf{k}_{11} t e^{\\lambda_1 t} +\\mathbf{k}_{12} e^{\\lambda_1 t}\\\\\n",
    "          &\\vdots\\\\\n",
    "          \\mathbf{x}_m &= \\mathbf{k}_{11} \\frac{t^{m-1}}{(m-1)!} e^{\\lambda_1 t}\n",
    "          +\\mathbf{k}_{12} \\frac{t^{m-2}}{(m-2)!} e^{\\lambda_1 t} +\\cdots +\\mathbf{k}_{1m} e^{\\lambda_1 t}\n",
    "        \\end{align*}\n",
    "  $\n",
    " \n",
    "  can always be found  "
   ]
  },
  {
   "cell_type": "markdown",
   "metadata": {
    "slideshow": {
     "slide_type": "subslide"
    }
   },
   "source": [
    "**Example:** Solve\n",
    "\n",
    "  >$\n",
    "  \\mathbf{x}' =\n",
    "    \\left(\\begin{array}{rrr}\n",
    "      1 & -2 & 2 \\\\ \n",
    "     -2 &  1 &-2 \\\\ \n",
    "      2 & -2 & 1\n",
    "    \\end{array}\\right)\\mathbf{x}\n",
    "  $"
   ]
  },
  {
   "cell_type": "markdown",
   "metadata": {
    "slideshow": {
     "slide_type": "fragment"
    }
   },
   "source": [
    "  The characteristic equation \n",
    "  \n",
    "  >$\\mathrm{det}(\\mathbf{A}-\\lambda \\mathbf{I}) =\n",
    "    \\left|\\begin{array}{ccc}\n",
    "      1-\\lambda & -2 & \\;\\;2 \\\\ \n",
    "     -2 &  1-\\lambda &-2 \\\\ \n",
    "      \\;\\;2 & -2 & 1-\\lambda\n",
    "    \\end{array}\\right|=0\n",
    "  $\n",
    "  \n",
    "  yields $-(\\lambda+1)^2(\\lambda-5)=0$. Then $\\lambda_1=\\lambda_2=-1$ and $\\lambda_3=5$"
   ]
  },
  {
   "cell_type": "markdown",
   "metadata": {
    "slideshow": {
     "slide_type": "subslide"
    }
   },
   "source": [
    "  For $\\lambda_1=\\lambda_2=-1$, we have\n",
    "  \n",
    "  >$\n",
    "  (\\mathbf{A} +\\mathbf{I}|\\mathbf{0}) =\n",
    "  \\left(\\begin{array}{rrr|r}\n",
    "    2 & -2 &  2 & 0\\\\ \n",
    "   -2 &  2 & -2 & 0\\\\ \n",
    "    2 & -2 &  2 & 0\n",
    "  \\end{array}\\right)\n",
    "  \\overset{\\text{row operations}}{\\Longrightarrow}\n",
    "  \\left(\\begin{array}{rrr|r}\n",
    "    1 & -1 & 1 & 0\\\\ \\hdashline\n",
    "    0 &  0 & 0 & 0\\\\ \n",
    "    0 &  0 & 0 & 0\n",
    "  \\end{array}\\right)  \n",
    "  $\n",
    "  \n",
    "  The first row of the last matrix means $k_1 -k_2 +k_3=0$. By choosing $k_2=1$, $k_3=0$ and $k_2=1$, $k_3=1$, \n",
    "  two linearly independent eigenvectors corresponding to $\\lambda_1$ \n",
    "  \n",
    "  >$\\mathbf{k}_1=\n",
    "  \\left(\\begin{array}{r}\n",
    "    1\\\\ \n",
    "    1\\\\ \n",
    "    0\n",
    "  \\end{array}\\right) \\text{ and } \n",
    "  \\mathbf{k}_2=\n",
    "  \\left(\\begin{array}{r}\n",
    "    0\\\\ \n",
    "    1\\\\ \n",
    "    1\n",
    "  \\end{array}\\right)\n",
    "  $\n",
    "  \n",
    "  are obtained"
   ]
  },
  {
   "cell_type": "markdown",
   "metadata": {
    "slideshow": {
     "slide_type": "subslide"
    }
   },
   "source": [
    "  Last, for $\\lambda_3=5$, the Gauss elimination\n",
    "  \n",
    "  >$\n",
    "  (\\mathbf{A} -5\\mathbf{I}|\\mathbf{0}) =\n",
    "  \\left(\\begin{array}{rrr|r}\n",
    "   -4 & -2 &  2 & 0\\\\ \n",
    "   -2 & -4 & -2 & 0\\\\ \n",
    "    2 & -2 & -4 & 0\n",
    "  \\end{array}\\right)\n",
    "  \\overset{\\text{row operations}}{\\Longrightarrow}\n",
    "  \\left(\\begin{array}{rrr|r}\n",
    "    1 & 0 &-1 & 0\\\\ \n",
    "    0 & 1 & 1 & 0\\\\ \\hdashline \n",
    "    0 & 0 & 0 & 0\n",
    "  \\end{array}\\right)  \n",
    "  $\n",
    "  \n",
    "  implies $k_1=k_3$ and $k_2=-k_3$. Picking $k_3=1$ gives $k_1=1$, $k_2=-1$, and thus a third \n",
    "  eigenvector is\n",
    "  \n",
    "  >$\\mathbf{k}_3=\n",
    "  \\left(\\begin{array}{r}\n",
    "    1\\\\ \n",
    "   -1\\\\ \n",
    "    1\n",
    "  \\end{array}\\right)\n",
    "  $"
   ]
  },
  {
   "cell_type": "markdown",
   "metadata": {
    "slideshow": {
     "slide_type": "subslide"
    }
   },
   "source": [
    "  Thus we conclue that the general solution is\n",
    "  \n",
    "  >$\\mathbf{x}=\n",
    "   c_1\\left(\\begin{array}{r}\n",
    "        1\\\\ \n",
    "        1\\\\ \n",
    "        0\n",
    "      \\end{array}\\right)e^{-t} + \n",
    "   c_2\\left(\\begin{array}{r}\n",
    "        0\\\\ \n",
    "        1\\\\ \n",
    "        1\n",
    "      \\end{array}\\right)e^{-t} +\n",
    "   c_3\\left(\\begin{array}{r}\n",
    "        1\\\\ \n",
    "       -1\\\\ \n",
    "        1\n",
    "      \\end{array}\\right)e^{5t}      \n",
    "  $"
   ]
  },
  {
   "cell_type": "markdown",
   "metadata": {
    "slideshow": {
     "slide_type": "subslide"
    }
   },
   "source": [
    "**Example:** Solve\n",
    "\n",
    "  >$\n",
    "  \\mathbf{x}' =\n",
    "    \\left(\\begin{array}{rrr}\n",
    "      2 & 1 & 6 \\\\ \n",
    "      0 & 2 & 5 \\\\ \n",
    "      0 & 0 & 2\n",
    "    \\end{array}\\right)\\mathbf{x}\n",
    "  $"
   ]
  },
  {
   "cell_type": "markdown",
   "metadata": {
    "slideshow": {
     "slide_type": "subslide"
    }
   },
   "source": [
    "  The characteristic equation $-(\\lambda -2)^3=0$ shows that $\\lambda_1=2$ is an eigenvalue\n",
    "  of multiplicity three. We have\n",
    "  \n",
    "  >$(\\mathbf{A} -2\\mathbf{I}|\\mathbf{0}) =\n",
    "  \\left(\\begin{array}{rrr|r}\n",
    "    0 & 1 & 6 & 0\\\\ \n",
    "    0 & 0 & 5 & 0\\\\ \n",
    "    0 & 0 & 0 & 0\n",
    "  \\end{array}\\right) \n",
    "  $  \n",
    "  \n",
    "  Therefore $0 \\cdot k_1 +k_2 +6k_3 =0$ and $k_3=0\\;\\rightarrow\\;k_2=k_3=0$. \n",
    "  The choice $k_1=1$ gives the single eigenvector\n",
    "  \n",
    "  >$\\mathbf{k}_{11}=\n",
    "  \\left(\\begin{array}{r}\n",
    "    1\\\\ \n",
    "    0\\\\ \n",
    "    0\n",
    "  \\end{array}\\right)\n",
    "  $"
   ]
  },
  {
   "cell_type": "markdown",
   "metadata": {
    "slideshow": {
     "slide_type": "subslide"
    }
   },
   "source": [
    "  A second solution can be found of the form\n",
    "  \n",
    "  >$\\mathbf{x}_2 =\\mathbf{k}_{11} t e^{2t} +\\mathbf{k}_{12} e^{2t} \\;\\;\\;\\text{(S1)}$\n",
    "  \n",
    "  To see this, we substitute $\\text{(S1)}$ into the system $\\mathbf{x}'=\\mathbf{A}\\mathbf{x}$\n",
    "  \n",
    "  >$\\underbrace{(\\mathbf{A} -2\\mathbf{I})\\mathbf{k_{11}}}_{\\mathbf{0}}te^{2t} \n",
    "     +(\\mathbf{A}\\mathbf{k}_{12} -2\\mathbf{k}_{12} -\\mathbf{k}_{11})e^{2t}=0$\n",
    "     \n",
    "  Since this last equation is to hold for all values of $t$, we must have\n",
    "  \n",
    "  >$(\\mathbf{A} -2\\mathbf{I})\\mathbf{k}_{12}=\\mathbf{k}_{11}$"
   ]
  },
  {
   "cell_type": "markdown",
   "metadata": {
    "slideshow": {
     "slide_type": "subslide"
    }
   },
   "source": [
    "  To find $\\mathbf{x}_2$, we need only solve the additional system for the generalized eigenvector\n",
    "  $\\mathbf{k}_{12}$\n",
    "  \n",
    "  >$\n",
    "  (\\mathbf{A} -2\\mathbf{I}|\\mathbf{k}_{11}) =\n",
    "  \\left(\\begin{array}{rrr|r}\n",
    "    0 & 1 & 6 & 1\\\\ \n",
    "    0 & 0 & 5 & 0\\\\ \n",
    "    0 & 0 & 0 & 0\n",
    "  \\end{array}\\right)\n",
    "  $\n",
    "  \n",
    "  Then $0\\cdot k_1 +k_2 +6k_3 =1$ and $k_3=0\\;\\rightarrow\\;k_2=1, k_3=0$. \n",
    "  The choice $k_1=0$ gives\n",
    "  \n",
    "  >$\\mathbf{k}_{12}=\n",
    "  \\left(\\begin{array}{r}\n",
    "    0\\\\ \n",
    "    1\\\\ \n",
    "    0\n",
    "  \\end{array}\\right)\n",
    "  $"
   ]
  },
  {
   "cell_type": "markdown",
   "metadata": {
    "slideshow": {
     "slide_type": "subslide"
    }
   },
   "source": [
    "  A third solution can be found of the form\n",
    "  \n",
    "  >$\\displaystyle\\mathbf{x}_3 =\\mathbf{k}_{11} \\frac{t^2}{2} e^{2t} \n",
    "    +\\mathbf{k}_{12}te^{2t} +\\mathbf{k}_{13}e^{2t}\\;\\;\\;\\text{(S2)}$\n",
    "  \n",
    "  To see this, we substitute $\\text{(S2)}$ into the system $\\mathbf{x}'=\\mathbf{A}\\mathbf{x}$\n",
    "  \n",
    "  >$\\displaystyle\\underbrace{(\\mathbf{A} -2\\mathbf{I})\\mathbf{k_{11}}}_{\\mathbf{0}}\\frac{t^2}{2}e^{2t} \n",
    "     +\\underbrace{(\\mathbf{A}\\mathbf{k}_{12} -2\\mathbf{k}_{12} -\\mathbf{k}_{11})}_{\\mathbf{0}}\\,t e^{2t}\n",
    "     +(\\mathbf{A}\\mathbf{k}_{13} -2\\mathbf{k}_{13} -\\mathbf{k}_{12}) e^{2t}=0$"
   ]
  },
  {
   "cell_type": "markdown",
   "metadata": {
    "slideshow": {
     "slide_type": "subslide"
    }
   },
   "source": [
    "  Then, to find $\\mathbf{k}_{13}$ \n",
    "\n",
    "  >$\n",
    "  (\\mathbf{A} -2\\mathbf{I}|\\mathbf{k}_{12}) =\n",
    "  \\left(\\begin{array}{rrr|r}\n",
    "    0 & 1 & 6 & 0\\\\ \n",
    "    0 & 0 & 5 & 1\\\\ \n",
    "    0 & 0 & 0 & 0\n",
    "  \\end{array}\\right)\n",
    "  $\n",
    "  \n",
    "  Then $0\\cdot k_1 +k_2 +6k_3 =0$ and $5k_3=1\\;\\rightarrow\\;k_2=-\\frac{6}{5}, k_3=\\frac{1}{5}$. \n",
    "  The choice $k_1=0$ gives\n",
    "  \n",
    "  >$\\mathbf{k}_{13}=\n",
    "  \\left(\\begin{array}{r}\n",
    "    0\\\\ \n",
    "   -\\frac{6}{5}\\\\ \n",
    "    \\frac{1}{5}\n",
    "  \\end{array}\\right)\n",
    "  $"
   ]
  },
  {
   "cell_type": "markdown",
   "metadata": {
    "slideshow": {
     "slide_type": "subslide"
    }
   },
   "source": [
    "  Thus we see that the general solution is\n",
    "  \n",
    "  >$\\displaystyle\\mathbf{x}=  \n",
    "   c_1\\left(\\begin{array}{r}\n",
    "             1\\\\ \n",
    "             0\\\\\n",
    "             0\n",
    "           \\end{array}\\right)e^{2t}+\n",
    "   c_2\\left[\n",
    "           \\left(\\begin{array}{r}\n",
    "             1\\\\ \n",
    "             0\\\\\n",
    "             0\n",
    "           \\end{array}\\right)te^{2t}+\n",
    "           \\left(\\begin{array}{r}\n",
    "             0\\\\ \n",
    "             1\\\\\n",
    "             0\n",
    "           \\end{array}\\right)e^{2t}           \n",
    "      \\right]+\n",
    "   c_3\\left[\n",
    "           \\left(\\begin{array}{r}\n",
    "             1\\\\ \n",
    "             0\\\\\n",
    "             0\n",
    "           \\end{array}\\right)\\frac{t^2}{2}e^{2t}+\n",
    "           \\left(\\begin{array}{r}\n",
    "             0\\\\ \n",
    "             1\\\\\n",
    "             0\n",
    "           \\end{array}\\right)te^{2t}+\n",
    "           \\left(\\begin{array}{r}\n",
    "             0\\\\ \n",
    "            -\\frac{6}{5}\\\\ \n",
    "             \\frac{1}{5}\n",
    "           \\end{array}\\right)e^{2t}            \n",
    "      \\right]      \n",
    "  $"
   ]
  },
  {
   "cell_type": "markdown",
   "metadata": {
    "slideshow": {
     "slide_type": "subslide"
    }
   },
   "source": [
    "**Example:** Use python to obtain the phase portraits of the systems\n",
    "\n",
    " >$\\begin{align*}\n",
    "    \\frac{dx}{dt} &= 3x -18y\\\\ \n",
    "    \\frac{dy}{dt} &= 2x -9y \n",
    "  \\end{align*}\\;\\;\n",
    " $\n"
   ]
  },
  {
   "cell_type": "code",
   "execution_count": 5,
   "metadata": {
    "slideshow": {
     "slide_type": "fragment"
    }
   },
   "outputs": [
    {
     "name": "stdout",
     "output_type": "stream",
     "text": [
      "Eigenvalues = array([-3., -3.])\n",
      "Eigenvectors =\n",
      "array([[0.9487, 0.9487],\n",
      "       [0.3162, 0.3162]])\n"
     ]
    }
   ],
   "source": [
    "A = np.array([[3, -18], [2, -9]])\n",
    "ld, k = np.linalg.eig(A)\n",
    "\n",
    "print('Eigenvalues =', end = ' '); pprint.pprint(ld)\n",
    "print('Eigenvectors ='); pprint.pprint(np.around(k, decimals=4))"
   ]
  },
  {
   "cell_type": "code",
   "execution_count": 6,
   "metadata": {
    "slideshow": {
     "slide_type": "fragment"
    }
   },
   "outputs": [
    {
     "data": {
      "image/png": "[encoded data removed]",
      "text/latex": [
       "$\\displaystyle \\left[ \\left( -3, \\  2, \\  \\left[ \\left[\\begin{matrix}3\\\\1\\end{matrix}\\right]\\right]\\right)\\right]$"
      ],
      "text/plain": [
       "⎡⎛       ⎡⎡3⎤⎤⎞⎤\n",
       "⎢⎜-3, 2, ⎢⎢ ⎥⎥⎟⎥\n",
       "⎣⎝       ⎣⎣1⎦⎦⎠⎦"
      ]
     },
     "execution_count": 6,
     "metadata": {},
     "output_type": "execute_result"
    }
   ],
   "source": [
    "A_ = sympy.Matrix(A)\n",
    "A_.eigenvects()"
   ]
  },
  {
   "cell_type": "code",
   "execution_count": 7,
   "metadata": {
    "cell_style": "split",
    "slideshow": {
     "slide_type": "subslide"
    }
   },
   "outputs": [],
   "source": [
    "w = 6\n",
    "xl = np.arange(-w, w, 0.1)\n",
    "yl = np.arange(-w, w, 0.1)\n",
    "x, y = np.meshgrid(xl, yl)\n",
    "\n",
    "xdot = 3*x -18*y\n",
    "ydot = 2*x -9*y\n",
    "\n",
    "y_1 = 1/3 *xl"
   ]
  },
  {
   "cell_type": "code",
   "execution_count": 8,
   "metadata": {
    "cell_style": "split",
    "slideshow": {
     "slide_type": "fragment"
    }
   },
   "outputs": [
    {
     "data": {
      "image/png": "[encoded data removed]",
      "text/plain": [
       "<Figure size 360x360 with 1 Axes>"
      ]
     },
     "metadata": {
      "needs_background": "light"
     },
     "output_type": "display_data"
    }
   ],
   "source": [
    "fig, ax = plt.subplots(figsize=(5, 5))\n",
    "\n",
    "ax.streamplot(x, y, xdot, ydot, color='blue')\n",
    "ax.plot(xl, y_1, 'r:')\n",
    "ax.set_title('Phase Portrait')\n",
    "ax.axis((-w, w, -w, w))\n",
    "ax.set_xlabel('x')\n",
    "ax.set_ylabel('y')\n",
    "ax.grid()\n",
    "ax.tick_params(axis='both', direction='in')\n"
   ]
  },
  {
   "cell_type": "markdown",
   "metadata": {
    "slideshow": {
     "slide_type": "subslide"
    }
   },
   "source": [
    "  * In general, when an eigenvalue $\\lambda_1$ has multiplicity $m$, then we can either find $m$ \n",
    "    linearly independent eigenvectors or the corresponding eigenvectors less than $m$"
   ]
  },
  {
   "cell_type": "markdown",
   "metadata": {
    "slideshow": {
     "slide_type": "fragment"
    }
   },
   "source": [
    "**Example:** The $5 \\times 5$ matrix\n",
    "\n",
    ">$\n",
    "\\mathbf{A}=\n",
    "\\begin{pmatrix}\n",
    " 2 & 1 & 0 & 0 & 0\\\\ \n",
    " 0 & 2 & 0 & 0 & 0\\\\ \n",
    " 0 & 0 & 2 & 0 & 0\\\\ \n",
    " 0 & 0 & 0 & 2 & 1\\\\ \n",
    " 0 & 0 & 0 & 0 & 2 \n",
    "\\end{pmatrix}\n",
    " $\n",
    " \n",
    " has an eigenvalue $\\lambda_1=2$ of multiplicity 5. Show that three linearly independent eigenvectors\n",
    " corresponding to $\\lambda_1$ can be found. And construct the generalized eigenvectors"
   ]
  },
  {
   "cell_type": "markdown",
   "metadata": {
    "slideshow": {
     "slide_type": "subslide"
    }
   },
   "source": [
    "The system\n",
    " \n",
    "  >$\\scriptsize(\\mathbf{A} -2\\mathbf{I}|\\mathbf{0}) =\n",
    "  \\left(\\begin{array}{rrrrr|r}\n",
    "     0 & 1 & 0 & 0 & 0 & 0\\\\ \n",
    "     0 & 0 & 0 & 0 & 0 & 0\\\\ \n",
    "     0 & 0 & 0 & 0 & 0 & 0\\\\ \n",
    "     0 & 0 & 0 & 0 & 1 & 0\\\\ \n",
    "     0 & 0 & 0 & 0 & 0 & 0\n",
    "  \\end{array}\\right) \n",
    "  $\n",
    "  \n",
    "  implies $k_2=0$ and $k_5=0$. Then we can pick ($k_1 =1$, $k_3=k_4=0$), ($k_3=1$, $k_1=k_4=0$) and\n",
    "  ($k_4=1$, $k_1=k_3=0$) in turn to build three linearly eigenvectors\n",
    "  \n",
    "  >$\\scriptsize \\mathbf{k}_{11}=\n",
    "     \\left(\\begin{array}{r}\n",
    "       1\\\\ 0\\\\ 0\\\\ 0\\\\ 0\n",
    "     \\end{array}\\right),\\;\\;\n",
    "     \\mathbf{k}_{21}=\n",
    "     \\left(\\begin{array}{r}\n",
    "       0\\\\ 0\\\\ 1\\\\ 0\\\\ 0\n",
    "     \\end{array}\\right),\\;\\;\n",
    "     \\mathbf{k}_{31}=\n",
    "     \\left(\\begin{array}{r}\n",
    "       0\\\\ 0\\\\ 0\\\\ 1\\\\ 0\n",
    "     \\end{array}\\right)     \n",
    "  $"
   ]
  },
  {
   "cell_type": "markdown",
   "metadata": {
    "slideshow": {
     "slide_type": "subslide"
    }
   },
   "source": [
    " The following systems\n",
    "  \n",
    "   >$\\scriptsize(\\mathbf{A} -2\\mathbf{I}|\\mathbf{k}_{11}) =\n",
    "  \\left(\\begin{array}{rrrrr|r}\n",
    "     0 & 1 & 0 & 0 & 0 & 1\\\\ \n",
    "     0 & 0 & 0 & 0 & 0 & 0\\\\ \n",
    "     0 & 0 & 0 & 0 & 0 & 0\\\\ \n",
    "     0 & 0 & 0 & 0 & 1 & 0\\\\ \n",
    "     0 & 0 & 0 & 0 & 0 & 0\n",
    "  \\end{array}\\right),\\;\\;\n",
    "  (\\mathbf{A} -2\\mathbf{I}|\\mathbf{k}_{31}) =\n",
    "  \\left(\\begin{array}{rrrrr|r}\n",
    "     0 & 1 & 0 & 0 & 0 & 0\\\\ \n",
    "     0 & 0 & 0 & 0 & 0 & 0\\\\ \n",
    "     0 & 0 & 0 & 0 & 0 & 0\\\\ \n",
    "     0 & 0 & 0 & 0 & 1 & 1\\\\ \n",
    "     0 & 0 & 0 & 0 & 0 & 0\n",
    "  \\end{array}\\right)\n",
    "  $ \n",
    "  \n",
    "  are solved to construct two generalized eigenvectors: \n",
    "  The first system gives $k_2=1$ and $k_5=0$, and then, for $\\mathbf{k}_{12}$, we can pick $k_1=k_3=k_4=0$.\n",
    "  The second system yields $k_2=0$ and $k_5=1$, we can also pick $k_1=k_3=k_4=0$ for $\\mathbf{k}_{32}$\n",
    "  \n",
    "  >$\\scriptsize \\mathbf{k}_{12}=\n",
    "     \\left(\\begin{array}{r}\n",
    "       0\\\\ 1\\\\ 0\\\\ 0\\\\ 0\n",
    "     \\end{array}\\right),\\;\\;\n",
    "     \\mathbf{k}_{32}=\n",
    "     \\left(\\begin{array}{r}\n",
    "       0\\\\ 0\\\\ 0\\\\ 0\\\\ 1\n",
    "     \\end{array}\\right)$  "
   ]
  },
  {
   "cell_type": "markdown",
   "metadata": {
    "slideshow": {
     "slide_type": "subslide"
    }
   },
   "source": [
    "* **Complex Eigenvalues**\n",
    "\n",
    "  $~$\n",
    "  Let $\\mathbf{A}$ be the coefficient matrix having real entries of the homogeneous system, and\n",
    "  let $\\mathbf{k}_1$ be an eigenvector corresponding to the complex eigenvalue $\\lambda_1=\\alpha +i\\beta$,\n",
    "  $\\text{ }\\alpha$ and $\\beta$ real. Then\n",
    "  \n",
    "  >$\\mathbf{k}_1 e^{\\lambda_1 t}\\text{ }$ and $\\text{ }\\bar{\\mathbf{k}}_1 e^{\\bar{\\lambda_1}t}$\n",
    "    \n",
    "  are linearly independent solutions of the homogeneous system. By defining\n",
    "    \n",
    "  >$\\mathbf{b}_1=\\mathrm{Re}(\\mathbf{k}_1)\\text{ }$ and $\\text{ }\\mathbf{b}_2=\\mathrm{Im}(\\mathbf{k}_1)$,\n",
    "    \n",
    "  the following vectors are also linearly independent solutions\n",
    "    \n",
    "  >$\\begin{align*}\n",
    " \\mathbf{x}_1 &=\\left[\\mathbf{b}_1 \\cos\\beta t -\\mathbf{b}_2 \\sin\\beta t \\right]e^{\\alpha t} \\\\ \n",
    " \\mathbf{x}_2 &=\\left[\\mathbf{b}_2 \\cos\\beta t +\\mathbf{b}_1 \\sin\\beta t \\right]e^{\\alpha t} \n",
    "\\end{align*}$"
   ]
  },
  {
   "cell_type": "markdown",
   "metadata": {
    "slideshow": {
     "slide_type": "subslide"
    }
   },
   "source": [
    "   **Example:** Solve the initial value problem\n",
    "   \n",
    "   >$\\begin{align*}\n",
    "       \\frac{dx}{dt} &= 2x +8y\\\\ \n",
    "       \\frac{dy}{dt} &=-x -2y \n",
    "     \\end{align*},\\;\\;\n",
    "     \\begin{pmatrix} x(0)\\\\ y(0) \\end{pmatrix}=\\begin{pmatrix} \\;\\;\\,2\\\\ -1 \\end{pmatrix}$"
   ]
  },
  {
   "cell_type": "markdown",
   "metadata": {
    "slideshow": {
     "slide_type": "fragment"
    }
   },
   "source": [
    "   First we obtain the eigenvalues from\n",
    "     \n",
    "   >$\\mathrm{det}(\\mathbf{A} -\\lambda\\mathbf{I})=\n",
    "        \\left|\n",
    "        \\begin{array}{cc}\n",
    "           2-\\lambda & 8 \\\\ \n",
    "          -1 & -2 -\\lambda \n",
    "        \\end{array}\n",
    "        \\right|\n",
    "       =\\lambda^2 +4=0     \n",
    "    $\n",
    "     \n",
    "   The eigenvalues are $\\lambda_1=2i$ and $\\lambda_2=\\bar{\\lambda_1}$"
   ]
  },
  {
   "cell_type": "markdown",
   "metadata": {
    "slideshow": {
     "slide_type": "subslide"
    }
   },
   "source": [
    "For $\\lambda_1$, the system\n",
    "     \n",
    "   >$\n",
    "    (\\mathbf{A} -2i\\mathbf{I}|\\mathbf{0}) =\n",
    "      \\left(\\begin{array}{cc|r}\n",
    "           2 -2i & 8 & 0\\\\ \n",
    "           -1 & -2 -2i & 0\n",
    "      \\end{array}\\right)\n",
    "      \\overset{\\text{row operations}}{\\Longrightarrow}\n",
    "      \\left(\\begin{array}{cc|r}\n",
    "            1 & 2 +2i & 0\\\\ \\hdashline\n",
    "            0 & 0 & 0\n",
    "      \\end{array}\\right)  \n",
    "    $\n",
    "  \n",
    "   gives $k_1=-(2 +2i)k_2$. $\\text{ }$ By choosing $k_2=-1$, we get\n",
    "    \n",
    "   >$\\mathbf{k}_1=\\begin{pmatrix} 2 +2i\\\\ -1 \\end{pmatrix}\n",
    "      =\\underbrace{\\begin{pmatrix} \\;\\;\\,2\\\\ -1 \\end{pmatrix}}_{\\mathbf{b}_1} \n",
    "       +i\\underbrace{\\begin{pmatrix} 2\\\\ 0 \\end{pmatrix}}_{\\mathbf{b}_2}\n",
    "    $"
   ]
  },
  {
   "cell_type": "markdown",
   "metadata": {
    "slideshow": {
     "slide_type": "subslide"
    }
   },
   "source": [
    "   Now we form the general solution\n",
    "       \n",
    "   >$\\mathbf{x}=\n",
    "     c_1\\left[\\begin{pmatrix} \\;\\;\\,2\\\\ -1 \\end{pmatrix}\\cos 2t \n",
    "                 -\\begin{pmatrix} 2\\\\ 0 \\end{pmatrix}\\sin 2t \\right] \n",
    "     +c_2\\left[\\begin{pmatrix} 2\\\\ 0 \\end{pmatrix}\\cos 2t \n",
    "                 +\\begin{pmatrix} \\;\\;\\,2\\\\ -1 \\end{pmatrix}\\sin 2t \\right]$\n",
    "                 \n",
    "   The initial condition yields $2c_1 +2c_2=2$, $-c_1=-1$ whose solution is $c_1=1$, $c_2=0$.\n",
    "   Thus solution is\n",
    "    \n",
    "   >$\\mathbf{x}=\n",
    "      \\left[\\begin{pmatrix} \\;\\;\\,2\\\\ -1 \\end{pmatrix}\\cos 2t \n",
    "                 -\\begin{pmatrix} 2\\\\ 0 \\end{pmatrix}\\sin 2t \\right] \n",
    "     $"
   ]
  },
  {
   "cell_type": "code",
   "execution_count": 10,
   "metadata": {
    "cell_style": "split",
    "slideshow": {
     "slide_type": "subslide"
    }
   },
   "outputs": [
    {
     "data": {
      "image/png": "[encoded data removed]",
      "text/latex": [
       "$\\displaystyle \\left[ \\left( - 2 i, \\  1, \\  \\left[ \\left[\\begin{matrix}-2 + 2 i\\\\1\\end{matrix}\\right]\\right]\\right), \\  \\left( 2 i, \\  1, \\  \\left[ \\left[\\begin{matrix}-2 - 2 i\\\\1\\end{matrix}\\right]\\right]\\right)\\right]$"
      ],
      "text/plain": [
       "⎡⎛         ⎡⎡-2 + 2⋅ⅈ⎤⎤⎞  ⎛        ⎡⎡-2 - 2⋅ⅈ⎤⎤⎞⎤\n",
       "⎢⎜-2⋅ⅈ, 1, ⎢⎢        ⎥⎥⎟, ⎜2⋅ⅈ, 1, ⎢⎢        ⎥⎥⎟⎥\n",
       "⎣⎝         ⎣⎣   1    ⎦⎦⎠  ⎝        ⎣⎣   1    ⎦⎦⎠⎦"
      ]
     },
     "execution_count": 10,
     "metadata": {},
     "output_type": "execute_result"
    }
   ],
   "source": [
    "A = np.array([[2, 8], [-1, -2]])\n",
    "\n",
    "A_ = sympy.Matrix(A)\n",
    "A_.eigenvects()"
   ]
  },
  {
   "cell_type": "code",
   "execution_count": 13,
   "metadata": {
    "slideshow": {
     "slide_type": "subslide"
    }
   },
   "outputs": [
    {
     "data": {
      "image/png": "[encoded data removed]",
      "text/plain": [
       "<Figure size 432x216 with 1 Axes>"
      ]
     },
     "metadata": {
      "needs_background": "light"
     },
     "output_type": "display_data"
    }
   ],
   "source": [
    "from scipy.integrate import solve_ivp\n",
    "\n",
    "def myODE(t, y):\n",
    "    return [2*y[0] +8*y[1], -y[0] -2*y[1]]\n",
    "\n",
    "sol = solve_ivp(myODE, [0, 20], [2, -1], t_eval = np.linspace(0, 20, 200))\n",
    "\n",
    "fig, ax = plt.subplots(figsize=(6, 3))\n",
    "\n",
    "ax.plot(sol.t, sol.y[0], 'r-', label = 'x')\n",
    "ax.plot(sol.t, sol.y[1], 'b-', label = 'y')\n",
    "ax.axis((0, 20, -4, 4))\n",
    "ax.tick_params(axis='both', direction='in')\n",
    "ax.legend()\n",
    "ax.set_xlabel('t')\n",
    "ax.set_ylabel('x, y');"
   ]
  },
  {
   "cell_type": "code",
   "execution_count": 11,
   "metadata": {
    "cell_style": "split",
    "slideshow": {
     "slide_type": "fragment"
    }
   },
   "outputs": [],
   "source": [
    "w = 6\n",
    "xl = np.arange(-w, w, 0.1)\n",
    "yl = np.arange(-w, w, 0.1)\n",
    "x, y = np.meshgrid(xl, yl)\n",
    "\n",
    "xdot = 2*x +8*y\n",
    "ydot = -x -2*y"
   ]
  },
  {
   "cell_type": "code",
   "execution_count": 12,
   "metadata": {
    "cell_style": "split",
    "slideshow": {
     "slide_type": "fragment"
    }
   },
   "outputs": [
    {
     "data": {
      "image/png": "[encoded data removed]",
      "text/plain": [
       "<Figure size 360x360 with 1 Axes>"
      ]
     },
     "metadata": {
      "needs_background": "light"
     },
     "output_type": "display_data"
    }
   ],
   "source": [
    "fig = plt.figure(figsize=(5, 5))\n",
    "\n",
    "ax = fig.add_subplot(111)\n",
    "ax.streamplot(x, y, xdot, ydot, color='blue')\n",
    "ax.plot(sol.y[0], sol.y[1], 'r:')\n",
    "ax.set_title('Phase Portrait')\n",
    "ax.axis((-w, w, -w, w))\n",
    "ax.set_xlabel('x')\n",
    "ax.set_ylabel('y')\n",
    "ax.grid()\n",
    "ax.tick_params(axis='both', direction='in');"
   ]
  },
  {
   "cell_type": "markdown",
   "metadata": {
    "slideshow": {
     "slide_type": "subslide"
    }
   },
   "source": [
    "### Exercises 10.2\n",
    "\n",
    "* 1, 3, 21, 23, 35, 37\n",
    "* 56"
   ]
  },
  {
   "cell_type": "markdown",
   "metadata": {
    "slideshow": {
     "slide_type": "slide"
    }
   },
   "source": [
    "## 10.3 Solution by Diagonalization"
   ]
  },
  {
   "cell_type": "markdown",
   "metadata": {
    "slideshow": {
     "slide_type": "fragment"
    }
   },
   "source": [
    "A homogeneous system\n",
    "\n",
    ">$\n",
    "    \\begin{pmatrix} x_1' \\\\ x_2' \\\\ \\vdots \\\\ x_n' \\end{pmatrix} =\n",
    "    \\begin{pmatrix}\n",
    "     a_{11} & a_{12} & \\cdots & a_{1n}\\\\ \n",
    "     a_{21} & a_{22} & \\cdots & a_{2n}\\\\ \n",
    "     \\vdots &        &        & \\vdots\\\\ \n",
    "     a_{n1} & a_{n2} & \\cdots & a_{nn}\n",
    "    \\end{pmatrix} \n",
    "    \\begin{pmatrix} x_1 \\\\ x_2 \\\\ \\vdots \\\\ x_n \\end{pmatrix} \n",
    " $\n",
    " \n",
    " is said to be **coupled** if each $x_i'$ is expressed as a linear combination of $x_1, x_2, \\cdots, x_n$.\n",
    " If $\\mathbf{A}$ is diagonalizable, the system can be **decoupled** so each $x_i'$ is expressed solely\n",
    " in terms of $x_i$"
   ]
  },
  {
   "cell_type": "markdown",
   "metadata": {
    "slideshow": {
     "slide_type": "subslide"
    }
   },
   "source": [
    "* If $\\mathbf{A}$ has $n$ linearly independent eigenvectors, we can find a matrix $\\mathbf{P}$ such that\n",
    "  $\\mathbf{P}^{-1}\\mathbf{A}\\mathbf{P}=\\mathbf{D}\\text{ }$ where $\\text{ }\\mathbf{D}$ is a diagonal matrix\n",
    "\n",
    "* Making the substitution $\\mathbf{x}=\\mathbf{P}\\mathbf{y}$ in $\\mathbf{x}'=\\mathbf{A}\\mathbf{x}$,\n",
    "\n",
    "  >$\n",
    "  \\begin{align*}\n",
    "     \\mathbf{x}' &= \\mathbf{A}\\mathbf{x}\\\\ \n",
    "         &\\Downarrow \\; \\mathbf{x}=\\mathbf{P}\\mathbf{y}\\\\ \n",
    "         \\mathbf{P}\\mathbf{y}' &= \\mathbf{A}\\mathbf{P}\\mathbf{y}\\\\ \n",
    "         \\mathbf{y}' &= \\mathbf{P}^{-1}\\mathbf{A}\\mathbf{P}\\mathbf{y}= \\mathbf{D}\\mathbf{y} \n",
    "  \\end{align*} \n",
    "  $\n",
    "  \n",
    "  The last equation is the same as\n",
    "  \n",
    "  >$\\scriptsize\n",
    "    \\begin{pmatrix} y_1' \\\\ y_2' \\\\ \\vdots \\\\ y_n' \\end{pmatrix}=\n",
    "    \\begin{pmatrix}\n",
    "     \\lambda_1 & 0 & \\cdots & 0\\\\ \n",
    "     0 & \\lambda_2 & \\cdots & 0\\\\ \n",
    "     \\vdots & & \\ddots & \\vdots\\\\ \n",
    "     0 & 0 & \\cdots & \\lambda_n\n",
    "    \\end{pmatrix} \n",
    "    \\begin{pmatrix} y_1 \\\\ y_2 \\\\ \\vdots \\\\ y_n \\end{pmatrix} \n",
    "   $"
   ]
  },
  {
   "cell_type": "markdown",
   "metadata": {
    "slideshow": {
     "slide_type": "subslide"
    }
   },
   "source": [
    " \n",
    "   The general equation of $\\mathbf{y}'=\\mathbf{D}\\mathbf{y}$ can be written as\n",
    "   \n",
    "   >$\\mathbf{y}=\\begin{pmatrix} c_1 e^{\\lambda_1 t} \\\\ c_2 e^{\\lambda_2 t} \\\\ \n",
    "     \\vdots \\\\ c_n e^{\\lambda_n t} \\end{pmatrix}$\n",
    "     \n",
    "   Then the general solution of $\\mathbf{x}'=\\mathbf{A}\\mathbf{x}$ is obtained from $\\mathbf{x}=\\mathbf{P}\\mathbf{y}$\n",
    "   \n"
   ]
  },
  {
   "cell_type": "markdown",
   "metadata": {
    "slideshow": {
     "slide_type": "subslide"
    }
   },
   "source": [
    "   **Example:** Solve\n",
    "   \n",
    "   >$\n",
    "    \\mathbf{x}' =\n",
    "    \\left(\\begin{array}{rrr}\n",
    "     -2 & -1 & 8 \\\\ \n",
    "      0 & -3 & 8 \\\\ \n",
    "      0 & -4 & 9\n",
    "    \\end{array}\\right)\\mathbf{x}\n",
    "   $"
   ]
  },
  {
   "cell_type": "markdown",
   "metadata": {
    "slideshow": {
     "slide_type": "fragment"
    }
   },
   "source": [
    "   We begin by finding the eigenvalues and corresponding eigenvectors of the coefficient matrix.\n",
    "   From $\\mathrm{det}(\\mathbf{A} -\\lambda\\mathbf{I})=-(\\lambda +2)(\\lambda -1)(\\lambda -5)=0$,\n",
    "   we get $\\lambda_1=-2$, $\\lambda_2=1$, and $\\lambda_3=5$. Since the eigenvalues are distinct, \n",
    "   the eigenvectors are linearly independent. Solving $(\\mathbf{A} -\\lambda_i\\mathbf{I})=\\mathbf{0}$ for\n",
    "   $i=1,2,$ and $3$ gives, respectively,\n",
    "   \n",
    "   >$\n",
    "    \\mathbf{k}_1=\n",
    "    \\left(\\begin{array}{r}\n",
    "      1\\\\ \n",
    "      0\\\\ \n",
    "      0\n",
    "    \\end{array}\\right),\\;\\; \n",
    "    \\mathbf{k}_2=\n",
    "    \\left(\\begin{array}{r}\n",
    "      2\\\\ \n",
    "      2\\\\ \n",
    "      1\n",
    "    \\end{array}\\right),\\;\\; \n",
    "    \\mathbf{k}_3=\n",
    "    \\left(\\begin{array}{r}\n",
    "      1\\\\ \n",
    "      1\\\\ \n",
    "      1\n",
    "    \\end{array}\\right)    \n",
    "  $"
   ]
  },
  {
   "cell_type": "markdown",
   "metadata": {
    "slideshow": {
     "slide_type": "subslide"
    }
   },
   "source": [
    "   Thus a matrix that diagonalize $\\mathbf{A}$ is\n",
    "  \n",
    "   >$\n",
    "    \\mathbf{P}=\n",
    "    \\left(\\begin{array}{rrr}\n",
    "      1 & 2 & 1 \\\\ \n",
    "      0 & 2 & 1 \\\\ \n",
    "      0 & 1 & 1\n",
    "    \\end{array}\\right)\n",
    "   $\n",
    "   \n",
    "   The substitution $\\mathbf{x}=\\mathbf{P}\\mathbf{y}$ in $\\mathbf{x}'=\\mathbf{A}\\mathbf{x}$ gives\n",
    "   the decoupled system $\\mathbf{y}'=\\mathbf{D}\\mathbf{y}$. The entries on the main diagonal of $\\mathbf{D}$\n",
    "   are the eigenvalues of $\\mathbf{A}$ corresponding to the order in which the eigenvectors appear in $\\mathbf{P}$.\n",
    "   The general solution of the decoupled system is\n",
    "   \n",
    "   >$\n",
    "    \\mathbf{y}=\n",
    "    \\left(\\begin{array}{l}\n",
    "      c_1 e^{-2t}\\\\ \n",
    "      c_2 e^{t}\\\\ \n",
    "      c_3 e^{5t}\n",
    "    \\end{array}\\right)$  "
   ]
  },
  {
   "cell_type": "markdown",
   "metadata": {
    "slideshow": {
     "slide_type": "subslide"
    }
   },
   "source": [
    "   Hence the solution of the given system is\n",
    "   \n",
    "   >$\n",
    "    \\mathbf{x}=\\mathbf{P}\\mathbf{y}=\n",
    "    \\left(\\begin{array}{rrr}\n",
    "      1 & 2 & 1 \\\\ \n",
    "      0 & 2 & 1 \\\\ \n",
    "      0 & 1 & 1\n",
    "    \\end{array}\\right)\n",
    "    \\left(\\begin{array}{l}\n",
    "      c_1 e^{-2t}\\\\ \n",
    "      c_2 e^{t}\\\\ \n",
    "      c_3 e^{5t}\n",
    "    \\end{array}\\right)=\n",
    "    c_1 \\left(\\begin{array}{l} 1\\\\ 0\\\\ 0 \\end{array}\\right) e^{-2t}+\n",
    "    c_2 \\left(\\begin{array}{l} 2\\\\ 2\\\\ 1 \\end{array}\\right) e^{t}+\n",
    "    c_3 \\left(\\begin{array}{l} 1\\\\ 1\\\\ 1 \\end{array}\\right) e^{5t}$ "
   ]
  },
  {
   "cell_type": "markdown",
   "metadata": {
    "slideshow": {
     "slide_type": "subslide"
    }
   },
   "source": [
    "### Exercises 10.3\n",
    "\n",
    "* 1, 3, 11"
   ]
  },
  {
   "cell_type": "markdown",
   "metadata": {
    "slideshow": {
     "slide_type": "slide"
    }
   },
   "source": [
    "## 10.4 Nonhomogeneous Linear Systems"
   ]
  },
  {
   "cell_type": "markdown",
   "metadata": {
    "slideshow": {
     "slide_type": "fragment"
    }
   },
   "source": [
    "The general solution of a nonhomogeneous linear system $\\mathbf{x}'=\\mathbf{A}\\mathbf{x} +\\mathbf{f}(t)$ is\n",
    "$\\mathbf{x}=\\mathbf{x}_h +\\mathbf{x}_p$ where $\\mathbf{x}_h$ is the complementary function of the \n",
    "associated homogeneous linear system and $\\mathbf{x}_p$ is any particular solution of the nonhomogeneous system"
   ]
  },
  {
   "cell_type": "markdown",
   "metadata": {
    "slideshow": {
     "slide_type": "fragment"
    }
   },
   "source": [
    "### The **method of undetermined coefficients** \n",
    "  consists of making an educational guess about the form of \n",
    "  a particular solution vector $\\mathbf{x}_p$. The matrix version of undetermined coefficients is only \n",
    "  applicable when the entries of $\\mathbf{A}$ are constants and the entires of $\\mathbf{f}(t)$ are constants,\n",
    "  polynomials, exponential functions, sines and cosines, or finite sums and products of these functions"
   ]
  },
  {
   "cell_type": "markdown",
   "metadata": {
    "slideshow": {
     "slide_type": "subslide"
    }
   },
   "source": [
    "**Example:** $\\text{ }$Solve\n",
    "\n",
    "  >$\n",
    "   \\mathbf{x}' =\n",
    "   \\left(\\begin{array}{rr}\n",
    "     -1 & 2 \\\\ \n",
    "     -1 & 1\n",
    "   \\end{array}\\right)\\mathbf{x}+\n",
    "   \\left(\\begin{array}{r}\n",
    "     -8 \\\\ 3\n",
    "   \\end{array}\\right) \n",
    "  $"
   ]
  },
  {
   "cell_type": "markdown",
   "metadata": {
    "slideshow": {
     "slide_type": "fragment"
    }
   },
   "source": [
    "  We first solve the associated homogeneous system\n",
    "  \n",
    "  >$\\scriptsize\n",
    "   \\mathbf{x}' =\n",
    "   \\left(\\begin{array}{rr}\n",
    "     -1 & 2 \\\\ \n",
    "     -1 & 1\n",
    "   \\end{array}\\right)\\mathbf{x}\n",
    "  $ \n",
    "  \n",
    "  The characteristic equation of $\\mathbf{A}$\n",
    "  \n",
    "  >$\\scriptsize\n",
    "   \\mathrm{det}(\\mathbf{A} -\\lambda\\mathbf{I})=\n",
    "   \\left|\\begin{array}{cc}\n",
    "     -1 -\\lambda & 2 \\\\ \n",
    "     -1 & 1 -\\lambda\n",
    "   \\end{array}\\right|=\\lambda^2+1=0   \n",
    "  $\n",
    "  \n",
    "  yields the complex eigenvalues $\\lambda_1=i$ and $\\lambda_2=\\bar{\\lambda}_1=-i$"
   ]
  },
  {
   "cell_type": "markdown",
   "metadata": {
    "slideshow": {
     "slide_type": "subslide"
    }
   },
   "source": [
    "  \n",
    " For $\\lambda_1=i$,\n",
    "  \n",
    "  >$\n",
    "   (\\mathbf{A} -i\\mathbf{I}|\\mathbf{0})=\n",
    "      \\left(\\begin{array}{cc|r}\n",
    "           -1 -i & 2 & 0\\\\ \n",
    "           -1 & 1 -i & 0\n",
    "      \\end{array}\\right)\n",
    "      \\overset{\\text{row operations}}{\\Longrightarrow}\n",
    "      \\left(\\begin{array}{cc|r}\n",
    "            1 & -1 +i & 0\\\\ \\hdashline\n",
    "            0 & 0 & 0\n",
    "      \\end{array}\\right)     \n",
    "  $\n",
    "  \n",
    "  gives an eigenvector\n",
    "  \n",
    "  >$\n",
    "   \\mathbf{k}_1 =\n",
    "   \\left(\\begin{array}{c}\n",
    "     1 -i \\\\ 1\n",
    "   \\end{array}\\right)\n",
    "  $\n",
    "  \n",
    "  Now we build the general solution of the associated homogeneous system\n",
    "       \n",
    "  >$\\mathbf{x}_h=\n",
    "      c_1 \\left[ \\begin{pmatrix} 1 \\\\ 1 \\end{pmatrix} \\cos t \n",
    "                -\\begin{pmatrix}-1 \\\\\\;\\; 0 \\end{pmatrix} \\sin t \\right] \n",
    "     +c_2 \\left[ \\begin{pmatrix}-1 \\\\\\;\\; 0 \\end{pmatrix} \\cos t \n",
    "                +\\begin{pmatrix} 1 \\\\ 1 \\end{pmatrix} \\sin t \\right]\n",
    "   $"
   ]
  },
  {
   "cell_type": "markdown",
   "metadata": {
    "slideshow": {
     "slide_type": "subslide"
    }
   },
   "source": [
    "   \n",
    "   Since $\\mathbf{f}$ is a constant vector, we assume a constant particular solution vector\n",
    "   $\\mathbf{x}_p=\\begin{pmatrix} a_1 \\\\ b_1 \\end{pmatrix}$\n",
    "   \n",
    "  >$\n",
    "   \\mathbf{0} =\n",
    "   \\left(\\begin{array}{rr}\n",
    "     -1 & 2 \\\\ \n",
    "     -1 & 1\n",
    "   \\end{array}\\right)\\begin{pmatrix} a_1 \\\\ b_1 \\end{pmatrix}+\n",
    "   \\left(\\begin{array}{r}\n",
    "     -8 \\\\ 3\n",
    "   \\end{array}\\right) \n",
    "  $  \n",
    "  \n",
    "  Solving this algebraic system gives\n",
    "  \n",
    "  >$\\mathbf{x}_p=\\begin{pmatrix} 14 \\\\ 11 \\end{pmatrix}$"
   ]
  },
  {
   "cell_type": "markdown",
   "metadata": {
    "slideshow": {
     "slide_type": "subslide"
    }
   },
   "source": [
    "**Example:** Solve\n",
    "\n",
    "  >$\n",
    "   \\mathbf{x}' =\n",
    "   \\left(\\begin{array}{rr}\n",
    "     6 & 1 \\\\ \n",
    "     4 & 3\n",
    "   \\end{array}\\right)\\mathbf{x}+\n",
    "   \\left(\\begin{array}{c}\n",
    "     6t \\\\ -10t +4\n",
    "   \\end{array}\\right) \n",
    "  $"
   ]
  },
  {
   "cell_type": "markdown",
   "metadata": {
    "slideshow": {
     "slide_type": "fragment"
    }
   },
   "source": [
    "  The eigenvalues and corresponding eigenvectors of the associated homogeneous system are found to be\n",
    "  $\\lambda_1=2$, $\\lambda_2=7$, $\\text{ }\\mathbf{k}_1=\\begin{pmatrix} \\;\\;1 \\\\ -4 \\end{pmatrix}$, and\n",
    "  $\\text{ }\\mathbf{k}_2=\\begin{pmatrix} 1 \\\\ 1 \\end{pmatrix}$. Hence the complementary function is\n",
    "  \n",
    "  >$\\mathbf{x}_h=\n",
    "      c_1 \\begin{pmatrix} \\;\\;1 \\\\ -4 \\end{pmatrix} e^{2t}\n",
    "     +c_2 \\begin{pmatrix} 1 \\\\ 1 \\end{pmatrix} e^{7t}\n",
    "   $  "
   ]
  },
  {
   "cell_type": "markdown",
   "metadata": {
    "slideshow": {
     "slide_type": "subslide"
    }
   },
   "source": [
    "   \n",
    "   Now we shall try to find the particular solution of the form\n",
    "   \n",
    "   >$\\mathbf{x}_p=\n",
    "      \\begin{pmatrix} a_2 \\\\ b_2 \\end{pmatrix} t\n",
    "      +\\begin{pmatrix} a_1 \\\\ b_1 \\end{pmatrix}\n",
    "   $\n",
    "   \n",
    "   Substituting this assumption into the given system and solving the resultant algebraic equations yields\n",
    "   \n",
    "   >$\\mathbf{x}_p=\n",
    "      \\begin{pmatrix} -2 \\\\ \\;\\;6 \\end{pmatrix} t\n",
    "      +\\begin{pmatrix} -\\frac{4}{7} \\\\ \\;\\;\\frac{10}{7} \\end{pmatrix}\n",
    "   $"
   ]
  },
  {
   "cell_type": "markdown",
   "metadata": {
    "slideshow": {
     "slide_type": "subslide"
    }
   },
   "source": [
    "**Example:** Determine the form of a particular solution vector $\\mathbf{x}_p$, for the system\n",
    "\n",
    "  >$\n",
    "   \\mathbf{x}' =\n",
    "   \\left(\\begin{array}{rr}\n",
    "     5 & 3 \\\\ \n",
    "    -1 & 1\n",
    "   \\end{array}\\right)\\mathbf{x}+\n",
    "   \\left(\\begin{array}{c}\n",
    "     -2e^{-t} +1 \\\\ e^{-t} -5t +7\n",
    "   \\end{array}\\right) \n",
    "  $"
   ]
  },
  {
   "cell_type": "markdown",
   "metadata": {
    "slideshow": {
     "slide_type": "fragment"
    }
   },
   "source": [
    "\n",
    "  \n",
    "  Because $\\mathbf{f}$ can be written in matrix terms as\n",
    "  \n",
    "  >$\\mathbf{f}=\n",
    "      \\begin{pmatrix} -2 \\\\ \\;\\;1 \\end{pmatrix} e^{-t}\n",
    "      +\\begin{pmatrix} \\;\\;0 \\\\ -5 \\end{pmatrix} t\n",
    "       +\\begin{pmatrix} 1 \\\\ 7 \\end{pmatrix} \n",
    "  $\n",
    "  \n",
    "  a natural assumption for a particular solution would be\n",
    "  \n",
    "  >$\\mathbf{x}_p=\n",
    "      \\begin{pmatrix} a_3 \\\\ b_3 \\end{pmatrix} e^{-t}\n",
    "      +\\begin{pmatrix} a_2 \\\\ b_2 \\end{pmatrix} t\n",
    "       +\\begin{pmatrix} a_1 \\\\ b_1 \\end{pmatrix} \n",
    "  $  "
   ]
  },
  {
   "cell_type": "markdown",
   "metadata": {
    "slideshow": {
     "slide_type": "subslide"
    }
   },
   "source": [
    "* The method of undetermined coefficients for linear systems is not as straightforward as the last three examples\n",
    "  would seem to indicate. But there are further difficulties  \n",
    "  \n",
    "* For example, in $2 \\times 2$ system, \n",
    "  if $\\mathbf{f}(t)$ is a constant vector and $\\lambda=0$ is an eigenvalue of multiplicity one, then $\\mathbf{x}_p$ contains a constant vector. We would\n",
    "  ordinarily try a particular solution of the form\n",
    "  \n",
    "  >$\\scriptsize\\mathbf{x}_p=\n",
    "      \\begin{pmatrix} a_1 \\\\ b_1 \\end{pmatrix} t\n",
    "  $\n",
    "  \n",
    "  This is not the proper assumption for linear systems; it should be\n",
    "  \n",
    "  >$\\scriptsize\\mathbf{x}_p=\n",
    "    \\begin{pmatrix} a_2 \\\\ b_2 \\end{pmatrix} t\n",
    "     +\\begin{pmatrix} a_1 \\\\ b_1 \\end{pmatrix} \n",
    "  $"
   ]
  },
  {
   "cell_type": "markdown",
   "metadata": {
    "slideshow": {
     "slide_type": "subslide"
    }
   },
   "source": [
    "  Similarly, in the last Example, if we replace $e^{-t}$ in $\\mathbf{f}(t)$ by $e^{2t}$ ($\\lambda=2$ \n",
    "  is an eigenvalue), then the correct form of the particular solution vector is\n",
    "  \n",
    "  >$\\scriptsize\\mathbf{x}_p=\n",
    "     \\begin{pmatrix} a_4 \\\\ b_4 \\end{pmatrix} te^{2t} \n",
    "      +\\begin{pmatrix} a_3 \\\\ b_3 \\end{pmatrix} e^{2t}\n",
    "      +\\begin{pmatrix} a_2 \\\\ b_2 \\end{pmatrix} t\n",
    "       +\\begin{pmatrix} a_1 \\\\ b_1 \\end{pmatrix} \n",
    "  $"
   ]
  },
  {
   "cell_type": "markdown",
   "metadata": {
    "slideshow": {
     "slide_type": "subslide"
    }
   },
   "source": [
    "### **Method of Variation of Parameters**\n",
    "\n",
    "* **A Fundamental Matrix**\n",
    "  \n",
    "  If $\\mathbf{x}_1$, $\\mathbf{x}_2$, $\\cdots$, $\\mathbf{x}_n$ is a fundamental set of solutions of \n",
    "  the homogeneous system $\\mathbf{x}'=\\mathbf{A}\\mathbf{x}$, then its general solution is the linear\n",
    "  combination $\\mathbf{x}=c_1\\mathbf{x}_1 +c_2\\mathbf{x}_2 +\\cdots +c_n\\mathbf{x}_n$ or\n",
    "    \n",
    "  >$\\mathbf{x}=\n",
    "       c_1\\begin{pmatrix} x_{11} \\\\ x_{21} \\\\ \\vdots \\\\ x_{n1} \\end{pmatrix}\n",
    "      +c_2\\begin{pmatrix} x_{12} \\\\ x_{22} \\\\ \\vdots \\\\ x_{n2} \\end{pmatrix}\n",
    "      +\\cdots\n",
    "      +c_n\\begin{pmatrix} x_{1n} \\\\ x_{2n} \\\\ \\vdots \\\\ x_{nn} \\end{pmatrix}\n",
    "      =\\begin{pmatrix}\n",
    "         x_{11} & x_{12} & \\cdots & x_{1n}\\\\ \n",
    "         x_{21} & x_{22} & \\cdots & x_{2n}\\\\ \n",
    "         \\vdots &        & \\ddots & \\vdots\\\\ \n",
    "         x_{n1} & x_{n2} & \\cdots & x_{nn}\\\\\n",
    "       \\end{pmatrix} \n",
    "       \\begin{pmatrix} c_1 \\\\ c_2 \\\\ \\vdots \\\\ c_n \\end{pmatrix} \n",
    "  $ "
   ]
  },
  {
   "cell_type": "markdown",
   "metadata": {
    "slideshow": {
     "slide_type": "subslide"
    }
   },
   "source": [
    "* In other words, the general solution can be written as the product\n",
    "    \n",
    "  >$\\mathbf{x}=\\mathbf{\\Phi}(t)\\mathbf{c}$\n",
    "    \n",
    "  where $\\mathbf{c}$ is the column vector of constants and $\\mathbf{\\Phi}$ is the **fundamental matrix**\n",
    " \n",
    "* We need to know two properties of a fundamental matrix:\n",
    "    \n",
    "  * A fundamental matrix $\\mathbf{\\Phi}(t)$ is nonsingular\n",
    "  * If $\\mathbf{\\Phi}(t)$ is a fundamental matrix of $\\mathbf{x}'=\\mathbf{A}\\mathbf{x}$, then\n",
    "    \n",
    "    >$\\mathbf{\\Phi}'(t)=\\mathbf{A}\\mathbf{\\Phi}(t)$"
   ]
  },
  {
   "cell_type": "markdown",
   "metadata": {
    "cell_style": "center",
    "slideshow": {
     "slide_type": "subslide"
    }
   },
   "source": [
    "* **Variation of Parameters**\n",
    "\n",
    "  We ask whether it is possible to replace $\\mathbf{c}$ by\n",
    "\n",
    "  >$\\mathbf{u}(t)= \\begin{pmatrix} u_1(t) \\\\ u_2(t) \\\\ \\vdots \\\\ u_n(t) \\end{pmatrix}\\;\\text{ so that }\\;\\mathbf{x}_p=\\mathbf{\\Phi}(t)\\mathbf{u}(t)$\n",
    "  \n",
    "  is a particular solution of $\\mathbf{x}'=\\mathbf{A}\\mathbf{x} +\\mathbf{f}(t)$"
   ]
  },
  {
   "cell_type": "markdown",
   "metadata": {
    "slideshow": {
     "slide_type": "subslide"
    }
   },
   "source": [
    "  >$\n",
    "  \\begin{align*}\n",
    "    \\mathbf{x}'&=\\mathbf{A}\\mathbf{x} +\\mathbf{f}(t)\\\\ \n",
    "       &\\;\\Big\\Downarrow \\;\\;\\mathbf{x}_p=\\mathbf{\\Phi}(t)\\mathbf{u}(t)\\\\ \n",
    "    \\mathbf{\\Phi}'(t)\\mathbf{u}(t) \n",
    "       +\\mathbf{\\Phi}(t)\\mathbf{u}'(t)&=\\mathbf{A}\\mathbf{\\Phi}(t)\\mathbf{u}(t) +\\mathbf{f}(t)\\\\\n",
    "       &\\;\\Big\\Downarrow \\;\\;\\mathbf{\\Phi}'(t)=\\mathbf{A}\\mathbf{\\Phi}(t)\\\\\n",
    "    \\mathbf{\\Phi}(t)\\mathbf{u}'(t)&=\\mathbf{f}(t)\\\\\n",
    "       &\\Downarrow \\\\\n",
    "    \\mathbf{u}(t)&=\\int\\mathbf{\\Phi}^{-1}(t)\\mathbf{f}(t)\\;dt\\\\\n",
    "       &\\Downarrow \\\\\n",
    "    \\mathbf{x}_p&=\\mathbf{\\Phi}(t)\\int\\mathbf{\\Phi}^{-1}(t)\\mathbf{f}(t)\\;dt\n",
    "  \\end{align*}\n",
    "  $"
   ]
  },
  {
   "cell_type": "markdown",
   "metadata": {
    "slideshow": {
     "slide_type": "subslide"
    }
   },
   "source": [
    "  Thus the general solution is\n",
    "  \n",
    "  >$\\displaystyle\n",
    "   \\mathbf{x}=\\mathbf{\\Phi}(t)\\mathbf{c}+\\mathbf{\\Phi}(t)\\int\\mathbf{\\Phi}^{-1}(t)\\mathbf{f}(t)\\;dt\n",
    "  $\n",
    "  \n",
    "  or can be written in an alternative manner\n",
    "  \n",
    "  >$\\displaystyle\n",
    "   \\mathbf{x}=\\mathbf{\\Phi}(t)\\mathbf{c}+\\mathbf{\\Phi}(t)\\int_{t_0}^t\\mathbf{\\Phi}^{-1}(s)\\mathbf{f}(s)\\;ds\n",
    "  $\n",
    "  \n",
    "  The last form is useful in solving the problem subject to an initial condition $\\mathbf{x}(t_0)=\\mathbf{x}_0$.\n",
    "  Substituting $t=t_0$ yields $\\mathbf{x}_0=\\mathbf{\\Phi}(t_0)\\mathbf{c}$, from which \n",
    "  we get $\\mathbf{c}=\\mathbf{\\Phi}^{-1}(t_0)\\mathbf{x}_0$. Then the solution of the initial value problem is\n",
    "  \n",
    "  >$\\displaystyle\n",
    "   \\mathbf{x}=\\mathbf{\\Phi}(t)\\mathbf{\\Phi}^{-1}(t_0)\\mathbf{x}_0\n",
    "     +\\mathbf{\\Phi}(t)\\int_{t_0}^t\\mathbf{\\Phi}^{-1}(s)\\mathbf{f}(s)\\;ds\n",
    "  $  "
   ]
  },
  {
   "cell_type": "markdown",
   "metadata": {
    "slideshow": {
     "slide_type": "subslide"
    }
   },
   "source": [
    "**Example:** Find the general solution of the nonhomogeneous system\n",
    "\n",
    "  >$\n",
    "   \\mathbf{x}' =\n",
    "   \\left(\\begin{array}{rr}\n",
    "    -3 & 1 \\\\ \n",
    "     2 &-4\n",
    "   \\end{array}\\right)\\mathbf{x}+\n",
    "   \\left(\\begin{array}{c}\n",
    "     3t \\\\ e^{-t}\n",
    "   \\end{array}\\right) \n",
    "  $"
   ]
  },
  {
   "cell_type": "markdown",
   "metadata": {
    "slideshow": {
     "slide_type": "fragment"
    }
   },
   "source": [
    "  The solution vectors of the homogeneous system are then\n",
    "  \n",
    "  >$\n",
    "   \\mathbf{x}_1 =\n",
    "   \\left(\\begin{array}{c} e^{-2t} \\\\ e^{-2t} \\end{array}\\right)\\;\\text{and}\\;\n",
    "   \\mathbf{x}_2 =\n",
    "   \\left(\\begin{array}{c} \\;\\;\\;\\;e^{-5t} \\\\ -2e^{-5t} \\end{array}\\right)\n",
    "  $ "
   ]
  },
  {
   "cell_type": "markdown",
   "metadata": {
    "slideshow": {
     "slide_type": "subslide"
    }
   },
   "source": [
    "  Hence\n",
    "  \n",
    "  >$\\displaystyle\n",
    "   \\mathbf{\\Phi}(t) =\n",
    "   \\left(\\begin{array}{rr}\n",
    "     e^{-2t} & \\;\\;\\;\\;e^{-5t} \\\\ \n",
    "     e^{-2t} & -2e^{-5t}\n",
    "   \\end{array}\\right)\\;\\text{and}\\;\n",
    "   \\mathbf{\\Phi}^{-1}(t) =\\frac{1}{3}\n",
    "   \\left(\\begin{array}{rr}\n",
    "     2e^{2t} & \\;\\;\\;\\;e^{2t} \\\\ \n",
    "     e^{5t} & -e^{5t}\n",
    "   \\end{array}\\right)   \n",
    "  $\n",
    "  \n",
    "  Then we obtain\n",
    "  \n",
    "  >$\\displaystyle\n",
    "    \\begin{align*}\n",
    "       \\mathbf{x}_p &=\\mathbf{\\Phi}(t)\\int\\mathbf{\\Phi}^{-1}(t)\\mathbf{f}(t)\\;dt\\\\ \n",
    "       &=\\left(\\begin{array}{rr}\n",
    "            e^{-2t} & \\;\\;\\;\\;e^{-5t}\\\\ \n",
    "            e^{-2t} & -2e^{-5t}\n",
    "         \\end{array}\\right)\n",
    "       \\int\\frac{1}{3}\n",
    "         \\left(\\begin{array}{rr}\n",
    "            2e^{2t} & \\;\\;\\;\\;e^{2t} \\\\ \n",
    "            e^{5t} & -e^{5t}\n",
    "         \\end{array}\\right)\n",
    "         \\left(\\begin{array}{c}\n",
    "            3t \\\\ e^{-t}\n",
    "         \\end{array}\\right)\\,dt\\\\ \n",
    "       &=\\left(\\begin{array}{c}\n",
    "            \\frac{6}{5}t -\\frac{27}{50} +\\frac{1}{4}e^{-t}\\\\\n",
    "            \\frac{3}{5}t -\\frac{21}{50} +\\frac{1}{2}e^{-t}\n",
    "         \\end{array}\\right)\n",
    "    \\end{align*}  \n",
    "  $\n",
    "  "
   ]
  },
  {
   "cell_type": "markdown",
   "metadata": {
    "slideshow": {
     "slide_type": "subslide"
    }
   },
   "source": [
    "### **Diagonalization**\n",
    "\n",
    "Suppose $\\mathbf{P}$ is the matrix such that $\\mathbf{P}^{-1}\\mathbf{A}\\mathbf{P}=\\mathbf{D}$, where\n",
    "$\\mathbf{D}$ is a diagonal matrix. Substituting $\\mathbf{x}=\\mathbf{P}\\mathbf{y}$ into the\n",
    "nonhomogeneous system gives\n",
    "\n",
    ">$\n",
    "\\begin{align*}\n",
    " \\mathbf{x}'&=\\mathbf{A}\\mathbf{x} +\\mathbf{f}\\\\ \n",
    " &\\;\\big\\Downarrow \\;\\mathbf{x}=\\mathbf{P}\\mathbf{y} \\\\ \n",
    " \\mathbf{P}\\mathbf{y}'&=\\mathbf{A}\\mathbf{P}\\mathbf{y} +\\mathbf{f}\\\\ \n",
    " \\mathbf{y}'&= \\mathbf{P}^{-1}\\mathbf{A}\\mathbf{P}\\mathbf{y} +\\mathbf{P}^{-1}\\mathbf{f}\\\\ \n",
    " \\mathbf{y}'&= \\mathbf{D}\\mathbf{y} +\\mathbf{P}^{-1}\\mathbf{f}\\\\\n",
    " &\\;\\big\\Downarrow \\;\\mathbf{g}=\\mathbf{P}^{-1}\\mathbf{f}\\\\\n",
    " \\mathbf{y}'&= \\mathbf{D}\\mathbf{y} +\\mathbf{g}\n",
    "\\end{align*}\n",
    "$"
   ]
  },
  {
   "cell_type": "markdown",
   "metadata": {
    "slideshow": {
     "slide_type": "subslide"
    }
   },
   "source": [
    "In the last equation, $\\mathbf{g}$ ia a column vector. So each differential equation has the form of\n",
    "$y'_i=\\lambda_i y_i +g_i(t)$, $i=1,\\cdots,n$. Unlike the procedure for solving a homogeneous system, we \n",
    "now are required to compute the inverse of $\\mathbf{P}$"
   ]
  },
  {
   "cell_type": "markdown",
   "metadata": {
    "slideshow": {
     "slide_type": "subslide"
    }
   },
   "source": [
    "### Exercises 10.4\n",
    "\n",
    "* 1, 3, 5, 15, 17, 33, 37"
   ]
  },
  {
   "cell_type": "markdown",
   "metadata": {
    "cell_style": "center",
    "slideshow": {
     "slide_type": "subslide"
    }
   },
   "source": [
    "## 10.5 Matrix Exponential"
   ]
  },
  {
   "cell_type": "markdown",
   "metadata": {
    "slideshow": {
     "slide_type": "fragment"
    }
   },
   "source": [
    "We can define a **matrix exponential** $e^{\\mathbf{A}t}$ so that $\\mathbf{x}'=\\mathbf{A}\\mathbf{x}$\n",
    "has a solution $\\mathbf{x}=e^{\\mathbf{A}t}\\mathbf{c}$\n",
    "\n",
    ">$\\displaystyle\n",
    "  e^{\\mathbf{A}t}=\\mathbf{I} +\\mathbf{A}t +\\mathbf{A}^2\\frac{t^2}{2!} \n",
    "    +\\cdots +\\mathbf{A}^k\\frac{t^k}{k!} +\\cdots =\\sum_{k=0}^\\infty \\mathbf{A}^k \\frac{t^k}{k!}$\n",
    "    \n",
    "The derivative of $e^{\\mathbf{A}t}$ is obtained by differentiating term by term\n",
    "\n",
    ">$\\displaystyle\n",
    "  \\begin{align*} \n",
    "   \\frac{d}{dt}e^{\\mathbf{A}t}&=\\frac{d}{dt}\\left[\\mathbf{I} +\\mathbf{A}t +\\mathbf{A}^2\\frac{t^2}{2!} \n",
    "       +\\cdots +\\mathbf{A}^k\\frac{t^k}{k!} +\\cdots \\right]\n",
    "       =\\mathbf{A} +\\mathbf{A}^2t +\\mathbf{A}^3\\frac{t^2}{2!} \n",
    "       +\\cdots +\\mathbf{A}^{k +1}\\frac{t^k}{k!} +\\cdots\\\\\n",
    "       &=\\mathbf{A}\\left[\\mathbf{I} +\\mathbf{A}t +\\mathbf{A}^2\\frac{t^2}{2!} \n",
    "       +\\cdots +\\mathbf{A}^k\\frac{t^k}{k!} +\\cdots\\right]=\\mathbf{A}e^{\\mathbf{A}t}\n",
    "  \\end{align*}    \n",
    " $"
   ]
  },
  {
   "cell_type": "markdown",
   "metadata": {
    "slideshow": {
     "slide_type": "subslide"
    }
   },
   "source": [
    "Now we can prove that $\\mathbf{x}=e^{\\mathbf{A}t}\\mathbf{c}$ is the solution of $\\mathbf{x}'=\\mathbf{A}\\mathbf{x}$ for every constant vector $\\mathbf{c}$\n",
    "\n",
    ">$\\displaystyle\n",
    "   \\mathbf{x}'=\\frac{d}{dt}e^{\\mathbf{A}t}\\mathbf{c}=\\mathbf{A}e^{\\mathbf{A}t}\\mathbf{c}\n",
    "    =\\mathbf{A}\\left(e^{\\mathbf{A}t}\\mathbf{c}\\right)=\\mathbf{A}\\mathbf{x}$\n",
    "\n",
    "* If we denote $e^{\\mathbf{A}t}$ by the symbol $\\mathbf{\\Psi}(t)$, \n",
    "then $\\frac{d}{dt}e^{\\mathbf{A}t}=\\mathbf{A}e^{\\mathbf{A}t}$ is equivalent to \n",
    "$\\mathbf{\\Psi}'(t)=\\mathbf{A}\\mathbf{\\Psi}(t)$. \n",
    "In addition, $\\mathbf{\\Psi}(0)=e^{\\mathbf{A}0}=\\mathbf{I}$ and so $\\mathrm{det}\\,\\mathbf{\\Psi}(0)\\neq 0$.\n",
    "These two properties are sufficient to conclude that $\\mathbf{\\Psi}(t)$ is a **fundamental matrix** of \n",
    "$\\mathbf{x}'=\\mathbf{A}\\mathbf{x}$. Then it is always nonsingular and \n",
    "$\\left(e^{\\mathbf{A}t}\\right)^{-1}=e^{-\\mathbf{A}t}$\n",
    "\n",
    "* For a nonhomogeneous system of linear first-order DEs, the general solution is\n",
    "\n",
    "  >$\\displaystyle\n",
    "   \\mathbf{x}=\\mathbf{x}_h +\\mathbf{x}_p =e^{\\mathbf{A}t}\\mathbf{c}\n",
    "     +e^{\\mathbf{A}t}\\int_{t_0}^te^{-\\mathbf{A}s}\\mathbf{f}(s)\\;ds\n",
    "  $"
   ]
  },
  {
   "cell_type": "markdown",
   "metadata": {
    "slideshow": {
     "slide_type": "subslide"
    }
   },
   "source": [
    "* **Computation of $e^{\\mathbf{A}t}$:** Using the Laplace Transform\n",
    "\n",
    "  $\\mathbf{x}=e^{\\mathbf{A}t}$ is a solution of the initial value problem\n",
    "  \n",
    "  >$\\mathbf{x}'=\\mathbf{A}\\mathbf{x}, \\;\\;\\mathbf{x}(0)=\\mathbf{I}$\n",
    "  \n",
    "  If $\\mathbf{x}(s)=\\mathcal{L}\\{e^{\\mathbf{A}t}\\}$, then the Laplace transform of the above initial\n",
    "  value problem is\n",
    "  \n",
    "  >$\n",
    "   \\begin{align*}\n",
    "     s\\mathbf{x}(s) -\\mathbf{I}&=\\mathbf{A}\\mathbf{x}(s)\\\\ \n",
    "     (s\\mathbf{I} -\\mathbf{A})\\mathbf{x}(s)&=\\mathbf{I}\\\\ \n",
    "     \\mathbf{x}(s)&=(s\\mathbf{I} -\\mathbf{A})^{-1}\n",
    "   \\end{align*}\n",
    "  $\n",
    "  \n",
    "  In other words,\n",
    "  \n",
    "  >$e^{\\mathbf{A}t}=\\mathcal{L}^{-1}\\{(s\\mathbf{I} -\\mathbf{A})^{-1}\\}$"
   ]
  },
  {
   "cell_type": "markdown",
   "metadata": {
    "slideshow": {
     "slide_type": "subslide"
    }
   },
   "source": [
    "* **Computation of $e^{\\mathbf{A}t}$:$\\text{ }$** Using Powers $\\mathbf{A}^m$\n",
    "\n",
    "  For computing an arbitrary power $\\mathbf{A}^k$, $k$ a nonnegative integer, we can write\n",
    "  \n",
    "  >$\\displaystyle\n",
    "    \\mathbf{A}^k=\\sum_{j=0}^{n -1}c_j(k)\\mathbf{A}^j\\;\\text{and}\\;\n",
    "       \\lambda^k=\\sum_{j=0}^{n -1}c_j(k)\\lambda^j$\n",
    "\n",
    "  where the last expression is valid for the eigenvalues $\\lambda_1$, $\\lambda_2$, $\\cdots$, $\\lambda_n$.\n",
    "  If the eigenvalues are distinct, by setting $\\lambda=\\lambda_1,\\lambda_2,\\cdots,\\lambda_n$ in the second\n",
    "  expression, we were able to find $c_j(k)$ in the first expression by solving $n$ equations in $n$\n",
    "  unknowns. From the definition of $e^{\\mathbf{A}t}$, we have\n",
    "  \n",
    "  >$\\displaystyle\n",
    "    e^{\\mathbf{A}t}=\\sum_{k=0}^\\infty \\mathbf{A}^k \\frac{t^k}{k!}\\;\\text{and}\\;\n",
    "    e^{\\lambda t}=\\sum_{k=0}^\\infty \\lambda^k \\frac{t^k}{k!}\n",
    "  $"
   ]
  },
  {
   "cell_type": "markdown",
   "metadata": {
    "slideshow": {
     "slide_type": "subslide"
    }
   },
   "source": [
    "  We next use to replace $\\mathbf{A}^k$ and $\\lambda^k$ as finite sums followed by an interchange of the\n",
    "  order of summations\n",
    "  \n",
    "  >$\\displaystyle\n",
    "    \\begin{align*}\n",
    "     e^{\\mathbf{A}t}&=\\sum_{k=0}^\\infty \\frac{t^k}{k!}\\left(\\sum_{j=0}^{n -1}c_j(k)\\mathbf{A}^j\\right)\n",
    "       =\\sum_{j=0}^{n -1}\\mathbf{A}^j\\left(\\sum_{k=0}^\\infty \\frac{t^k}{k!}c_j(k)\\right)\n",
    "       =\\sum_{j=0}^{n -1}\\mathbf{A}^j b_j\\\\\n",
    "     e^{\\lambda t}&=\\sum_{k=0}^\\infty\\frac{t^k}{k!}\\left(\\sum_{j=0}^{n -1}c_j(k)\\lambda^j\\right)\n",
    "       =\\sum_{j=0}^{n -1}\\lambda^j\\left(\\sum_{k=0}^\\infty\\frac{t^k}{k!}c_j(k)\\right)\n",
    "       =\\sum_{j=0}^{n -1}\\lambda^j b_j\n",
    "    \\end{align*} \n",
    "  $  \n",
    "  \n",
    "  Analogous to how we used the eigenvalues of $\\mathbf{A}$ to determine the $c_j$, we again use the eigenvalues\n",
    "  to solve a system of equations to determine the $b_j$"
   ]
  },
  {
   "cell_type": "markdown",
   "metadata": {
    "slideshow": {
     "slide_type": "subslide"
    }
   },
   "source": [
    "**Example:** $\\text{ }$Compute $e^{\\mathbf{A}t}$ for \n",
    "  $\\mathbf{A} =\n",
    "   \\left(\\begin{array}{rr}\n",
    "     1 & -1\\\\ \n",
    "     2 & -2\n",
    "   \\end{array}\\right)$"
   ]
  },
  {
   "cell_type": "markdown",
   "metadata": {
    "slideshow": {
     "slide_type": "fragment"
    }
   },
   "source": [
    "  First we compute the matrix $s\\mathbf{I} -\\mathbf{A}$ and then find its inverse\n",
    "   \n",
    "  >$s\\mathbf{I} -\\mathbf{A}=\n",
    "   \\left(\\begin{array}{cc}\n",
    "     s -1 & 1\\\\ \n",
    "     -2 & s +2\n",
    "   \\end{array}\\right)$\n",
    "   \n",
    "  >$(s\\mathbf{I} -\\mathbf{A})^{-1}=\n",
    "   \\left(\\begin{array}{cc}\n",
    "     \\frac{s +2}{s(s +1)} & \\frac{-1}{s(s +1)}\\\\ \n",
    "     \\frac{2}{s(s +1)} & \\frac{s -1}{s(s +1)}\n",
    "   \\end{array}\\right)$"
   ]
  },
  {
   "cell_type": "markdown",
   "metadata": {
    "slideshow": {
     "slide_type": "subslide"
    }
   },
   "source": [
    "  Then we decompose the entries of the last matrix into partial fractions\n",
    "   \n",
    "  >$(s\\mathbf{I} -\\mathbf{A})^{-1}=\n",
    "   \\left(\\begin{array}{cc}\n",
    "     \\frac{2}{s} -\\frac{1}{s +1} & -\\frac{1}{s} +\\frac{1}{s +1}\\\\ \n",
    "     \\frac{2}{s} -\\frac{2}{s +1} & -\\frac{1}{s} +\\frac{2}{s +1}\n",
    "   \\end{array}\\right)$\n",
    "   \n",
    "   Taking the inverse Laplace transform gives the desired result\n",
    "   \n",
    "   >$e^{\\mathbf{A}t} =\n",
    "   \\left(\\begin{array}{cc}\n",
    "     2 -e^{-t} & -1 +e^{-t} \\\\ \n",
    "     2 -2e^{-t} & -1 +2e^{-t} \n",
    "   \\end{array}\\right)$    "
   ]
  },
  {
   "cell_type": "code",
   "execution_count": 14,
   "metadata": {
    "slideshow": {
     "slide_type": "subslide"
    }
   },
   "outputs": [
    {
     "data": {
      "image/png": "[encoded data removed]",
      "text/latex": [
       "$\\displaystyle \\left[\\begin{matrix}2 - e^{- t} & -1 + e^{- t}\\\\2 - 2 e^{- t} & -1 + 2 e^{- t}\\end{matrix}\\right]$"
      ],
      "text/plain": [
       "⎡      -t          -t ⎤\n",
       "⎢ 2 - ℯ      -1 + ℯ   ⎥\n",
       "⎢                     ⎥\n",
       "⎢       -t          -t⎥\n",
       "⎣2 - 2⋅ℯ    -1 + 2⋅ℯ  ⎦"
      ]
     },
     "execution_count": 14,
     "metadata": {},
     "output_type": "execute_result"
    }
   ],
   "source": [
    "A = sympy.Matrix([[1, -1], [2, -2]])\n",
    "s = sympy.symbols('s')\n",
    "t = sympy.symbols('t', real=True, positive=True)\n",
    "\n",
    "lp_sol = (s*sympy.eye(2) -A).inv()\n",
    "sympy.inverse_laplace_transform(lp_sol, s, t)"
   ]
  },
  {
   "cell_type": "markdown",
   "metadata": {
    "slideshow": {
     "slide_type": "subslide"
    }
   },
   "source": [
    "**Example:** $\\text{ }$Compute $e^{\\mathbf{A}t}$ for \n",
    "  $\\mathbf{A} =\n",
    "   \\left(\\begin{array}{rr}\n",
    "     -2 & 4\\\\ \n",
    "     -1 & 3\n",
    "   \\end{array}\\right)$\n",
    "   \n",
    "   The eigenvalues of $\\mathbf{A}$ are $\\lambda_1=-1$ and $\\lambda_2=2$. Now since $\\mathbf{A}$ is a\n",
    "   $2 \\times 2$ matrix, we have\n",
    "   \n",
    "   >$e^{\\mathbf{A}t}=b_0\\mathbf{I} +b_1\\mathbf{A}\\;$ and $\\;e^{\\lambda t}=b_0 +b_1\\lambda$\n",
    "   \n",
    "   Setting $\\lambda=-1$ and $\\lambda=2$ in the second equation gives two equations in the two\n",
    "   unknowns $b_0$ and $b_1$. Solving the system yields\n",
    "   \n",
    "   >$b_0=\\frac{1}{3}\\left[e^{2t} +2e^{-t}\\right]$, $\\text{ }b_1=\\frac{1}{3}\\left[e^{2t} -e^{-t}\\right]$\n",
    "   \n",
    "   Substituting these values in the first equation and simplifying the entries yields\n",
    "   \n",
    "   >$e^{\\mathbf{A}t} =\n",
    "   \\left(\\begin{array}{cc}\n",
    "     -\\frac{1}{3}e^{2t} +\\frac{4}{3}e^{-t} & \\frac{4}{3}e^{2t} -\\frac{4}{3}e^{-t} \\\\ \n",
    "     -\\frac{1}{3}e^{2t} +\\frac{1}{3}e^{-t} & \\frac{4}{3}e^{2t} -\\frac{1}{3}e^{-t} \n",
    "   \\end{array}\\right)$ "
   ]
  },
  {
   "cell_type": "code",
   "execution_count": 15,
   "metadata": {
    "slideshow": {
     "slide_type": "subslide"
    }
   },
   "outputs": [
    {
     "data": {
      "image/png": "[encoded data removed]",
      "text/latex": [
       "$\\displaystyle \\left[\\begin{matrix}- \\frac{e^{2 t}}{3} + \\frac{4 e^{- t}}{3} & \\frac{4 e^{2 t}}{3} - \\frac{4 e^{- t}}{3}\\\\- \\frac{e^{2 t}}{3} + \\frac{e^{- t}}{3} & \\frac{4 e^{2 t}}{3} - \\frac{e^{- t}}{3}\\end{matrix}\\right]$"
      ],
      "text/plain": [
       "⎡   2⋅t      -t     2⋅t      -t⎤\n",
       "⎢  ℯ      4⋅ℯ    4⋅ℯ      4⋅ℯ  ⎥\n",
       "⎢- ──── + ─────  ────── - ─────⎥\n",
       "⎢   3       3      3        3  ⎥\n",
       "⎢                              ⎥\n",
       "⎢    2⋅t    -t       2⋅t    -t ⎥\n",
       "⎢   ℯ      ℯ      4⋅ℯ      ℯ   ⎥\n",
       "⎢ - ──── + ───    ────── - ─── ⎥\n",
       "⎣    3      3       3       3  ⎦"
      ]
     },
     "execution_count": 15,
     "metadata": {},
     "output_type": "execute_result"
    }
   ],
   "source": [
    "A = sympy.Matrix([[-2, 4], [-1, 3]])\n",
    "t = sympy.symbols('t', real = True, positive = True)\n",
    "sympy.exp(A*t)"
   ]
  },
  {
   "cell_type": "markdown",
   "metadata": {
    "slideshow": {
     "slide_type": "slide"
    }
   },
   "source": [
    "### Exercises 10.5\n",
    "\n",
    "* 1, 3, 5, 9, 11\n",
    "* 23, 24"
   ]
  }
 ],
 "metadata": {
  "celltoolbar": "Slideshow",
  "kernelspec": {
   "display_name": "Python 3 (ipykernel)",
   "language": "python",
   "name": "python3"
  },
  "language_info": {
   "codemirror_mode": {
    "name": "ipython",
    "version": 3
   },
   "file_extension": ".py",
   "mimetype": "text/x-python",
   "name": "python",
   "nbconvert_exporter": "python",
   "pygments_lexer": "ipython3",
   "version": "3.9.18"
  }
 },
 "nbformat": 4,
 "nbformat_minor": 4
}
