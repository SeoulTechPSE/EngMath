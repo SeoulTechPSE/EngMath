{
 "cells": [
  {
   "cell_type": "markdown",
   "metadata": {},
   "source": [
    "## Engineering Mathematics II (161007-21003) - Final Exam.\n",
    "December 13, 2023"
   ]
  },
  {
   "cell_type": "markdown",
   "metadata": {},
   "source": [
    "**1[25].** $~$ Solve the problem\n",
    "\n",
    "$$\n",
    "\\begin{align*}\n",
    " u_t &= u_{xx}, \\;\\;0<x<1, \\;\\; 0<t<\\infty\\\\ \n",
    " &u(0,t)=0\\\\ \n",
    " &u(1,t)=\\cos t \\\\ \n",
    " &u(x,0)=x \n",
    "\\end{align*}\n",
    "$$\n",
    "\n",
    "> by\n",
    "\n",
    "> (a) transforming it to one with zero BCs.\n",
    "\n",
    "> (b) solving the resulting problem."
   ]
  },
  {
   "cell_type": "markdown",
   "metadata": {},
   "source": [
    "**2[25].** $~$ Find $u\\left( \\frac{3}{8}, 3 \\right)$\n",
    "\n",
    "$$\n",
    "\\begin{align*}\n",
    " u_{tt} &= u_{xx}, \\;\\;0<x<1, \\; 0 < t < \\infty\\\\ \n",
    " u_x(0, t) &= 0\\\\\n",
    " u(1, t) &= 0\\\\\n",
    " u(x, 0) &=(1-x)^3 \\\\\n",
    " u_t(x, 0) &= (1-x)^2\n",
    "\\end{align*}\n",
    "$$\n"
   ]
  },
  {
   "cell_type": "markdown",
   "metadata": {},
   "source": [
    "**3[25].** $~$ Solve the interior Dirichlet problem\n",
    "\n",
    "$$\n",
    "\\begin{align*}\n",
    " \\nabla^2 u &= 0, \\;\\; 0<r<1\\\\ \n",
    " u(1,\\phi)&= \\cos 2\\phi\n",
    "\\end{align*}\n",
    "$$"
   ]
  },
  {
   "cell_type": "markdown",
   "metadata": {},
   "source": [
    "**4[25].** $~$ 1차원 파동방정식($u_{tt}=c^2 u_{xx}$)의 D'Alembert 해에 대하여 설명하시오."
   ]
  }
 ],
 "metadata": {
  "kernelspec": {
   "display_name": "Python 3 (ipykernel)",
   "language": "python",
   "name": "python3"
  },
  "language_info": {
   "codemirror_mode": {
    "name": "ipython",
    "version": 3
   },
   "file_extension": ".py",
   "mimetype": "text/x-python",
   "name": "python",
   "nbconvert_exporter": "python",
   "pygments_lexer": "ipython3",
   "version": "3.9.18"
  }
 },
 "nbformat": 4,
 "nbformat_minor": 4
}
