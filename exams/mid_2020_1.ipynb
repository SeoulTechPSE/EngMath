{
 "cells": [
  {
   "cell_type": "markdown",
   "metadata": {},
   "source": [
    "## Engineering Mathematics I - Mid. Exam.\n",
    "April 30, 2020"
   ]
  },
  {
   "cell_type": "markdown",
   "metadata": {},
   "source": [
    "* Classify the following differential equation by order and linearity\n",
    "\n",
    "  $\\displaystyle\\frac{d^2 y}{d x^2} = \\left ( \\frac{dy}{dx} \\right )^5 -\\frac{d^4 y}{d x^4} +\\left ( \\frac{d^3 y}{dx^3} \\right )^2$\n",
    "  \n",
    "  **Solution** \n",
    "  \n",
    "  4-th order nonlinear"
   ]
  },
  {
   "cell_type": "markdown",
   "metadata": {},
   "source": [
    "* $y= c_1 x^{-1} +c_2 x -\\ln x$ is a two-parameter family of solutions to the differential equation $x^2 y'' +x y' -y = \\ln x$\n",
    "\n",
    "  **Solution**\n",
    "  \n",
    "  True"
   ]
  },
  {
   "cell_type": "markdown",
   "metadata": {},
   "source": [
    "* The following differential equation is linear:\n",
    "\n",
    "  $\\displaystyle\\frac{1}{x} y''' +(3 -x^2) (y'' -y') +e^x y = 3y$\n",
    "  \n",
    "  **Solution**\n",
    "  \n",
    "  True"
   ]
  },
  {
   "cell_type": "markdown",
   "metadata": {},
   "source": [
    "*  $y= \\frac{1}{4} e^{3x} +ce^{-x}$ is a one-parameter family of solutions to the DE $\\frac{dy}{dx} +y = e^{3x}$. Which of the following is the largest interval of existence for a solution to the IVP $\\frac{dy}{dx} +y = e^{3x}, \\;\\;y(-4)=15$?\n",
    "\n",
    "  **Solution**\n",
    "  \n",
    "  $(-\\infty, \\,\\infty)$"
   ]
  },
  {
   "cell_type": "markdown",
   "metadata": {},
   "source": [
    "*  $y=-x\\ln |x| +cx$ is a one-parameter family of solutions to the DE $x\\frac{dy}{dx}=y -x$. Which of the following is the largest interval of existence for a solution to the IVP $x\\frac{dy}{dx}=y -x, \\;y(2)=-7$\n",
    "\n",
    "  **Solution**\n",
    "  $(0,\\,\\infty)$"
   ]
  },
  {
   "cell_type": "markdown",
   "metadata": {},
   "source": [
    "* For the differential equation\n",
    "\n",
    "  $\\displaystyle y'= \\frac{\\tan y}{x}$ \n",
    "\n",
    "  the Existence-Uniqueness Theorem (Theorem 1.2.1) guarantees the existence of a unique solution whose graph passes through\n",
    "  \n",
    "  **Solution**\n",
    "  \n",
    "  $\\displaystyle\\left( \\frac{\\pi}{2}, \\, \\pi\\right)$"
   ]
  },
  {
   "cell_type": "markdown",
   "metadata": {},
   "source": [
    "* The population of a certain town is known to increase at a rate proportional to the current population. Suppose the population triples every 21 years. If the population is currently 150,000, what was the population 9 years ago?\n",
    "\n",
    "  **Solution**\n",
    "  \n",
    "  $93,672$"
   ]
  },
  {
   "cell_type": "markdown",
   "metadata": {},
   "source": [
    "* Solve the differential equation\n",
    "\n",
    "  $\\displaystyle \\frac{dy}{dx} = \\frac{4x +6y}{10y -6x}$\n",
    "  \n",
    "  **Solution**\n",
    "  \n",
    "  $2x^2 +6xy -5y^2 = c$"
   ]
  },
  {
   "cell_type": "markdown",
   "metadata": {},
   "source": [
    "* Find an implicit solution of the initial value problem \n",
    "\n",
    "  $\\displaystyle \\frac{dy}{dx} = \\frac{y^3 x}{y +2}, \\;\\;y(1)=-2$\n",
    "  \n",
    "  **Solution**\n",
    "  \n",
    "  $\\displaystyle -\\frac{1}{y} -\\frac{1}{y^2} = \\frac{x^2}{2} -\\frac{1}{4}$"
   ]
  },
  {
   "cell_type": "markdown",
   "metadata": {},
   "source": [
    "* Solve the initial-value problem\n",
    "\n",
    "  $\\displaystyle 2\\frac{dy}{dx} -4xy = 3, \\;y(0)=4$\n",
    "  \n",
    "  **Solution**\n",
    "  \n",
    "  $\\displaystyle y= \\frac{3\\sqrt{\\pi}}{4} e^{x^2} \\mathrm{erf} (x) +4e^{x^2}$"
   ]
  },
  {
   "cell_type": "markdown",
   "metadata": {},
   "source": [
    "* Using an appropriate substitution, solve the differential equation\n",
    "\n",
    "  $\\displaystyle y' = -y +xy^5$ \n",
    "  \n",
    "  **Solution**\n",
    "  \n",
    "  $\\displaystyle y = \\left ( x+\\frac{1}{4} +ce^{4x} \\right )^{-1/4}$"
   ]
  },
  {
   "cell_type": "markdown",
   "metadata": {},
   "source": [
    "* Using an appropriate substitution, solve the differential equation\n",
    "\n",
    "  $\\displaystyle ydx -5(x -y)dy = 0$\n",
    "  \n",
    "  **Solution**\n",
    "  \n",
    "  $\\displaystyle y^5 = c(5y -4x)$"
   ]
  },
  {
   "cell_type": "markdown",
   "metadata": {},
   "source": [
    "* A differential equation $M(x) dx + N(y) dy = 0$ is homogenous if $M(x)$ and $N(y)$ are both polynomials of the same degree.\n",
    "\n",
    "  **Solution**\n",
    "  \n",
    "  True"
   ]
  },
  {
   "cell_type": "markdown",
   "metadata": {},
   "source": [
    "* The differential equation $2xydx-(x^2 +1)dy = 0$ is exact.\n",
    "\n",
    "  **Solution**\n",
    "  \n",
    "  False"
   ]
  },
  {
   "cell_type": "markdown",
   "metadata": {},
   "source": [
    "* A differential equation can be both separable and linear.\n",
    "\n",
    "  **Solution**\n",
    "  \n",
    "  True"
   ]
  },
  {
   "cell_type": "markdown",
   "metadata": {},
   "source": [
    "* The integrating factor of the differential equation $-7(y +x^5) dx +x^2 dy = 0$ is $- \\frac{7}{x^2}$\n",
    "\n",
    "  **Solution**\n",
    "  \n",
    "  False"
   ]
  },
  {
   "cell_type": "markdown",
   "metadata": {},
   "source": [
    "* Choose all of the following linear differential equations that are homogeneous\n",
    "\n",
    "  a. $3y''+x^2 y' -3y = 0$\n",
    "  \n",
    "  b. $3y''+x^2 y' -3y = 2y$\n",
    "  \n",
    "  c. $3y''+x^2 y' -3y = x^3$\n",
    "  \n",
    "  d. $3y''+x^2 y' = 3y$\n",
    "  \n",
    "  e. $3y''+x^2 y' -3 = 0$\n",
    "  \n",
    "  **Solution**\n",
    "  \n",
    "  a, b, d"
   ]
  },
  {
   "cell_type": "markdown",
   "metadata": {},
   "source": [
    "* Rewrite the expression $e^{(3-5i)x}$ using Euler's formula.\n",
    "\n",
    "  **Solution**\n",
    "  \n",
    "  $e^{3x} \\left( \\cos 5x - i\\sin 5x \\right)$"
   ]
  },
  {
   "cell_type": "markdown",
   "metadata": {},
   "source": [
    "* Since $y_1=x^3$  and $y_2=x$ are solutions to the differential equation $y''' y=\\frac{1}{3}y' y''$,  we know that $y = y_1 + y_2$  is also a solution.\n",
    "\n",
    "  **Solution**\n",
    "  \n",
    "  False"
   ]
  },
  {
   "cell_type": "markdown",
   "metadata": {},
   "source": [
    "* Every linear differential equation with constant coefficients has a unique solution.\n",
    "\n",
    "  **Solution**\n",
    "  \n",
    "  False"
   ]
  },
  {
   "cell_type": "markdown",
   "metadata": {},
   "source": [
    "* $y_1(x)=e^{3x}$ is a solution to $y'' -6y' +9y=0$.\n",
    "Use reduction of order to find a second linearly independent solution\n",
    "\n",
    "  **Solution**\n",
    "  \n",
    "  $y_2(x)=xe^{3x}$"
   ]
  },
  {
   "cell_type": "markdown",
   "metadata": {},
   "source": [
    "* Solve the initial value problem $y'' -7y' +10y=0, \\; y(0)=3, \\; y'(0)=18$\n",
    "\n",
    "  **Solution**\n",
    "  \n",
    "  $y=4e^{5x} -e^{2x}$"
   ]
  },
  {
   "cell_type": "markdown",
   "metadata": {},
   "source": [
    "* Find the general solution of the higher order differential equation $4 y^{(4)} +12 y'' +9y=0$\n",
    "\n",
    " **Solution**\n",
    " \n",
    " $\\displaystyle y=c_1\\cos \\sqrt{\\frac{3}{2}}x +c_2\\sin \\sqrt{\\frac{3}{2}}x +c_3x\\cos \\sqrt{\\frac{3}{2}}x +c_4x\\sin \\sqrt{\\frac{3}{2}}x$"
   ]
  },
  {
   "cell_type": "markdown",
   "metadata": {},
   "source": [
    "* Find the general solution of the differential equation $y'' -9y =5e^{-3x}$\n",
    "\n",
    "  **Solution**\n",
    "  \n",
    "  $\\displaystyle y = c_1 e^{3x} +c_2 e^{-3x} -\\frac{5}{6} xe^{-3x}$"
   ]
  },
  {
   "cell_type": "markdown",
   "metadata": {},
   "source": [
    "* Find the general solution of the differential equation $y'' +y = \\sin^2 x$\n",
    "\n",
    "  **Solution**\n",
    "  \n",
    "  $\\displaystyle y = c_1 \\cos x +c_2 \\sin x +\\frac{1 +\\cos^2 x}{3}$"
   ]
  },
  {
   "cell_type": "markdown",
   "metadata": {},
   "source": [
    "* Find the general solution of the differential equation $\\displaystyle 2x^2 y'' +5xy' +\\frac{25}{8}y=0$\n",
    "\n",
    "  **Solution**\n",
    "  \n",
    "  $\\displaystyle y = x^{-3/4} \\left[c_1 \\cos (\\ln x) +c_2 \\sin (\\ln x) \\right ]$"
   ]
  },
  {
   "cell_type": "markdown",
   "metadata": {},
   "source": [
    "* Solve the differential equation $y'' =3 - (y')^2$\n",
    "\n",
    "  **Solution**\n",
    "  \n",
    "  $y = \\ln \\left ( c_1 e^{\\sqrt{3}x} +1 \\right ) +\\ln \\left ( c_1 e^{\\sqrt{3}x} -1 \\right ) -\\sqrt{3}x +c_2$"
   ]
  },
  {
   "cell_type": "markdown",
   "metadata": {},
   "source": [
    "* Solve the following system of differential equations:\n",
    "\n",
    "  $\n",
    "  \\begin{align*}\n",
    " \\frac{dx}{dt} &= 2x +3y\\\\ \n",
    " \\frac{dy}{dt} &= 2x +y \n",
    "\\end{align*}  \n",
    "  $\n",
    "  \n",
    "  **Solution**\n",
    "  \n",
    "  $\n",
    "  \\begin{align*}\n",
    " x &= \\frac{3}{2} c_1 e^{4t} -c_2 e^{-t}\\\\ \n",
    " y &= c_1e^{4t} +c_2 e^{-t} \n",
    "\\end{align*}\n",
    "  $"
   ]
  },
  {
   "cell_type": "markdown",
   "metadata": {},
   "source": [
    "* Find the Laplace transform of $f(t) = t^4 e^{7t}$\n",
    "\n",
    "  **Solution**\n",
    "  \n",
    "  $\\displaystyle F(s) = \\frac{4!}{(s-7)^5}$"
   ]
  },
  {
   "cell_type": "markdown",
   "metadata": {},
   "source": [
    "* Find the inverse Laplace transform of $\\displaystyle F(s) = \\frac{s}{s^2 +4s +8}$\n",
    "\n",
    "  **Solution**\n",
    "  \n",
    "  $f(t) = e^{-2t} \\left( \\cos 2t -\\sin 2t \\right )$"
   ]
  },
  {
   "cell_type": "markdown",
   "metadata": {},
   "source": [
    "* Find the inverse Laplace transform of $F(s) = \\frac{\\left ( 1 -e^{3s} \\right )^2}{s-4}$\n",
    "\n",
    "  **Solution**\n",
    "  \n",
    "  $e^{4t} -2e^{4(t -3)} u(t -3) +e^{4(t-6)} u(t-6)$"
   ]
  },
  {
   "cell_type": "markdown",
   "metadata": {},
   "source": [
    "* Use Laplace transforms to solve the initial value problem $y'' +3y' +2y = \\delta(t-1), \\;\\; y(0)=0, \\;y'(0)=0$\n",
    "\n",
    "  **Solution**\n",
    "  \n",
    "  $y(t) = \\left ( e^{-(t-1) } -e^{-2(t-1)}\\right ) u(t -1)$"
   ]
  },
  {
   "cell_type": "markdown",
   "metadata": {},
   "source": [
    "* Both the Laplace and the inverse Laplace transforms are linear operators.\n",
    "\n",
    "  **Solution**\n",
    "  \n",
    "  True"
   ]
  },
  {
   "cell_type": "markdown",
   "metadata": {},
   "source": [
    "* Use the Laplace transform to solve the integral equation $f(t) +\\int_0^t e^{-2\\tau} f(t -\\tau) \\,d\\tau = \\sin t$\n",
    "\n",
    "  **Solution**\n",
    "  \n",
    "  $\\displaystyle f(t) = \\frac{1}{10} \\cos t + \\frac{7}{10} \\sin t -\\frac{1}{10} e^{-3t}$"
   ]
  },
  {
   "cell_type": "markdown",
   "metadata": {},
   "source": [
    "* The Laplace transform of the derivative of a function $f(t)$ is the derivative of the transform of $f(t)$\n",
    "\n",
    "  **Solution**\n",
    "  \n",
    "  False"
   ]
  }
 ],
 "metadata": {
  "kernelspec": {
   "display_name": "Python 3 (ipykernel)",
   "language": "python",
   "name": "python3"
  },
  "language_info": {
   "codemirror_mode": {
    "name": "ipython",
    "version": 3
   },
   "file_extension": ".py",
   "mimetype": "text/x-python",
   "name": "python",
   "nbconvert_exporter": "python",
   "pygments_lexer": "ipython3",
   "version": "3.8.12"
  }
 },
 "nbformat": 4,
 "nbformat_minor": 4
}
