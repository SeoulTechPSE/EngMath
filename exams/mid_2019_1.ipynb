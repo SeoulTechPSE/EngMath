{
 "cells": [
  {
   "cell_type": "markdown",
   "metadata": {},
   "source": [
    "## Engineering Mathematics I - Mid. Exam.\n",
    "April 25, 2019"
   ]
  },
  {
   "cell_type": "markdown",
   "metadata": {},
   "source": [
    "**1. Solve the given differential equations:**"
   ]
  },
  {
   "cell_type": "markdown",
   "metadata": {},
   "source": [
    "$$\n",
    "\\begin{align*}\n",
    "   t\\frac{dQ}{dt} +Q =& t^4 \\ln t\\\\ \n",
    "    \\frac{d(tQ)}{dt} =& t^4 \\ln t\\\\ \n",
    "   tQ =& \\int t^4 \\, \\ln t \\,dt +c =\\frac{1}{5} t^5 \\ln t -\\frac{1}{5} \\int t^4 \\,dt +c\n",
    "      = \\frac{1}{5} t^5 \\ln t -\\frac{1}{25} t^5 +c\\\\\n",
    "    Q =& \\frac{1}{5} t^4 \\ln t -\\frac{1}{25} t^4 +\\frac{c}{t}\\\\\n",
    "\\end{align*}$$"
   ]
  },
  {
   "cell_type": "markdown",
   "metadata": {},
   "source": [
    "---\n",
    "\n",
    "$$\n",
    "\\begin{align*}\n",
    "  \\left( 2r^2\\cos\\theta\\sin\\theta +r\\cos\\theta\\right)d\\theta\\; +&\\left(4r +\\sin\\theta -2r\\cos^2\\theta \\right)dr = 0\\\\\n",
    "    \\Downarrow &\\\\\n",
    "    \\;\\;\\; \\frac{\\partial \\left( 2r^2\\cos\\theta\\sin\\theta +r\\cos\\theta\\right)}{\\partial r} \n",
    "        &=\\cos\\theta\\left(4r\\sin\\theta +1\\right)\\\\\n",
    "    \\;\\;\\; \\frac{\\partial \\left(4r +\\sin\\theta -2r\\cos^2\\theta \\right)}{\\partial \\theta} \n",
    "        &=\\cos\\theta\\left(4r\\sin\\theta +1\\right)\\\\\n",
    "    \\Downarrow &\\\\\n",
    "    f(r,\\theta)=\\int 2r^2\\cos\\theta\\sin\\theta +r\\cos\\theta \\,d\\theta&= -\\frac{1}{2}r^2\\cos 2\\theta \n",
    "        +r\\sin\\theta +h(r)\\\\\n",
    "    \\frac{\\partial}{\\partial r} f(r,\\theta)=-r\\cos 2\\theta +\\sin\\theta &+\\frac{dh}{dr} \n",
    "        =4r +\\sin\\theta -2r\\cos^2\\theta\\\\\n",
    "    &\\Downarrow\\\\\n",
    "    \\frac{dh}{dr} =4r -2r^2\\cos^2\\theta &+r\\cos 2\\theta = 3r \\;\\Rightarrow\\; h(r)=\\frac{3}{2}r^2 +c\\\\\n",
    "    f(r,\\theta) = -\\frac{1}{2}r^2\\cos 2\\theta +r\\sin\\theta +\\frac{3}{2}r^2 &+c=0\n",
    "\\end{align*}\n",
    "$$"
   ]
  },
  {
   "cell_type": "markdown",
   "metadata": {},
   "source": [
    "**2. Find the general solution of each differential equations:**"
   ]
  },
  {
   "cell_type": "markdown",
   "metadata": {},
   "source": [
    "$$\n",
    "\\begin{align*}\n",
    " 2y^{(4)} &+3y''' +2y'' +6y' -4y = 0\\\\ \n",
    " &\\Big\\Downarrow \\;\\;\\phi(x) = e^{px}& \\\\ \n",
    " 2p^4 +3p^3 &+2p^2 + 6p -4 = 0 \\\\ \n",
    " (s -\\textstyle\\frac{1}{2})&(s +2)(s^2 +2) = 0 \\\\\n",
    " \\Downarrow & \\\\\n",
    " \\phi_1(x) =e^{\\frac{1}{2}x}, &\\;\\;\\phi_2(x)=e^{-2x}, \n",
    "    \\;\\;\\phi_3(x)=\\cos\\sqrt{2}x, \\;\\;\\phi_2(x)=\\sin\\sqrt{2}x \\\\\n",
    "  \\Downarrow & \\\\\n",
    "  y(x) &= c_1 e^{\\frac{1}{2}x} +c_2 e^{-2x} +c_3 \\cos\\sqrt{2}x + c_4 \\sin\\sqrt{2}x\n",
    "\\end{align*}\n",
    "$$"
   ]
  },
  {
   "cell_type": "markdown",
   "metadata": {},
   "source": [
    "---\n",
    "\n",
    "$$ y''-2y' +y = 4x^2 -3 +x^{-1}e^x $$\n",
    "\n",
    "...\n",
    "\n",
    "$$\n",
    "\\begin{align*}\n",
    " y_h''&-2y_h' +y_h = 0\\\\\n",
    "  &\\Downarrow \\\\\n",
    " \\phi_1 &= e^x, \\;\\phi_2 = xe^x \n",
    "\\end{align*}\n",
    "$$\n",
    "\n",
    "...\n",
    "\n",
    "$$\n",
    "\\begin{align*}\n",
    " y_1''&-2y_1' +y_1 = 4x^2 -3 \\\\\n",
    " &\\Big\\Downarrow \\;\\;\\phi_{p1} = Ax^2 +Bx +C \\\\ \n",
    " Ax^2 &+(B -4A)x +2A -2B +C = 4x^2 -3 \\\\  \n",
    " &\\Downarrow \\\\ \n",
    " \\phi_{p1} &= 4x^2 +16x +21\n",
    "\\end{align*}\n",
    "$$\n",
    "\n",
    "...\n",
    "\n",
    "$$\n",
    "\\begin{align*}\n",
    " y_2''&-2y_2' +y_2 = x^{-1}e^x \\\\ \n",
    " &\\Downarrow \\\\\n",
    " W = \n",
    "   \\begin{vmatrix}\n",
    "     e^x & xe^x \\\\ \n",
    "     e^x & (x+1)e^x\n",
    "   \\end{vmatrix} &= e^{2x},\\;\n",
    " W_1 = \n",
    "   \\begin{vmatrix}\n",
    "     0 & xe^x \\\\ \n",
    "     x^{-1} e^x & (x+1)e^x\n",
    "   \\end{vmatrix} = -e^{2x},\\; \n",
    " W_2 = \n",
    "   \\begin{vmatrix}\n",
    "     e^x & 0 \\\\ \n",
    "     e^x & x^{-1} e^x\n",
    "   \\end{vmatrix} = x^{-1}e^{2x}   \\\\ \n",
    " &\\Downarrow \\\\\n",
    " u_1 &=\\int \\frac{W_1}{W}\\,dx =-x, \\;u_2=\\int \\frac{W_2}{W}\\,dx =\\ln x \\\\\n",
    " &\\Downarrow \\\\\n",
    " \\phi_{p2} &= xe^x(\\ln x -1)\n",
    "\\end{align*}\n",
    "$$\n",
    "\n",
    "...\n",
    "\n",
    "$$\n",
    "y(x) = c_1 e^x + c_2 xe^x +4x^2 +16x +21 +x\\ln x e^x\n",
    "$$"
   ]
  },
  {
   "cell_type": "markdown",
   "metadata": {},
   "source": [
    "**3. Find the general solution of each differential equations**"
   ]
  },
  {
   "cell_type": "markdown",
   "metadata": {},
   "source": [
    "$$\n",
    "\\begin{align*}\n",
    " x^3 y''' &-3x^2y'' +6xy' -6y = 0 \\\\ \n",
    " &\\Big\\Downarrow\\;\\; \\phi(x) = x^m \\\\ \n",
    " m^3 -&6m^2 +11m -6 = 0 \\\\ \n",
    "(m &-1)(m -2)(m -3) = 0 \\\\\n",
    " \\Downarrow &\\\\\n",
    " y(x) &= c_1 x +c_2 x^2 +c_3 x^3\n",
    "\\end{align*}\n",
    "$$"
   ]
  },
  {
   "cell_type": "markdown",
   "metadata": {},
   "source": [
    "---\n",
    "\n",
    "$$\n",
    "x^2 y'' -3xy' +13y = 4 +3x\n",
    "$$\n",
    "\n",
    "...\n",
    "\n",
    "$$\n",
    "\\begin{align*}\n",
    " x^2 y_h'' &-3xy_h' +13y_h = 0 \\\\ \n",
    " &\\Downarrow \\\\ \n",
    " m^2 &-4m +13 = (m -2)^2 +3^2 = 0 \\\\ \n",
    " &\\Downarrow \\\\ \n",
    " \\phi_1 &= x^2 \\cos(3\\ln x), \\;\\phi_2 = x^2 \\sin(3\\ln x)\n",
    "\\end{align*}\n",
    "$$\n",
    "\n",
    "...\n",
    "\n",
    "$$\n",
    "\\begin{align*}\n",
    " x^2 y_1'' &-3xy_1' +13y_1 = 4 \\\\ \n",
    " &\\Downarrow \\\\ \n",
    " \\phi_{p1}&=\\frac{4}{13}\n",
    "\\end{align*}\n",
    "$$\n",
    "\n",
    "...\n",
    "\n",
    "$$\n",
    "\\begin{align*}\n",
    "x^2 y_2'' &-3xy_2' +13y_2 = 3x \\\\\n",
    "&\\Downarrow \\\\\n",
    "W &= \\begin{vmatrix}\n",
    " x^2 \\cos(3\\ln x) & x^2 \\sin(3\\ln x)\\\\ \n",
    " x\\left[2\\cos(3\\ln x) -3\\sin(3\\ln x)\\right ] & x\\left[2\\sin(3\\ln x) +3\\cos(3\\ln x)\\right ]\n",
    "\\end{vmatrix}\n",
    "  = 3x^3 \\\\\n",
    "W_1 &= \\begin{vmatrix}\n",
    " 0 & x^2 \\sin(3\\ln x)\\\\ \n",
    " \\frac{3}{x} & x\\left[2\\sin(3\\ln x) +3\\cos(3\\ln x)\\right ]\n",
    "\\end{vmatrix}\n",
    "  = -3x \\sin(3\\ln x) \\\\\n",
    "W_2 &= \\begin{vmatrix}\n",
    " x^2 \\cos(3\\ln x) & 0\\\\ \n",
    " x\\left[2\\cos(3\\ln x) -3\\sin(3\\ln x)\\right ] & \\frac{3}{x}\n",
    "\\end{vmatrix}\n",
    "  = 3x \\cos(3\\ln x) \\\\ \n",
    "&\\Downarrow \\\\\n",
    "u_1 &= -\\int \\frac{\\sin(3\\ln x)}{x^2}\\,dx = -\\frac{1}{3} \\int e^{-t/3}\\sin t\\,dt \n",
    "   =\\frac{1}{10x} \\left[3\\cos(3\\ln x) +\\sin(3\\ln x)\\right]\\\\\n",
    "u_2 &= \\int \\frac{\\cos(3\\ln x)}{x^2}\\,dx = \\frac{1}{3} \\int e^{-t/3}\\cos t\\,dt \n",
    "   =\\frac{1}{10x} \\left[3\\sin(3\\ln x) -\\cos(3\\ln x)\\right]\\\\ \n",
    "&\\Downarrow \\\\\n",
    "\\phi_{p2}&=\\frac{3}{10}x\n",
    "\\end{align*}\n",
    "$$\n",
    "\n",
    "...\n",
    "\n",
    "$$\n",
    "y(x) = c_1 x^2 \\cos(3\\ln x) + c_2 x^2 \\sin(3\\ln x) +\\frac{4}{13} +\\frac{3}{10}x\n",
    "$$"
   ]
  },
  {
   "cell_type": "markdown",
   "metadata": {},
   "source": [
    "**4. Find a linear second-order differential equation with constant coefficients for which $y_1=1$ and $y_2=e^{-x}$ are solutions of the associated homogeneous equation and $y_p=\\frac{1}{2}x^2 -x$ is a particular solution of the nonhomogeneous equation.**"
   ]
  },
  {
   "cell_type": "markdown",
   "metadata": {},
   "source": [
    "$$\n",
    "\\begin{align*}\n",
    " p(p +&1) = 0 \\\\ \n",
    " &\\Downarrow \\\\\n",
    " y'' +&y' =f(x) \\\\\n",
    " &\\Downarrow \\\\ \n",
    " y_p'' +&y_p = x \\\\\n",
    " &\\Downarrow \\\\ \n",
    " y'' +&y' = x\n",
    "\\end{align*}\n",
    "$$"
   ]
  },
  {
   "cell_type": "markdown",
   "metadata": {},
   "source": [
    "**5. (a) Laguerre’s differential equation**\n",
    "\n",
    "$$\n",
    " ty'' +(1 -t)y' +ny = 0\n",
    "$$\n",
    "\n",
    "\n",
    "**is known to possess polynomial solutions when $n$ is a non-negative integer. These solutions are naturally called Laguerre polynomials and are denoted by $L_n(t)$. Find $y=L_n(t)$, for $n=0,1,2,3,4$ if it is known that $L_n(0)=1$.**"
   ]
  },
  {
   "cell_type": "markdown",
   "metadata": {},
   "source": [
    "$$\n",
    "\\begin{align*}\n",
    " ty'' +&(1 -t)y' +ny = 0\\\\ \n",
    " &\\big\\Downarrow \\;\\mathcal{L}\\\\ \n",
    "   -\\frac{d}{ds} \\left[s^2Y_n(s) -s -y'(0) \\right] +&sY_n(s) -1 +\\frac{d}{ds} \\left[sY_n(s) -1\\right] +nY_n(s) = 0\\\\\n",
    " &\\Downarrow\\\\\n",
    " s(s -1) \\frac{dY_n}{ds} +&(s -n -1)Y_n=0\\\\\n",
    " &\\Downarrow\\\\\n",
    "  \\frac{dY_n}{Y_n}&=\\left(\\frac{n}{s -1} -\\frac{n +1}{s}\\right)\\,ds \\\\\n",
    "  Y_n&=c\\frac{(s -1)^n}{s^{n +1}} \\\\\n",
    " &\\Big\\Downarrow \\;{\\tiny\\lim_{s \\to \\infty} sY(s) =c =1}\\\\\n",
    "  Y_n&=\\frac{(s -1)^n}{s^{n +1}} \n",
    "\\end{align*}\n",
    "$$\n",
    "\n",
    "...\n",
    "\n",
    "$$\n",
    "\\begin{align*}\n",
    " Y_0 &= \\frac{1}{s} \\;\\;\\rightarrow\\; L_0(t)=1\\\\\n",
    " Y_1 &= \\frac{1}{s} -\\frac{1}{s^2} \\;\\;\\rightarrow\\; L_1(t)=1 -t\\\\\n",
    " Y_2 &= \\frac{1}{s} -\\frac{2}{s^2} +\\frac{1}{s^3} \\;\\;\\rightarrow\\; L_2(t)=1 -2t +\\frac{1}{2}t^2\\\\\n",
    " Y_3 &= \\frac{1}{s} -\\frac{3}{s^2} +\\frac{3}{s^3} \n",
    "                    -\\frac{1}{s^4}\\;\\;\\rightarrow\\; L_3(t)=1 -3t +\\frac{3}{2}t^2 -\\frac{1}{6}t^3\\\\\n",
    " Y_4 &= \\frac{1}{s} -\\frac{4}{s^2} +\\frac{6}{s^3} \n",
    "                    -\\frac{4}{s^4} +\\frac{1}{s^5}\\;\\;\\rightarrow\\; L_4(t)=1 -4t +3t^2 \n",
    "                    -\\frac{2}{3}t^4 +\\frac{1}{24}t^4\\\\                     \n",
    "\\end{align*}\n",
    "$$"
   ]
  },
  {
   "cell_type": "markdown",
   "metadata": {},
   "source": [
    "**(b) Show that**\n",
    "\n",
    "$$\n",
    "\\mathcal{L}\\left[\\frac{e^t}{n!}\\frac{d^n}{dt^n} t^ne^{-t}\\right] = \\mathcal{L}(L_n(t))\n",
    "$$"
   ]
  },
  {
   "cell_type": "markdown",
   "metadata": {},
   "source": [
    "$$\n",
    "\\begin{align*}\n",
    " \\mathcal{L}\\left[ t^n e^{-t}\\right] &= (-1)^n \\frac{d^n}{ds^n} \\mathcal{L}[e^{-t}]\n",
    "      =(-1)^n \\frac{d^n}{ds^n} \\frac{1}{s +1}\n",
    "      =\\frac{n!}{(s +1)^{n +1}}\\\\\n",
    " \\mathcal{L}\\left[\\frac{d^n}{dt^n} t^ne^{-t}\\right] &= s^n\\mathcal{L}\\left[ t^n e^{-t}\\right]\n",
    "     -s^{n -1} \\left.(t^ne^{-t}) \\right|_{t=0}\\\\\n",
    "     &\\;\\;-s^{n -2} \\left.\\frac{d}{dt}(t^ne^{-t}) \\right|_{t=0} -\\cdots\n",
    "     -s \\left.\\frac{d^{n -2}}{dt^{n -2}}(t^ne^{-t}) \\right|_{t=0}\n",
    "     -\\left.\\frac{d^{n -1}}{dt^{n -1}}(t^ne^{-t}) \\right|_{t=0}\\\\ \n",
    "     &= s^n\\mathcal{L}\\left[ t^n e^{-t}\\right]=\\frac{n!s^n}{(s +1)^{n +1}}\\\\\n",
    " &\\Downarrow\\\\\n",
    " \\mathcal{L}\\left[\\frac{e^t}{n!}\\frac{d^n}{dt^n} t^ne^{-t}\\right] &= \n",
    "     \\frac{1}{n!}\\mathcal{L}\\left[\\frac{d^n}{dt^n} t^ne^{-t}\\right]_{s \\to s -1}=\\frac{(s -1)^n}{s^{n +1}}\n",
    "\\end{align*}\n",
    "$$"
   ]
  }
 ],
 "metadata": {
  "kernelspec": {
   "display_name": "Python 3 (ipykernel)",
   "language": "python",
   "name": "python3"
  },
  "language_info": {
   "codemirror_mode": {
    "name": "ipython",
    "version": 3
   },
   "file_extension": ".py",
   "mimetype": "text/x-python",
   "name": "python",
   "nbconvert_exporter": "python",
   "pygments_lexer": "ipython3",
   "version": "3.8.12"
  }
 },
 "nbformat": 4,
 "nbformat_minor": 4
}
