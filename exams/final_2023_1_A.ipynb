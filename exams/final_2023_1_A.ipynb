{
 "cells": [
  {
   "cell_type": "markdown",
   "id": "a26af8d5",
   "metadata": {},
   "source": [
    "### Engineering Mathematics I (161006-21003) - Final Exam.\n",
    "May 31, 2023"
   ]
  },
  {
   "cell_type": "markdown",
   "id": "f492a544",
   "metadata": {},
   "source": [
    "**1[25].** The equation\n",
    "\n",
    "> $\\displaystyle (1 - x^2)y'' -xy' +\\alpha^2 y=0,$\n",
    "\n",
    "   where $\\alpha$ is a constant, is called the *Chebyshev* equation.\n",
    "  \n",
    "  (a)$~$ Compute two linearly independent series solutions for $|x|<1$\n",
    "  \n",
    "  (b)$~$ Show that for every non-negative integer $\\alpha=n$ there is a polynomial solution of degree $n$. When appropriately normalized these are called the *Chebyshev polynomials*\n",
    "$~$\n",
    "\n",
    "$~$"
   ]
  },
  {
   "cell_type": "markdown",
   "id": "67560fc1",
   "metadata": {},
   "source": [
    "**2[15].** $~$ Find the general solution of the differential equation on the interval $(0, \\infty)$\n",
    "\n",
    "> $\\displaystyle x y'' +y=0$ \n",
    "\n",
    "Hint) $~$Use the substitution $\\displaystyle y(x)=\\sqrt{x}u(x)$, $~2\\sqrt{x}=z$\n",
    "$~$\n",
    "\n",
    "$~$"
   ]
  },
  {
   "cell_type": "markdown",
   "id": "717470bb",
   "metadata": {},
   "source": [
    "**3[15].** $~$ The given vectors span a subspace $W$ of $\\mathbb{R}^4$. Use the Gram-Schmidt orthogonalization process to construct an orthonormal basis for the subspace.\n",
    "\n",
    "> $\\mathbf{u}_1=\\left \\langle 4, 0, 2, -1 \\right \\rangle, \\; \\mathbf{u}_2=\\left \\langle 2, 1,-1,1 \\right \\rangle, \\;\\text{and}\\; \\mathbf{u}_3=\\left \\langle 1,1,-1,0 \\right \\rangle$\n",
    "$~$\n",
    "\n",
    "$~$"
   ]
  },
  {
   "cell_type": "markdown",
   "id": "8d4ac247",
   "metadata": {},
   "source": [
    "**4[15].** $~$ Find the inverse of the given matrix or show that no inverse exists\n",
    "\n",
    "> $\\begin{pmatrix}\n",
    " \\phantom {-} 1 & \\phantom {-}2 & \\phantom {-}3 & \\phantom {-}1\\\\ \n",
    " -1& \\phantom {-}0 & \\phantom {-}2 &\\phantom {-}1 \\\\ \n",
    " \\phantom {-}2&  \\phantom {-}1&  -3& \\phantom {-}0\\\\ \n",
    " \\phantom {-}1& \\phantom {-}1 & \\phantom {-}2 & \\phantom {-}1\n",
    "\\end{pmatrix}$\n",
    "$~$\n",
    "\n",
    "$~$"
   ]
  },
  {
   "cell_type": "markdown",
   "id": "f3cb2812",
   "metadata": {},
   "source": [
    "**5[30].** $~$ Simplify the following equations of quadric surfaces in three-dimensional space, and give the corresponding coordinate tranformations:\n",
    "\n",
    "> $x^2 -2y^2 +z^2 +6xy -2yz +8x +2y -12z -3 = 0$\n",
    "$~$\n",
    "\n",
    "$~$"
   ]
  }
 ],
 "metadata": {
  "kernelspec": {
   "display_name": "Python 3 (ipykernel)",
   "language": "python",
   "name": "python3"
  },
  "language_info": {
   "codemirror_mode": {
    "name": "ipython",
    "version": 3
   },
   "file_extension": ".py",
   "mimetype": "text/x-python",
   "name": "python",
   "nbconvert_exporter": "python",
   "pygments_lexer": "ipython3",
   "version": "3.9.13"
  }
 },
 "nbformat": 4,
 "nbformat_minor": 5
}
