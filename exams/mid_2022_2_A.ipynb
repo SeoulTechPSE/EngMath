{
 "cells": [
  {
   "cell_type": "markdown",
   "metadata": {},
   "source": [
    "## Engineering Mathematics I (161007-21001) - Mid. Exam.\n",
    "October 26, 2022"
   ]
  },
  {
   "cell_type": "markdown",
   "metadata": {},
   "source": [
    "**1[20].** $~$ Evaluate the surface integral $\\displaystyle \\iint_S \\mathbf{F}\\cdot\\mathbf{n}\\, dS:$\n",
    "\n",
    "> $\\displaystyle \\mathbf{F} = y \\mathbf{j} +\\mathbf{k}$\n",
    "\n",
    "> where $S$ is the portion of the paraboloid $z=1-x^2-y^2$ above the $xy$-plane"
   ]
  },
  {
   "cell_type": "markdown",
   "metadata": {},
   "source": [
    "**2[20].** $~$ Is it possible to write $\\mathbf{G}=\\nabla \\times \\mathbf{H}$? In the case where it is possible, find a possible $\\mathbf{H}$\n",
    "\n",
    "> $\\mathbf{G}=y\\mathbf{i} + z\\mathbf{j} +x\\mathbf{k}$"
   ]
  },
  {
   "cell_type": "markdown",
   "metadata": {},
   "source": [
    "**3[20].** $~$ Each of the following functions is smooth in a simply connected region. Determine which of them may be written as the gradient of a scalar function, and for those which can, find that scalar function:\n",
    "\n",
    "> (a) $~\\mathbf{F}=y\\mathbf{i}$\n",
    "\n",
    "> (b) $~\\mathbf{F}=c\\mathbf{k}$, $c$ a constant\n",
    "\n",
    "> (c) $~\\mathbf{F}=yz\\mathbf{i} +xz\\mathbf{j} +xy\\mathbf{k}$\n"
   ]
  },
  {
   "cell_type": "markdown",
   "metadata": {},
   "source": [
    "**4[20].** $~$ (a) $~$Find the Fourier series of $f$ on the given interval\n",
    "\n",
    "> $f(x) = x^2, \\;\\;-\\pi \\le x \\le \\pi$\n",
    "\n",
    "$~\\;\\;\\;\\;$(b) $~$Use the result of (a) and Parseval's Theorem to evaluate the following series:\n",
    "\n",
    "> $\\displaystyle 1 + \\frac{1}{2^4} + \\frac{1}{3^4} + \\frac{1}{4^4} + \\cdots$\n",
    "\n",
    "\n",
    "> **Parseval's Theorem** $~$If $f$ is piecewise continuous, of period $2\\pi$, then\n",
    "\n",
    "> $\\displaystyle\\frac{1}{\\pi} \\int_0^{2\\pi} \\left[ f(x) \\right]^2 \\,dx = \\frac{1}{2}a_0^2 + \\sum_{n=1}^\\infty \\left( a_n^2 + b_n^2 \\right)$\n",
    "\n",
    "> where $a_0$, $a_n$, and $b_n$ are Fourier coefficients"
   ]
  },
  {
   "cell_type": "markdown",
   "metadata": {},
   "source": [
    "**5[20].** $\\text{ }$ Hermite differential equation $y'' -2xy' +2ny = 0$ has a polynomial solution $H_n(x)$ for $n = 0, 1,2,\\cdots$:\n",
    "\n",
    "\\begin{align*}\n",
    " H_0(x) &= 1\\\\ \n",
    " H_1(x) &= 2x\\\\ \n",
    " H_2(x) &= 4x^2 - 2 \\\\ \n",
    " H_3(x) &= 8x^3-12x \\\\\n",
    " &\\;\\,\\vdots \n",
    "\\end{align*}\n",
    "\n",
    "$\\text{ }\\;\\;\\;$ Specify the weight function $p(x)$ and the interval over which the set of Hemite polynomials $\\{ H_n(x): \\;n=0,1,2,\\cdots \\}$ is orthogonal"
   ]
  },
  {
   "cell_type": "markdown",
   "metadata": {},
   "source": [
    "[![Open In Colab](https://colab.research.google.com/assets/colab-badge.svg)](https://colab.research.google.com/github/SeoulTechPSE/EngMath/blob/master/exams/mid_2022_2_A.ipynb)"
   ]
  }
 ],
 "metadata": {
  "kernelspec": {
   "display_name": "Python 3 (ipykernel)",
   "language": "python",
   "name": "python3"
  },
  "language_info": {
   "codemirror_mode": {
    "name": "ipython",
    "version": 3
   },
   "file_extension": ".py",
   "mimetype": "text/x-python",
   "name": "python",
   "nbconvert_exporter": "python",
   "pygments_lexer": "ipython3",
   "version": "3.8.12"
  }
 },
 "nbformat": 4,
 "nbformat_minor": 4
}
