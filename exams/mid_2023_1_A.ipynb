{
 "cells": [
  {
   "cell_type": "markdown",
   "id": "c8a295c0",
   "metadata": {},
   "source": [
    "### Engineering Mathematics I (161006-21003) - Mid. Exam.\n",
    "\n",
    "April 12, 2023"
   ]
  },
  {
   "cell_type": "markdown",
   "id": "c1f28567",
   "metadata": {},
   "source": [
    "**1[20].** $~$Find a general solution of the equation $~\\displaystyle ydx+(2x+xy-3)dy=0$\n",
    "\n",
    "$~$\n"
   ]
  },
  {
   "cell_type": "markdown",
   "id": "937ecce5",
   "metadata": {},
   "source": [
    "**2[15].** $~$Solve the differential equation $~\\displaystyle xv\\frac{dv}{dx} +v^2=32x$\n",
    "\n",
    "$~$\n",
    "\n"
   ]
  },
  {
   "cell_type": "markdown",
   "id": "4b74f6de",
   "metadata": {},
   "source": [
    "**3[15].** $~$Solve $~y'' - 2y' +y = 4x^2 - 3 +x^{-1} e^x$\n",
    "\n",
    "$~$\n",
    "\n"
   ]
  },
  {
   "cell_type": "markdown",
   "id": "f2b9a9e7",
   "metadata": {},
   "source": [
    "**4[15].** $~$Solve the given initial-value problem on the interval $(-\\infty, 0)$.\n",
    "\n",
    "$\\;\\;\\;\\;\\;\\;\\;\\;\\;4x^2y'' + y = 0, \\;y(-1)=2, \\;y'(-1)=4$\n",
    "\n",
    "$~$\n",
    "\n"
   ]
  },
  {
   "cell_type": "markdown",
   "id": "f0edd1ea",
   "metadata": {},
   "source": [
    "**5[20].** $~$ $~y=e^{-t^2}$ is a solution of the initial value problem \n",
    "$~\\displaystyle\\frac{dy}{dt} +2ty=0, \\;y(0)=1$. $~$Find $~Y(s)=\\mathcal{L}\\left[ e^{-t^2}\\right]$ by applying\n",
    "the Laplace transform to the given differential equation\n",
    "\n",
    "\n",
    "$~$\n",
    "\n",
    "\n",
    "$\\,\\;\\;\\;\\;\\;\\;\\;\\;$Hint) $\\displaystyle\\int_0^\\infty e^{-t^2}\\, dt = \\frac{\\sqrt{\\pi}}{2}, \\;\\;\\mathrm{erf}(t) = \\frac{2}{\\sqrt{\\pi}} \\int_0^t e^{-u^2}\\,du, \\;\\;\\mathrm{erf}c(t) = 1 - \\mathrm{erf}(t)$\n",
    "\n",
    "\n",
    "$~$"
   ]
  },
  {
   "cell_type": "markdown",
   "id": "4733cea6",
   "metadata": {},
   "source": [
    "**6[15].** Solve the given differential equation $\\displaystyle ~ y''+2y'+y=(t-1) u(t-1) +\\delta(t-5)$, $y(0)=0$, $y'(0)=0$\n",
    "\n",
    "$~$"
   ]
  }
 ],
 "metadata": {
  "kernelspec": {
   "display_name": "Python 3 (ipykernel)",
   "language": "python",
   "name": "python3"
  },
  "language_info": {
   "codemirror_mode": {
    "name": "ipython",
    "version": 3
   },
   "file_extension": ".py",
   "mimetype": "text/x-python",
   "name": "python",
   "nbconvert_exporter": "python",
   "pygments_lexer": "ipython3",
   "version": "3.9.13"
  }
 },
 "nbformat": 4,
 "nbformat_minor": 5
}
