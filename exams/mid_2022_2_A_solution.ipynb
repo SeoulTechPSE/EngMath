{
 "cells": [
  {
   "cell_type": "markdown",
   "metadata": {
    "slideshow": {
     "slide_type": "skip"
    }
   },
   "source": [
    "[![Open In Colab](https://colab.research.google.com/assets/colab-badge.svg)](https://colab.research.google.com/github/SeoulTechPSE/EngMath/blob/master/exams/mid_2022_2_A_solution.ipynb)"
   ]
  },
  {
   "cell_type": "markdown",
   "metadata": {
    "slideshow": {
     "slide_type": "slide"
    }
   },
   "source": [
    "## Engineering Mathematics II (161007-21001) - Mid. Exam.\n",
    "October 26, 2022"
   ]
  },
  {
   "cell_type": "markdown",
   "metadata": {
    "slideshow": {
     "slide_type": "slide"
    }
   },
   "source": [
    "**1[20].** $~$ Evaluate the surface integral $\\displaystyle \\iint_S \\mathbf{F}\\cdot\\mathbf{n}\\, dS:$\n",
    "\n",
    "> $\\displaystyle \\mathbf{F} = y \\mathbf{j} +\\mathbf{k}$\n",
    "\n",
    "> where $S$ is the portion of the paraboloid $z=1-x^2-y^2$ above the $xy$-plane\n",
    "\n",
    "> <font color=\"blue\">**Solution**</font>\n",
    "\n",
    "> Surface $S$: $f(x,y,z) = z - 1 +x^2 +y^2, \\;\\;z \\ge 0$\n",
    "\n",
    "> Thus\n",
    "\n",
    "\\begin{align*}\n",
    " \\mathbf{n} &=\\frac{\\nabla f}{\\left \\| \\nabla f \\right \\|} =\\frac{2x\\mathbf{i} +2y\\mathbf{j} +\\mathbf{k}}{\\sqrt{1+4x^2+4y^2}} \\\\\n",
    "  dS &= \\sqrt{1 + f_x^2 +f_y^2} \\;dA\\;\\; = \\sqrt{1 +4x^2 +4y^2}\\;dA \\\\\n",
    "\\end{align*}\n",
    "\n",
    "> Then\n",
    "\n",
    "\\begin{align*}\n",
    " \\iint_S \\mathbf{F}\\cdot\\mathbf{n}\\, dS &=\\iint_R 2y^2 +1 \\;dA\\\\ \n",
    " &\\Big\\Downarrow \\;\\; x = r\\cos\\theta, \\;\\;y=r\\sin\\theta\\\\ \n",
    " &= \\int_0^{2\\pi} \\int_0^1 \\left(2 r^2 \\sin^2\\theta +1 \\right)  rdr \\;d\\theta = \\int_0^{2\\pi} \\int_0^1 \\left[ r^3(1-\\cos 2\\theta) +r\\right] \\;dr\\,d\\theta\\\\\n",
    " &= \\color{red}{\\frac{3\\pi}{2}} \n",
    "\\end{align*}"
   ]
  },
  {
   "cell_type": "markdown",
   "metadata": {
    "slideshow": {
     "slide_type": "slide"
    }
   },
   "source": [
    "**2[20].** $~$ Is it possible to write $\\mathbf{G}=\\nabla \\times \\mathbf{H}$? In the case where it is possible, find a possible $\\mathbf{H}$\n",
    "\n",
    "> $\\mathbf{G}=y\\mathbf{i} + z\\mathbf{j} +x\\mathbf{k}$\n",
    "\n",
    "> <font color=\"blue\">**Solution**</font>\n",
    "\n",
    "\\begin{align*}\n",
    "\\mathbf{G} &= \\nabla \\times \\mathbf{H} \\\\ \n",
    " &\\Downarrow \\\\ \n",
    " \\nabla \\cdot \\mathbf{G} &= \\nabla \\cdot \\left( \\nabla \\times \\mathbf{H}  \\right) = 0 \\\\\n",
    " &\\Downarrow \\\\\n",
    " \\nabla \\cdot \\mathbf{G} &= 0 + 0 + 0 = 0 \n",
    "\\end{align*}\n",
    "\n",
    "> <font color=\"red\">Then it is possible to find a $\\mathbf{H}$</font>. But $\\mathbf{H}$ is not unique; just one possible solution is\n",
    "\n",
    "\n",
    "$$\\mathbf{H}=\\frac{1}{2}z^2\\,\\mathbf{i} +\\frac{1}{2} x^2\\,\\mathbf{j} +\\frac{1}{2} y^2 \\mathbf{k} + \\nabla V(x,y,z)$$"
   ]
  },
  {
   "cell_type": "markdown",
   "metadata": {
    "slideshow": {
     "slide_type": "slide"
    }
   },
   "source": [
    "**3[20].** $~$ Each of the following functions is smooth in a simply connected region. Determine which of them may be written as the gradient of a scalar function, and for those which can, find that scalar function:\n",
    "\n",
    "> (a) $~\\mathbf{F}=y\\mathbf{i}$\n",
    "\n",
    "> <font color=\"blue\">**Solution**</font>\n",
    "\n",
    "\\begin{align*}\n",
    " \\nabla \\times \\mathbf{F} &= -\\mathbf{k} \\\\\n",
    " &\\Downarrow \\\\\n",
    " \\text{it can not be written as}~ &\\text{the gradient of a scalar function}\n",
    "\\end{align*}\n",
    "\n",
    "> (b) $~\\mathbf{F}=c\\mathbf{k}$, $c$ a constant\n",
    "\n",
    "> <font color=\"blue\">**Solution**</font>\n",
    "\n",
    "\\begin{align*}\n",
    " \\nabla &\\times \\mathbf{F} = \\mathbf{0} \\\\\n",
    " &\\Downarrow \\\\\n",
    " \\mathbf{F} &= \\nabla \\phi =\\mathbf{i} \\frac{\\partial \\phi}{\\partial x}\n",
    "   +\\mathbf{j} \\frac{\\partial \\phi}{\\partial y} +\\mathbf{k} \\frac{\\partial \\phi}{\\partial z} =c\\mathbf{k} \\\\ \n",
    " &\\Downarrow \\\\ \n",
    " \\frac{\\partial \\phi}{\\partial z} &= c\\\\ \n",
    " &\\Downarrow \\\\ \n",
    " \\phi &= cz + h(x, y)\\\\ \n",
    " &\\Downarrow \\\\ \n",
    " \\frac{\\partial \\phi}{\\partial x} &= \\frac{\\partial h}{\\partial x} = 0 \\;\\;\\Rightarrow \\;\\; h = h(y) \\\\\n",
    " \\frac{\\partial \\phi}{\\partial y} &= \\frac{dh}{dy} = 0 \\;\\;\\Rightarrow \\;\\; h = \\text{constant} \\\\\n",
    " &\\Downarrow \\\\\n",
    " \\color{red}{\\phi}\\; &\\;\\color{red}{= cz +const}\n",
    "\\end{align*}\n",
    "\n",
    "> (c) $~\\mathbf{F}=yz\\mathbf{i} +xz\\mathbf{j} +xy\\mathbf{k}$\n",
    "\n",
    "> <font color=\"blue\">**Solution**</font>\n",
    "\n",
    "\\begin{align*}\n",
    " \\nabla &\\times \\mathbf{F} = \\mathbf{0} \\\\\n",
    " &\\Downarrow \\\\\n",
    " \\mathbf{F} &= \\nabla \\phi =\\mathbf{i} \\frac{\\partial \\phi}{\\partial x}\n",
    "   +\\mathbf{j} \\frac{\\partial \\phi}{\\partial y} +\\mathbf{k} \\frac{\\partial \\phi}{\\partial z} =yz\\mathbf{i} +xz\\mathbf{j} +xy\\mathbf{k} \\\\ \n",
    " &\\Downarrow \\\\ \n",
    " \\frac{\\partial \\phi}{\\partial x} &= yz\\\\ \n",
    " &\\Downarrow \\\\ \n",
    " \\phi &= xyz + h(y, z)\\\\ \n",
    " &\\Downarrow \\\\ \n",
    " \\frac{\\partial \\phi}{\\partial y} &= xz +\\frac{\\partial h}{\\partial y} = xz \\;\\;\\Rightarrow \\;\\; h = h(z) \\\\\n",
    " \\frac{\\partial \\phi}{\\partial z} &= xy +\\frac{dh}{dz} = xy \\;\\;\\Rightarrow \\;\\; h = \\text{constant} \\\\\n",
    " &\\Downarrow \\\\\n",
    " \\color{red}{\\phi}\\; &\\;\\color{red}{= xyz +const}\n",
    "\\end{align*}"
   ]
  },
  {
   "cell_type": "markdown",
   "metadata": {
    "slideshow": {
     "slide_type": "slide"
    }
   },
   "source": [
    "**4[20].** $~$ (a) $~$Find the Fourier series of $f$ on the given interval\n",
    "\n",
    "> $f(x) = x^2, \\;\\;-\\pi \\le x \\le \\pi$\n",
    "\n",
    "> <font color=\"blue\">**Solution**</font>\n",
    "\n",
    "\\begin{align*}\n",
    " f(x) &= \\frac{a_0}{2} + \\sum_{n=1}^\\infty \\left(a_n \\cos nx +b_n \\sin nx \\right )\\\\ \n",
    " &\\text{where} \\\\ \n",
    " &a_0 = \\frac{1}{\\pi} \\int_{-\\pi}^{\\pi} x^2 \\,dx =\\frac{2}{\\pi} \\int_0^{\\pi}x^2\\,dx = \\frac{2}{3}\\pi^2 \\\\ \n",
    " &a_n = \\frac{1}{\\pi} \\int_{-\\pi}^{\\pi} x^2 \\cos nx \\,dx =\\frac{2}{\\pi} \\int_0^{\\pi}x^2\\cos nx \\,dx \n",
    "   =\\frac{4}{n^2} (-1)^n \\\\ \n",
    " &b_n = \\frac{1}{\\pi} \\int_{-\\pi}^{\\pi} x^2 \\sin nx \\,dx = 0 \\\\\n",
    "  &\\;\\;\\;\\,\\Downarrow \\\\\n",
    " \\color{red}{f(x)}\\; &\\color{red}{=\\frac{\\;\\pi^2}{3} + 4\\sum_{n=1}^\\infty \\frac{(-1)^n}{n^2} \\cos nx}\n",
    "\\end{align*}\n",
    "\n",
    "\n",
    "$~\\;\\;\\;\\;$(b) $~$Use the result of (a) and Parseval's Theorem to evaluate the following series:\n",
    "\n",
    "> $\\displaystyle 1 + \\frac{1}{2^4} + \\frac{1}{3^4} + \\frac{1}{4^4} + \\cdots$\n",
    "\n",
    "\n",
    "> **Parseval's Theorem** $~$If $f$ is piecewise continuous, of period $2\\pi$, then\n",
    "\n",
    "> $\\displaystyle\\frac{1}{\\pi} \\int_0^{2\\pi} \\left[ f(x) \\right]^2 \\,dx = \\frac{1}{2}a_0^2 + \\sum_{n=1}^\\infty \\left( a_n^2 + b_n^2 \\right)$\n",
    "\n",
    "> where $a_0$, $a_n$, and $b_n$ are Fourier coefficients\n",
    "\n",
    "> <font color=\"blue\">**Solution**</font>\n",
    "\n",
    "\\begin{align*}\n",
    "\\int_0^{2\\pi} f^2(x)\\,dx &= \\int_0^\\pi f^2(x)\\,dx + \\int_{\\pi}^{2\\pi} f^2(x)\\,dx \\\\\n",
    "  &\\;\\;\\;\\,\\Big\\Downarrow \\;\\; f(x) = f(x + 2\\pi) \\;\\rightarrow \\; f(-\\pi)=f(\\pi), \\;f(0)=f(2\\pi)\\\\\n",
    "  &= \\int_{-\\pi}^{\\pi} f^2(x)\\,dx \\\\\n",
    "  &= \\int_{-\\pi}^{\\pi} x^4 \\,dx = \\frac{2}{5} \\pi^5\\\\\n",
    "  &\\;\\;\\;\\,\\big\\Downarrow\\;\\; \\text{using Parseval's theorem} \\\\\n",
    " \\frac{2}{5}\\pi^4 &= \\frac{2}{9}\\pi^4 + 16 \\sum_{n=1}^\\infty \\frac{1}{n^4} \\\\\n",
    "  &\\;\\;\\;\\,\\big\\Downarrow \\\\\n",
    "  \\color{red}{\\sum_{n=1}^\\infty \\frac{1}{n^4}} &\\color{red}{= \\frac{1}{16} \\left(\\frac{2}{5}\\pi^4  - \\frac{\\;\\pi^4}{9} \\right)\n",
    "   = \\frac{\\;\\pi^4}{90}}\n",
    "\\end{align*}"
   ]
  },
  {
   "cell_type": "markdown",
   "metadata": {
    "slideshow": {
     "slide_type": "slide"
    }
   },
   "source": [
    "**5[20].** $\\text{ }$ Hermite differential equation $y'' -2xy' +2ny = 0$ has a polynomial solution $H_n(x)$ for $n = 0, 1,2,\\cdots$:\n",
    "\n",
    "\\begin{align*}\n",
    " H_0(x) &= 1\\\\ \n",
    " H_1(x) &= 2x\\\\ \n",
    " H_2(x) &= 4x^2 - 2 \\\\ \n",
    " H_3(x) &= 8x^3-12x \\\\\n",
    " &\\;\\,\\vdots \n",
    "\\end{align*}\n",
    "\n",
    "$\\text{ }\\;\\;\\;$ Specify the weight function $p(x)$ and the interval over which the set of Hemite polynomials $\\{ H_n(x): \\;n=0,1,2,\\cdots \\}$ is orthogonal"
   ]
  },
  {
   "cell_type": "markdown",
   "metadata": {
    "slideshow": {
     "slide_type": "slide"
    }
   },
   "source": [
    "><font color=\"blue\">**Solution**</font>\n",
    "\n",
    ">$\\begin{align*}\n",
    " y'' &-2xy' +2ny = 0 \\\\ \n",
    " &\\Downarrow \\;\\; \\times \\;e^{-2\\int x\\;dx}=e^{-x^2} \\\\ \n",
    " \\frac{d}{dx} \\left[ e^{-x^2} \\frac{dy}{dx} \\right] &+ \\underbrace{2n}_{\\lambda_n} e^{-x^2} y=0, \\;\\;\\text{Self-Adjoint Form}\\\\ \n",
    " &\\Downarrow \\\\\n",
    " r(x) = e^{-x^2}, \\;\\; &\\color{red}{p(x) = e^{-x^2}, \\;\\;x \\in (-\\infty, \\infty)}\\\\\n",
    "  &\\Downarrow \\\\\n",
    " \\color{red}{\\int_{-\\infty}^\\infty e^{-x^2}\\, H_m(x)}& \\color{red}{H_n(x)\\,dx = 0,\\;\\; m \\neq n} \n",
    "\\end{align*}$"
   ]
  }
 ],
 "metadata": {
  "celltoolbar": "Slideshow",
  "kernelspec": {
   "display_name": "Python 3 (ipykernel)",
   "language": "python",
   "name": "python3"
  },
  "language_info": {
   "codemirror_mode": {
    "name": "ipython",
    "version": 3
   },
   "file_extension": ".py",
   "mimetype": "text/x-python",
   "name": "python",
   "nbconvert_exporter": "python",
   "pygments_lexer": "ipython3",
   "version": "3.8.12"
  }
 },
 "nbformat": 4,
 "nbformat_minor": 4
}
