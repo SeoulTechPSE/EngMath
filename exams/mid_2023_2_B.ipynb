{
 "cells": [
  {
   "cell_type": "markdown",
   "metadata": {},
   "source": [
    "## Engineering Mathematics II (161007-21005) - Mid. Exam.\n",
    "October 25, 2023"
   ]
  },
  {
   "cell_type": "markdown",
   "metadata": {},
   "source": [
    "**1[15].** $\\phantom{1}$ Find the tangential and normal components of acceleration for the path:\n",
    "\n",
    "> $\\displaystyle \\mathbf{x}(t) = \\left(2t, e^{2t} \\right)$\n"
   ]
  },
  {
   "cell_type": "markdown",
   "metadata": {},
   "source": [
    "**2[15].** $\\phantom{1}$ Let $\\mathbf{r} = x \\mathbf{i} + y \\mathbf{j} + z \\mathbf{k}$ and $r$ denote $\\| \\mathbf{r} \\|$. Evaluate the following:\n",
    "\n",
    "> $\\nabla \\times (r^n \\mathbf{r})$"
   ]
  },
  {
   "cell_type": "markdown",
   "metadata": {},
   "source": [
    "**3[20].** $\\phantom{1}$ Let a particle of mass $m$ travel along a differentiable path $\\mathbf{x}$ in a Newtonian vector field $\\mathbf{F}$ (i.e., one that satisfies Newton's second law $\\mathbf{F} = m\\mathbf{a}$, where $\\mathbf{a}$ is the acceleration of $\\mathbf{x}$). We define the **angular momentum** $\\mathbf{l}(t)$ of the particle to be the cross product of the position vector and the linear momentum $m\\mathbf{v}$, i.e.,\n",
    "\n",
    "$$\\mathbf{l}(t) = \\mathbf{x}(t) \\times m \\mathbf{v}(t)$$\n",
    "\n",
    "> (Here $\\mathbf{v}$ denotes the velocity of $\\mathbf{x}$.) The **torque** about the origin of the coordinate system due to the force $\\mathbf{F}$ is the cross product of position and force:\n",
    "\n",
    "$$\\mathbf{M}(t) = \\mathbf{x}(t) \\times \\mathbf{F}(t)$$"
   ]
  },
  {
   "cell_type": "markdown",
   "metadata": {},
   "source": [
    "> (a) Show that \n",
    "\n",
    "  $$\\frac{d\\mathbf{l}}{dt} = \\mathbf{M}$$\n",
    "  \n",
    ">  Thus, we see that the rate of change of angular momentum is equal to the torque imparted to the particle by the vector field $\\mathbf{F}$\n",
    "\n",
    "> (b) Suppose that $\\mathbf{F}$ is a central force (i.e., a force that always points directly towards or away from the origin). Show that in this case the angular momentum is **conserved**, that is, that it must remain constant"
   ]
  },
  {
   "cell_type": "markdown",
   "metadata": {},
   "source": [
    "**4[15].** $\\phantom{1}$ The **root-mean-square value** of a function $f(x)$ defined over an interval $(a, b)$ is given by\n",
    "\n",
    "$$\\text{RMS}(f) = \\sqrt{\\frac{\\int_a^b \\,f^2(x)\\,dx}{b-a}}$$"
   ]
  },
  {
   "cell_type": "markdown",
   "metadata": {},
   "source": [
    "> Show that the RMS value of $f$ over the interval $(-p, p)$ is given by\n",
    "\n",
    "$$\\text{RMS}(f) = \\sqrt{\\frac{1}{4} a_0^2 +\\frac{1}{2} \\sum_{n=1}^\\infty \\left(a_n^2 + b_n^2 \\right)}$$\n",
    "\n",
    "> where $a_0$, $a_n$, and $b_n$ are the Fourier coefficients, respectively"
   ]
  },
  {
   "cell_type": "markdown",
   "metadata": {},
   "source": [
    "**5[15].** $\\phantom{1}$ Find the eigenfuctions and the equation that defines the eigenvalues for the given boundary-value problem:\n",
    "\n",
    "> $\\displaystyle y''+\\lambda y = 0, \\;y(0) +y'(0) = 0, \\; y(1)=0$"
   ]
  },
  {
   "cell_type": "markdown",
   "metadata": {},
   "source": [
    "**6[20].** $\\phantom{1}$ Expand the given function in a Fourier-Bessel series using Bessel functions of the same order as in the indicated boundary condition: \n",
    "\n",
    "> $\\displaystyle f(x)=x^2, \\;\\;0<x<3, \\;\\;J_0'(3\\alpha)=0$"
   ]
  }
 ],
 "metadata": {
  "kernelspec": {
   "display_name": "Python 3 (ipykernel)",
   "language": "python",
   "name": "python3"
  },
  "language_info": {
   "codemirror_mode": {
    "name": "ipython",
    "version": 3
   },
   "file_extension": ".py",
   "mimetype": "text/x-python",
   "name": "python",
   "nbconvert_exporter": "python",
   "pygments_lexer": "ipython3",
   "version": "3.9.18"
  }
 },
 "nbformat": 4,
 "nbformat_minor": 4
}
