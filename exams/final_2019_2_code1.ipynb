{
 "cells": [
  {
   "cell_type": "code",
   "execution_count": null,
   "metadata": {},
   "outputs": [],
   "source": [
    "%matplotlib inline\n",
    "import numpy as np\n",
    "from scipy.special import jv, jn_zeros\n",
    "import matplotlib.pyplot as plt\n",
    "from matplotlib import animation, rc\n",
    "rc('animation', html='html5')"
   ]
  },
  {
   "cell_type": "code",
   "execution_count": null,
   "metadata": {},
   "outputs": [],
   "source": [
    "fig = plt.figure(figsize=(6, 4))\n",
    "ax = plt.axes(xlim=(0, 1), ylim=(-1.2, 1.2))\n",
    "\n",
    "ax.set_xticks([0, 0.2, 0.4, 0.6, 0.8, 1.0])\n",
    "ax.set_yticks([-1.2, -0.6, 0.0, 0.6, 1.2])\n",
    "ax.set_xlabel('$r$')\n",
    "ax.set_ylabel('$u(r,t)$')\n",
    "\n",
    "plt.close()"
   ]
  },
  {
   "cell_type": "code",
   "execution_count": null,
   "metadata": {},
   "outputs": [],
   "source": [
    "line, = ax.plot([], [], lw=2)\n",
    "def init():\n",
    "    line.set_data([], [])\n",
    "    return (line,)\n",
    "\n",
    "mm = 2\n",
    "alpha_0m =jn_zeros(0, mm)\n",
    "\n",
    "def u_sol(x, t):   \n",
    "\n",
    "    y = np.cos(alpha_0m[1] *t) *jv(0, alpha_0m[1] *x)\n",
    "    \n",
    "    return y\n",
    "     \n",
    "def animate(t):\n",
    "    \n",
    "    xx = np.linspace(0, 1, 50)   \n",
    "    uu = u_sol(xx, t)\n",
    "                          \n",
    "    line.set_data(xx, uu)\n",
    "    ax.legend([f't = {t:.2f}'])\n",
    "    return (line,)\n",
    "\n",
    "tt = list(np.linspace(0, 6.0 *np.pi, 300))\n",
    "anim = animation.FuncAnimation(fig, animate, init_func=init, frames=tt, interval=300, blit=True)"
   ]
  }
 ],
 "metadata": {
  "kernelspec": {
   "display_name": "Python 3 (ipykernel)",
   "language": "python",
   "name": "python3"
  },
  "language_info": {
   "codemirror_mode": {
    "name": "ipython",
    "version": 3
   },
   "file_extension": ".py",
   "mimetype": "text/x-python",
   "name": "python",
   "nbconvert_exporter": "python",
   "pygments_lexer": "ipython3",
   "version": "3.8.12"
  }
 },
 "nbformat": 4,
 "nbformat_minor": 4
}
