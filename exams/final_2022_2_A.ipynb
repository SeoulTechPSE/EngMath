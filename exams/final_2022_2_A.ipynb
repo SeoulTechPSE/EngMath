{
 "cells": [
  {
   "cell_type": "markdown",
   "metadata": {},
   "source": [
    "[![Open In Colab](https://colab.research.google.com/assets/colab-badge.svg)](https://colab.research.google.com/github/SeoulTechPSE/EngMath/blob/master/exams/final_2022_2_B.ipynb)"
   ]
  },
  {
   "cell_type": "markdown",
   "metadata": {},
   "source": [
    "## Engineering Mathematics II (161007-21001) - Final Exam.\n",
    "December 14, 2022"
   ]
  },
  {
   "cell_type": "markdown",
   "metadata": {},
   "source": [
    "**1[20].** $~$ Find the solution of\n",
    "\n",
    "> $\n",
    "\\begin{align*}\n",
    " u_t &= u_{xx} + \\sin \\lambda_1 x, \\;\\;0<x<1, \\;\\; 0<t<\\infty\\\\ \n",
    " &u(0,t)=0\\\\ \n",
    " &u_x(1,t) + u(1,t)=0 \\\\ \n",
    " &u(x,0)=0 \n",
    "\\end{align*}\n",
    "$\n",
    "\n",
    "> where $\\lambda_1$ is the first root of the equation $\\tan \\lambda = -\\lambda$"
   ]
  },
  {
   "cell_type": "markdown",
   "metadata": {},
   "source": [
    "**2[20].** $~$ Solve the semi-infinite string problem\n",
    "\n",
    "> $\n",
    "\\begin{align*}\n",
    " u_{tt} &= u_{xx}, \\;\\;0<x<\\infty, \\; 0 < t < \\infty\\\\ \n",
    " u(0, t) &= 0\\\\\n",
    " u(x, 0) &=xe^{-x^2} \\\\\n",
    " u_t(x, 0) &= 0\n",
    "\\end{align*}\n",
    "$\n",
    "\n",
    "> Draw the solution for various values of time"
   ]
  },
  {
   "cell_type": "markdown",
   "metadata": {},
   "source": [
    "**3[20].** $~$ Solve the damped vibrating-string problem\n",
    "\n",
    "> $\n",
    "\\begin{align*}\n",
    " u_{tt}=c^2 &u_{xx} -\\beta u_t, \\;\\;0<x<1, \\;\\;0<t<\\infty \\\\ \n",
    " u(0,t)&=0 \\\\ \n",
    " u(1,t)&=0 \\\\ \n",
    " u(x,0)&=f(x) \\\\ \n",
    " u_t(x,0)&=0 \n",
    "\\end{align*}\n",
    "$"
   ]
  },
  {
   "cell_type": "markdown",
   "metadata": {},
   "source": [
    "**4[20].** $~$ Solve the general problem\n",
    "\n",
    "> $\n",
    "\\begin{align*}\n",
    " u_t = \\alpha &u_{xx} +b u +f(x,t), \\;\\; 0<x<1, \\;\\;0<t<\\infty \\\\ \n",
    " u(0,t)&= 0 \\\\ \n",
    " u(1,t)&= 0\\\\ \n",
    " u(x,0)&= 0\n",
    "\\end{align*}\n",
    "$"
   ]
  },
  {
   "cell_type": "markdown",
   "metadata": {},
   "source": [
    "**5[20].** $~$ What is the solution to the exterior Dirichlet problem\n",
    "\n",
    ">$\n",
    "\\begin{align*}\n",
    " \\nabla^2 u &= 0, \\;\\; 1<r<\\infty\\\\ \n",
    " u(1,\\phi)&= 1+\\cos\\phi\n",
    "\\end{align*}\n",
    "$"
   ]
  }
 ],
 "metadata": {
  "kernelspec": {
   "display_name": "Python 3 (ipykernel)",
   "language": "python",
   "name": "python3"
  },
  "language_info": {
   "codemirror_mode": {
    "name": "ipython",
    "version": 3
   },
   "file_extension": ".py",
   "mimetype": "text/x-python",
   "name": "python",
   "nbconvert_exporter": "python",
   "pygments_lexer": "ipython3",
   "version": "3.8.12"
  }
 },
 "nbformat": 4,
 "nbformat_minor": 4
}
