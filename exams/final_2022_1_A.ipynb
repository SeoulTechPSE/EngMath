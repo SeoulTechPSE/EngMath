{
 "cells": [
  {
   "cell_type": "markdown",
   "id": "a26af8d5",
   "metadata": {},
   "source": [
    "## Engineering Mathematics I (161006-21001) - Final Exam.\n",
    "May 31, 2022"
   ]
  },
  {
   "cell_type": "markdown",
   "id": "f492a544",
   "metadata": {},
   "source": [
    "**1[25].** The equation\n",
    "\n",
    "> $\\displaystyle (1 - x^2)y'' -xy' +\\alpha^2 y=0,$\n",
    "\n",
    "   where $\\alpha$ is a constant, is called the *Chebyshev* equation.\n",
    "  \n",
    "  (a)$~$ Compute two linearly independent series solutions for $|x|<1$\n",
    "  \n",
    "  (b)$~$ Show that for every non-negative integer $\\alpha=n$ there is a polynomial solution of degree $n$. When appropriately normalized these are called the *Chebyshev polynomials*\n",
    "$~$\n",
    "\n",
    "$~$"
   ]
  },
  {
   "cell_type": "markdown",
   "id": "67560fc1",
   "metadata": {},
   "source": [
    "**2[25].** $~$ Find the general solution of the differential equation on the interval $(0, \\infty)$\n",
    "\n",
    "> $\\displaystyle x^2 y'' +2x y'+\\left(\\alpha^2x^2 -n(n+1)\\right)y=0, \\;\\;$ $n$ is an integer \n",
    "\n",
    "Hint) $~$Use the substitution $\\displaystyle y(x)=\\frac{1}{\\sqrt{x}}z(x)$\n",
    "$~$\n",
    "\n",
    "$~$"
   ]
  },
  {
   "cell_type": "markdown",
   "id": "717470bb",
   "metadata": {},
   "source": [
    "**3[10].** $~$ Find the parametric equation for the line through the indicated point that is parallel to the given planes\n",
    "\n",
    "> $\\begin{align*}\n",
    " x + y -4z &= 2 \\\\ \n",
    " 2x - y +z &= 10; \\;\\;(5, 6, -12) \n",
    "\\end{align*}$  \n",
    "\n",
    "$~$\n",
    "\n",
    "$~$"
   ]
  },
  {
   "cell_type": "markdown",
   "id": "8d4ac247",
   "metadata": {},
   "source": [
    "**4[15].** $~$In 3-space, a plane through the origin can be written as $S= \\{ (x,y,z)\\;|\\; ax+by+cz=0, \\;\\;a, b, \\text{ and }c\\;\\;\\text{are real numbers}\\}$. Show that $S$ is a subspace of $\\mathbb{R}^3$\n",
    "\n",
    "$~$\n",
    "\n",
    "$~$"
   ]
  },
  {
   "cell_type": "markdown",
   "id": "f3cb2812",
   "metadata": {},
   "source": [
    "**5[25].** $~$Consider the matrix\n",
    "\n",
    "> $\\mathbf{A}=\\begin{pmatrix}\n",
    " 3 & 0 & 1\\\\ \n",
    " 0 & 1 & 0\\\\ \n",
    " 1 & 0 & 1\n",
    "\\end{pmatrix}$\n",
    "\n",
    "(a) Find an orthogonal matrix $\\mathbf{P}$ that diagonalizes $\\mathbf{A}$ and the diagonal matrix $\\mathbf{D}$\n",
    "\n",
    "(b) Calculate the eigenvalues and eigenvectors of the matrix\n",
    "\n",
    "> $3\\mathbf{A}^2 +4\\mathbf{A}^{-1} -7\\mathbf{I}$"
   ]
  }
 ],
 "metadata": {
  "kernelspec": {
   "display_name": "Python 3 (ipykernel)",
   "language": "python",
   "name": "python3"
  },
  "language_info": {
   "codemirror_mode": {
    "name": "ipython",
    "version": 3
   },
   "file_extension": ".py",
   "mimetype": "text/x-python",
   "name": "python",
   "nbconvert_exporter": "python",
   "pygments_lexer": "ipython3",
   "version": "3.8.12"
  }
 },
 "nbformat": 4,
 "nbformat_minor": 5
}
