{
 "cells": [
  {
   "cell_type": "markdown",
   "id": "c8a295c0",
   "metadata": {},
   "source": [
    "## Engineering Mathematics I (161006-21002) - Mid. Exam.\n",
    "April 13, 2022"
   ]
  },
  {
   "cell_type": "markdown",
   "id": "c1f28567",
   "metadata": {},
   "source": [
    "**1[10].** $~$Find a solution of $x\\frac{dy}{dx}=y^2 - y$ that passes through the indicated point $(2, \\frac{1}{4})$\n",
    "\n",
    "$~$\n",
    "\n",
    "$~$"
   ]
  },
  {
   "cell_type": "markdown",
   "id": "937ecce5",
   "metadata": {},
   "source": [
    "**2[10].** $~$Find a general solution of the equation $dx=(x + y^2)dy$\n",
    "\n",
    "$~$\n",
    "\n",
    "$~$"
   ]
  },
  {
   "cell_type": "markdown",
   "id": "4b74f6de",
   "metadata": {},
   "source": [
    "**3[10].** $~$Solve $(4t^3y-15t^2 -y)dt +(t^4+3y^2-t)dy=0$\n",
    "\n",
    "$~$\n",
    "\n",
    "$~$"
   ]
  },
  {
   "cell_type": "markdown",
   "id": "f2b9a9e7",
   "metadata": {},
   "source": [
    "**4[10].** $~$Solve $~\\displaystyle 2xyy' +y^2 =2x^2$\n",
    "\n",
    "$~$\n",
    "\n",
    "$~$"
   ]
  },
  {
   "cell_type": "markdown",
   "id": "f0edd1ea",
   "metadata": {},
   "source": [
    "**5[15].** $~$Solve $~2y'' + 2y' + y = 4\\sqrt{x} +\\sin x$\n",
    "\n",
    "$~$\n",
    "\n",
    "$~$"
   ]
  },
  {
   "cell_type": "markdown",
   "id": "4733cea6",
   "metadata": {},
   "source": [
    "**6[15].** Solve $x^2y'' -xy' + y = x^3$\n",
    "\n",
    "$~$\n",
    "\n",
    "$~$"
   ]
  },
  {
   "cell_type": "markdown",
   "id": "960169ab",
   "metadata": {},
   "source": [
    "**7[15].** $~$Solve\n",
    "\n",
    "> $\\begin{align*}\n",
    " x'' + y'' &= e^{2t}\\\\ \n",
    " x' + y'' &= -e^{2t}\n",
    "\\end{align*} ~\\text{ at }  x(0)=0, x'(0)=0, y(0)=0, y'(0)=0$\n",
    "\n",
    "$~$\n",
    "\n",
    "$~$"
   ]
  },
  {
   "cell_type": "markdown",
   "id": "e17492b4",
   "metadata": {},
   "source": [
    "**8[15].** Reduce the given differential equation to a linear first-order DE in the transformed function $Y(s)=\\mathcal{L}\\{y(t)\\}$. Solve the first-order DE and then find $y(t)$. Note: Your solution may contain an arbitrary constant:\n",
    "\n",
    "> $ty'' -y' = 2t^2, \\;y(0)=y'(0)=0$"
   ]
  }
 ],
 "metadata": {
  "kernelspec": {
   "display_name": "Python 3 (ipykernel)",
   "language": "python",
   "name": "python3"
  },
  "language_info": {
   "codemirror_mode": {
    "name": "ipython",
    "version": 3
   },
   "file_extension": ".py",
   "mimetype": "text/x-python",
   "name": "python",
   "nbconvert_exporter": "python",
   "pygments_lexer": "ipython3",
   "version": "3.8.12"
  }
 },
 "nbformat": 4,
 "nbformat_minor": 5
}
