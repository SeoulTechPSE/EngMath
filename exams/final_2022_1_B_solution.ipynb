{
 "cells": [
  {
   "cell_type": "markdown",
   "id": "a26af8d5",
   "metadata": {},
   "source": [
    "## Engineering Mathematics I (161006-21002) - Final Exam.\n",
    "May 31, 2022"
   ]
  },
  {
   "cell_type": "markdown",
   "id": "0995260e",
   "metadata": {},
   "source": [
    "**1[25].** The equation\n",
    "\n",
    "> $\\displaystyle y'' -2xy' +2\\alpha y=0,$\n",
    "\n",
    "   where $\\alpha$ is a constant, is called the *Hermite* equation.\n",
    "  \n",
    "  (a)$~$ Find two linearly independent solutions for $-\\infty < x <\\infty$\n",
    "  \n",
    "  (b)$~$ Show that there is a polynomial solution of degree $n$, in case $\\alpha=n$ is a non-negative integer\n",
    "\n",
    "**Solution**\n",
    "\n",
    "(a)\n",
    "\n",
    "> $\\begin{align*}\n",
    " &\\Downarrow \\;\\;y=\\sum_{k=0}^\\infty c_n x^k, \\;\\;x=0 \\text{ is an ordinary point}\\\\ \n",
    " \\sum_{k=2}^\\infty &c_k k(k-1)x^{k-2} -2\\sum_{k=1}^\\infty c_k k x^{k} +2\\alpha\\sum_{k=0}^\\infty c_k x^k =0 \\\\ \n",
    " 2c_2 &+ 2\\alpha c_0 +\\sum_{k=1}^\\infty\n",
    " \\left[(k+2)(k+1) c_{k+2} -2(k -\\alpha)c_k \\right] x^k = 0\\\\ \n",
    " &\\Downarrow \\\\ \n",
    " c_2&=-\\alpha c_0, \\;\\; c_{k+2} =-\\frac{2(\\alpha -k)}{(k+2)(k+1)} c_k \\\\\n",
    " &\\Downarrow \\\\\n",
    " c_{2k} &= (-2)^k \\frac{\\left(\\alpha - (2k-2)\\right) \\left(\\alpha - (2k-4)\\right) \\cdots \\left(\\alpha - 2\\right) \\alpha}{(2k)!} c_0 = \\hat{c}_{2k} c_0 \\\\\n",
    " c_{2k+1} &= (-2)^k \\frac{\\left(\\alpha - (2k-1)\\right) \\left(\\alpha - (2k-3)\\right) \\cdots \\left(\\alpha - 1\\right)}{(2k+1)!} c_1 =\\hat{c}_{2k+1} c_1 \\\\\n",
    " &\\Downarrow \\\\\n",
    " y &= c_0 \\sum_{k=1}^\\infty \\hat{c}_{2k} x^{2k} +c_1 \\sum_{k=1}^\\infty \\hat{c}_{2k+1} x^{2k+1} = c_0 y_0(x) + c_1 y_1(x)\n",
    "\\end{align*}$\n",
    "\n",
    "(b) $~$If $n$ is an even integer, the first series terminates, whereas $y_1(x)$ is an infinite series. For example, if $n=4$, then\n",
    "\n",
    "> $\\displaystyle y_0(x) = c_0 \\left[ 1 - 2\\frac{4}{2!}x^2 +2^2 \\frac{(4 - 2) 4}{4!} x^4 \\right] =c_0 \\left[1 -4x^2 +\\frac{4}{3}x^4 \\right]$\n",
    "\n",
    "  Similarly, when $n$ is an odd integer, the series for $y_1(x)$ terminates with $x^n$. For exampe, if $n=5$, then\n",
    "  \n",
    "> $\\displaystyle y_1(x) = c_1 \\left[ x - 2\\frac{(5 -1)}{3!}x^3 +4 \\frac{(5 - 3)(5-1)}{5!} x^5 \\right] =c_1 \\left[x -\\frac{4}{3}x^3 +\\frac{4}{15}x^5 \\right]$\n",
    "  \n",
    "  That is, when $n$ is a nonnegative integer, we obtain an $n$-th degree polynomial solution of *Hermite* equation."
   ]
  },
  {
   "cell_type": "markdown",
   "id": "67560fc1",
   "metadata": {},
   "source": [
    "**2[25].** $~$ Find the general solution of the differential equation on the interval $(0, \\infty)$\n",
    "\n",
    "> $\\displaystyle x y'' +y=0$ \n",
    "\n",
    "Hint) $~$Use the substitution $\\displaystyle y(x)=\\sqrt{x}u(x)$, $~2\\sqrt{x}=z$\n",
    "\n",
    "\n",
    "**solution**\n",
    "\n",
    "By using  $\\displaystyle y(x)=\\sqrt{x}u(x)~$ and $~2\\sqrt{x}=z$, the differential equation becomes\n",
    "\n",
    ">$\\displaystyle \\begin{align*}\n",
    " y' &=\\frac{1}{2\\sqrt{x}}u +\\sqrt{x}u'\\\\\n",
    " y''&=-\\frac{1}{4x\\sqrt{x}} u +\\frac{1}{\\sqrt{x}} u' +\\sqrt{x}u''\\\\\n",
    " &\\Downarrow \\\\\n",
    " x\\sqrt{x} u'' &+\\sqrt{x} u' +\\left( \\sqrt{x} - \\frac{1}{4\\sqrt{x}} \\right )u = 0 \\\\ \n",
    " u' &=\\frac{du}{dz}\\frac{dz}{dx}=\\frac{1}{\\sqrt{x}} \\frac{du}{dz} \\\\\n",
    " u'' &=\\frac{d}{dz}\\left( \\frac{du}{dx}\\right) \\frac{dz}{dx} =\\frac{1}{x}\\frac{d^2u}{dz^2}-\\frac{1}{2x\\sqrt{x}}\\frac{du}{dz}\\\\ \n",
    " &\\Downarrow \\\\\n",
    " z^2 \\frac{d^2u}{dz^2} + z \\frac{du}{dz}&+ +( z^2-1)u = 0 \n",
    "\\end{align*}$\n",
    "\n",
    "The general solution of the above differential equation on the interval $(0, \\infty)$ is\n",
    "\n",
    ">$\\displaystyle u(z)=c_1 J_1(z) + c_2 Y_1 (z)$\n",
    "\n",
    "Thus the general solution on the interval $(0, \\infty)$ is\n",
    "\n",
    ">$\\displaystyle y(x)=c_1 \\sqrt{x} J_1 (2\\sqrt{x}) + c_2 \\sqrt{x} Y_1(2\\sqrt{x})$\n",
    "$~$\n"
   ]
  },
  {
   "cell_type": "markdown",
   "id": "717470bb",
   "metadata": {},
   "source": [
    "**3[10].** $~$ Find the parametric equation for the line of intersection of the given planes\n",
    "\n",
    "> $\\begin{align*}\n",
    " 5x - 4y -9z &= 8 \\\\ \n",
    " x + 4y +3z &= 4 \n",
    "\\end{align*}$ \n",
    "\n",
    "$~$\n",
    "**solution**\n",
    "\n",
    "On the line of intersection of the given planes, when $z=t$, the following equations are satisfied:\n",
    "\n",
    ">$\\begin{align*}\n",
    " 5x -4y &= 8 + 9t \\\\ \n",
    " x +4y &= 4 -3t \\\\\n",
    " &\\Downarrow \\\\\n",
    "  x &= 2 + t \\\\\n",
    "  y &= \\frac{1}{2} -t \\\\\n",
    " &\\Downarrow \\\\\n",
    "\\displaystyle x-2 =& \\frac{y-\\frac{1}{2}}{-1} = z\n",
    "\\end{align*}$\n",
    "\n",
    "$~$"
   ]
  },
  {
   "cell_type": "markdown",
   "id": "8d4ac247",
   "metadata": {},
   "source": [
    "**4[15].** $~$Determine whether the set of vectors $S= \\{ \\left \\langle a_1, 0, a_3 \\right \\rangle\\;|\\; \\;a_1, a_3 \\;\\text{are real numbers}\\}$ is a subspace of $\\mathbb{R}^3$ by defining appropriate addition and scalar multiplication\n",
    "\n",
    "**solution**\n",
    "\n",
    "* Definition of Addition and Scalar Multiplication\n",
    "\n",
    "> $\\begin{align*}\n",
    " \\left \\langle a_1, 0, a_3 \\right \\rangle + \\left \\langle b_1, 0, b_3 \\right \\rangle &= \\left \\langle a_1 +b_1, 0, a_3 + b_3 \\right \\rangle\\\\ \n",
    " k\\left \\langle a_1, 0, a_3 \\right \\rangle&= \\left \\langle ka_1, 0, ka_3 \\right \\rangle\n",
    "\\end{align*}$\n",
    "\n",
    "For $\\mathbf{x}: \\left \\langle a_1, 0, a_3 \\right \\rangle$ and $\\mathbf{y}: \\left \\langle b_1, 0, b_3 \\right \\rangle$, $~\\mathbf{x} + \\mathbf{y}: \\left \\langle a_1 +b_1, 0, a_3 + b_3 \\right \\rangle$. \n",
    "> Thus, the sum $\\mathbf{x} +\\mathbf{y}~$ is in $S$; $~S$ is closed under addition \n",
    "\n",
    "For $\\mathbf{x}: \\left \\langle a_1, 0, a_3 \\right \\rangle$ and $k$ is any scalar, $~k\\mathbf{x}: \\left \\langle ka_1, 0, ka_3 \\right \\rangle$. \n",
    "> then, $k\\mathbf{x}~$ is in $S$; $~S$ is closed under scalar multiplication \n",
    "\n",
    "$\\Rightarrow~$ A nonempty subset $S$ of a vector space $\\mathbb{R}^3$ is a subspace of $\\mathbb{R}^3$ \n",
    "$~$"
   ]
  },
  {
   "cell_type": "markdown",
   "id": "f3cb2812",
   "metadata": {},
   "source": [
    "**5[25].** $~$Identify the given conic section. Graph\n",
    "\n",
    "> $16x^2 + 24xy + 9y^2 +2x -y=0$\n",
    "\n",
    "**solution**\n",
    "\n",
    "> $\\begin{align*}\n",
    " \\begin{pmatrix} x & y\\end{pmatrix} \n",
    "\\begin{pmatrix}\n",
    " 16 & 12\\\\ \n",
    " 12 & 9\n",
    "\\end{pmatrix} \n",
    "\\begin{pmatrix}\n",
    " x \\\\ y\n",
    "\\end{pmatrix} &+2x -y=0 \\\\\n",
    " &\\Downarrow \\\\ \n",
    "\\mathbf{x}^T \\mathbf{A}\\mathbf{x} &+\\mathbf{b}^T \\mathbf{x} = 0\n",
    "\\end{align*}$\n",
    "$~$\n",
    "\n",
    ">$\\begin{align*}\n",
    " \\begin{vmatrix}\n",
    " 16-\\lambda & 12\\\\ \n",
    " 12 & 9 -\\lambda \n",
    "\\end{vmatrix} &= 0 \\;\\;\\Rightarrow \\;\\;\\lambda_1=0, \\;\\;\\lambda_2=25\\\\ \n",
    " &\\Downarrow \\\\ \n",
    " \\text{at }\\lambda_1 =0,&\\;\\;\\mathbf{k}_1 = \\frac{1}{5}\\begin{pmatrix} -3 \\\\\\phantom{-}4 \\end{pmatrix}\\\\ \n",
    " \\text{at }\\lambda_2 =25,&\\;\\;\\mathbf{k}_2 = \\frac{1}{5}\\begin{pmatrix} 4 \\\\ 3 \\end{pmatrix}\\\\\n",
    " &\\Downarrow \\\\\n",
    "  \\mathbf{P} &=\\frac{1}{5} \n",
    "  \\begin{pmatrix}\n",
    "    -3 & 4\\\\ \n",
    "    \\phantom{-} 4 & 3 \n",
    "  \\end{pmatrix}\n",
    " \\end{align*}$ \n",
    "$~$\n",
    "\n",
    ">$\\begin{align*}\n",
    " \\mathbf{x} &= \\mathbf{P}\\mathbf{y}\\\\ \n",
    " &\\Downarrow \\\\ \n",
    " \\mathbf{y}^T \\mathbf{P}^T \\mathbf{A} \\mathbf{P} \\mathbf{y} &+\\mathbf{b}^T \\mathbf{P}\\mathbf{y} = 0 \\\\ \n",
    "  &\\Downarrow \\\\\n",
    " \\begin{pmatrix} \\hat{x} & \\hat{y} \\end{pmatrix} \n",
    " \\begin{pmatrix}\n",
    "   0 & 0\\\\ \n",
    "   0 & 25\n",
    " \\end{pmatrix}  \\begin{pmatrix} \\hat{x} \\\\ \\hat{y} \\end{pmatrix} &\n",
    "  +\\begin{pmatrix} -2 & 1 \\end{pmatrix} \\begin{pmatrix} \\hat{x} \\\\ \\hat{y} \\end{pmatrix}=0 \\\\\n",
    " &\\Downarrow \\\\ \n",
    "  25 \\hat{y}^2&+\\hat{y}-2\\hat{x} = 0 \\;\\; : \\text{parabolic equation}\n",
    "\\end{align*}$"
   ]
  },
  {
   "cell_type": "code",
   "execution_count": 9,
   "id": "b2378c21",
   "metadata": {},
   "outputs": [
    {
     "data": {
      "image/png": "[encoded data removed]",
      "text/plain": [
       "<Figure size 432x288 with 1 Axes>"
      ]
     },
     "metadata": {
      "needs_background": "light"
     },
     "output_type": "display_data"
    }
   ],
   "source": [
    "from sympy import plot_implicit, symbols, Eq\n",
    "\n",
    "x, y = symbols('x y')\n",
    "\n",
    "p = plot_implicit(Eq(25*y**2 + y -2*x, 0), (x, -0.1, 2.5), (y, -0.6, 0.6))"
   ]
  }
 ],
 "metadata": {
  "kernelspec": {
   "display_name": "Python 3 (ipykernel)",
   "language": "python",
   "name": "python3"
  },
  "language_info": {
   "codemirror_mode": {
    "name": "ipython",
    "version": 3
   },
   "file_extension": ".py",
   "mimetype": "text/x-python",
   "name": "python",
   "nbconvert_exporter": "python",
   "pygments_lexer": "ipython3",
   "version": "3.8.12"
  }
 },
 "nbformat": 4,
 "nbformat_minor": 5
}
