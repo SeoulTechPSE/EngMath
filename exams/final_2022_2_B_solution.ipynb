{
 "cells": [
  {
   "cell_type": "markdown",
   "metadata": {},
   "source": [
    "[![Open In Colab](https://colab.research.google.com/assets/colab-badge.svg)](https://colab.research.google.com/github/SeoulTechPSE/EngMath/blob/master/exams/final_2022_2_B.ipynb)"
   ]
  },
  {
   "cell_type": "markdown",
   "metadata": {},
   "source": [
    "## Engineering Mathematics II (161007-21002) - Final Exam.\n",
    "December 12, 2022"
   ]
  },
  {
   "cell_type": "markdown",
   "metadata": {},
   "source": [
    "**1[20].** $~$ Solve the problem\n",
    "\n",
    "> $\n",
    "\\begin{align*}\n",
    " u_t &= u_{xx}, \\;\\;0<x<1, \\; 0 < t < \\infty\\\\ \n",
    " u(0, t)&=0 \\\\ \n",
    " u(1, t)&=\\cos t \\\\ \n",
    " u(x, 0)&=x, \\;\\; 0\\leq x \\leq 1 \n",
    "\\end{align*}\n",
    "$"
   ]
  },
  {
   "cell_type": "markdown",
   "metadata": {},
   "source": [
    "**2[20].** $~$ What is the solution to the initial value problem\n",
    "\n",
    "> $\n",
    "\\begin{align*}\n",
    " u_{tt} &= u_{xx}, \\;\\;-\\infty<x<\\infty, \\; 0 < t < \\infty\\\\ \n",
    " u(x, 0)&=e^{-x^2} \\\\\n",
    " u_t(x, 0) &= x e^{-x^2}\n",
    "\\end{align*}\n",
    "$"
   ]
  },
  {
   "cell_type": "markdown",
   "metadata": {},
   "source": [
    "**3[20].** $~$ A guitar string of length $L=1$ is pulled upward at the middle so that it reaches height $h$. Assuming the position of the string is initially\n",
    "\n",
    "> $\n",
    "u(x,0)=\\begin{cases}\n",
    " 2hx & 0 \\leq x \\leq 0.5 \\\\ \n",
    " 2h(1-x)& 0.5 \\leq x \\leq 1 \n",
    "\\end{cases}\n",
    "$\n",
    "\n",
    "> What is the subsequent motion of the string if it is suddenly released?"
   ]
  },
  {
   "cell_type": "markdown",
   "metadata": {},
   "source": [
    "**4[20].** $~$ Solve the problem\n",
    "\n",
    "> $\n",
    "\\begin{align*}\n",
    " u_t &= u_{xx} +\\sin 3\\pi x, \\;\\; 0<x<1, \\;\\;0<t<\\infty \\\\ \n",
    " u(0,t)&= 0 \\\\ \n",
    " u(1,t)&= 1\\\\ \n",
    " u(x,0)&= \\sin\\pi x \n",
    "\\end{align*}\n",
    "$"
   ]
  },
  {
   "cell_type": "markdown",
   "metadata": {},
   "source": [
    "**5[20].** $~$ Solve\n",
    "\n",
    ">$\n",
    "\\begin{align*}\n",
    " \\nabla^2 u &= 0, \\;\\; 0<r<1\\\\ \n",
    " u(1,\\phi)&= \\begin{cases}\n",
    "\\phantom{-} 1 & 0 \\leq \\phi \\leq \\pi/2 \\\\ \n",
    "-1 & \\pi/2 < \\phi \\leq \\pi \n",
    "\\end{cases}\n",
    "\\end{align*}\n",
    "$\n",
    "\n",
    "> This is the problem where the boundary of the northern hemisphere is hot (+1), while the southern hemisphere is cold (-1)"
   ]
  }
 ],
 "metadata": {
  "kernelspec": {
   "display_name": "Python 3 (ipykernel)",
   "language": "python",
   "name": "python3"
  },
  "language_info": {
   "codemirror_mode": {
    "name": "ipython",
    "version": 3
   },
   "file_extension": ".py",
   "mimetype": "text/x-python",
   "name": "python",
   "nbconvert_exporter": "python",
   "pygments_lexer": "ipython3",
   "version": "3.8.12"
  }
 },
 "nbformat": 4,
 "nbformat_minor": 4
}
