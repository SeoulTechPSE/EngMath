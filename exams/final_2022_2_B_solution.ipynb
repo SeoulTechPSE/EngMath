{
 "cells": [
  {
   "cell_type": "markdown",
   "metadata": {},
   "source": [
    "[![Open In Colab](https://colab.research.google.com/assets/colab-badge.svg)](https://colab.research.google.com/github/SeoulTechPSE/EngMath/blob/master/exams/final_2022_2_B.ipynb)"
   ]
  },
  {
   "cell_type": "markdown",
   "metadata": {},
   "source": [
    "## Engineering Mathematics II (161007-21002) - Final Exam.\n",
    "December 12, 2022"
   ]
  },
  {
   "cell_type": "markdown",
   "metadata": {},
   "source": [
    "**1[20].** $~$ Solve the problem\n",
    "\n",
    "> $\n",
    "\\begin{align*}\n",
    " u_t &= u_{xx}, \\;\\;0<x<1, \\; 0 < t < \\infty\\\\ \n",
    " u(0, t)&=0 \\\\ \n",
    " u(1, t)&=\\cos t \\\\ \n",
    " u(x, 0)&=x, \\;\\; 0\\leq x \\leq 1 \n",
    "\\end{align*}\n",
    "$"
   ]
  },
  {
   "cell_type": "markdown",
   "metadata": {},
   "source": [
    "> **Solution**\n",
    "\n",
    "\\begin{align*}\n",
    " &\\Downarrow \\;\\;{\\scriptsize u(x,t)=x\\cdot\\cos t +w(x,t)} \\\\ \n",
    " w_t &= w_{xx} +x\\cdot\\sin t\\\\ \n",
    " &w(0,t)=0 \\\\ \n",
    " &w(1,t)=0 \\\\ \n",
    " &w(x,0)=0 \\\\\n",
    " &\\Downarrow \\;\\;{\\scriptsize \\text{Finite Sine Transform}} \\\\\n",
    " \\frac{dW_n}{dt} &= -(n\\pi)^2 W_n + \\frac{2(-1)^{n+1}}{n\\pi} \\sin t \\\\\n",
    " &W_n(0)= 0 \\\\\n",
    " &\\Downarrow \\\\\n",
    " W_n(t) &= \\frac{2(-1)^{n+1}}{n\\pi} \\int_0^t e^{-(n\\pi)^2(t-\\tau)} \\sin\\tau\\,d\\tau \\\\\n",
    " &\\Downarrow \\\\\n",
    " u(x,t) &=x\\cdot\\cos t +\\sum_{n=1}^\\infty W_n(t) \\sin n\\pi x\n",
    "\\end{align*}"
   ]
  },
  {
   "cell_type": "markdown",
   "metadata": {},
   "source": [
    "**2[20].** $~$ What is the solution to the initial value problem\n",
    "\n",
    "> $\n",
    "\\begin{align*}\n",
    " u_{tt} &= u_{xx}, \\;\\;-\\infty<x<\\infty, \\; 0 < t < \\infty\\\\ \n",
    " u(x, 0)&=e^{-x^2} \\\\\n",
    " u_t(x, 0) &= x e^{-x^2}\n",
    "\\end{align*}\n",
    "$"
   ]
  },
  {
   "cell_type": "markdown",
   "metadata": {},
   "source": [
    "> **Solution**\n",
    "\n",
    "\\begin{align*}\n",
    " u(x,t) &= \\frac{1}{2} \\left[ f(x+t) +f(x-t)\\right]\n",
    "  +\\frac{1}{2} \\int_{x-t}^{x+t} g(\\alpha)\\,d\\alpha\\\\ \n",
    " &= \\frac{1}{2} \\left[ e^{-(x+t)^2} +e^{-(x-t)^2} \\right] \n",
    "  +\\frac{1}{2} \\int_{x-t}^{x+t} \\alpha e^{-\\alpha^2}\\,d\\alpha\\\\ \n",
    " &= \\frac{1}{2} \\left[ e^{-(x+t)^2} +e^{-(x-t)^2} \\right] \n",
    "  -\\frac{1}{4} \\left[ e^{-(x+t)^2} -e^{-(x-t)^2} \\right] \\\\\n",
    " &= \\frac{1}{4} \\left[ e^{-(x+t)^2} +3 e^{-(x-t)^2} \\right]\n",
    "\\end{align*}"
   ]
  },
  {
   "cell_type": "markdown",
   "metadata": {},
   "source": [
    "**3[20].** $~$ A guitar string of length $L=1$ is pulled upward at the middle so that it reaches height $h$. Assuming the position of the string is initially\n",
    "\n",
    "> $\n",
    "u(x,0)=\\begin{cases}\n",
    " 2hx & 0 \\leq x \\leq 0.5 \\\\ \n",
    " 2h(1-x)& 0.5 \\leq x \\leq 1 \n",
    "\\end{cases}\n",
    "$\n",
    "\n",
    "> What is the subsequent motion of the string if it is suddenly released?"
   ]
  },
  {
   "cell_type": "markdown",
   "metadata": {},
   "source": [
    "> **Solution**\n",
    "\n",
    "\\begin{align*}\n",
    " u_{tt} &= c^2 u_{xx}, \\;\\;0<x<1, \\;0<t<\\infty\\\\ \n",
    " &u(0,t)=u(1,t)=0 \\\\ \n",
    " &\\Downarrow \\;\\;{\\scriptsize u(x,t)=T(t)X(x)}\\\\ \n",
    " X''&+\\lambda X = 0, \\;\\;X(0)=X(1)=0\\\\\n",
    " &\\downarrow \\\\\n",
    " \\lambda_n &=(n\\pi)^2, \\;\\;n=1,2,3,\\cdots \\\\ \n",
    " X_n(x)&= \\sin n\\pi x \\\\ \\\\\n",
    " T_n'' &+(cn\\pi)^2 T_n = 0 \\\\ \n",
    " &\\downarrow \\\\\n",
    " T_n(t) &=a_n \\cos cn\\pi t +b_n \\sin cn\\pi t \\\\\n",
    " &\\Downarrow \\\\\n",
    " u(x,t) &=\\sum_{n=1}^\\infty \\left( a_n \\cos cn\\pi t +b_n \\sin cn\\pi t \\right)\\sin n\\pi x \\\\\n",
    " &\\downarrow \\;\\; {\\scriptsize u_t(x,0)=0 \\;\\;\\rightarrow\\;\\; b_n=0} \\\\\n",
    " u(x,0) &= \\sum_{n=1}^\\infty a_n \\sin n\\pi x \\\\\n",
    " &\\downarrow \\\\\n",
    " a_n &= \\frac{8h}{(n\\pi)^2} \\sin \\frac{n\\pi}{2}\n",
    "\\end{align*}"
   ]
  },
  {
   "cell_type": "markdown",
   "metadata": {},
   "source": [
    "**4[20].** $~$ Solve the problem\n",
    "\n",
    "> $\n",
    "\\begin{align*}\n",
    " u_t &= u_{xx} +\\sin 3\\pi x, \\;\\; 0<x<1, \\;\\;0<t<\\infty \\\\ \n",
    " u(0,t)&= 0 \\\\ \n",
    " u(1,t)&= 1\\\\ \n",
    " u(x,0)&= \\sin\\pi x \n",
    "\\end{align*}\n",
    "$"
   ]
  },
  {
   "cell_type": "markdown",
   "metadata": {},
   "source": [
    "> **Solution**\n",
    "\n",
    "* $u(x,t)=v(x,t) + w(x,t)$\n",
    "\n",
    "> * $v_t = v_{xx}, \\;\\;v(0,t) = 0, \\;\\;v(1,t) = 1, \\;\\;v(x,0) = 0$ \n",
    "\n",
    "\\begin{align*}\n",
    " &\\Downarrow \\;\\;{\\scriptsize v(x,t)=x+z(x,t)} \\\\ \n",
    " z_t &= z_{xx}, \\;\\;z(0,t)=z(1,t)=0, \\;\\;z(x,0)=-x\\\\ \n",
    " &\\downarrow \\\\ \n",
    " z(x,t)&=\\sum_{n=1}^\\infty c_n e^{-(n\\pi)^2t} \\sin n\\pi x \\\\\n",
    " &\\downarrow \\;\\;{\\scriptsize -x=\\sum_{n=1}^\\infty c_n \\sin n\\pi x \\;\\;\\text{at}\\; t=0} \\\\\n",
    " c_n&=\\frac{2}{n\\pi}(-1)^n\\\\\n",
    " &\\Downarrow \\\\\n",
    " v(x,t) &=x+\\frac{2}{\\pi}\\sum_{n=1}^\\infty \\frac{(-1)^n}{n} e^{-(n\\pi)^2t} \\sin n\\pi x \n",
    "\\end{align*}\n",
    "\n",
    "> * $w_t=w_{xx}+\\sin 3\\pi x, \\;\\;w(0,t)=0, \\;\\;w(1,t)=0, \\;\\;w(x,0)=\\sin \\pi x$\n",
    "\n",
    "\\begin{align*}\n",
    " &\\Downarrow \\;\\;{\\scriptsize\\text{Finite Sine Transform}}\\\\\n",
    " \\frac{d W_n}{dt} &=-(n\\pi)^2 W_n + \n",
    "   \\begin{cases}\n",
    "     \\;1, & n=3 \\\\ \n",
    "     \\;0, & n\\neq 3 \n",
    "   \\end{cases} \\\\\n",
    " &\\left.\\begin{matrix}\n",
    "     W_1 = 1 & \\\\ \n",
    "     W_n = 0 & \n",
    "  \\end{matrix}\\right\\} \\text{ at } t=0 \\\\\n",
    " &\\Downarrow \\\\\n",
    "  W_1(t) &= e^{-\\pi^2t} \\\\  \n",
    "  W_3(t) &= e^{-(3\\pi)^2 t} \\int_0^t e^{(3\\pi)^2 \\tau}\\,d\\tau \n",
    "   = \\frac{1}{(3\\pi)^2} \\left[ 1 -  e^{-(3\\pi)^2 t} \\right] \\\\\n",
    "  W_n(t) &=0, \\;\\;n\\neq 1 \\text{ and } n\\neq 3 \\\\\n",
    " &\\Downarrow \\\\\n",
    " w(x,t) &= e^{-\\pi^2t} \\sin\\pi x +\\frac{1}{(3\\pi)^2} \\left[ 1 -  e^{-(3\\pi)^2 t} \\right] \\sin 3\\pi x\n",
    "\\end{align*}"
   ]
  },
  {
   "cell_type": "markdown",
   "metadata": {},
   "source": [
    "**5[20].** $~$ Solve\n",
    "\n",
    ">$\n",
    "\\begin{align*}\n",
    " \\nabla^2 u &= 0, \\;\\; 0<r<1\\\\ \n",
    " u(1,\\phi)&= \\begin{cases}\n",
    "\\phantom{-} 1 & 0 \\leq \\phi \\leq \\pi/2 \\\\ \n",
    "-1 & \\pi/2 < \\phi \\leq \\pi \n",
    "\\end{cases}\n",
    "\\end{align*}\n",
    "$\n",
    "\n",
    "> This is the problem where the boundary of the northern hemisphere is hot (+1), while the southern hemisphere is cold (-1)"
   ]
  },
  {
   "cell_type": "markdown",
   "metadata": {},
   "source": [
    "> **Solution**\n",
    "\n",
    "\\begin{align*}\n",
    " u_{rr} +\\frac{2}{r} u_r &+\\frac{1}{r^2 \\sin\\phi}\\frac{\\partial}{\\partial \\phi} \\left(\\sin\\phi \\frac{\\partial u}{\\partial\\phi}\\right) = 0\\\\ \n",
    " &\\Downarrow \\\\ \n",
    " u(r,\\phi) &= \\sum_{n=0}^\\infty c_n r^n P_n(\\cos\\phi)\\\\ \n",
    " &\\Downarrow \\\\\n",
    " c_n = \\frac{2n+1}{2} &\\left[\\int_0^{\\pi/2} P_n(\\cos\\phi) \\sin\\phi\\,d\\phi \n",
    "    -\\int_{\\pi/2}^\\pi P_n(\\cos\\phi) \\sin\\phi\\,d\\phi\\right]\n",
    "\\end{align*}"
   ]
  }
 ],
 "metadata": {
  "kernelspec": {
   "display_name": "Python 3 (ipykernel)",
   "language": "python",
   "name": "python3"
  },
  "language_info": {
   "codemirror_mode": {
    "name": "ipython",
    "version": 3
   },
   "file_extension": ".py",
   "mimetype": "text/x-python",
   "name": "python",
   "nbconvert_exporter": "python",
   "pygments_lexer": "ipython3",
   "version": "3.8.12"
  }
 },
 "nbformat": 4,
 "nbformat_minor": 4
}
