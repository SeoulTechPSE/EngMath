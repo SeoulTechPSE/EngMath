{
 "cells": [
  {
   "cell_type": "markdown",
   "id": "a26af8d5",
   "metadata": {},
   "source": [
    "### Engineering Mathematics I (161006-21004) - Final Exam.\n",
    "May 31, 2023"
   ]
  },
  {
   "cell_type": "markdown",
   "id": "f492a544",
   "metadata": {},
   "source": [
    "**1[25].** The equation\n",
    "\n",
    "> $\\displaystyle y'' -2xy' +2\\alpha y=0,$\n",
    "\n",
    "   where $\\alpha$ is a constant, is called the *Hermite* equation.\n",
    "  \n",
    "  (a)$~$ Find two linearly independent solutions for $-\\infty < x <\\infty$\n",
    "  \n",
    "  (b)$~$ Show that there is a polynomial solution of degree $n$, in case $\\alpha=n$ is a non-negative integer\n",
    "$~$"
   ]
  },
  {
   "cell_type": "markdown",
   "id": "d9f55e45",
   "metadata": {},
   "source": [
    "**Solution**\n",
    "\n",
    "(a)\n",
    "\n",
    "> $\\begin{align*}\n",
    " &\\Downarrow \\;\\;y=\\sum_{k=0}^\\infty c_n x^k, \\;\\;x=0 \\text{ is an ordinary point}\\\\ \n",
    " \\sum_{k=2}^\\infty &c_k k(k-1)x^{k-2} -2\\sum_{k=1}^\\infty c_k k x^{k} +2\\alpha\\sum_{k=0}^\\infty c_k x^k =0 \\\\ \n",
    " 2c_2 &+ 2\\alpha c_0 +\\sum_{k=1}^\\infty\n",
    " \\left[(k+2)(k+1) c_{k+2} -2(k -\\alpha)c_k \\right] x^k = 0\\\\ \n",
    " &\\Downarrow \\\\ \n",
    " c_2&=-\\alpha c_0, \\;\\; c_{k+2} =-\\frac{2(\\alpha -k)}{(k+2)(k+1)} c_k \\\\\n",
    " &\\Downarrow \\\\\n",
    " c_{2k} &= (-2)^k \\frac{\\left(\\alpha - (2k-2)\\right) \\left(\\alpha - (2k-4)\\right) \\cdots \\left(\\alpha - 2\\right) \\alpha}{(2k)!} c_0 = \\hat{c}_{2k} c_0 \\\\\n",
    " c_{2k+1} &= (-2)^k \\frac{\\left(\\alpha - (2k-1)\\right) \\left(\\alpha - (2k-3)\\right) \\cdots \\left(\\alpha - 1\\right)}{(2k+1)!} c_1 =\\hat{c}_{2k+1} c_1 \\\\\n",
    " &\\Downarrow \\\\\n",
    " y &= c_0 \\sum_{k=1}^\\infty \\hat{c}_{2k} x^{2k} +c_1 \\sum_{k=1}^\\infty \\hat{c}_{2k+1} x^{2k+1} = c_0 y_0(x) + c_1 y_1(x)\n",
    "\\end{align*}$\n",
    "\n",
    "(b) $~$If $n$ is an even integer, the first series terminates, whereas $y_1(x)$ is an infinite series. For example, if $n=4$, then\n",
    "\n",
    "> $\\displaystyle y_0(x) = c_0 \\left[ 1 - 2\\frac{4}{2!}x^2 +2^2 \\frac{(4 - 2) 4}{4!} x^4 \\right] =c_0 \\left[1 -4x^2 +\\frac{4}{3}x^4 \\right]$\n",
    "\n",
    "  Similarly, when $n$ is an odd integer, the series for $y_1(x)$ terminates with $x^n$. For exampe, if $n=5$, then\n",
    "  \n",
    "> $\\displaystyle y_1(x) = c_1 \\left[ x - 2\\frac{(5 -1)}{3!}x^3 +4 \\frac{(5 - 3)(5-1)}{5!} x^5 \\right] =c_1 \\left[x -\\frac{4}{3}x^3 +\\frac{4}{15}x^5 \\right]$\n",
    "  \n",
    "  That is, when $n$ is a nonnegative integer, we obtain an $n$-th degree polynomial solution of *Hermite* equation.\n",
    "  \n",
    "  $~$\n",
    "  \n",
    "  $~$"
   ]
  },
  {
   "cell_type": "markdown",
   "id": "3b9d888f",
   "metadata": {},
   "source": [
    "**2[15].** $~$ Find the general solution of the differential equation on the interval $(0, \\infty)$\n",
    "\n",
    "> $\\displaystyle x^2 y'' +2x y'+\\left(\\alpha^2x^2 -n(n+1)\\right)y=0, \\;\\;$ $n$ is an integer \n",
    "\n",
    "Hint) $~$Use the substitution $\\displaystyle y(x)=\\frac{1}{\\sqrt{x}}z(x)$\n",
    "$~$\n",
    "\n",
    "$~$"
   ]
  },
  {
   "cell_type": "markdown",
   "id": "6fe595cb",
   "metadata": {},
   "source": [
    "**Solution**\n",
    "\n",
    "By using $\\displaystyle y(x)=\\frac{1}{\\sqrt{x}}z(x)$, the differential equation becomes\n",
    "\n",
    ">$\\displaystyle x^2 z'' +x z' +\\left[\\alpha^2x^2 -\\left( n + \\frac{1}{2} \\right)^2 \\right]z=0$\n",
    "\n",
    "The general solution of the above differential equation on the interval $(0, \\infty)$ is\n",
    "\n",
    ">$\\displaystyle z(x)=c_1 J_{n+\\frac{1}{2}}(\\alpha x) + c_2 Y_{n+\\frac{1}{2}}(\\alpha x)$\n",
    "\n",
    "Thus the general solution on the interval $(0, \\infty)$ is\n",
    "\n",
    ">$\\displaystyle y(x)=c_1 \\frac{1}{\\sqrt{x}}J_{n+\\frac{1}{2}}(\\alpha x) + c_2 \\frac{1}{\\sqrt{x}}Y_{n+\\frac{1}{2}}(\\alpha x)$\n",
    "$~$\n",
    "\n",
    "$~$"
   ]
  },
  {
   "cell_type": "markdown",
   "id": "7f84baf3",
   "metadata": {},
   "source": [
    "**3[15].** $~$ The set of vectors $\\{ \\mathbf{u}_1, \\mathbf{u}_2, \\mathbf{u}_3 \\}$, where\n",
    "\n",
    "> $\\mathbf{u}_1=\\left \\langle 1, 1, 3 \\right \\rangle, \\; \\mathbf{u}_2=\\left \\langle 1,4,1 \\right \\rangle, \\;\\text{and}\\; \\mathbf{u}_3=\\left \\langle 1,10,-3 \\right \\rangle$\n",
    "\n",
    "is linearly dependent in $\\mathbb{R}^3$. Carry out the Gram-Schmidt orthogonalization process and then discuss that result.\n",
    "$~$\n",
    "\n",
    "$~$"
   ]
  },
  {
   "cell_type": "markdown",
   "id": "49d34f04",
   "metadata": {},
   "source": [
    "**Solution**\n",
    "\n",
    "  $\\begin{align*} \n",
    "     \\mathbf{v}_1 &= \\mathbf{u}_1=\\left \\langle 1,1,3\\right \\rangle \\\\ \n",
    "     \\mathbf{v}_2 &= \\mathbf{u}_2 -\\left( \\frac{\\mathbf{u}_2 \\cdot \\mathbf{v}_1}{\\mathbf{v}_1 \\cdot               \\mathbf{v}_1}\\right) \\mathbf{v}_1 = \\left \\langle 1,4,1 \\right \\rangle\n",
    "        -\\frac{1+4+3}{1+1+9}\\left \\langle 1,1,3 \\right \\rangle = \\frac{1}{11} \\left \\langle 3,36,-13 \\right \\rangle\n",
    "        \\;\\;\\Rightarrow \\;\\; \\left \\langle 3,36,-13 \\right \\rangle\\\\\n",
    "    \\mathbf{v}_3 &= \\mathbf{u}_1 -\\left( \\frac{\\mathbf{u}_1 \\cdot \\mathbf{v}_1}{\\mathbf{v}_1 \\cdot \\mathbf{v}_1}\\right) \\mathbf{v}_1\n",
    "   -\\left( \\frac{\\mathbf{u}_1 \\cdot \\mathbf{v}_2}{\\mathbf{v}_2 \\cdot \\mathbf{v}_2}\\right) \\mathbf{v}_2 \\\\\n",
    "   &= \\left \\langle 1,10,-3 \\right \\rangle -\\frac{1+10-9}{1+1+9} \\left \\langle 1, 1, 3 \\right \\rangle \n",
    "    -\\frac{93+360+39}{9+36^2+13^2} \\left \\langle 3,36,-13 \\right \\rangle = \\left\\langle 0, 0, 0 \\right \\rangle \\\\\n",
    "    &\\Downarrow \\\\\n",
    "    \\mathbf{w}_1 &= \\frac{1}{\\sqrt{11}}\\left \\langle 1,1,3 \\right \\rangle \\\\\n",
    "    \\mathbf{w}_2 &= \\frac{1}{\\sqrt{1474}}\\left \\langle 3,36,-13 \\right \\rangle \n",
    "   \\end{align*}$\n",
    "\n",
    "$~$\n",
    "\n",
    "$~$"
   ]
  },
  {
   "cell_type": "markdown",
   "id": "0662a54d",
   "metadata": {},
   "source": [
    "**4[15].** $~$ Use Cramer's rule to determine the solution of the system\n",
    "\n",
    "> $\\begin{matrix}\n",
    " (2-k) x_1&  +  & kx_2 & = &4 \\\\ \n",
    " k x_1 & + & (3-k) x_2  & = &3 \n",
    "\\end{matrix}$\n",
    "\n",
    "For what value(s) of $k$ is the system inconsistent?\n",
    "\n",
    "$~$"
   ]
  },
  {
   "cell_type": "markdown",
   "id": "bbbd290c",
   "metadata": {},
   "source": [
    "**Solution**\n",
    "\n",
    "$\\begin{align*}\n",
    " \\mathbf{A } &=\\begin{pmatrix}\n",
    "2-k & k \\\\ \n",
    "k & 3-k \n",
    "\\end{pmatrix},\\;\\;\\mathbf{b}=\\begin{pmatrix}\n",
    "4\\\\3\n",
    "\\end{pmatrix} \\\\ \n",
    " &\\Downarrow \\\\ \n",
    " \\left |  \\mathbf{A } \\right |&=\\begin{vmatrix}\n",
    "2-k & k \\\\ \n",
    "k & 3-k \n",
    "\\end{vmatrix}=-5k+6 \\\\ \n",
    " \\left |  \\mathbf{A }_1 \\right |&=\\begin{vmatrix}\n",
    "4 & k \\\\ \n",
    "3 & 3-k \n",
    "\\end{vmatrix}=-7k+12, \\;\\; \\left |  \\mathbf{A}_2 \\right |=\\begin{vmatrix}\n",
    "2-k & 4 \\\\ \n",
    "k & 3 \n",
    "\\end{vmatrix}=-7k+6 \\\\\n",
    " &\\Downarrow \\\\ \n",
    " x_1 &=\\frac{12-7k}{6-5k}, \\;\\;x_2=\\frac{6-7k}{6-5k} \\;\\;\\;\\;\\text{when}\\;\\;k\\neq\\frac{6}{5}\n",
    "\\end{align*}$\n",
    "\n",
    "$~$\n",
    "\n",
    "$~$"
   ]
  },
  {
   "cell_type": "markdown",
   "id": "717470bb",
   "metadata": {
    "slideshow": {
     "slide_type": "slide"
    }
   },
   "source": [
    "**5[30].** $~$ Simplify the following equations of quadric surfaces in three-dimensional space, and give the corresponding coordinate tranformations:\n",
    "\n",
    "> $5x^2 + 6y^2 +7z^2 -4xy +4yz -10x +8y +14z -6=0$\n",
    "$~$\n",
    "\n",
    "$~$"
   ]
  },
  {
   "cell_type": "markdown",
   "id": "e2569dee",
   "metadata": {},
   "source": [
    "**Solution**\n",
    "\n",
    "\\begin{align*}\n",
    " \\mathbf{A }=\\begin{pmatrix}\n",
    " \\phantom{-}5 &-2 &\\phantom{-}0 \\\\ \n",
    "-2& \\phantom{-}6  &\\phantom{-}2 \\\\ \n",
    "  \\phantom{-}0& \\phantom{-}2  & \\phantom{-}7\n",
    "\\end{pmatrix}&, \\;   \\mathbf{x}=\\begin{pmatrix}\n",
    "x\\\\y \\\\z\n",
    "\\end{pmatrix} \\\\ \n",
    " &\\Downarrow \\\\\n",
    " \\mathbf{x}^T \\mathbf{A}\\mathbf{x} +&\\begin{pmatrix}\n",
    " -10 & 8 & 14 \n",
    "\\end{pmatrix}\\mathbf{x}=6 \\\\\n",
    " &\\Downarrow \\\\\n",
    "|\\mathbf{A} -\\lambda \\mathbf{I} | = 0 \\;\\; \\Rightarrow \\;\\; & \\lambda_1=3, \\;\\lambda_2=6, \\;\\lambda_3=9 \\\\ \n",
    "\\lambda_1=3 \\;\\;&\\rightarrow \\;\\; \\mathbf{k}_1 =\\frac{1}{3}  \\begin{pmatrix}\n",
    "\\phantom{-}2\\\\\\phantom{-}2\\\\-1 \\end{pmatrix}\\\\\n",
    "\\lambda_2=6 \\;\\;&\\rightarrow \\;\\; \\mathbf{k}_2 =\\frac{1}{3}  \\begin{pmatrix}\n",
    "\\phantom{-}2\\\\-1\\\\\\phantom{-}2 \\end{pmatrix}\\\\\n",
    "\\lambda_3=9 \\;\\;&\\rightarrow \\;\\; \\mathbf{k}_3 =\\frac{1}{3}  \\begin{pmatrix}\n",
    "-1 \\\\ \\phantom{-}2 \\\\ \\phantom{-}2 \\end{pmatrix}\\\\\n",
    " &\\Downarrow \\\\ \n",
    "\\mathbf{P} =\\begin{pmatrix}\n",
    " \\mathbf{k}_1 &  \\mathbf{k}_2 &  \\mathbf{k}_3\n",
    "\\end{pmatrix} \\;\\; &\\Rightarrow \\;\\; \\mathbf{x} = \\mathbf{P}\\mathbf{y} \n",
    "\\end{align*}\n",
    "\n",
    "$~$\n",
    "\n",
    "$~$"
   ]
  },
  {
   "cell_type": "markdown",
   "id": "6e7123b8",
   "metadata": {},
   "source": [
    "\\begin{align*}\n",
    " &\\Downarrow \\\\ \n",
    " \\mathbf{y}^T \n",
    "\\begin{pmatrix}\n",
    " 3 & 0  & 0\\\\ \n",
    " 0 & 6 & 0\\\\ \n",
    " 0 & 0 & 9 \n",
    "\\end{pmatrix}  \\mathbf{y} &+\n",
    "\\begin{pmatrix}\n",
    " -6 &  0 & 18 \n",
    "\\end{pmatrix} \\mathbf{y} = 6\\\\ \n",
    " &\\Downarrow \\\\ \n",
    " 3(y_1^2 -2y_1 +1) +6y_2^2 &+9(y_3^2 +2y_3+1) =18 \\\\\n",
    " &\\Downarrow \\\\ \n",
    "\\frac{(y_1 -1)^2}{6} +\\frac{y_2^2}{3} &+\\frac{(y_3+1)^2}{2} = 1 \\\\\n",
    " &\\Downarrow \\\\\n",
    " \\mathbf{z} &=  \\mathbf{y} -\\begin{pmatrix}\n",
    "\\phantom{-} 1 \\\\ \\phantom{-} 0 \\\\ -1\n",
    "\\end{pmatrix} \\\\\n",
    " &\\Downarrow \\\\\n",
    "\\frac{z_1^2}{6} &+ \\frac{z_2^2}{3} + \\frac{z_3^2}{2} = 1 \\\\\n",
    " &\\Downarrow \\\\\n",
    " \\mathbf{x} &= \\mathbf{P}\\left[\\mathbf{z} +\\begin{pmatrix}\n",
    "\\phantom{-} 1 \\\\ \\phantom{-} 0 \\\\ -1\n",
    "\\end{pmatrix} \\right]\n",
    "\\end{align*}"
   ]
  }
 ],
 "metadata": {
  "kernelspec": {
   "display_name": "Python 3 (ipykernel)",
   "language": "python",
   "name": "python3"
  },
  "language_info": {
   "codemirror_mode": {
    "name": "ipython",
    "version": 3
   },
   "file_extension": ".py",
   "mimetype": "text/x-python",
   "name": "python",
   "nbconvert_exporter": "python",
   "pygments_lexer": "ipython3",
   "version": "3.9.13"
  }
 },
 "nbformat": 4,
 "nbformat_minor": 5
}
