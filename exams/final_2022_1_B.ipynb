{
 "cells": [
  {
   "cell_type": "markdown",
   "id": "a26af8d5",
   "metadata": {},
   "source": [
    "## Engineering Mathematics I (161006-21002) - Final Exam.\n",
    "May 31, 2022"
   ]
  },
  {
   "cell_type": "markdown",
   "id": "f492a544",
   "metadata": {},
   "source": [
    "**1[25].** The equation\n",
    "\n",
    "> $\\displaystyle y'' -2xy' +2\\alpha y=0,$\n",
    "\n",
    "   where $\\alpha$ is a constant, is called the *Hermite* equation.\n",
    "  \n",
    "  (a)$~$ Find two linearly independent solutions for $-\\infty < x <\\infty$\n",
    "  \n",
    "  (b)$~$ Show that there is a polynomial solution of degree $n$, in case $\\alpha=n$ is a non-negative integer\n",
    "$~$\n",
    "\n",
    "$~$"
   ]
  },
  {
   "cell_type": "markdown",
   "id": "67560fc1",
   "metadata": {},
   "source": [
    "**2[25].** $~$ Find the general solution of the differential equation on the interval $(0, \\infty)$\n",
    "\n",
    "> $\\displaystyle x y'' +y=0$ \n",
    "\n",
    "Hint) $~$Use the substitution $\\displaystyle y(x)=\\sqrt{x}u(x)$, $~2\\sqrt{x}=z$\n",
    "\n",
    "$~$\n",
    "\n",
    "$~$"
   ]
  },
  {
   "cell_type": "markdown",
   "id": "717470bb",
   "metadata": {
    "slideshow": {
     "slide_type": "slide"
    }
   },
   "source": [
    "**3[10].** $~$ Find the parametric equation for the line of intersection of the given planes\n",
    "\n",
    "> $\\begin{align*}\n",
    " 5x - 4y -9z &= 8 \\\\ \n",
    " x + 4y +3z &= 4 \n",
    "\\end{align*}$  \n",
    "\n",
    "\n",
    "$~$\n",
    "\n",
    "$~$"
   ]
  },
  {
   "cell_type": "markdown",
   "id": "8d4ac247",
   "metadata": {},
   "source": [
    "**4[15].** $~$Determine whether the set of vectors $S= \\{ \\left \\langle a_1, 0, a_3 \\right \\rangle\\;|\\; \\;a_1, a_3 \\;\\text{are real numbers}\\}$ is a subspace of $\\mathbb{R}^3$ by defining appropriate addition and scalar multiplication\n",
    "\n",
    "$~$\n",
    "\n",
    "$~$"
   ]
  },
  {
   "cell_type": "markdown",
   "id": "f3cb2812",
   "metadata": {},
   "source": [
    "**5[25].** $~$Identify the given conic section. Graph\n",
    "\n",
    "> $16x^2 + 24xy + 9y^2 +2x -y=0$\n",
    "\n",
    "$~$\n",
    "\n",
    "$~$"
   ]
  }
 ],
 "metadata": {
  "kernelspec": {
   "display_name": "Python 3 (ipykernel)",
   "language": "python",
   "name": "python3"
  },
  "language_info": {
   "codemirror_mode": {
    "name": "ipython",
    "version": 3
   },
   "file_extension": ".py",
   "mimetype": "text/x-python",
   "name": "python",
   "nbconvert_exporter": "python",
   "pygments_lexer": "ipython3",
   "version": "3.8.12"
  }
 },
 "nbformat": 4,
 "nbformat_minor": 5
}
