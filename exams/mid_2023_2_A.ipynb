{
 "cells": [
  {
   "cell_type": "markdown",
   "metadata": {},
   "source": [
    "## Engineering Mathematics II (161007-21003) - Mid. Exam.\n",
    "October 25, 2023"
   ]
  },
  {
   "cell_type": "markdown",
   "metadata": {},
   "source": [
    "**1[15].** $\\phantom{1}$ Find the tangential and normal components of acceleration for the path:\n",
    "\n",
    "> $\\displaystyle \\mathbf{x}(t) = \\left(t, t, t^2 \\right)$\n"
   ]
  },
  {
   "cell_type": "markdown",
   "metadata": {},
   "source": [
    "**2[15].** $\\phantom{1}$ Let $\\mathbf{r} = x \\mathbf{i} + y \\mathbf{j} + z \\mathbf{k}$ and $r$ denote $\\| \\mathbf{r} \\|$. Evaluate the following:\n",
    "\n",
    "> $\\nabla \\cdot (r^n \\mathbf{r})$"
   ]
  },
  {
   "cell_type": "markdown",
   "metadata": {},
   "source": [
    "**3[20].** $\\phantom{1}$ Let $\\mathbf{v} = u(x,y) \\mathbf{i} - v(x,y) \\mathbf{j}$ be an **incompressible**, **irrotational** velocity field\n",
    "\n",
    "> (a) Show that the functions $u$ and $v$ (which determine the component functions of $\\mathbf{v}$) satisfy the **Cauchy-Riemann equations**\n",
    "\n",
    "  $$\\frac{\\partial u}{\\partial x} = \\frac{\\partial v}{\\partial y}\\,\\; \\text{and}\\; \\,\n",
    "  \\frac{\\partial u}{\\partial y} = -\\frac{\\partial v}{\\partial x}$$\n",
    "\n",
    "> (b) Show that $u$ and $v$ are **harmonic**, that is, that\n",
    "\n",
    "  $$\\frac{\\partial^2 u}{\\partial x^2} + \\frac{\\partial^2 u}{\\partial y^2}=0\\, \\;\\text{and}\\; \\,\n",
    "  \\frac{\\partial^2 v}{\\partial x^2} + \\frac{\\partial^2 v}{\\partial y^2} = 0$$\n"
   ]
  },
  {
   "cell_type": "markdown",
   "metadata": {},
   "source": [
    "**4[15].** $\\phantom{1}$ (a) $\\phantom{1}$Find the Fourier series of $f$ on the given interval\n",
    "\n",
    "$$f(x) = |x|, \\;\\;-\\pi \\le x \\le \\pi$$\n",
    "\n",
    "> (b) $\\phantom{1}$Use the result of (a) and Parseval's Theorem to evaluate the following series:\n",
    "\n",
    "$$ 1 + \\frac{1}{3^4} + \\frac{1}{5^4} + \\frac{1}{7^4} + \\cdots$$\n",
    "\n",
    "\n",
    "> **Parseval's Theorem** $\\phantom{1}$If $f$ is piecewise continuous, of period $2\\pi$, then\n",
    "\n",
    "$$\\frac{1}{\\pi} \\int_0^{2\\pi} \\left[ f(x) \\right]^2 \\,dx = \\frac{1}{2}a_0^2 + \\sum_{n=1}^\\infty \\left( a_n^2 + b_n^2 \\right)$$\n",
    "\n",
    "> where $a_0$, $a_n$, and $b_n$ are Fourier coefficients"
   ]
  },
  {
   "cell_type": "markdown",
   "metadata": {},
   "source": [
    "**5[15].** $\\phantom{1}$ (a) Find the eigenvalues and eigenfunctions of the boundary-value problem\n",
    "\n",
    "> $y''+y'+\\lambda y=0, \\;y(0)=0, \\; y(2)=0$\n",
    "\n",
    "> (b) Put the differential equation in self-adjoint form\n",
    "\n",
    "> (c) Give an orthogonality condition"
   ]
  },
  {
   "cell_type": "markdown",
   "metadata": {},
   "source": [
    "**6[20].** $\\phantom{1}$ Expand $f(x)=x^4$, $-1<x<1$ in a Fourier-Legendre series"
   ]
  }
 ],
 "metadata": {
  "kernelspec": {
   "display_name": "Python 3 (ipykernel)",
   "language": "python",
   "name": "python3"
  },
  "language_info": {
   "codemirror_mode": {
    "name": "ipython",
    "version": 3
   },
   "file_extension": ".py",
   "mimetype": "text/x-python",
   "name": "python",
   "nbconvert_exporter": "python",
   "pygments_lexer": "ipython3",
   "version": "3.9.18"
  }
 },
 "nbformat": 4,
 "nbformat_minor": 4
}
