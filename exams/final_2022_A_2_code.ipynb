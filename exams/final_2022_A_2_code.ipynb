{
 "cells": [
  {
   "cell_type": "code",
   "execution_count": null,
   "id": "3aa467cd",
   "metadata": {},
   "outputs": [],
   "source": [
    "import numpy as np\n",
    "import matplotlib.pyplot as plt\n",
    "from matplotlib import animation, rc\n",
    "\n",
    "# 레티나 디스플레이를 지원\n",
    "%config InlineBackend.figure_format = 'retina'  \n",
    "\n",
    "from IPython.display import HTML\n",
    "rc('animation', html='jshtml')\n",
    "\n",
    "# https://miktex.org/download에서 miktex을 다운로드 받아 설치 필요 - Windows OS\n",
    "# https://tug.org/mactex/mactex에서 MacTex를 다운로드 받아 설치 필요 - macOS \n",
    "plt.rcParams['text.usetex'] = True\n",
    "plt.rcParams['text.latex.preamble'] = r'\\usepackage{amsmath}'\n",
    "# 만약 miktex을 설치하지 않았다면 위의 2줄을 주석 처리할 것\n",
    "\n",
    "plt.rcParams['font.size'] = 18\n",
    "plt.rcParams['xtick.direction'] = 'in'\n",
    "plt.rcParams['ytick.direction'] = 'in'"
   ]
  },
  {
   "cell_type": "code",
   "execution_count": null,
   "id": "6b1828be",
   "metadata": {},
   "outputs": [],
   "source": [
    "fig = plt.figure(figsize=(9, 6))\n",
    "ax = plt.axes(xlim=(0, 10), ylim=(-0.75, 0.75))\n",
    "\n",
    "ax.set_xticks([0, 2.5, 5, 7.5, 10])\n",
    "ax.set_yticks([-0.75, -0.5, -0.25, 0.0, 0.25, 0.5, 0.75])\n",
    "ax.set_xlabel('$x$')\n",
    "ax.set_ylabel('$u(x,t)$')\n",
    "\n",
    "plt.close()\n",
    "\n",
    "time_text = ax.text(2.2, 1.3, '')\n",
    "line, = ax.plot([], [], lw=2)\n",
    "def init():\n",
    "    time_text.set_text('t = 0.0')\n",
    "    line.set_data([], [])\n",
    "    return (line,)"
   ]
  },
  {
   "cell_type": "code",
   "execution_count": null,
   "id": "b0d45d94",
   "metadata": {},
   "outputs": [],
   "source": [
    "c = 1\n",
    "def f_i(x):\n",
    "    u = x * np.exp(-x**2)\n",
    "    return u\n",
    "    \n",
    "def animate(t):\n",
    "    time_text.set_text('t = %3.1f' % t)        \n",
    "    xx = np.linspace(0, 10, 400)   \n",
    "    uu = np.zeros_like(xx)\n",
    "    \n",
    "    for i, x in enumerate(xx):\n",
    "        ch1 = x +c*t\n",
    "        ch2 = x -c*t\n",
    "        uu[i] = 0.5*(f_i(ch1) +f_i(ch2))        \n",
    "#         if ch2 >= 0:\n",
    "#             uu[i] = 0.5*(f_i(ch1) +f_i(ch2))\n",
    "#         else:\n",
    "#             uu[i] = 0.5*(f_i(ch1) -f_i(-ch2))\n",
    "                       \n",
    "    line.set_data(xx, uu)\n",
    "    return (line,)"
   ]
  },
  {
   "cell_type": "code",
   "execution_count": null,
   "id": "5e2c9410",
   "metadata": {},
   "outputs": [],
   "source": [
    "tt = list(np.linspace(0, 10, 100))\n",
    "anim = animation.FuncAnimation(fig, animate, init_func=init, frames=tt, interval=250, blit=True)"
   ]
  }
 ],
 "metadata": {
  "kernelspec": {
   "display_name": "Python 3 (ipykernel)",
   "language": "python",
   "name": "python3"
  },
  "language_info": {
   "codemirror_mode": {
    "name": "ipython",
    "version": 3
   },
   "file_extension": ".py",
   "mimetype": "text/x-python",
   "name": "python",
   "nbconvert_exporter": "python",
   "pygments_lexer": "ipython3",
   "version": "3.8.12"
  }
 },
 "nbformat": 4,
 "nbformat_minor": 5
}
