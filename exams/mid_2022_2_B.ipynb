{
 "cells": [
  {
   "cell_type": "markdown",
   "metadata": {},
   "source": [
    "[![Open In Colab](https://colab.research.google.com/assets/colab-badge.svg)](https://colab.research.google.com/github/SeoulTechPSE/EngMath/blob/master/exams/mid_2022_2_B.ipynb)"
   ]
  },
  {
   "cell_type": "markdown",
   "metadata": {},
   "source": [
    "## Engineering Mathematics I (161007-21002) - Mid. Exam.\n",
    "October 24, 2022"
   ]
  },
  {
   "cell_type": "markdown",
   "metadata": {},
   "source": [
    "**1[20].** $~$ Evaluate the surface integral $\\displaystyle\\iint_S G(x, y, z) \\,dS$:\n",
    "\n",
    "> $G(x,y,z) = \\left(1 - x^2 -y^2 \\right )^{3/2}$\n",
    "\n",
    "> where $S$ is the hemisphere $z=\\left( 1 - x^2 -y^2 \\right)^{1/2}$"
   ]
  },
  {
   "cell_type": "markdown",
   "metadata": {},
   "source": [
    "**2[10].** $~$ Is it possible to write $\\mathbf{G}=\\nabla \\times \\mathbf{H}$? In the case where it is possible, find $\\mathbf{H}$\n",
    "\n",
    "> $\\mathbf{G}=2x\\mathbf{i} -y\\mathbf{j} +z\\mathbf{k}$"
   ]
  },
  {
   "cell_type": "markdown",
   "metadata": {},
   "source": [
    "**3[20].** $~$ Neihter of the following functions is smooth everywhere. Nonetheless each can be written as the gradient of a scalar function. Find that scalar function:\n",
    "\n",
    "> (a) $~\\displaystyle\\mathbf{F}=\\frac{\\mathbf{r}}{r^2}$, $~\\mathbf{r}=x\\mathbf{i} + y\\mathbf{j}$\n",
    "\n",
    "> (b) $~\\displaystyle\\mathbf{F}=\\frac{\\mathbf{r}}{r^{1/2}}$, $~\\mathbf{r}=x\\mathbf{i} + y\\mathbf{j} + z\\mathbf{k}$"
   ]
  },
  {
   "cell_type": "markdown",
   "metadata": {},
   "source": [
    "**4[30].** $~$ (a) $~$Find the Fourier series of $f$ on the given interval\n",
    "\n",
    "> $f(x) = \\left| x \\right|, \\;\\;-\\pi \\le x \\le \\pi$\n",
    "\n",
    "$~\\;\\;\\;\\;$(b) $~$Use the result of (a) and Parseval's Theorem to evaluate the following series:\n",
    "\n",
    "> $\\displaystyle 1 + \\frac{1}{3^4} + \\frac{1}{5^4} + \\frac{1}{7^4} + \\cdots$\n",
    "\n",
    "\n",
    "> **Parseval's Theorem** $~$If $f$ is piecewise continuous, of period $2\\pi$, then\n",
    "\n",
    "> $\\displaystyle\\frac{1}{\\pi} \\int_0^{2\\pi} \\left[ f(x) \\right]^2 \\,dx = \\frac{1}{2}a_0^2 + \\sum_{n=1}^\\infty \\left( a_n^2 + b_n^2 \\right)$\n",
    "\n",
    "> where $a_0$, $a_n$, and $b_n$ are Fourier coefficients"
   ]
  },
  {
   "cell_type": "markdown",
   "metadata": {},
   "source": [
    "**5[20].** $~$ Find all solutions of the problem\n",
    "\n",
    "> $y'' + \\lambda y = 0, \\;\\;y(0)+y'(0)=0, \\;y(2\\pi) + y'(2\\pi) = 0$"
   ]
  }
 ],
 "metadata": {
  "kernelspec": {
   "display_name": "Python 3 (ipykernel)",
   "language": "python",
   "name": "python3"
  },
  "language_info": {
   "codemirror_mode": {
    "name": "ipython",
    "version": 3
   },
   "file_extension": ".py",
   "mimetype": "text/x-python",
   "name": "python",
   "nbconvert_exporter": "python",
   "pygments_lexer": "ipython3",
   "version": "3.8.12"
  }
 },
 "nbformat": 4,
 "nbformat_minor": 4
}
