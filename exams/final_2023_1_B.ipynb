{
 "cells": [
  {
   "cell_type": "markdown",
   "id": "a26af8d5",
   "metadata": {},
   "source": [
    "### Engineering Mathematics I (161006-21004) - Final Exam.\n",
    "May 31, 2023"
   ]
  },
  {
   "cell_type": "markdown",
   "id": "f492a544",
   "metadata": {},
   "source": [
    "**1[25].** The equation\n",
    "\n",
    "> $\\displaystyle y'' -2xy' +2\\alpha y=0,$\n",
    "\n",
    "   where $\\alpha$ is a constant, is called the *Hermite* equation.\n",
    "  \n",
    "  (a)$~$ Find two linearly independent solutions for $-\\infty < x <\\infty$\n",
    "  \n",
    "  (b)$~$ Show that there is a polynomial solution of degree $n$, in case $\\alpha=n$ is a non-negative integer\n",
    "$~$\n",
    "\n",
    "$~$"
   ]
  },
  {
   "cell_type": "markdown",
   "id": "3b9d888f",
   "metadata": {},
   "source": [
    "**2[15].** $~$ Find the general solution of the differential equation on the interval $(0, \\infty)$\n",
    "\n",
    "> $\\displaystyle x^2 y'' +2x y'+\\left(\\alpha^2x^2 -n(n+1)\\right)y=0, \\;\\;$ $n$ is an integer \n",
    "\n",
    "Hint) $~$Use the substitution $\\displaystyle y(x)=\\frac{1}{\\sqrt{x}}z(x)$\n",
    "$~$\n",
    "\n",
    "$~$"
   ]
  },
  {
   "cell_type": "markdown",
   "id": "7f84baf3",
   "metadata": {},
   "source": [
    "**3[15].** $~$ The set of vectors $\\{ \\mathbf{u}_1, \\mathbf{u}_2, \\mathbf{u}_3 \\}$, where\n",
    "\n",
    "> $\\mathbf{u}_1=\\left \\langle 1, 1, 3 \\right \\rangle, \\; \\mathbf{u}_2=\\left \\langle 1,4,1 \\right \\rangle, \\;\\text{and}\\; \\mathbf{u}_3=\\left \\langle 1,10,-3 \\right \\rangle$\n",
    "\n",
    "is linearly dependent in $\\mathbb{R}^3$. Carry out the Gram-Schmidt orthogonalization process and then discuss that result.\n",
    "$~$\n",
    "\n",
    "$~$"
   ]
  },
  {
   "cell_type": "markdown",
   "id": "0662a54d",
   "metadata": {},
   "source": [
    "**4[15].** $~$ Use Cramer's rule to determine the solution of the system\n",
    "\n",
    "> $\\begin{matrix}\n",
    " (2-k) x_1&  +  & kx_2 & = &4 \\\\ \n",
    " k x_1 & + & (3-k) x_2  & = &3 \n",
    "\\end{matrix}$\n",
    "\n",
    "For what value(s) of $k$ is the system inconsistent?\n",
    "\n",
    "$~$"
   ]
  },
  {
   "cell_type": "markdown",
   "id": "717470bb",
   "metadata": {
    "slideshow": {
     "slide_type": "slide"
    }
   },
   "source": [
    "**5[30].** $~$ Simplify the following equations of quadric surfaces in three-dimensional space, and give the corresponding coordinate tranformations:\n",
    "\n",
    "> $5x^2 + 6y^2 +7z^2 -4xy +4yz -10x +8y +14z -6=0$\n",
    "$~$\n",
    "\n",
    "$~$"
   ]
  }
 ],
 "metadata": {
  "kernelspec": {
   "display_name": "Python 3 (ipykernel)",
   "language": "python",
   "name": "python3"
  },
  "language_info": {
   "codemirror_mode": {
    "name": "ipython",
    "version": 3
   },
   "file_extension": ".py",
   "mimetype": "text/x-python",
   "name": "python",
   "nbconvert_exporter": "python",
   "pygments_lexer": "ipython3",
   "version": "3.9.13"
  }
 },
 "nbformat": 4,
 "nbformat_minor": 5
}
