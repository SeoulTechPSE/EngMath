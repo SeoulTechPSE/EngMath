{
 "cells": [
  {
   "cell_type": "markdown",
   "id": "c8a295c0",
   "metadata": {},
   "source": [
    "## Engineering Mathematics I (161006-21002) - Mid. Exam.\n",
    "April 13, 2022"
   ]
  },
  {
   "cell_type": "markdown",
   "id": "c1f28567",
   "metadata": {},
   "source": [
    "**1[10].** $~$Find a solution of $x\\frac{dy}{dx}=y^2 - y$ that passes through the indicated point $(2, \\frac{1}{4})$\n",
    "\n",
    "$~$\n",
    "**solution**\n",
    "\n",
    "\\begin{align*}\n",
    " \\left( \\frac{1}{y-1} -\\frac{1}{y} \\right )\\,dy &= \\frac{1}{x} \\,dx\\\\ \n",
    " \\ln \\left| 1-\\frac{1}{y} \\right|&= \\ln |x| +C \\\\ \n",
    " &\\Downarrow \\,\\, y(2)=\\frac{1}{4}, \\,\\,  C= \\ln \\frac{3}{2}\\\\ \n",
    " \\left| 1-\\frac{1}{y} \\right|&= \\left|\\frac{3}{2}x\\right| \\\\\n",
    " &\\Downarrow \\\\\n",
    " y = \\frac{2}{3x+2}, \\;\\;&x > 0, \\;\\;y < 1\n",
    "\\end{align*}"
   ]
  },
  {
   "cell_type": "markdown",
   "id": "937ecce5",
   "metadata": {},
   "source": [
    "**2[10].** $~$Find a general solution of the equation $dx=(x + y^2)dy$\n",
    "\n",
    "$~$\n",
    "**solution**\n",
    "\n",
    "\\begin{align*}\n",
    " \\frac{dx}{dy} -x &= y^2 \\\\ \n",
    " &\\Downarrow \\;\\times \\,e^{-y} \\\\ \n",
    " \\frac{d}{dy} \\left( xe^{-y} \\right ) &= y^2 e^{-y} \\\\ \n",
    " x e^{-y} &= \\int y^2 e^{-y}\\, dy +C \\\\ \n",
    " &\\Downarrow \\\\\n",
    " x &= Ce^y +e^y \\int y^2 e^{-y}\\, dy  \n",
    "\\end{align*}"
   ]
  },
  {
   "cell_type": "markdown",
   "id": "4b74f6de",
   "metadata": {},
   "source": [
    "**3[10].** $~$Solve $(4t^3y-15t^2 -y)dt +(t^4+3y^2-t)dy=0$\n",
    "\n",
    "$~$\n",
    "**solution**\n",
    "\n",
    "$$\\displaystyle\\frac{\\partial M}{\\partial y} = 4t^3-1, \\;\\; \\frac{\\partial N}{\\partial t} = 4t^3 -1$$\n",
    "\n",
    "\\begin{align*}\n",
    " \\frac{\\partial f}{\\partial t} &= 4t^3 y - 15t^2 -y \\\\ \n",
    " & \\Downarrow \\\\ \n",
    " f &= t^4y -5t^3 -yt +h(y) = C \\\\ \n",
    "   & \\Downarrow \\\\ \n",
    " \\frac{\\partial f}{\\partial y} &= t^4 -t +\\frac{dh}{dy} \\;\\; \\Rightarrow \\;\\; \\frac{dh}{dy}=3y^2, \\;\\;h=y^3 \\\\\n",
    " & \\Downarrow \\\\\n",
    " f  &= t^4y -5t^3 -yt +y^3=C \n",
    "\\end{align*}"
   ]
  },
  {
   "cell_type": "markdown",
   "id": "f2b9a9e7",
   "metadata": {},
   "source": [
    "**4[10].** $~$Solve $~\\displaystyle 2xyy' +y^2 =2x^2$\n",
    "\n",
    "$~$\n",
    "**solution**\n",
    "\n",
    "\\begin{align*}\n",
    " \\frac{dy}{dx} +\\frac{1}{2x}y &= \\frac{x}{y} \\\\ \n",
    " &\\Downarrow \\;\\;u=y^2, \\;\\;\\frac{du}{dx} = 2y \\frac{dy}{dx} \\\\ \n",
    " \\frac{1}{2y} \\frac{du}{dx} +\\frac{1}{2x} y &= \\frac{x}{y} \\\\ \n",
    " \\frac{du}{dx} +\\frac{1}{x}u &= 2x \\\\ \n",
    " &\\Downarrow \\\\\n",
    " \\frac{d}{dx} (xu) &=2x^2 \\\\\n",
    " xu &= \\frac{2}{3} x^3 +C \\\\\n",
    " & \\Downarrow \\\\\n",
    " y^2 &= \\frac{2}{3} x^2 +\\frac{C}{x}\n",
    "\\end{align*}"
   ]
  },
  {
   "cell_type": "markdown",
   "id": "f0edd1ea",
   "metadata": {},
   "source": [
    "**5[15].** $~$Solve $~2y'' + 2y' + y = \\sin x$\n",
    "\n",
    "$~$\n",
    "**solution**\n",
    "\n",
    "\\begin{align*}\n",
    " 2y_h'' +2y_h' +y_h &= 0 \\;\\;\\Rightarrow \\;\\;y_1=e^{-\\frac{1}{2}x}\\cos \\frac{1}{\\sqrt{2}}x, \\;\\;y_2=e^{-\\frac{1}{2}x}\\sin \\frac{1}{\\sqrt{2}}x \\\\ \n",
    " 2y_{p}'' +2y_{p}' +y_{p} &= \\sin x\\;\\;\\Rightarrow \\;\\; y_{p} =-\\frac{1}{5}\\sin x -\\frac{2}{5} \\cos x \\\\ \n",
    " &\\Downarrow \\\\ \n",
    " y &= c_1 e^{-\\frac{1}{2}x}\\cos \\frac{1}{\\sqrt{2}}x +c_2 e^{-\\frac{1}{2}x}\\sin \\frac{1}{\\sqrt{2}}x -\\frac{1}{5}\\sin x -\\frac{2}{5} \\cos x\n",
    "\\end{align*}"
   ]
  },
  {
   "cell_type": "markdown",
   "id": "4733cea6",
   "metadata": {},
   "source": [
    "**6[15].** Solve $x^2y'' -xy' + y = x^3$\n",
    "\n",
    "$~$\n",
    "**solution**\n",
    "\n",
    "\\begin{align*}\n",
    " x^2 y_h'' -xy_h' +y_h &= 0 \\;\\;\\Rightarrow \\;\\;y_1 = x, \\;\\;y_2=x\\ln x \\\\ \\\\\n",
    " W &= \\begin{vmatrix}\n",
    "        x & x\\ln x\\\\ \n",
    "        1 & \\ln x +1\n",
    "      \\end{vmatrix} = x\\\\ \n",
    " W_1 &= \\begin{vmatrix}\n",
    "          0 & x\\ln x\\\\ \n",
    "          x & \\ln x +1\n",
    "        \\end{vmatrix} = -x^2\\ln x\\\\ \n",
    " W_2 &= \\begin{vmatrix}\n",
    "           x & 0\\\\ \n",
    "           1 & x \n",
    "        \\end{vmatrix} = x^2 \\\\ \n",
    " &\\Downarrow \\\\\n",
    " u_1 &= \\int \\frac{W_1}{W} \\,dx =-\\frac{1}{2} x^2 \\ln x +\\frac{1}{4} x^2 \\\\\n",
    " u_2 &= \\int \\frac{W_2}{W} \\,dx =  \\frac{1}{2} x^2 \\\\ \n",
    " &\\Downarrow \\\\\n",
    " y &= c_1 x +c_2 x \\ln x +\\frac{1}{4} x^3\n",
    "\\end{align*}"
   ]
  },
  {
   "cell_type": "markdown",
   "id": "960169ab",
   "metadata": {},
   "source": [
    "**7[15].** $~$Solve\n",
    "\n",
    "> $\\begin{align*}\n",
    " x'' + y'' &= e^{2t}\\\\ \n",
    " x' + y'' &= -e^{2t}\n",
    "\\end{align*} ~\\text{ at }  x(0)=0, x'(0)=0, y(0)=0, y'(0)=0$\n",
    "\n",
    "$~$\n",
    "**solution**\n",
    "\n",
    "\\begin{align*}\n",
    " x^2X +s^2Y&= \\frac{1}{s-2}\\\\ \n",
    " sX+s^2Y &=-\\frac{1}{s-2} \\\\ \n",
    " &\\Downarrow \\\\ \n",
    " X(s) &= \\frac{2}{s(s-1)(s-2)} =\\frac{1}{s} -\\frac{2}{s-1} +\\frac{1}{s-2} \\\\ \n",
    " Y(s) &= \\frac{1}{s^2(s-2)} -X(s)=-\\frac{1}{4} \\cdot \\frac{1}{s} -\\frac{1}{2} \\cdot\\frac{1}{s^2}+\\frac{1}{4}\\cdot\\frac{1}{s-2} -X(s) \\\\\n",
    " &\\Downarrow \\\\\n",
    " x(t) &= 1 -2e^t +e^{2t} \\\\\n",
    " y(t) &=-\\frac{5}{4}-\\frac{1}{2}\\cdot t +2e^t -\\frac{3}{4} e^{2t}\n",
    "\\end{align*}"
   ]
  },
  {
   "cell_type": "markdown",
   "id": "e17492b4",
   "metadata": {},
   "source": [
    "**8[15].** Reduce the given differential equation to a linear first-order DE in the transformed function $Y(s)=\\mathcal{L}\\{y(t)\\}$. Solve the first-order DE and then find $y(t)$. Note: Your solution may contain an arbitrary constant:\n",
    "\n",
    "> $ty'' -y' = 2t^2, \\;y(0)=y'(0)=0$\n",
    "\n",
    "$~$\n",
    "**solution**\n",
    "\n",
    "\\begin{align*}\n",
    " \\mathcal{L} [ ty''] - \\mathcal{L} [y' ] &= 2\\mathcal{L}[t^2] \\\\ \n",
    " -\\frac{d}{ds} \\left (s^2Y \\right ) -sY &= \\frac{4}{s^3} \\\\ \n",
    " &\\Downarrow \\\\ \n",
    " \\frac{d}{ds}\\left( s^3Y \\right ) &= -\\frac{4}{s^2} \\\\ \n",
    " Y(s) &= \\frac{4}{s^4} + \\frac{C}{s^3} \\\\\n",
    "  &\\Downarrow \\\\\n",
    " y(t) &=\\frac{2}{3}t^3 +\\frac{C}{2} t^2 \n",
    "\\end{align*}"
   ]
  }
 ],
 "metadata": {
  "kernelspec": {
   "display_name": "Python 3 (ipykernel)",
   "language": "python",
   "name": "python3"
  },
  "language_info": {
   "codemirror_mode": {
    "name": "ipython",
    "version": 3
   },
   "file_extension": ".py",
   "mimetype": "text/x-python",
   "name": "python",
   "nbconvert_exporter": "python",
   "pygments_lexer": "ipython3",
   "version": "3.8.12"
  }
 },
 "nbformat": 4,
 "nbformat_minor": 5
}
