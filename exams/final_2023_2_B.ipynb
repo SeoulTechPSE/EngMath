{
 "cells": [
  {
   "cell_type": "markdown",
   "metadata": {},
   "source": [
    "## Engineering Mathematics II (161007-21005) - Final Exam.\n",
    "December 13, 2023"
   ]
  },
  {
   "cell_type": "markdown",
   "metadata": {},
   "source": [
    "**1[25].** $~$ Solve the problem\n",
    "\n",
    "$$\n",
    "\\begin{align*}\n",
    " u_t &= u_{xx} -u + x, \\;\\;0<x<1, \\;\\; 0<t<\\infty\\\\ \n",
    " &u(0,t)=0\\\\ \n",
    " &u(1,t)=1\\\\ \n",
    " &u(x,0)=0 \n",
    "\\end{align*}\n",
    "$$\n",
    "\n",
    "> by\n",
    "\n",
    "> (a) changing the nonhomogeneous BCs to homogeneous ones.\n",
    "\n",
    "> (b) transforming into a new equation without the term $-u$.\n",
    "\n",
    "> (c) solving the resulting problem."
   ]
  },
  {
   "cell_type": "markdown",
   "metadata": {},
   "source": [
    "**2[25].** $~$ Suppose the vibration of a string is described by $u_{tt}=u_{xx}$ and has an initial displacement as given by the following diagram:\n",
    "\n",
    "\n",
    "![fig](./figs/2023_final_2_B_2.jpg)\n",
    "\n",
    "> Assuming the initial velocity $u_t(x,0)=0$, describe the solution of this problem in the $xt$-plane."
   ]
  },
  {
   "cell_type": "markdown",
   "metadata": {},
   "source": [
    "**3[25].** $~$ Solve the Dirichlet problem in a circle:\n",
    "$$\n",
    "\\begin{align*}\n",
    " \\nabla^2 u &= 0, \\;\\;1 < r < 2 \\\\ \n",
    " u(1,\\theta) &=  \\frac{1}{2} + \\cos\\theta\\\\ \n",
    " u(2,\\theta) &= 1 + \\sin\\theta \n",
    "\\end{align*}\n",
    "$$"
   ]
  },
  {
   "cell_type": "markdown",
   "metadata": {},
   "source": [
    "**4[25].** $~$ 아래에 주어진 3차원 구에서의 Laplace 방정식 해를 설명하시오.\n",
    "\n",
    "$$\n",
    "\\begin{align*}\n",
    " \\nabla^2 u &= 0, \\;r<1 \\\\ \n",
    " u(1,\\phi,\\theta) &= g(\\phi,\\theta) \n",
    "\\end{align*}\n",
    "$$"
   ]
  }
 ],
 "metadata": {
  "kernelspec": {
   "display_name": "Python 3 (ipykernel)",
   "language": "python",
   "name": "python3"
  },
  "language_info": {
   "codemirror_mode": {
    "name": "ipython",
    "version": 3
   },
   "file_extension": ".py",
   "mimetype": "text/x-python",
   "name": "python",
   "nbconvert_exporter": "python",
   "pygments_lexer": "ipython3",
   "version": "3.9.18"
  }
 },
 "nbformat": 4,
 "nbformat_minor": 4
}
