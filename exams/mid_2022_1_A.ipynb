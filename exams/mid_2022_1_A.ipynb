{
 "cells": [
  {
   "cell_type": "markdown",
   "id": "a26af8d5",
   "metadata": {},
   "source": [
    "## Engineering Mathematics I (161006-21001) - Mid. Exam.\n",
    "April 11, 2022"
   ]
  },
  {
   "cell_type": "markdown",
   "id": "f492a544",
   "metadata": {},
   "source": [
    "**1[10].** $~$Solve\n",
    "\n",
    "> $\\displaystyle \\frac{dy}{dx}=\\frac{xy+3x-y-3}{xy -2x +4y-8}$\n",
    "\n",
    "$~$\n",
    "\n",
    "$~$"
   ]
  },
  {
   "cell_type": "markdown",
   "id": "67560fc1",
   "metadata": {},
   "source": [
    "**2[10].** $~$ Solve the given initial-value problem\n",
    "\n",
    "> $\\displaystyle y\\frac{dx}{dy} -x =2y^2, \\;\\;y(1)=5$\n",
    "\n",
    "$~$\n",
    "\n",
    "$~$"
   ]
  },
  {
   "cell_type": "markdown",
   "id": "717470bb",
   "metadata": {},
   "source": [
    "**3[10].** $~$ Solve $\\cos x dx + \\left( 1+\\frac{2}{y} \\right)\\sin x dy=0$\n",
    "\n",
    "$~$\n",
    "\n",
    "$~$"
   ]
  },
  {
   "cell_type": "markdown",
   "id": "8d4ac247",
   "metadata": {},
   "source": [
    "**4[10].** $~$Solve $~\\displaystyle \\frac{dy}{dx} = \\frac{x}{y} + \\frac{y}{x} +1$\n",
    "\n",
    "$~$\n",
    "\n",
    "$~$"
   ]
  },
  {
   "cell_type": "markdown",
   "id": "f3cb2812",
   "metadata": {},
   "source": [
    "**5[15].** $~$Solve $~y'' - 2y' + y = 4x^2 - 3 +x^{-1} e^x$\n",
    "\n",
    "$~$\n",
    "\n",
    "$~$"
   ]
  },
  {
   "cell_type": "markdown",
   "id": "ad89515e",
   "metadata": {},
   "source": [
    "**6[15].** Solve $x^2y'' -4xy' + 6y = 2x^4 + x^2$\n",
    "\n",
    "$~$\n",
    "\n",
    "$~$"
   ]
  },
  {
   "cell_type": "markdown",
   "id": "da779d82",
   "metadata": {},
   "source": [
    "**7[15].** $~$Solve\n",
    "\n",
    "> $\\begin{align*}\n",
    " x' + y' &= t\\\\ \n",
    " 4x + y' &= 0\n",
    "\\end{align*} ~\\text{ at }  x(0)=1, y(0)=2$\n",
    "\n",
    "$~$\n",
    "\n",
    "$~$"
   ]
  },
  {
   "cell_type": "markdown",
   "id": "5c81d569",
   "metadata": {},
   "source": [
    "**8[15].** $~$ One definition of the gamma function $\\Gamma(\\alpha)$ is given by the improper integral\n",
    "\n",
    "  >$\\displaystyle \\Gamma(\\alpha) =\\int_0^\\infty t^{\\alpha-1} e^{-t}\\,dt, \\;\\;\\alpha > 0$\n",
    "\n",
    "  > Use this definition to show that $\\Gamma(\\alpha + 1)=\\alpha \\Gamma(\\alpha)$ and show that\n",
    "  \n",
    "  >$\\displaystyle \\mathcal{L} \\{ t^\\alpha \\} = \\frac{\\Gamma (\\alpha+1)}{s^{\\alpha+1}}, \\;\\; \\alpha>-1$\n",
    "  "
   ]
  }
 ],
 "metadata": {
  "kernelspec": {
   "display_name": "Python 3 (ipykernel)",
   "language": "python",
   "name": "python3"
  },
  "language_info": {
   "codemirror_mode": {
    "name": "ipython",
    "version": 3
   },
   "file_extension": ".py",
   "mimetype": "text/x-python",
   "name": "python",
   "nbconvert_exporter": "python",
   "pygments_lexer": "ipython3",
   "version": "3.8.12"
  }
 },
 "nbformat": 4,
 "nbformat_minor": 5
}
