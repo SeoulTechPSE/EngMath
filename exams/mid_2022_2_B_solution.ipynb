{
 "cells": [
  {
   "cell_type": "markdown",
   "metadata": {
    "slideshow": {
     "slide_type": "skip"
    }
   },
   "source": [
    "[![Open In Colab](https://colab.research.google.com/assets/colab-badge.svg)](https://colab.research.google.com/github/SeoulTechPSE/EngMath/blob/master/exams/mid_2022_2_B_solution.ipynb)"
   ]
  },
  {
   "cell_type": "markdown",
   "metadata": {
    "slideshow": {
     "slide_type": "slide"
    }
   },
   "source": [
    "## Engineering Mathematics II (161007-21002) - Mid. Exam.\n",
    "October 24, 2022"
   ]
  },
  {
   "cell_type": "markdown",
   "metadata": {
    "slideshow": {
     "slide_type": "slide"
    }
   },
   "source": [
    "**1[20].** $~$ Evaluate the surface integral $\\displaystyle\\iint_S G(x, y, z) \\,dS$:\n",
    "\n",
    "> $G(x,y,z) = \\left(1 - x^2 -y^2 \\right )^{3/2}$\n",
    "\n",
    "> where $S$ is the hemisphere $z=\\left( 1 - x^2 -y^2 \\right)^{1/2}$"
   ]
  },
  {
   "cell_type": "markdown",
   "metadata": {
    "slideshow": {
     "slide_type": "slide"
    }
   },
   "source": [
    "> <font color=\"blue\">**Solution**</font>\n",
    "\n",
    "> Surface $S$: $f(x,y,z) = z - \\left( 1-x^2-y^2 \\right)^{1/2}, \\;\\;z \\ge 0$\n",
    "\n",
    "> Thus\n",
    "\n",
    "\\begin{align*}\n",
    " dS &= \\sqrt{1 + f_x^2 +f_y^2} \\;dA\\\\ \n",
    " &\\Big\\Downarrow \\;\\; f_x =\\frac{x}{\\sqrt{1-x^2 -y^2}}, \\;\\; f_y =\\frac{y}{\\sqrt{1-x^2 -y^2}}\\\\ \n",
    " dS &= \\frac{1}{\\sqrt{1-x^2 -y^2}}\\;dA \n",
    "\\end{align*}\n",
    "\n",
    "> Then\n",
    "\n",
    "\\begin{align*}\n",
    " \\iint_S \\left( 1 - x^2 - y^2 \\right)^{3/2} dS &= \\iint_R 1 -x^2 -y^2 \\;dA\\\\ \n",
    " &\\Big\\Downarrow \\;\\; x = r\\cos\\theta, \\;\\;y=r\\sin\\theta\\\\ \n",
    " &= \\int_0^1 \\left(1-r^2 \\right)  rdr \\int_0^{2\\pi}\\;d\\theta \\\\\n",
    " &= \\color{red}{\\frac{\\pi}{2}} \n",
    "\\end{align*}"
   ]
  },
  {
   "cell_type": "markdown",
   "metadata": {
    "slideshow": {
     "slide_type": "slide"
    }
   },
   "source": [
    "**2[10].** $~$ Is it possible to write $\\mathbf{G}=\\nabla \\times \\mathbf{H}$? In the case where it is possible, find $\\mathbf{H}$\n",
    "\n",
    "> $\\mathbf{G}=2x\\mathbf{i} -y\\mathbf{j} +z\\mathbf{k}$\n",
    "\n",
    "> <font color=\"blue\">**Solution**</font>\n",
    "\n",
    "\\begin{align*}\n",
    "\\mathbf{G} &= \\nabla \\times \\mathbf{H} \\\\ \n",
    " &\\Downarrow \\\\ \n",
    " \\nabla \\cdot \\mathbf{G} &= \\nabla \\cdot \\left( \\nabla \\times \\mathbf{H} \\right) = 0 \\\\\n",
    " &\\Downarrow \\;\\text{but} \\\\\n",
    " \\nabla \\cdot \\mathbf{G} &= 2 - 1 + 1 = 2 \\neq 0 \n",
    "\\end{align*}\n",
    "\n",
    "> <font color=\"red\">Then it is impossible to find $\\mathbf{H}$</font>"
   ]
  },
  {
   "cell_type": "markdown",
   "metadata": {
    "slideshow": {
     "slide_type": "slide"
    }
   },
   "source": [
    "**3[20].** $~$ Neihter of the following functions is smooth everywhere. Nonetheless each can be written as the gradient of a scalar function. Find that scalar function:\n",
    "\n",
    "> (a) $~\\displaystyle\\mathbf{F}=\\frac{\\mathbf{r}}{r^2}$, $~\\mathbf{r}=x\\mathbf{i} + y\\mathbf{j}$\n",
    "\n",
    "> <font color=\"blue\">**Solution**</font>\n",
    "\n",
    "\\begin{align*}\n",
    " \\nabla &\\times \\mathbf{F} = \\mathbf{0} \\\\\n",
    " &\\Downarrow \\\\\n",
    " \\mathbf{F} &= \\nabla \\phi =\\mathbf{i} \\frac{\\partial \\phi}{\\partial x}\n",
    "   +\\mathbf{j} \\frac{\\partial \\phi}{\\partial y}\\\\ \n",
    " &\\Downarrow \\\\ \n",
    " \\frac{\\partial \\phi}{\\partial x} &= \\frac{x}{x^2 +y^2}\\\\ \n",
    " &\\Downarrow \\\\ \n",
    " \\phi &= \\int \\frac{x}{x^2 +y^2}\\,dx + h(y) = \\frac{1}{2} \\ln \\left( x^2 + y^2 \\right) + h(y)\\\\ \n",
    " &\\Downarrow \\\\ \n",
    " \\frac{\\partial \\phi}{\\partial y} &= \\frac{y}{x^2 +y^2} + \\frac{dh}{dy} = \\frac{y}{x^2 +y^2} \\;\\;\\Rightarrow \\;\\; h = \\text{constant} \\\\\n",
    " &\\Downarrow \\\\\n",
    " \\color{red}{\\phi}\\; &\\;\\color{red}{= \\ln r +c}\n",
    "\\end{align*}\n",
    "\n",
    "> (b) $~\\displaystyle\\mathbf{F}=\\frac{\\mathbf{r}}{r^{1/2}}$, $~\\mathbf{r}=x\\mathbf{i} + y\\mathbf{j} + z\\mathbf{k}$\n",
    "\n",
    "> <font color=\"blue\">**Solution**</font>\n",
    "\n",
    "\\begin{align*}\n",
    " \\nabla &\\times \\mathbf{F} = \\mathbf{0} \\\\\n",
    " &\\Downarrow \\\\\n",
    " \\mathbf{F} &= \\nabla \\phi =\\mathbf{i} \\frac{\\partial \\phi}{\\partial x}\n",
    "   +\\mathbf{j} \\frac{\\partial \\phi}{\\partial y} +\\mathbf{k} \\frac{\\partial \\phi}{\\partial z}\n",
    "   =\\frac{x\\mathbf{i} + y\\mathbf{j} + z\\mathbf{k}}{\\left( x^2 + y^2 +z^2 \\right)^{1/4}}\\\\ \n",
    " &\\Downarrow \\\\ \n",
    " \\frac{\\partial \\phi}{\\partial x} &= \\frac{x}{\\left( x^2 + y^2 +z^2 \\right)^{1/4}}\\\\ \n",
    " &\\Downarrow \\\\ \n",
    " \\phi &= \\int \\frac{x}{\\left( x^2 + y^2 +z^2 \\right)^{1/4}}\\,dx + h(y,z) = \\frac{2}{3} \\left( x^2 + y^2 +z^2 \\right)^{3/4} + h(y,z)\\\\ \n",
    " &\\Downarrow \\\\ \n",
    " \\frac{\\partial \\phi}{\\partial y} &= \\frac{y}{\\left( x^2 + y^2 +z^2 \\right)^{1/4}} + \\frac{\\partial h}{\\partial y} = \\frac{y}{\\left( x^2 + y^2 +z^2 \\right)^{1/4}} \\;\\;\\Rightarrow \\;\\; h = h(z) \\\\\n",
    " &\\Downarrow \\\\ \n",
    " \\frac{\\partial \\phi}{\\partial z} &= \\frac{z}{\\left( x^2 + y^2 +z^2 \\right)^{1/4}} + \\frac{d h}{d z} = \\frac{z}{\\left( x^2 + y^2 +z^2 \\right)^{1/4}} \\;\\;\\Rightarrow \\;\\; h = \\text{constant} \\\\\n",
    " &\\Downarrow \\\\\n",
    " \\color{red}{\\phi}\\; &\\;\\color{red}{= \\frac{2}{3} r^{3/2} +c}\n",
    "\\end{align*}"
   ]
  },
  {
   "cell_type": "markdown",
   "metadata": {
    "slideshow": {
     "slide_type": "slide"
    }
   },
   "source": [
    "**4[30].** $~$ (a) $~$Find the Fourier series of $f$ on the given interval\n",
    "\n",
    "> $f(x) = \\left| x \\right|, \\;\\;-\\pi \\le x \\le \\pi$\n",
    "\n",
    "> <font color=\"blue\">**Solution**</font>\n",
    "\n",
    "\\begin{align*}\n",
    " f(x) &= \\frac{a_0}{2} + \\sum_{n=1}^\\infty \\left(a_n \\cos nx +b_n \\sin nx \\right )\\\\ \n",
    " &\\text{where} \\\\ \n",
    " &a_0 = \\frac{1}{\\pi} \\int_{-\\pi}^{\\pi} |x| \\,dx =\\frac{2}{\\pi} \\int_0^{\\pi}x\\,dx = \\pi \\\\ \n",
    " &a_n = \\frac{1}{\\pi} \\int_{-\\pi}^{\\pi} |x| \\cos nx \\,dx =\\frac{2}{\\pi} \\int_0^{\\pi}x\\cos nx \\,dx \n",
    "   =\\frac{2}{\\pi n^2} \\left((-1)^n -1 \\right)\\\\ \n",
    " &b_n = \\frac{1}{\\pi} \\int_{-\\pi}^{\\pi} |x| \\sin nx \\,dx = 0 \\\\\n",
    "  &\\;\\;\\;\\,\\Downarrow \\\\\n",
    " f(x) &= \\frac{\\pi}{2} + \\frac{2}{\\pi} \\sum_{n=1}^\\infty \\frac{(-1)^n - 1}{n^2} \\cos nx \\\\\n",
    "    &\\color{red}{= \\frac{\\pi}{2} -\\frac{4}{\\pi} \\sum_{m=1}^\\infty \\frac{1}{(2m-1)^2} \\cos (2m-1)x}\n",
    "\\end{align*}\n",
    "\n",
    "$~\\;\\;\\;\\;$(b) $~$Use the result of (a) and Parseval's Theorem to evaluate the following series:\n",
    "\n",
    "> $\\displaystyle 1 + \\frac{1}{3^4} + \\frac{1}{5^4} + \\frac{1}{7^4} + \\cdots$\n",
    "\n",
    "\n",
    "> **Parseval's Theorem** $~$If $f$ is piecewise continuous, of period $2\\pi$, then\n",
    "\n",
    "> $\\displaystyle\\frac{1}{\\pi} \\int_0^{2\\pi} \\left[ f(x) \\right]^2 \\,dx = \\frac{1}{2}a_0^2 + \\sum_{n=1}^\\infty \\left( a_n^2 + b_n^2 \\right)$\n",
    "\n",
    "> where $a_0$, $a_n$, and $b_n$ are Fourier coefficients\n",
    "\n",
    "> <font color=\"blue\">**Solution**</font>\n",
    "\n",
    "\\begin{align*}\n",
    "\\int_0^{2\\pi} f^2(x)\\,dx &= \\int_0^\\pi f^2(x)\\,dx + \\int_{\\pi}^{2\\pi} f^2(x)\\,dx \\\\\n",
    "  &\\;\\;\\;\\,\\Big\\Downarrow \\;\\; f(x) = f(x + 2\\pi) \\;\\rightarrow \\; f(-\\pi)=f(\\pi), \\;f(0)=f(2\\pi)\\\\\n",
    "  &= \\int_{-\\pi}^{\\pi} f^2(x)\\,dx \\\\\n",
    "  &= \\int_{-\\pi}^{\\pi} x^2 \\,dx = \\frac{2}{3} \\pi^3\\\\\n",
    "  &\\;\\;\\;\\,\\big\\Downarrow\\;\\; \\text{using Parseval's theorem} \\\\\n",
    " \\frac{2}{3}\\pi^2 &= \\frac{\\;\\pi^2}{2} + \\frac{16}{\\;\\pi^2} \\sum_{m=1}^\\infty \\frac{1}{(2m-1)^4} \\\\\n",
    "  &\\;\\;\\;\\,\\big\\Downarrow \\\\\n",
    "  \\color{red}{\\sum_{m=1}^\\infty \\frac{1}{(2m-1)^4}} &\\color{red}{= \\frac{\\;\\pi^2}{16} \\left(\\frac{2}{3}\\pi^2  - \\frac{\\;\\pi^2}{2} \\right)\n",
    "   = \\frac{\\;\\pi^4}{96}}\n",
    "\\end{align*}"
   ]
  },
  {
   "cell_type": "markdown",
   "metadata": {
    "slideshow": {
     "slide_type": "slide"
    }
   },
   "source": [
    "**5[20].** $~$ Find all solutions of the problem\n",
    "\n",
    "> $y'' + \\lambda y = 0, \\;\\;y(0)+y'(0)=0, \\;y(2\\pi) + y'(2\\pi) = 0$\n",
    "\n",
    "> <font color=\"blue\">**Solution**</font>\n",
    "\n",
    "\\begin{align*}\n",
    " y &= c_1 \\cos\\sqrt{\\lambda}x + c_2 \\sin\\sqrt{\\lambda}x \\\\\n",
    " y' &= -c_1 \\sqrt{\\lambda}\\sin\\sqrt{\\lambda}x + c_2 \\sqrt{\\lambda}\\cos\\sqrt{\\lambda}x \\\\  \n",
    " &\\Big\\Downarrow \\;\\;y(0)+y'(0)=0, \\;\\;y(2\\pi) +y'(2\\pi)=0 \\\\\n",
    "\\begin{pmatrix}\n",
    " 1 & \\sqrt{\\lambda} \\\\ \n",
    " \\cos 2\\pi\\sqrt{\\lambda} -\\sqrt{\\lambda}\\sin 2\\pi \\sqrt{\\lambda} & \\sin 2\\pi\\sqrt{\\lambda} +\\sqrt{\\lambda}\\cos 2\\pi \\sqrt{\\lambda}\n",
    "\\end{pmatrix}\n",
    "&\\begin{pmatrix}\n",
    " c_1 \\\\ c_2\n",
    "\\end{pmatrix} \n",
    " = \\begin{pmatrix}\n",
    " 0 \\\\ 0\n",
    "\\end{pmatrix}\\\\ \n",
    " &\\Big\\Downarrow \\;\\;\\text{Nontrivial Solution } y \\\\ \n",
    "\\begin{vmatrix}\n",
    " 1 & \\sqrt{\\lambda} \\\\ \n",
    " \\cos 2\\pi\\sqrt{\\lambda} -\\sqrt{\\lambda}\\sin 2\\pi \\sqrt{\\lambda} & \\sin 2\\pi\\sqrt{\\lambda} +\\sqrt{\\lambda}\\cos 2\\pi \\sqrt{\\lambda}\n",
    "\\end{vmatrix}\n",
    " &= 0 \\;\\; \\rightarrow \\;\\; \\sin 2\\pi \\sqrt{\\lambda} \\cdot \\left(1 + \\lambda \\right)=0 \\\\\n",
    " &\\Big\\Downarrow \\\\\n",
    " \\color{red}{\\lambda_n} &\\color{red}{=\\left(\\frac{n}{2} \\right)^2, \\;\\;n = 1,2,3,\\cdots} \\\\\n",
    " &\\Big\\Downarrow \\;\\; c_1 + \\frac{n}{2} c_2 = 0\\\\\n",
    " \\color{red}{y_n} &\\color{red}{= -\\frac{n}{2} \\cos \\frac{n}{2}x +\\sin\\frac{n}{2}x}\n",
    "\\end{align*}"
   ]
  }
 ],
 "metadata": {
  "celltoolbar": "Slideshow",
  "kernelspec": {
   "display_name": "Python 3 (ipykernel)",
   "language": "python",
   "name": "python3"
  },
  "language_info": {
   "codemirror_mode": {
    "name": "ipython",
    "version": 3
   },
   "file_extension": ".py",
   "mimetype": "text/x-python",
   "name": "python",
   "nbconvert_exporter": "python",
   "pygments_lexer": "ipython3",
   "version": "3.8.12"
  }
 },
 "nbformat": 4,
 "nbformat_minor": 4
}
