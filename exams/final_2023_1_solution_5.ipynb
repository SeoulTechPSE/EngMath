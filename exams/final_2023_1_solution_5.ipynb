{
 "cells": [
  {
   "cell_type": "markdown",
   "id": "ec1d2eb2",
   "metadata": {},
   "source": [
    "\\begin{align*}\n",
    " \\mathbf{x}^T \\mathbf{A} \\mathbf{x} &+ \\mathbf{b}^T \\mathbf{x} = c \\\\ \n",
    " &\\Downarrow \\\\ \n",
    " \\left | \\mathbf{A} -\\lambda \\mathbf{I} \\right | = 0 \\;\\; &\\rightarrow \\;\\; \\lambda_i, \\;i=1,2,3\\\\ \n",
    " \\lambda_i \\;\\; &\\rightarrow \\;\\; \\mathbf{k}_i, \\;i=1,2,3,  \\;\\;\\text{normalized eigenvectors} \\\\ \n",
    " &\\Downarrow \\\\\n",
    " \\mathbf{P} &= \\begin{pmatrix} \\mathbf{k}_1 & \\mathbf{k}_2 & \\mathbf{k}_3 \\end{pmatrix} \\\\\n",
    " &\\Downarrow \\\\\n",
    " \\mathbf{x} = \\mathbf{P}\\mathbf{y} \\;\\; &\\rightarrow \\;\\; \\mathbf{y}^T \\mathbf{P}^T \\mathbf{A} \\mathbf{P} \\mathbf{y} + \n",
    "   \\mathbf{b}^T \\mathbf{P} \\mathbf{y} = c \\\\\n",
    " &\\Downarrow \\\\\n",
    "  \\lambda_1 \\left( y_1^2 + \\frac{\\mathbf{b}^T \\mathbf{k}_1}{\\lambda_1} y_1 \\right)\n",
    "  +\\lambda_2 \\left( y_2^2 + \\frac{\\mathbf{b}^T \\mathbf{k}_2}{\\lambda_2} y_2 \\right)\n",
    "  &+\\lambda_3 \\left( y_3^2 + \\frac{\\mathbf{b}^T \\mathbf{k}_3}{\\lambda_3} y_3 \\right) = c \\\\\n",
    " &\\Downarrow \\\\\n",
    " \\frac{\\left( y_1 +  \\frac{\\mathbf{b}^T\\mathbf{k}_1}{2\\lambda_1} \\right)^2}{\\frac{1}{\\lambda_1}}  \n",
    " +\\frac{\\left( y_2 + \\frac{\\mathbf{b}^T \\mathbf{k}_2}{2\\lambda_2} \\right)^2}{\\frac{1}{\\lambda_2}} \n",
    " +\\frac{\\left( y_3 + \\frac{\\mathbf{b}^T \\mathbf{k}_3}{2\\lambda_3} \\right)^2}{\\frac{1}{\\lambda_3}}\n",
    " &=  c + \\frac{1}{4}\\mathbf{b}^T\\left( \\frac{\\mathbf{k}_1\\mathbf{k}_1^T}{\\lambda_1} + \\frac{\\mathbf{k}_2\\mathbf{k}_2^T}{\\lambda_2} + \\frac{\\mathbf{k}_3\\mathbf{k}_3^T}{\\lambda_3} \\right )\\mathbf{b} = k \\\\\n",
    " &\\Downarrow \\\\\n",
    " \\mathbf{z} = \\mathbf{P}^T\\mathbf{x} &+ \\frac{1}{2} \n",
    "  \\begin{pmatrix} \\frac{\\mathbf{b}^T \\mathbf{k}_1}{\\lambda_1}\n",
    "   \\\\ \\frac{\\mathbf{b}^T\\mathbf{k}_2}{\\lambda_2} \n",
    "   \\\\ \\frac{\\mathbf{b}^T\\mathbf{k}_3}{\\lambda_3}\n",
    "  \\end{pmatrix} \\\\\n",
    " &\\Downarrow \\\\\n",
    " \\frac{z_1^2}{\\frac{k}{\\lambda_1}}  \n",
    " +\\frac{z_2^2}{\\frac{k}{\\lambda_2}} \n",
    " &+\\frac{z_3^2}{\\frac{k}{\\lambda_3}} = 1\n",
    "\\end{align*}"
   ]
  },
  {
   "cell_type": "code",
   "execution_count": 1,
   "id": "ab4b5501",
   "metadata": {},
   "outputs": [],
   "source": [
    "from sympy import *\n",
    "init_printing(use_unicode=True)\n",
    "\n",
    "\n",
    "def quadratic_canonicalization(A, b, c):\n",
    "    \n",
    "    A = Matrix(A)\n",
    "    b = Matrix(b)\n",
    "    c = Matrix([c])\n",
    "    \n",
    "    b_t = b.transpose()\n",
    "    \n",
    "    eig_ = A.eigenvects()\n",
    "\n",
    "    l_ = []\n",
    "    k_ = []\n",
    "    j = 0\n",
    "    for item in eig_:\n",
    "        for i in range(item[1]):\n",
    "            l_.append(item[0])\n",
    "            v = item[2][i]/item[2][i].norm()\n",
    "            k_.append(v)\n",
    "\n",
    "            j += 1\n",
    "\n",
    "            #print(f'lambda_{j} = ', item[0], end=', ')\n",
    "            #print(f'k_{j} = ', v)\n",
    "\n",
    "    k = c + 1/4 * b_t * ((k_[0] * k_[0].transpose())/l_[0]\n",
    "                        +(k_[1] * k_[1].transpose())/l_[1]\n",
    "                        +(k_[2] * k_[2].transpose())/l_[2]) * b\n",
    "\n",
    "    #print('\\nk = ', N(k[0, 0], 5))\n",
    "\n",
    "    a = k * Matrix([1/l_[0], 1/l_[1], 1/l_[2]]).transpose()\n",
    "\n",
    "    #print('\\na = ', N(a, 5))\n",
    "    \n",
    "    ct = 1/2 * Matrix([b_t*k_[0]/l_[0], b_t*k_[1]/l_[1], b_t*k_[2]/l_[2]]).transpose()\n",
    "    \n",
    "    #print('\\nct = ', N(ct, 5))\n",
    "    \n",
    "    return l_, k_, N(k[0, 0], 5), N(a, 5), N(ct, 5)\n"
   ]
  },
  {
   "cell_type": "code",
   "execution_count": 2,
   "id": "85d87685",
   "metadata": {},
   "outputs": [],
   "source": [
    "%matplotlib notebook\n",
    "from mpl_toolkits.mplot3d import axes3d\n",
    "import matplotlib.pyplot as plt\n",
    "import numpy as np\n",
    "\n",
    "def plot_implicit(fn, bbox=(-2.5, 2.5)):\n",
    "    '''    \n",
    "      fn   : implicit function (plot where fn==0)\n",
    "      bbox : the x, y, and z limits of plotted interval\n",
    "    '''\n",
    "    \n",
    "    xmin, xmax, ymin, ymax, zmin, zmax = bbox*3\n",
    "    \n",
    "    fig = plt.figure(figsize=(10, 10))\n",
    "    \n",
    "    ax = fig.add_subplot(111, projection='3d')\n",
    "    \n",
    "    A = np.linspace(xmin, xmax, 1200)  # resolution of the contour\n",
    "    B = np.linspace(xmin, xmax, 20)    # number of slices\n",
    "    \n",
    "    A1, A2 = np.meshgrid(A, A)         # grid on which the contour is plotted\n",
    "\n",
    "    for z in B: # plot contours in the XY plane\n",
    "        X, Y = A1, A2\n",
    "        Z = fn(X, Y, z)\n",
    "        cset = ax.contour(X, Y, Z + z, [z], zdir='z')\n",
    "        # [z] defines the only level to plot for this contour for this value of z\n",
    "\n",
    "    for y in B: # plot contours in the XZ plane\n",
    "        X, Z = A1, A2\n",
    "        Y = fn(X, y, Z)\n",
    "        cset = ax.contour(X, Y + y, Z, [y], zdir='y')\n",
    "\n",
    "    for x in B: # plot contours in the YZ plane\n",
    "        Y, Z = A1, A2\n",
    "        X = fn(x, Y, Z)\n",
    "        cset = ax.contour(X + x, Y, Z, [x], zdir='x')\n",
    "\n",
    "    # must set plot limits because the contour will likely extend\n",
    "    # way beyond the displayed level. Otherwise matplotlib extends the plot limits\n",
    "    # to encompass all values in the contour.\n",
    "    \n",
    "    ax.set_zlim3d(zmin, zmax)\n",
    "    ax.set_ylim3d(ymin, ymax)\n",
    "    ax.set_xlim3d(xmin, xmax)\n",
    "    \n",
    "    # Set the axis labels\n",
    "    ax.set_xlabel('$z_1$')\n",
    "    ax.set_ylabel('$z_2$')\n",
    "    ax.set_zlabel('$z_3$')\n",
    "    \n",
    "    plt.show()    "
   ]
  },
  {
   "cell_type": "code",
   "execution_count": 3,
   "id": "b86ef8e2",
   "metadata": {},
   "outputs": [
    {
     "data": {
      "image/png": "[encoded data removed]",
      "text/latex": [
       "$\\displaystyle \\left( \\left[ 3, \\  6, \\  9\\right], \\  \\left[ \\left[\\begin{matrix}- \\frac{2}{3}\\\\- \\frac{2}{3}\\\\\\frac{1}{3}\\end{matrix}\\right], \\  \\left[\\begin{matrix}\\frac{2}{3}\\\\- \\frac{1}{3}\\\\\\frac{2}{3}\\end{matrix}\\right], \\  \\left[\\begin{matrix}- \\frac{1}{3}\\\\\\frac{2}{3}\\\\\\frac{2}{3}\\end{matrix}\\right]\\right], \\  18.0, \\  \\left[\\begin{matrix}6.0 & 3.0 & 2.0\\end{matrix}\\right], \\  \\left[\\begin{matrix}1.0 & 0 & 1.0\\end{matrix}\\right]\\right)$"
      ],
      "text/plain": [
       "⎛           ⎡⎡-2/3⎤  ⎡2/3 ⎤  ⎡-1/3⎤⎤                                      ⎞\n",
       "⎜           ⎢⎢    ⎥  ⎢    ⎥  ⎢    ⎥⎥                                      ⎟\n",
       "⎜[3, 6, 9], ⎢⎢-2/3⎥, ⎢-1/3⎥, ⎢2/3 ⎥⎥, 18.0, [6.0  3.0  2.0], [1.0  0  1.0]⎟\n",
       "⎜           ⎢⎢    ⎥  ⎢    ⎥  ⎢    ⎥⎥                                      ⎟\n",
       "⎝           ⎣⎣1/3 ⎦  ⎣2/3 ⎦  ⎣2/3 ⎦⎦                                      ⎠"
      ]
     },
     "execution_count": 3,
     "metadata": {},
     "output_type": "execute_result"
    }
   ],
   "source": [
    "A = [[5, -2, 0], [-2, 6, 2], [0, 2, 7]]\n",
    "b = [-10, 8, 14]\n",
    "c = 6\n",
    "\n",
    "quadratic_canonicalization(A, b, c)"
   ]
  },
  {
   "cell_type": "code",
   "execution_count": 4,
   "id": "d4ef009e",
   "metadata": {},
   "outputs": [
    {
     "data": {
      "image/png": "[encoded data removed]",
      "text/latex": [
       "$\\displaystyle \\left( \\left[ -4, \\  1, \\  3\\right], \\  \\left[ \\left[\\begin{matrix}- \\frac{3 \\sqrt{35}}{35}\\\\\\frac{\\sqrt{35}}{7}\\\\\\frac{\\sqrt{35}}{35}\\end{matrix}\\right], \\  \\left[\\begin{matrix}\\frac{\\sqrt{10}}{10}\\\\0\\\\\\frac{3 \\sqrt{10}}{10}\\end{matrix}\\right], \\  \\left[\\begin{matrix}- \\frac{3 \\sqrt{14}}{14}\\\\- \\frac{\\sqrt{14}}{7}\\\\\\frac{\\sqrt{14}}{14}\\end{matrix}\\right]\\right], \\  30.917, \\  \\left[\\begin{matrix}-7.7292 & 30.917 & 10.306\\end{matrix}\\right], \\  \\left[\\begin{matrix}0.54935 & -4.4272 & -1.7817\\end{matrix}\\right]\\right)$"
      ],
      "text/plain": [
       "⎛            ⎡⎡-3⋅√35 ⎤           ⎡-3⋅√14 ⎤⎤                                                                ⎞\n",
       "⎜            ⎢⎢───────⎥  ⎡ √10 ⎤  ⎢───────⎥⎥                                                                ⎟\n",
       "⎜            ⎢⎢   35  ⎥  ⎢ ─── ⎥  ⎢   14  ⎥⎥                                                                ⎟\n",
       "⎜            ⎢⎢       ⎥  ⎢  10 ⎥  ⎢       ⎥⎥                                                                ⎟\n",
       "⎜            ⎢⎢  √35  ⎥  ⎢     ⎥  ⎢ -√14  ⎥⎥                                                                ⎟\n",
       "⎜[-4, 1, 3], ⎢⎢  ───  ⎥, ⎢  0  ⎥, ⎢ ───── ⎥⎥, 30.917, [-7.7292  30.917  10.306], [0.54935  -4.4272  -1.7817]⎟\n",
       "⎜            ⎢⎢   7   ⎥  ⎢     ⎥  ⎢   7   ⎥⎥                                                                ⎟\n",
       "⎜            ⎢⎢       ⎥  ⎢3⋅√10⎥  ⎢       ⎥⎥                                                                ⎟\n",
       "⎜            ⎢⎢  √35  ⎥  ⎢─────⎥  ⎢  √14  ⎥⎥                                                                ⎟\n",
       "⎜            ⎢⎢  ───  ⎥  ⎣  10 ⎦  ⎢  ───  ⎥⎥                                                                ⎟\n",
       "⎝            ⎣⎣   35  ⎦           ⎣   14  ⎦⎦                                                                ⎠"
      ]
     },
     "execution_count": 4,
     "metadata": {},
     "output_type": "execute_result"
    }
   ],
   "source": [
    "A = [[1, 3, 0], [3, -2, -1], [0, -1, 1]]\n",
    "b = [8, 2, -12]\n",
    "c = 3\n",
    "\n",
    "quadratic_canonicalization(A, b, c)"
   ]
  },
  {
   "cell_type": "code",
   "execution_count": 5,
   "id": "3c42417c",
   "metadata": {},
   "outputs": [],
   "source": [
    "def ellip_part2(x, y, z):\n",
    "    return x**2/6 + y**2/3 + z**2/2 -1\n",
    "\n",
    "plot_implicit(ellip_part2, bbox=(-3, 3))"
   ]
  },
  {
   "cell_type": "code",
   "execution_count": 6,
   "id": "c8990eef",
   "metadata": {},
   "outputs": [],
   "source": [
    "def hyp_part2(x, y, z):\n",
    "    return -x**2 / 7.7292 + y**2 / 30.917  + z**2 / 10.306 - 1\n",
    "\n",
    "plot_implicit(hyp_part2, bbox=(-15, 15))"
   ]
  }
 ],
 "metadata": {
  "kernelspec": {
   "display_name": "Python 3 (ipykernel)",
   "language": "python",
   "name": "python3"
  },
  "language_info": {
   "codemirror_mode": {
    "name": "ipython",
    "version": 3
   },
   "file_extension": ".py",
   "mimetype": "text/x-python",
   "name": "python",
   "nbconvert_exporter": "python",
   "pygments_lexer": "ipython3",
   "version": "3.9.13"
  }
 },
 "nbformat": 4,
 "nbformat_minor": 5
}
