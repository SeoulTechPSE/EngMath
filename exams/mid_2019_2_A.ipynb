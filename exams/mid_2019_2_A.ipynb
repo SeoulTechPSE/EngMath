{
 "cells": [
  {
   "cell_type": "markdown",
   "metadata": {},
   "source": [
    "[![Open In Colab](https://colab.research.google.com/assets/colab-badge.svg)](https://colab.research.google.com/github/SeoulTechPSE/EngMath/blob/master/exams/mid_2019_2_A.ipynb)"
   ]
  },
  {
   "cell_type": "markdown",
   "metadata": {},
   "source": [
    "## Engineering Mathematics II – Mid. Exam."
   ]
  },
  {
   "cell_type": "markdown",
   "metadata": {},
   "source": [
    "**1.** $\\text{ }$ Find an equation of the plane that satisfies the given conditions:\n",
    "\n",
    "> Contains $(2,3,-5)$ and is parallel to $x + y -4z =1$\n",
    "\n",
    ">**solution**\n",
    "\n",
    ">$\\begin{align*}\n",
    " \\underbrace{x +y -4z}_{\\text{parallel plane}}  &= d\\\\ \n",
    " &\\Downarrow {\\scriptstyle\\text{contains } (2,3,-5)}\\\\ \n",
    "  x +y -4z &= 25\n",
    "\\end{align*}$"
   ]
  },
  {
   "cell_type": "markdown",
   "metadata": {},
   "source": [
    "**2.** $\\text{ }$ Determine whether the given set is a subspace of the vector space $C(-\\infty,\\infty)$\n",
    "\n",
    "> All nonnegative functions $f(x)$\n",
    "\n",
    "> **solution** $\\text{ }$ \n",
    "\n",
    "> The set of all nonnegative functions is not closed under scalar multiplication $\\Rightarrow$ **Not a subpace**"
   ]
  },
  {
   "cell_type": "markdown",
   "metadata": {},
   "source": [
    "**3.** $\\text{ }$ Find the curvature at $t=\\pi$ of the cycloid that is described by\n",
    "\n",
    ">$\\mathbf{r}(t) =a(t -\\sin t)\\mathbf{i} +a(1 -\\cos t)\\mathbf{j}, \\;\\; a > 0$\n",
    "\n",
    ">**solution**\n",
    "\n",
    ">$\\begin{align*}\n",
    "  \\mathbf{r}'(t) &= a(1-\\cos t)\\, \\mathbf{i} + a\\sin t\\, \\mathbf{j}, \\;\\; \\left \\| \\mathbf{r}'(t) \\right \\| =a\\sqrt{2(1 -\\cos t)}\\\\\n",
    "  &\\Downarrow \\\\\n",
    "  \\mathbf{T}(t) &= \\frac{\\mathbf{r}'(t)}{\\left \\| \\mathbf{r}'(t) \\right \\|} \n",
    " =\\frac{1}{\\sqrt{2}} \\left( \\sqrt{1-\\cos t}\\,\\mathbf{i} +\\frac{\\sin t}{\\sqrt{1 -\\cos t}}\\,\\mathbf{j} \\right)\\\\ \n",
    " \\mathbf{T}'(t) &= \\frac{1}{2\\sqrt{2}}\\left(\\frac{\\sin t}{\\sqrt{1 -\\cos t}}\\,\\mathbf{i}-\\sqrt{1-\\cos t}\\,\\mathbf{j} \\right), \\\\ \n",
    " &\\Downarrow \\\\ \n",
    " \\kappa(\\pi) &=\\frac{\\left\\| \\mathbf{T}'(\\pi) \\right \\|}{\\left \\| \\mathbf{r}'(\\pi) \\right \\|} = \\frac{1}{4a}\n",
    "\\end{align*}$"
   ]
  },
  {
   "cell_type": "markdown",
   "metadata": {},
   "source": [
    "**4.** $\\text{ }$ Evaluate $\\displaystyle\\oint_C \\mathbf{F} \\cdot d\\mathbf{r}$, where $\\mathbf{F}=z^2 y \\cos xy\\, \\mathbf{i} +z^2 x(1+\\cos xy) \\,\\mathbf{j} +2z \\sin xy\\, \\mathbf{k}$; $C$ the boundary of the plane $z = 1 -y$ shown in\n",
    "\n",
    "![figure1](./figs/mid_2019_2_A_1.png)\n",
    "\n",
    ">**solution**\n",
    "\n",
    "> Using Stokes' Theorem\n",
    "\n",
    ">$\\begin{align*}\n",
    " \\oint_C \\mathbf{F} \\cdot d\\mathbf{r} &= \\iint_S \\left(\\nabla \\times \\mathbf{F}\\right) \\, \\cdot \\mathbf{n} \\,dS\\\\ \n",
    " \\text{ where }& \\\\ \n",
    " \\nabla \\times \\mathbf{F} &= \\left| \\begin{matrix}\n",
    " \\mathbf{i} & \\mathbf{j} & \\mathbf{k} \\\\ \n",
    " \\frac{\\partial }{\\partial x} & \\frac{\\partial }{\\partial y} & \\frac{\\partial }{\\partial z}\\\\ \n",
    " z^2y\\cos xy & z^2x(1 +\\cos xy) & 2z\\sin xy\n",
    "\\end{matrix}\\right| = -2xz\\,\\mathbf{i} +z^2\\,\\mathbf{k}\\\\ \n",
    " \\mathbf{n}&= \\frac{\\nabla g}{\\left\\| \\nabla g\\right\\|}=\\frac{1}{\\sqrt{2}}(\\mathbf{j} +\\mathbf{k})\\\\ \n",
    " &\\Downarrow \\\\\n",
    " &= \\frac{1}{\\sqrt{2}} \\iint_S z^2 \\,dS = \\frac{1}{\\sqrt{2}} \\int_0^2 \\int_0^1 (1 -y)^2 \\,\\sqrt{2}\\,dy dx = \\frac{2}{3}\n",
    "\\end{align*}$"
   ]
  },
  {
   "cell_type": "markdown",
   "metadata": {},
   "source": [
    "**5.** $\\text{ }$ (a) Find the Fourier series of $f$ on the given interval\n",
    "\n",
    ">$f(x) = \\begin{cases}\n",
    " \\;\\;0 & -\\pi < x< 0 \\\\ \n",
    " \\sin x & \\;\\;0 \\leq x <\\pi \n",
    "\\end{cases}$\n",
    "\n",
    ">**solution**\n",
    "\n",
    ">$\\begin{align*}\n",
    " f(x)&= \\frac{a_0}{2} + \\sum_{n=1}^\\infty \\left(a_n \\cos nx +b_n \\sin nx \\right ) \\\\ \n",
    " \\text{wher}&\\text{e} \\\\ \n",
    " a_0 &=\\frac{1}{\\pi} \\int_{-\\pi}^\\pi f(x) \\,dx =\\frac{1}{\\pi} \\int_0^\\pi \\sin x \\,dx = \\frac{2}{\\pi} \\\\ \n",
    " a_n &=\\frac{1}{\\pi}\\int_{-\\pi}^\\pi f(x) \\cos nx \\,dx =\\frac{1}{\\pi}\\int_{0}^\\pi \\sin x \\cos nx \\,dx \\\\ \n",
    " &= \\frac{1}{2\\pi} \\int_0^\\pi \\sin (n +1)x -\\sin(n -1)x \\,dx \\\\ \n",
    " &= \\frac{1}{2\\pi} \\left[ -\\frac{1}{n +1} \\cos (n +1)x +\\frac{1}{n -1} \\cos (n-1)x \\right]_{0}^{\\pi} \\\\\n",
    " &=-\\frac{2}{\\pi}\\frac{1}{(2m -1)(2m +1)}\\;\\;\\text{if } n = 2m \\text{ else } a_n = 0 \\\\\n",
    " b_n &=\\frac{1}{\\pi} \\int_{-\\pi}^\\pi f(x) \\sin nx\\, dx = \\frac{1}{\\pi} \\int_{0}^\\pi \\sin x \\sin nx\\, dx \n",
    "  = \\frac{1}{2} \\text{ if } n = 1 \\text{ else } b_n = 0 \\\\\n",
    " &\\Downarrow \\\\\n",
    " f(x) &= \\frac{1}{\\pi} +\\frac{1}{2} \\sin x -\\frac{2}{\\pi} \\sum_{m=1}^\\infty \\frac{1}{(2m -1)(2m +1)}\\cos 2mx\n",
    "\\end{align*}$\n",
    "\n",
    "$\\text{ }\\;\\;\\;\\;$(b) Use the result of (a) to evaluate the following series:\n",
    "\n",
    ">$\\displaystyle \\frac{1}{2} + \\frac{1}{1 \\cdot 3} - \\frac{1}{3 \\cdot 5} +\\frac{1}{5 \\cdot 7} -\\frac{1}{7\\cdot 9} + \\cdots$\n",
    "\n",
    ">**solution**\n",
    "\n",
    ">$\\begin{align*}\n",
    " f(x) &= \\frac{1}{\\pi} +\\frac{1}{2} \\sin x -\\frac{2}{\\pi} \\sum_{m=1}^\\infty \\frac{1}{(2m -1)(2m +1)}\\cos 2mx\\\\ \n",
    " &\\Downarrow \\;\\; x = \\frac{\\pi}{2}\\\\ \n",
    " 1 &= \\frac{1}{\\pi} +\\frac{1}{2} -\\frac{2}{\\pi} \\sum_{m=1}^\\infty \\frac{(-1)^m}{(2m -1)(2m +1)} \\\\\n",
    " &\\Downarrow \\\\\n",
    " \\frac{\\pi}{4} &= \\frac{1}{2} +\\sum_{m=1}^\\infty \\frac{(-1)^{m +1}}{(2m -1)(2m +1)}\n",
    "\\end{align*}$"
   ]
  },
  {
   "cell_type": "markdown",
   "metadata": {},
   "source": [
    "**6.** $\\text{ }$ Chebyshev’s differential equation $(1 -x^2)y'' -xy' +n^2y = 0$ has a polynomial solution $T_n(x)$ for $n = 0,1,2,\\cdots$. \n",
    "\n",
    "$\\text{ }\\;\\;\\;$ Specify the weight function $p(x)$ and the interval over which the set of Chebyshev polynomials $\\{ T_n(x) \\}$ is orthogonal.\n",
    "\n",
    ">**solution**\n",
    "\n",
    ">$\\begin{align*}\n",
    " (1 -x^2)y'' &-xy' +n^2y = 0 \\\\ \n",
    " &\\Downarrow\\; x \\in (-1, 1) \\\\ \n",
    " y'' -\\frac{x}{1 -x^2}& y' +\\frac{n^2}{1 -x^2} y = 0\\\\ \n",
    " &\\Downarrow \\;\\; \\times \\sqrt{1 -x^2} \\\\ \n",
    " \\frac{d}{dx} \\left[ \\sqrt{1 -x^2} \\frac{dy}{dx} \\right] &+ \\frac{n^2}{\\sqrt{1 -x^2}} y=0 \\;\\;\\text{Self-Adjoint form}\\\\ \n",
    " &\\Downarrow \\\\\n",
    " r(x) = \\sqrt{1 -x^2}, \\;\\; &p(x) = \\frac{1}{\\sqrt{1 -x^2}}  \\\\\n",
    " \\int_{-1}^1 \\frac{1}{\\sqrt{1 -x^2}}\\, T_m(x)& T_n(x)\\,dx = 0,\\;\\; m \\neq n \n",
    "\\end{align*}$"
   ]
  }
 ],
 "metadata": {
  "kernelspec": {
   "display_name": "Python 3 (ipykernel)",
   "language": "python",
   "name": "python3"
  },
  "language_info": {
   "codemirror_mode": {
    "name": "ipython",
    "version": 3
   },
   "file_extension": ".py",
   "mimetype": "text/x-python",
   "name": "python",
   "nbconvert_exporter": "python",
   "pygments_lexer": "ipython3",
   "version": "3.8.12"
  }
 },
 "nbformat": 4,
 "nbformat_minor": 4
}
