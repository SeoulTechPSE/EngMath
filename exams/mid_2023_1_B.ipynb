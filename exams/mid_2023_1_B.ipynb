{
 "cells": [
  {
   "cell_type": "markdown",
   "id": "c8a295c0",
   "metadata": {},
   "source": [
    "### Engineering Mathematics I (161006-21004) - Mid. Exam.\n",
    "\n",
    "April 10, 2023"
   ]
  },
  {
   "cell_type": "markdown",
   "id": "c1f28567",
   "metadata": {},
   "source": [
    "**1[20].** $~$Solve the initial-value problem $\\displaystyle\\frac{dy}{dt} + 2(t+1) y^2=0, \\;\\;y(0)=-\\frac{1}{8}$ and give the largest interval $I$ on which the solution is defined:\n",
    "\n",
    "\n",
    "$~$\n",
    "\n",
    "$~$"
   ]
  },
  {
   "cell_type": "markdown",
   "id": "937ecce5",
   "metadata": {},
   "source": [
    "**2[15].** $~$Solve the differential equation $~\\displaystyle \\frac{dy}{dx}=\\sin (x+y)$\n",
    "\n",
    "$~$\n",
    "\n",
    "$~$"
   ]
  },
  {
   "cell_type": "markdown",
   "id": "4b74f6de",
   "metadata": {},
   "source": [
    "**3[15].** $~$Solve $~2y'' + 2y' +y = 4\\sqrt{x}$\n",
    "\n",
    "$~$\n",
    "\n",
    "$~$"
   ]
  },
  {
   "cell_type": "markdown",
   "id": "f2b9a9e7",
   "metadata": {},
   "source": [
    "**4[15].** $~$Find a homogeneous Cauchy-Euler differential equation whose general solution is given: $y = c_1 + c_2 x +c_3 x \\ln x$\n",
    "\n",
    "$~$\n",
    "\n",
    "$~$"
   ]
  },
  {
   "cell_type": "markdown",
   "id": "f0edd1ea",
   "metadata": {},
   "source": [
    "**5[15].** $~$Solve $~y'' + 4y' + 3y =e^t \\delta (t-1), \\;\\;y(0)=0, \\;y'(0)=2$\n",
    "\n",
    "$~$\n",
    "\n",
    "$~$"
   ]
  },
  {
   "cell_type": "markdown",
   "id": "4733cea6",
   "metadata": {},
   "source": [
    "**6[20].** Use the Laplace transform to find the numerical value of the improper integral $~\\displaystyle \\int_0^\\infty t e^{-2t} \\sin 4t \\,dt$\n",
    "\n",
    "$~$\n",
    "\n",
    "$~$"
   ]
  }
 ],
 "metadata": {
  "kernelspec": {
   "display_name": "Python 3 (ipykernel)",
   "language": "python",
   "name": "python3"
  },
  "language_info": {
   "codemirror_mode": {
    "name": "ipython",
    "version": 3
   },
   "file_extension": ".py",
   "mimetype": "text/x-python",
   "name": "python",
   "nbconvert_exporter": "python",
   "pygments_lexer": "ipython3",
   "version": "3.9.13"
  }
 },
 "nbformat": 4,
 "nbformat_minor": 5
}
