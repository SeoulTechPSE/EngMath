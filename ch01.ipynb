{
 "cells": [
  {
   "cell_type": "markdown",
   "metadata": {
    "slideshow": {
     "slide_type": "skip"
    }
   },
   "source": [
    "[![Open In Colab](https://colab.research.google.com/assets/colab-badge.svg)](https://colab.research.google.com/github/SeoulTechPSE/EngMath/blob/master/ch01.ipynb)"
   ]
  },
  {
   "cell_type": "markdown",
   "metadata": {
    "slideshow": {
     "slide_type": "slide"
    }
   },
   "source": [
    "# Chapter 1. Introduction to Differential Equations"
   ]
  },
  {
   "cell_type": "markdown",
   "metadata": {
    "slideshow": {
     "slide_type": "fragment"
    }
   },
   "source": [
    "## Contents\n",
    "\n",
    "* Definitions and Terminology\n",
    "* Initial-Value Problems\n",
    "* Differential Equations as Mathematical Models "
   ]
  },
  {
   "cell_type": "markdown",
   "metadata": {
    "slideshow": {
     "slide_type": "slide"
    }
   },
   "source": [
    "## 1.1 Definitions and Terminology\n",
    "\n",
    "* A **differential equation (DE)** is an equation containing the *derivatives* of *one or more dependent variables* with respect to *one or more independent variables*"
   ]
  },
  {
   "cell_type": "markdown",
   "metadata": {
    "slideshow": {
     "slide_type": "fragment"
    }
   },
   "source": [
    "### Notation\n",
    "\n",
    "* Leibniz notation \n",
    "\n",
    "  $\\text{ }\\displaystyle\\frac{d^2y}{dx^2}$\n",
    "\n",
    "* Prime notation $\\text{ } y''$\n",
    "\n",
    "* Newton's dot notation $\\text{ } \\ddot{y}$\n",
    "\n",
    "* Subscript notation (partial derivatives with subscript indicating independent variables)\n",
    "  \n",
    "  $u_{xx} + u_{yy} = 0$"
   ]
  },
  {
   "cell_type": "markdown",
   "metadata": {
    "slideshow": {
     "slide_type": "slide"
    }
   },
   "source": [
    "* DEs can be classified by:\n",
    "  * Type\n",
    "  * Order\n",
    "  * Linearity"
   ]
  },
  {
   "cell_type": "markdown",
   "metadata": {
    "slideshow": {
     "slide_type": "fragment"
    }
   },
   "source": [
    "### Classification by Type\n",
    "\n",
    "* **Ordinary differential equation (ODE):** Derivatives are with respect to a single independent variable\n",
    " \n",
    "  $\\displaystyle\\frac{dx}{dt} + \\frac{dy}{dt} = 3x + 2y$\n",
    "\n",
    "* **Partial differential equation (PDE):** Derivatives are with respect to two or more independent variables \n",
    "\n",
    "  $\\displaystyle\\frac{\\partial u}{\\partial y} = -\\frac{\\partial u}{\\partial x}$"
   ]
  },
  {
   "cell_type": "markdown",
   "metadata": {
    "slideshow": {
     "slide_type": "slide"
    }
   },
   "source": [
    "### Classification by Order\n",
    "\n",
    "* The order of an ODE or PDE is the order of the highest derivatives in the equation\n",
    " \n",
    " $\\displaystyle\\underbrace{\\frac{d^2y}{dx^2}}_{\\mathrm{highest\\; order}} +5\\left ( \\frac{dy}{dx} \\right )^3 - 4y = e^x$\n",
    " \n",
    " $\\displaystyle\\underbrace{2\\frac{\\partial^4 u}{\\partial x^4}}_{\\mathrm{highest\\; order}} +\\frac{\\partial^2 u}{\\partial t^2} = 0$"
   ]
  },
  {
   "cell_type": "markdown",
   "metadata": {
    "slideshow": {
     "slide_type": "slide"
    }
   },
   "source": [
    "### Classification by Linearity\n",
    "\n",
    "* An $n$-th order ODE, $F\\left ( x, y, y', \\cdots,y^{(n)} \\right ) = 0$, $\\,$is **linear** in the variable $y\\,$ if $\\,F$ is linear in $y, y',\\cdots,y^{(n)}$\n",
    "\n",
    "* An ODE is **nonlinear** if:\n",
    "    * The coefficients of $y, y',\\cdots,y^{(n)}$ contain the dependent variable $y$ or its derivatives\n",
    "    * Powers of $y, y',\\cdots,y^{(n)}$ appear in the equation *or*\n",
    "    * Nonlinear functions of the dependent variable or its derivatives (e.g., $\\sin y$ or $e^{y'}$) appear in the equation"
   ]
  },
  {
   "cell_type": "markdown",
   "metadata": {
    "slideshow": {
     "slide_type": "slide"
    }
   },
   "source": [
    "### Solution of an ODE\n",
    "\n",
    "* Any function $\\phi$, defined on an interval $I$ and possessing at least $n$ derivatives that are continuous on $I$, which when substituted into an $n$-th order ODE reduces the equation to an identity\n",
    "\n",
    "* Interval $I$ can be an open interval $(a,b)$, a closed interval $[a,b]$, an infinite interval $(a,\\infty)$, etc.\n",
    "\n",
    "* A solution of a differential equation that is identically zero on an interval $I$ is a **trivial solution**\n",
    "\n",
    "* The graph of a solution $\\phi$ of an ODE is a **solution curve** and it is continuous on its interval $I$ while the domain of $\\phi$ may differ from the interval $I$\n",
    "\n",
    "* An **explicit solution** is one in which the dependent variable is expressed solely in terms of the independent variable and constants\n",
    "\n",
    "* $G(x,y)=0\\,$ is an **implicit solution** if at least one function $\\phi$ exists that satisfies the relation $G$ and the ODE on $I$"
   ]
  },
  {
   "cell_type": "markdown",
   "metadata": {
    "slideshow": {
     "slide_type": "slide"
    }
   },
   "source": [
    "### Families of Solutions\n",
    "\n",
    "* Similar to integration, $~$we usually obtain a solution to a first-order differential equation containing an arbitrary constant $c$\n",
    "\n",
    "* A solution with a constant $c$ represents a set $G(x,y,c)=0$ of solutions, called a **one-parameter family of solutions**\n",
    "\n",
    "* An **$n$-parameter family of solutions** $G(x,y,c_1,c_2,\\cdots,c_n)=0~$ solves an $n$-th order differential equation"
   ]
  },
  {
   "cell_type": "markdown",
   "metadata": {
    "slideshow": {
     "slide_type": "slide"
    }
   },
   "source": [
    "### Systems of Differential Equations\n",
    "\n",
    "* Two or more equations involving the derivatives of two or more unknown functions of a single independent variable\n",
    "    \n",
    "  $\n",
    "  \\begin{align*}\n",
    "    \\frac{dx}{dt}&= f(t,x,y)\\\\\n",
    "    \\frac{dy}{dt}&= g(t,x,y)\n",
    "  \\end{align*}\n",
    "  $\n",
    "\n",
    "* A solution of a system is a set of functions defined on a common interval $I$ that satisfies each equation of the system on this interval"
   ]
  },
  {
   "cell_type": "markdown",
   "metadata": {
    "slideshow": {
     "slide_type": "slide"
    }
   },
   "source": [
    "### Exercises 1.1\n",
    "\n",
    "* State the order of the given ordinary differential equation. Determine whether the equation is linear or nonlinear\n",
    "\n",
    "  $(1-x)y'' -4xy +5y=\\cos x$\n",
    "\n",
    "  $t^5y^{(4)} - t^3 y'' +6y=0$\n",
    "\n",
    "  $\\displaystyle \\frac{d^2 y}{dx^2} = \\sqrt{1 + \\left( \\frac{dy}{dx} \\right)^2}$\n",
    "\n",
    "  $\\sin \\theta y''' - \\cos \\theta y' = 2$"
   ]
  },
  {
   "cell_type": "markdown",
   "metadata": {
    "slideshow": {
     "slide_type": "slide"
    }
   },
   "source": [
    "* Verify that the indicated function is an explicit solution of the given differential equation. Assume an appropriate interval $I$ of definition for each solution\n",
    "\n",
    "  $2y' + y = 0; \\;\\;y=e^{-x/2}$\n",
    "\n",
    "  $y'' -6y' +13y=0; \\;\\;y=e^{3x} \\cos 2x$"
   ]
  },
  {
   "cell_type": "markdown",
   "metadata": {
    "slideshow": {
     "slide_type": "fragment"
    }
   },
   "source": [
    "* Verify that the indicated function $y=\\phi(x)$ is an explicit solution of the given first-order differential equation. By considering $\\phi$ simply as a function, give its domain. Then by considering $\\phi$ as a solution of the differential equation, give at least one interval $I$ of definition\n",
    "\n",
    "  $(y-x)y' = y-x+8; \\;\\;y=x+4\\sqrt{x+2}$\n",
    "    \n",
    "  $y'=2xy^2; \\;\\; y=1/(4-x^2)$"
   ]
  },
  {
   "cell_type": "markdown",
   "metadata": {
    "slideshow": {
     "slide_type": "slide"
    }
   },
   "source": [
    "* Verify that the indicated family of functions is a solution of the given differential equation. Assume an appropriate interval $I$ of definition for each solution\n",
    "\n",
    "  $\\displaystyle \\frac{dP}{dt}=P(1-P); \\;\\;P=\\frac{c_1 e^t}{1 + c_1 e^t}$\n",
    "    \n",
    "  $\\displaystyle \\frac{d^2y}{dx^2} -4\\frac{dy}{dx} +4y=0; \\;\\;y=c_1e^{2x} +c_2 xe^{2x}$"
   ]
  },
  {
   "cell_type": "markdown",
   "metadata": {
    "slideshow": {
     "slide_type": "slide"
    }
   },
   "source": [
    "* Verify that piecewise-defined function\n",
    "\n",
    "  $y = \\left\\{\\begin{matrix}\n",
    "-x^2, & x < 0\\\\ \n",
    " x^2, & x \\ge 0\n",
    "\\end{matrix}\\right.$\n",
    "\n",
    "  is a solution of the differential equation $xy'-2y=0$ on the interval $(-\\infty, \\infty)$"
   ]
  },
  {
   "cell_type": "markdown",
   "metadata": {
    "slideshow": {
     "slide_type": "slide"
    }
   },
   "source": [
    "* Find a linear second-order differential equation $~F(x, y, y', y'')=0~$ for which $y=c_1x + c_2 x^2$ is a two-parameter family of solutions. Make sure that your equation is free of the arbitrary parameters $c_1$ and $c_2$"
   ]
  },
  {
   "cell_type": "markdown",
   "metadata": {
    "slideshow": {
     "slide_type": "slide"
    }
   },
   "source": [
    "## 1.2 Initial-Value Problems"
   ]
  },
  {
   "cell_type": "markdown",
   "metadata": {
    "slideshow": {
     "slide_type": "fragment"
    }
   },
   "source": [
    "In an **initial-value problem (IVP)**, $~$we seek a solution $y(x)$ of a differential equation so that $y(x)$ satisfies **initial conditions** at $x_0$\n",
    "* $n$-th order differential equation\n",
    "    \n",
    "  $\\displaystyle\\frac{d^ny}{dx^n} = f\\left ( x,y,y',\\cdots,y^{(n-1)} \\right )$\n",
    "\n",
    "* Initial conditions  \n",
    "\n",
    "  $y(x_0) = y_0, \\;y'(x_0) = y_1, \\cdots, \\;y^{(n-1)}(x_0) = y_{n-1}$\n",
    "  \n",
    "  $\\displaystyle \\;\\;\\;\\; \\Rightarrow \\;\\; \\frac{d\\mathbf{y}}{dx} = \\mathbf{f}(x, \\mathbf{y}),\n",
    "  \\;\\;\\mathbf{y}=\\mathbf{y}_0$"
   ]
  },
  {
   "cell_type": "markdown",
   "metadata": {
    "slideshow": {
     "slide_type": "slide"
    }
   },
   "source": [
    "When solving an IVP, $~$consider whether a solution exists and whether the solution is unique\n",
    "\n",
    "* **Existence:** $~$Does the differential equation possess solutions and do any of the solution curves pass through the initial point $(x_0, y_0)$?\n",
    "\n",
    "* **Uniqueness:** $~$When can we be certain there is precisely one solution curve passing through the initial point $(x_0, y_0)$?"
   ]
  },
  {
   "cell_type": "markdown",
   "metadata": {
    "slideshow": {
     "slide_type": "slide"
    }
   },
   "source": [
    "**Theorem 1.2.1** gives conditions that are sufficient to guarantee the existence and uniqueness of a solution $y(x)$ to a first-order IVP\n",
    "\n",
    "> ![Rectangular region R](figures/ch01_figure01.png) \n",
    "\n",
    "* $f(x,y)$ and $\\displaystyle\\frac{\\partial f}{\\partial y}$ are continuous on the region $\\,R\\,$ for the interval $I_0$"
   ]
  },
  {
   "cell_type": "markdown",
   "metadata": {
    "slideshow": {
     "slide_type": "slide"
    }
   },
   "source": [
    "**Example:** $~$First-order IVP\n",
    "\n",
    "* $y(x)=ce^x$ is a one-parameter family of solutions of the first-order DE $~y'=y$\n",
    "* Find a solution of the first-order IVP with initial condition $y(0)=3$\n",
    "\n",
    "*Solution*\n",
    "\n",
    "* From the initial condition, $~$we obtain $3=ce^0$\n",
    "* Solving, $~$we find $c=3$\n",
    "* The solution of the IVP is $y=3e^x$"
   ]
  },
  {
   "cell_type": "markdown",
   "metadata": {
    "slideshow": {
     "slide_type": "slide"
    }
   },
   "source": [
    "**Example:** $~$Second-order IVP\n",
    "\n",
    "* $x(t) = c_1 \\cos 4t +c_2 \\sin 4t$ $~$is a two-parameter family of solutions of the second-order DE $~x''+16x=0$\n",
    "* Find a solution of the second-order IVP with initial conditions\n",
    "$\n",
    "x\\left ( \\frac{\\pi}{2} \\right ) =-2, \\;x'\\left ( \\frac{\\pi}{2} \\right )=1\n",
    "$\n",
    "\n",
    "*Solution*\n",
    "\n",
    "* Substituting for initial conditions and solving for constants, $~$we find $c_1=-2$ and $c_2=1/4$\n",
    "* The solution of the IVP is $~x(t)=-2\\cos 4t +\\frac{1}{4}\\sin 4t$"
   ]
  },
  {
   "cell_type": "markdown",
   "metadata": {
    "slideshow": {
     "slide_type": "slide"
    }
   },
   "source": [
    "### Exercises 1.2 $~$ [![Open In Colab](https://colab.research.google.com/assets/colab-badge.svg)](https://colab.research.google.com/github/SeoulTechPSE/EngMath/blob/master/exercises/ch01_exer02.ipynb)  [![Open in My Computer](./figures/my_computer.jpg)](./exercises/ch01_exer02.ipynb)\n",
    "\n",
    "* 11, 15\n",
    "* 25\n",
    "* 33, 39"
   ]
  },
  {
   "cell_type": "markdown",
   "metadata": {
    "slideshow": {
     "slide_type": "slide"
    }
   },
   "source": [
    "## 1.3 Differential Equations as Mathematical Models"
   ]
  },
  {
   "cell_type": "markdown",
   "metadata": {
    "slideshow": {
     "slide_type": "fragment"
    }
   },
   "source": [
    "* A **mathematical model** is a description of a system or a phenomenon\n",
    "* Differential equation models are used to describe behavior in various fields\n",
    "    * Biology\n",
    "    * Chemistry\n",
    "    * Physics"
   ]
  },
  {
   "cell_type": "markdown",
   "metadata": {
    "slideshow": {
     "slide_type": "slide"
    }
   },
   "source": [
    "* Steps of the modeling process\n",
    "\n",
    " <img src=\"figures/ch01_figure02.png\" width=\"900\">"
   ]
  },
  {
   "cell_type": "markdown",
   "metadata": {
    "slideshow": {
     "slide_type": "slide"
    }
   },
   "source": [
    "**Example:** $~$Radioactive Decay\n",
    "\n",
    "* In modeling the phenomenon of radioactive decay, $~$it is assumed that the rate $\\frac{dA}{dt}$ at which the nuclei of a substance decays is proportional to the amount $A(t)$ remaining at time $t$ given an initial amount of radioactive substance on hand $A_0$\n",
    "   \n",
    "   $\\displaystyle\\frac{dA}{dt} = -kA, \\;A(0)=A_0$\n",
    "    \n",
    "* This differential equation also describes a first-order chemical reaction"
   ]
  },
  {
   "cell_type": "markdown",
   "metadata": {
    "cell_style": "split",
    "slideshow": {
     "slide_type": "slide"
    }
   },
   "source": [
    "**Example:** $~$Draining Tank\n",
    "\n",
    "> ![Water draining from a tank](figures/ch01_figure03.png)\n",
    "\n",
    "* Toricelli's law states that the exit speed $v$ of water through a sharp-edged hole at the bottom of a tank filled to a depth $h$ is the same as the speed it would acquire falling from a height $h$, $~$$v=\\sqrt{2gh}$"
   ]
  },
  {
   "cell_type": "markdown",
   "metadata": {
    "cell_style": "split",
    "slideshow": {
     "slide_type": "fragment"
    }
   },
   "source": [
    "\n",
    "* Volume $V$ leaving the tank per second is proportional to the area of the hole $A_h$\n",
    "  \n",
    "  $\\displaystyle\\frac{dV}{dt}=-A_h\\sqrt{2gh}$\n",
    "    \n",
    "* The volume in the tank at $t$ $~$is$~$ $V(t)=A_w h$, in which  $~$$A_w$ is the *constant* area of the upper water surface\n",
    "\n",
    "* Combining expressions gives the differential equation for the height of water at time $t$\n",
    "  \n",
    "  $\\displaystyle\\frac{dh}{dt}=-\\frac{A_h}{A_w}\\sqrt{2gh}$"
   ]
  },
  {
   "cell_type": "markdown",
   "metadata": {
    "slideshow": {
     "slide_type": "slide"
    }
   },
   "source": [
    "### Exercises 1.3 [![Open In Colab](https://colab.research.google.com/assets/colab-badge.svg)](https://colab.research.google.com/github/SeoulTechPSE/EngMath/blob/master/exercises/ch01_exer03.ipynb)  [![Open in My Computer](./figures/my_computer.jpg)](./exercises/ch01_exer03.ipynb)\n",
    "\n",
    "\n",
    "* 6\n",
    "* 14\n",
    "* 20"
   ]
  }
 ],
 "metadata": {
  "celltoolbar": "Slideshow",
  "kernelspec": {
   "display_name": "Python 3 (ipykernel)",
   "language": "python",
   "name": "python3"
  },
  "language_info": {
   "codemirror_mode": {
    "name": "ipython",
    "version": 3
   },
   "file_extension": ".py",
   "mimetype": "text/x-python",
   "name": "python",
   "nbconvert_exporter": "python",
   "pygments_lexer": "ipython3",
   "version": "3.8.12"
  }
 },
 "nbformat": 4,
 "nbformat_minor": 4
}
