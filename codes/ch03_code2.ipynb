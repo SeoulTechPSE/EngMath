{
 "cells": [
  {
   "cell_type": "code",
   "execution_count": null,
   "metadata": {
    "slideshow": {
     "slide_type": "slide"
    }
   },
   "outputs": [],
   "source": [
    "import numpy as np\n",
    "from scipy.integrate import solve_ivp\n",
    "import matplotlib.pyplot as plt\n",
    "plt.rcParams.update({'font.size': 16})\n",
    "\n",
    "def func(t, y):\n",
    "    return [y[1], -y[0] -y[0]**3 -y[1]]\n",
    "\n",
    "tf = 14\n",
    "sol1 = solve_ivp(func, [0, tf], [-3, 4], t_eval = np.linspace(0, tf, 200))\n",
    "sol2 = solve_ivp(func, [0, tf], [0, -8], t_eval = np.linspace(0, tf, 200))"
   ]
  },
  {
   "cell_type": "code",
   "execution_count": null,
   "metadata": {
    "slideshow": {
     "slide_type": "fragment"
    }
   },
   "outputs": [],
   "source": [
    "plt.figure(figsize=(12, 8))\n",
    "plt.plot(sol1.t, sol1.y[0], 'b-', label=r'$x_0=-3,\\; \\dot{x}_0=4$')\n",
    "plt.plot(sol2.t, sol2.y[0], 'r-', label=r'$x_0=0,\\; \\dot{x}_0=-8$')\n",
    "plt.axis((0, tf, -3, 3))\n",
    "plt.xlabel('t')\n",
    "plt.ylabel('x')\n",
    "plt.legend()\n",
    "plt.title(r'$\\frac{d^2x}{dt^2} +\\frac{dx}{dt} +x +x^3=0$')\n",
    "plt.show()"
   ]
  }
 ],
 "metadata": {
  "celltoolbar": "Slideshow",
  "kernelspec": {
   "display_name": "Python 3 (ipykernel)",
   "language": "python",
   "name": "python3"
  },
  "language_info": {
   "codemirror_mode": {
    "name": "ipython",
    "version": 3
   },
   "file_extension": ".py",
   "mimetype": "text/x-python",
   "name": "python",
   "nbconvert_exporter": "python",
   "pygments_lexer": "ipython3",
   "version": "3.9.13"
  }
 },
 "nbformat": 4,
 "nbformat_minor": 4
}
