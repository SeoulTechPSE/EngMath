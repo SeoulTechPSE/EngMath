{
 "cells": [
  {
   "cell_type": "code",
   "execution_count": null,
   "metadata": {},
   "outputs": [],
   "source": [
    "%matplotlib inline\n",
    "\n",
    "import numpy as np\n",
    "import matplotlib.pyplot as plt\n",
    "plt.style.use('ggplot')\n",
    "\n",
    "x0 = 2.0\n",
    "y0 = 4.0\n",
    "xf = 2.5\n",
    "\n",
    "h = 0.1\n",
    "n = int((xf -x0)/h) +1\n",
    "\n",
    "x = np.linspace(x0, xf, n)\n",
    "y = np.zeros(n)\n",
    "\n",
    "y[0] = y0\n",
    "for i in range(1, n):\n",
    "    y[i] = y[i -1] +h*(0.1 *np.sqrt(y[i -1]) +0.4 *x[i -1]**2)\n",
    "    print('x = %3.1f, y = %5.4f' % (x[i], y[i]))\n",
    "\n",
    "plt.figure(figsize=(10, 10))\n",
    "plt.plot(x, y,'o')\n",
    "plt.xlabel(\"$x$\")\n",
    "plt.ylabel(\"$y$\")\n",
    "plt.title(\"Euler method: $h=0.1$\")\n",
    "\n",
    "plt.show()"
   ]
  }
 ],
 "metadata": {
  "kernelspec": {
   "display_name": "Python 3 (ipykernel)",
   "language": "python",
   "name": "python3"
  },
  "language_info": {
   "codemirror_mode": {
    "name": "ipython",
    "version": 3
   },
   "file_extension": ".py",
   "mimetype": "text/x-python",
   "name": "python",
   "nbconvert_exporter": "python",
   "pygments_lexer": "ipython3",
   "version": "3.9.13"
  }
 },
 "nbformat": 4,
 "nbformat_minor": 4
}
