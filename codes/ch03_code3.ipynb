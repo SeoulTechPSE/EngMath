{
 "cells": [
  {
   "cell_type": "code",
   "execution_count": null,
   "metadata": {
    "slideshow": {
     "slide_type": "slide"
    }
   },
   "outputs": [],
   "source": [
    "import numpy as np\n",
    "from scipy.integrate import solve_ivp\n",
    "import matplotlib.pyplot as plt\n",
    "plt.rcParams.update({'font.size': 22})\n",
    "\n",
    "k1, k2, m1, m2 = 6, 4, 1, 1\n",
    "\n",
    "def func(t, y):\n",
    "    return [y[1], -(k1 +k2)/m1 *y[0] +k2/m1 *y[2], y[3], k2/m2 *y[0] -k2/m2 *y[2]]\n",
    "\n",
    "tf = 14\n",
    "sol = solve_ivp(func, [0, tf], [0, 1, 0, -1], t_eval = np.linspace(0, tf, 200))"
   ]
  },
  {
   "cell_type": "code",
   "execution_count": null,
   "metadata": {
    "slideshow": {
     "slide_type": "fragment"
    }
   },
   "outputs": [],
   "source": [
    "plt.figure(figsize=(12, 8))\n",
    "plt.plot(sol.t, sol.y[0], 'b-', label='$x_1$') \n",
    "plt.plot(sol.t, sol.y[2], 'r-', label='$x_2$')\n",
    "plt.axis((0, tf, -0.6, 0.6))\n",
    "plt.legend()\n",
    "plt.xlabel('t')\n",
    "plt.ylabel('x')\n",
    "plt.title('Coupled Spring/Mass Systems')\n",
    "plt.show()"
   ]
  }
 ],
 "metadata": {
  "celltoolbar": "Slideshow",
  "kernelspec": {
   "display_name": "Python 3 (ipykernel)",
   "language": "python",
   "name": "python3"
  },
  "language_info": {
   "codemirror_mode": {
    "name": "ipython",
    "version": 3
   },
   "file_extension": ".py",
   "mimetype": "text/x-python",
   "name": "python",
   "nbconvert_exporter": "python",
   "pygments_lexer": "ipython3",
   "version": "3.9.13"
  }
 },
 "nbformat": 4,
 "nbformat_minor": 4
}
