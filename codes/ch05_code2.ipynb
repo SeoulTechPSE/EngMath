{
 "cells": [
  {
   "cell_type": "code",
   "execution_count": null,
   "metadata": {},
   "outputs": [],
   "source": [
    "%matplotlib inline\n",
    "import matplotlib.pyplot as plt\n",
    "plt.style.use('ggplot')\n",
    "\n",
    "import numpy as np\n",
    "from scipy.special import jv, spherical_jn"
   ]
  },
  {
   "cell_type": "code",
   "execution_count": null,
   "metadata": {},
   "outputs": [],
   "source": [
    "fig = plt.figure(figsize=(12, 6))\n",
    "ax = fig.add_subplot(111)\n",
    "\n",
    "x = np.linspace(np.finfo(np.float32).eps, 10, 200)\n",
    "for n in range(5):\n",
    "    y = spherical_jn(n, x)\n",
    "    #y = jv(n +0.5, x)\n",
    "    ax.plot(np.append(0, x), np.append(0, y), label=r'$j_{%d}(x)$' % n)\n",
    "\n",
    "ax.axis((0, 10, -0.4, 1.0))    \n",
    "\n",
    "ax.set_title(r'$j_{n}(x), n=0,1,2,3,4$')\n",
    "ax.set_xlabel('x')\n",
    "ax.set_ylabel('y')\n",
    "ax.legend()\n",
    "\n",
    "plt.show()"
   ]
  }
 ],
 "metadata": {
  "kernelspec": {
   "display_name": "Python 3 (ipykernel)",
   "language": "python",
   "name": "python3"
  },
  "language_info": {
   "codemirror_mode": {
    "name": "ipython",
    "version": 3
   },
   "file_extension": ".py",
   "mimetype": "text/x-python",
   "name": "python",
   "nbconvert_exporter": "python",
   "pygments_lexer": "ipython3",
   "version": "3.9.13"
  }
 },
 "nbformat": 4,
 "nbformat_minor": 4
}
