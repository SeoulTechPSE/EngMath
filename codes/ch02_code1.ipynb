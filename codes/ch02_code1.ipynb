{
 "cells": [
  {
   "cell_type": "code",
   "execution_count": null,
   "metadata": {},
   "outputs": [],
   "source": [
    "%matplotlib inline\n",
    "\n",
    "import numpy as np\n",
    "import matplotlib.pyplot as plt\n",
    "plt.style.use('ggplot')\n",
    "\n",
    "nx, ny = 0.25, 0.25\n",
    "x = np.arange(-3, 3, nx)\n",
    "y = np.arange(-3, 3, ny)\n",
    "\n",
    "X, Y = np.meshgrid(x, y)\n",
    "\n",
    "dy = (X*X -Y*Y)\n",
    "dx = np.ones(dy.shape)\n",
    "\n",
    "plt.figure(figsize=(10, 10))\n",
    "plt.quiver(X, Y, dx, dy, color='red')\n",
    "plt.xticks(np.arange(-3, 3.5))\n",
    "plt.yticks(np.arange(-3, 3.5))\n",
    "plt.xlabel('x')\n",
    "plt.ylabel('y')\n",
    "plt.title(r'$\\frac{dy}{dx}=x^2-y^2$')\n",
    "plt.show()"
   ]
  }
 ],
 "metadata": {
  "kernelspec": {
   "display_name": "Python 3 (ipykernel)",
   "language": "python",
   "name": "python3"
  },
  "language_info": {
   "codemirror_mode": {
    "name": "ipython",
    "version": 3
   },
   "file_extension": ".py",
   "mimetype": "text/x-python",
   "name": "python",
   "nbconvert_exporter": "python",
   "pygments_lexer": "ipython3",
   "version": "3.9.13"
  }
 },
 "nbformat": 4,
 "nbformat_minor": 4
}
