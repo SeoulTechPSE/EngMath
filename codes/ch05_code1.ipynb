{
 "cells": [
  {
   "cell_type": "code",
   "execution_count": null,
   "metadata": {},
   "outputs": [],
   "source": [
    "%matplotlib inline\n",
    "import matplotlib.pyplot as plt\n",
    "plt.style.use('ggplot')\n",
    "\n",
    "import numpy as np\n",
    "from scipy.special import jv, yv"
   ]
  },
  {
   "cell_type": "code",
   "execution_count": null,
   "metadata": {},
   "outputs": [],
   "source": [
    "fig = plt.figure(figsize=(12, 12))\n",
    "\n",
    "ax1 = fig.add_subplot(211)\n",
    "\n",
    "x = np.linspace(0, 20, 200)\n",
    "for m in range(5):\n",
    "    y = jv(m, x)\n",
    "    ax1.plot(x, y, label=r'$J_%d(x)$' % m)\n",
    "\n",
    "ax1.axis((0, 20, -0.6, 1))    \n",
    "\n",
    "ax1.set_title(r'$J_m(x), m=0,1,2,3,4$')\n",
    "#ax1.set_xlabel('x')\n",
    "ax1.set_ylabel('y')\n",
    "ax1.legend()\n",
    "\n",
    "ax2 = fig.add_subplot(212)\n",
    "\n",
    "for m in range(5):\n",
    "    y = yv(m, x)\n",
    "    ax2.plot(x, y, label=r'$Y_%d(x)$' % m)\n",
    "\n",
    "ax2.axis((0, 20, -3, 1))    \n",
    "\n",
    "ax2.set_title(r'$Y_m(x), m=0,1,2,3,4$')\n",
    "ax2.set_xlabel('x')\n",
    "ax2.set_ylabel('y')\n",
    "ax2.legend()\n",
    "\n",
    "plt.show()"
   ]
  }
 ],
 "metadata": {
  "kernelspec": {
   "display_name": "Python 3 (ipykernel)",
   "language": "python",
   "name": "python3"
  },
  "language_info": {
   "codemirror_mode": {
    "name": "ipython",
    "version": 3
   },
   "file_extension": ".py",
   "mimetype": "text/x-python",
   "name": "python",
   "nbconvert_exporter": "python",
   "pygments_lexer": "ipython3",
   "version": "3.9.13"
  }
 },
 "nbformat": 4,
 "nbformat_minor": 4
}
