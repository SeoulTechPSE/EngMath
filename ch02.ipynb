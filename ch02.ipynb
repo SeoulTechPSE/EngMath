{
 "cells": [
  {
   "cell_type": "markdown",
   "metadata": {
    "slideshow": {
     "slide_type": "skip"
    }
   },
   "source": [
    "[![Open In Colab](https://colab.research.google.com/assets/colab-badge.svg)](https://colab.research.google.com/github/SeoulTechPSE/EngMath/blob/master/ch02.ipynb)"
   ]
  },
  {
   "cell_type": "markdown",
   "metadata": {
    "slideshow": {
     "slide_type": "slide"
    }
   },
   "source": [
    "# Chapter 2. First-Order Differential Equations"
   ]
  },
  {
   "cell_type": "markdown",
   "metadata": {
    "slideshow": {
     "slide_type": "fragment"
    }
   },
   "source": [
    "## Contents\n",
    "\n",
    "* Solution Curves Without a Solution\n",
    "* Separable Equations\n",
    "* Linear Equations\n",
    "* Exact Equations\n",
    "* Solutions by Substitutions\n",
    "* A Numerical Method\n",
    "* Linear Models\n",
    "* Nonlinear Models\n",
    "* Modeling with Systems of First-Order DEs"
   ]
  },
  {
   "cell_type": "markdown",
   "metadata": {
    "slideshow": {
     "slide_type": "slide"
    }
   },
   "source": [
    "## 2.1 Solution Curves Without a Solution"
   ]
  },
  {
   "cell_type": "markdown",
   "metadata": {
    "slideshow": {
     "slide_type": "fragment"
    }
   },
   "source": [
    "* DEs can be analyzed qualitatively, $~$allowing us to approximate a solution curve without solving the problem\n",
    "* Two approches are:\n",
    "    * Direction fields\n",
    "    * Autonomous first-order DEs "
   ]
  },
  {
   "cell_type": "markdown",
   "metadata": {
    "slideshow": {
     "slide_type": "slide"
    }
   },
   "source": [
    "* Direction fields: \n",
    "    \n",
    "  * Slope of the **lineal element** at $(x,y(x))$ on a solution curve is the value of $\\displaystyle\\frac{dy}{dx}$ at this point\n",
    "  * **Direction/slope fields** of $\\displaystyle\\frac{dy}{dx}=f(x,y)$ are collections of lineal slope elements that visually suggest the shape of a family of solution curves: $~$For example, $~$$\\displaystyle\\frac{dy}{dx}=\\sin y$ \n",
    "    \n",
    "    <center><img src=\"figures/ch02_figure01.png\" width=\"500\"></center> "
   ]
  },
  {
   "cell_type": "markdown",
   "metadata": {
    "slideshow": {
     "slide_type": "slide"
    }
   },
   "source": [
    "* **Autonomous** first-order DEs, $\\displaystyle\\frac{dy}{dx}=f(y)$\n",
    "  * An ODE in which the independent variable does not appear explicitly\n",
    "     \n",
    "    \\begin{align*}\n",
    "         \\frac{dy}{dx} &= 1+y^2 & \\mathrm{autonomous} \\\\\n",
    "         \\frac{dy}{dx} &= 0.2xy & \\mathrm{nonautonomous}\n",
    "    \\end{align*}\n",
    "     \n",
    "    $~$ \n",
    "  * **Critical points**, $f(c)=0$, $~$are constant (or equilibrium) solutions of autonomous DEs\n",
    "  * A **phase portrait** is made by putting critical points on a virtical line with phase lines pointing up or down, depending on the sign of the function over intervals between the points\n",
    "  * Some conclusions can be drawn about nonconstant solution curves to autonomous DEs\n",
    "    * If a solution $y(x)$ passes through $(x_0,y_0)$ in subregion $R_i$ then $y(x)$ remains in $R_i$\n",
    "    * By continuity of $f$, $~f(y)$ cannot change signs in a subregion $R_i$\n",
    "    * Since $f(y)$ is either positive or negative in $R_i$, $~$a solution is either increasing or decreasing and has no relative extremum"
   ]
  },
  {
   "cell_type": "markdown",
   "metadata": {
    "slideshow": {
     "slide_type": "slide"
    }
   },
   "source": [
    "* **Example:** $~$Phase portrait and solution curves\n",
    "    \n",
    "    $\\displaystyle \\frac{dP}{dt} = P(a-bP)$\n",
    "    \n",
    "     <img src=\"figures/ch02_figure02.png\" width=\"600\">"
   ]
  },
  {
   "cell_type": "markdown",
   "metadata": {
    "slideshow": {
     "slide_type": "slide"
    }
   },
   "source": [
    "### Exercises 2.1\n",
    "\n",
    " [![Open In Colab](https://colab.research.google.com/assets/colab-badge.svg)](https://colab.research.google.com/github/SeoulTechPSE/EngMath/blob/master/codes/ch02_code1.ipynb) [![Open in My Computer](./figures/my_computer.jpg)](./codes/ch02_code1.ipynb)"
   ]
  },
  {
   "cell_type": "markdown",
   "metadata": {
    "slideshow": {
     "slide_type": "fragment"
    }
   },
   "source": [
    "* Reproduce the given computer-generated direction field. Then sketch, by  hand, an approximate solution curve that passes through each of the indicated points: $~\\frac{df}{dx}=x^2-y^2$, $~$(a) $y(-2)=1$, $~$(b) $y(3)=0$, $~$(c) $y(0)=2$, $~$(d) $y(0)=0$"
   ]
  },
  {
   "cell_type": "code",
   "execution_count": null,
   "metadata": {
    "slideshow": {
     "slide_type": "fragment"
    }
   },
   "outputs": [],
   "source": [
    "%run ./codes/ch02_code1.ipynb"
   ]
  },
  {
   "cell_type": "markdown",
   "metadata": {
    "slideshow": {
     "slide_type": "slide"
    }
   },
   "source": [
    "* Consider the autonomous first-order differential equation $dy/dx=y^2-y^4$ and the initial condition $y(0)=y_0$. By hand, sketch the graph of a typical solution $y(x)$ when $y_0$ has the given values.\n",
    "\n",
    "  (a) $~y_0>1$\n",
    "  \n",
    "  (b) $~0<y_0<1$\n",
    "  \n",
    "  (c) $-1<y_0<0$\n",
    "  \n",
    "  (d) $~y_0< -1$"
   ]
  },
  {
   "cell_type": "markdown",
   "metadata": {
    "slideshow": {
     "slide_type": "slide"
    }
   },
   "source": [
    "## 2.2 Separable Equations"
   ]
  },
  {
   "cell_type": "markdown",
   "metadata": {
    "slideshow": {
     "slide_type": "fragment"
    }
   },
   "source": [
    "* Consider $\\displaystyle\\frac{dy}{dx}=f(x)$\n",
    "    * When $f$ does not depend on $y$, $~\\displaystyle\\frac{dy}{dx}=f(x)\\text{ }$, $~$which can be solved by integration\n",
    "    * The solution $\\displaystyle y=\\int f(x) dx = F(x) +c\\text{ }$ where $F(x)$ is an antiderivative (indefinite integral)\n",
    "    * Some functions, termed **nonelementary**, $~$do not possess an antiderivative that is an elementary function"
   ]
  },
  {
   "cell_type": "markdown",
   "metadata": {
    "slideshow": {
     "slide_type": "fragment"
    }
   },
   "source": [
    "* A first-order DE of the form $\\displaystyle\\frac{dy}{dx}=g(x)h(y)$ is said to be **separable**, or have **separable variables**\n",
    "* A separable equation can be rewritten in the form $\\displaystyle\\frac{1}{h(y)}dy=g(x)dx$, $~$which is solved by integrating both sides"
   ]
  },
  {
   "cell_type": "markdown",
   "metadata": {
    "slideshow": {
     "slide_type": "slide"
    }
   },
   "source": [
    "* **Example:** $\\text{ }$ Solve a separable equation $\\displaystyle\\frac{dy}{dx}=y^2-9$, $\\;y(0)=0$\n",
    "\n",
    " Separating and using partial fractions\n",
    " \n",
    " $\n",
    " \\begin{align*}\n",
    "    \\frac{dy}{(y-3)(y+3)} &= dx \\\\ \n",
    "    \\frac{1}{6} \\left [ \\frac{1}{y-3} -\\frac{1}{y+3} \\right ] dy &= dx\n",
    " \\end{align*}\n",
    " $\n",
    "\n",
    " Integrating and solving for $y$ yields\n",
    "\n",
    " $\n",
    " \\begin{align*}\n",
    "    \\frac{1}{6} \\ln \\left | \\frac{y-3}{y+3} \\right | &= x+c_1\\\\ \n",
    "    &\\Downarrow c=e^{6c_1} \\\\\n",
    "     y &= 3 \\frac{1+ce^{6x}}{1-ce^{6x}}&\n",
    " \\end{align*}\n",
    " $\n",
    " \n",
    "  Finally, $~$applying $y(0)=0~$ gives $c=-1$"
   ]
  },
  {
   "cell_type": "markdown",
   "metadata": {
    "slideshow": {
     "slide_type": "slide"
    }
   },
   "source": [
    "### Exercises 2.2  [![Open In Colab](https://colab.research.google.com/assets/colab-badge.svg)](https://colab.research.google.com/github/SeoulTechPSE/EngMath/blob/master/exercises/ch02_exer02.ipynb) [![Open in My Computer](./figures/my_computer.jpg)](./exercises/ch02_exer02.ipynb)\n",
    "\n",
    "* 23\n",
    "* 31, 36"
   ]
  },
  {
   "cell_type": "markdown",
   "metadata": {
    "slideshow": {
     "slide_type": "slide"
    }
   },
   "source": [
    "## 2.3 Linear Equations"
   ]
  },
  {
   "cell_type": "markdown",
   "metadata": {
    "slideshow": {
     "slide_type": "fragment"
    }
   },
   "source": [
    "A first-order DE of the form $\\displaystyle a_1(x) \\frac{dy}{dx} +a_0(x)y = g(x)~$ is a **linear equation** in the dependent variable $y$\n",
    "\n",
    "* The DE is **homogeneous** when $g(x)=0$; $~$otherwise, $~$it is **nonhomogeneous**\n",
    "* The standard form of a linear DE is obtained by dividing both sides by the lead coefficient\n",
    "    \n",
    " $\\displaystyle\\frac{dy}{dx}+P(x)y=f(x)$ "
   ]
  },
  {
   "cell_type": "markdown",
   "metadata": {
    "slideshow": {
     "slide_type": "slide"
    }
   },
   "source": [
    "The **standard form** equation has the property that its solution $y$ is the sum of the solution of the associated homogeneous equation $y_h$ and the particular solution of the nonhomogeneous equation $y_p$: $~y=y_h +y_p$\n",
    "\n",
    "* The homogeneous equation $\\displaystyle\\frac{dy_h}{dx} +P(x)y_h= 0~$ is separable, $~$allowing us to solve for $y_h$\n",
    "\n",
    "  $\n",
    "  \\begin{align*}\n",
    "    \\frac{dy_h}{y_h} &= -P(x)dx \\\\\n",
    "    \\ln |y_h| &= -\\int P(x)dx +c' \\Rightarrow y_h = c \\exp\\left( -\\int P(x) dx \\right)    \n",
    "  \\end{align*}\n",
    "  $\n",
    "    \n",
    "* **Variation of parameters** $y_p=u(x)y_h$ can be used to solve the nonhomogeneous equation of $y_p$\n",
    "\n",
    "  $\n",
    "  \\begin{align*}\n",
    "    y_h \\frac{du}{dx} +& \\underbrace{\\left (\\frac{dy_h}{dx} +P(x) y_h  \\right )}_{=\\,0} u = f(x)\\\\\n",
    "    & du = \\frac{f(x)}{y_h} dx \\Rightarrow u = \\displaystyle\\int \\frac{f(x)}{y_h(x)} dx\n",
    "  \\end{align*}\n",
    "  $"
   ]
  },
  {
   "cell_type": "markdown",
   "metadata": {
    "slideshow": {
     "slide_type": "slide"
    }
   },
   "source": [
    "### Exercises 2.3\n",
    "\n",
    "* Find the general solution of the given differential equation:\n",
    "  \n",
    "  $\\displaystyle \\frac{dy}{dx} + 2y=0$\n",
    "  \n",
    "  $\\displaystyle y' +2xy=x^3$\n",
    "  \n",
    "  $\\displaystyle x\\frac{dy}{dx} +2y=3$\n",
    "  \n",
    "  $\\displaystyle xy' +(1+x)y=e^{-x} \\sin 2x$"
   ]
  },
  {
   "cell_type": "markdown",
   "metadata": {
    "slideshow": {
     "slide_type": "slide"
    }
   },
   "source": [
    "* Solve the given initial-value problem. Give the largest interval $I$ over which the solution is defined.\n",
    "\n",
    "  $\\displaystyle y\\frac{dx}{dy} -x=2y^2, \\;\\; y(1)=5$\n",
    "  \n",
    "  $\\displaystyle (x+1)\\frac{dy}{dx}+y = \\ln x, \\;\\;y(1)=10$"
   ]
  },
  {
   "cell_type": "markdown",
   "metadata": {
    "slideshow": {
     "slide_type": "slide"
    }
   },
   "source": [
    "* The given differential equation is not linear in $y$. $~$Nevertheless, find a general solution of the equation\n",
    "\n",
    "  $dx=(x+y^2)dy$\n",
    "  \n",
    "  $ydx + (2x + xy-3)dy=0$"
   ]
  },
  {
   "cell_type": "markdown",
   "metadata": {
    "slideshow": {
     "slide_type": "slide"
    }
   },
   "source": [
    "* Express the solution of the given initial-value problem in terms of an integral-defined function\n",
    "\n",
    "  $\\displaystyle \\frac{dy}{dx} + e^x y = 1, \\;\\;y(0)=1$\n",
    "  \n",
    "  $\\displaystyle x^2 \\frac{dy}{dx} - y = x^2, \\;\\; y(1)=0$"
   ]
  },
  {
   "cell_type": "markdown",
   "metadata": {
    "slideshow": {
     "slide_type": "slide"
    }
   },
   "source": [
    "* The sine integral function is defined as\n",
    "\n",
    "  >$\\displaystyle \\mathrm{Si}(x)=\\int_0^x \\frac{\\sin t }{t} \\,dt$,\n",
    "  \n",
    "  where the integrand is defined to be 1 at $x=0$. Express the solution of the initial value problem\n",
    "  \n",
    "  >$\\displaystyle x^3 \\frac{dy}{dx} + 2x^2 y = 10 \\sin x, \\;\\; y(1)=0$\n",
    "  \n",
    "  in terms of $\\mathrm{Si}(x)$"
   ]
  },
  {
   "cell_type": "markdown",
   "metadata": {
    "slideshow": {
     "slide_type": "slide"
    }
   },
   "source": [
    "* The Fresnel sine integral function is defined as\n",
    "\n",
    "  >$\\displaystyle \\mathrm{S}(x)=\\int_0^x \\sin\\left( \\frac{\\pi}{2}t^2\\right) \\,dt$,\n",
    "  \n",
    "  Express the solution of the initial value problem\n",
    "  \n",
    "  >$\\displaystyle \\frac{dy}{dx} -\\sin x^2\\, y = 0, \\;\\; y(0)=0$\n",
    "  \n",
    "  in terms of $\\mathrm{S}(x)$"
   ]
  },
  {
   "cell_type": "markdown",
   "metadata": {
    "slideshow": {
     "slide_type": "slide"
    }
   },
   "source": [
    "## 2.4 Exact Equations"
   ]
  },
  {
   "cell_type": "markdown",
   "metadata": {
    "slideshow": {
     "slide_type": "fragment"
    }
   },
   "source": [
    "A differential expression $M(x,y)dx + N(x,y)dy~$ is an **exact differential** in a region $R$ of the $xy$-plane if it corresponds to the differential of some function $f(x,y)$:\n",
    "\n",
    "> $\\displaystyle df(x,y)=\\frac{\\partial f}{\\partial x} dx +\\frac{\\partial f}{\\partial y} dy$\n",
    "\n",
    "and a condition of exact differentials is: \n",
    "\n",
    "> $\\displaystyle\\frac{\\partial M}{\\partial y}=\\frac{\\partial N}{\\partial x}$\n",
    "\n",
    "\n",
    "$M(x,y)dx + N(x,y)dy=0~$ is an **exact equation** if the left side is an exact differential"
   ]
  },
  {
   "cell_type": "markdown",
   "metadata": {
    "slideshow": {
     "slide_type": "slide"
    }
   },
   "source": [
    "**Example:** $\\text{ }$ Solving an exact DE, $\\;2xy\\,dx+(x^2-1)\\,dy=0$\n",
    "* With $M(x,y)=2xy$ and $N(x,y)=x^2-1$, $~$we have:\n",
    "\n",
    "  $\\displaystyle\\frac{\\partial M}{\\partial y}=2x=\\frac{\\partial N}{\\partial x}$\n",
    "\n",
    "* The equation is exact so there exists $f(x,y)$ such that\n",
    "\n",
    "  $\\displaystyle\n",
    "    \\frac{\\partial f}{\\partial x} = 2xy, \\;\\; \\frac{\\partial f}{\\partial y} = x^2 -1\n",
    "  $\n",
    "\n",
    "* Integrating $\\displaystyle\\frac{\\partial f}{\\partial x}$ gives $f(x,y)=x^2y+g(y)$\n",
    "\n",
    "* Taking the partial derivative of $\\displaystyle f(x,y)$ with respect to $y$ and setting the result equal to $N(x,y)$ gives\n",
    "\n",
    "  $\\displaystyle\\frac{\\partial f}{\\partial y}=x^2+g'(y)=x^2-1$\n",
    "\n",
    "* It follows that $g'(y)=-1$ and $g(y)=-y+c$. $~$Hence the solution in implicit form is $x^2y-y+c=0$"
   ]
  },
  {
   "cell_type": "markdown",
   "metadata": {
    "slideshow": {
     "slide_type": "slide"
    }
   },
   "source": [
    "**Integrating Factor** of the first-order linear DE\n",
    " \n",
    "$\n",
    "\\begin{align*}\n",
    "\\frac{dy}{dx} +P(x)y &= f(x)\\\\ \n",
    "\\left ( P(x)y -f(x) \\right )dx +dy &= 0\\\\ \n",
    " &\\Downarrow \\times \\; I(x): \\mathbf{Integrating} \\; \\mathbf{Factor}\\\\ \n",
    "I(x)\\left ( P(x)y -f(x) \\right )dx +I(x)dy &= 0 \\\\\n",
    "\\\\\n",
    "\\mathbf{To\\; be\\; an\\; exact \\;equation\\;}&\\big\\Downarrow \\\\\n",
    "\\frac{\\partial}{\\partial y} \\left\\{I(x)\\left( P(x)y -f(x) \\right)  \\right \\} = I(x) P(x) &=\\frac{\\partial}{\\partial x} I(x) \\Rightarrow\n",
    "I(x) = \\exp\\left(\\int P(x) dx\\right)\n",
    "\\end{align*}$\n",
    "\n",
    "Then\n",
    "\n",
    "$\\begin{align*}\n",
    "    I(x) \\frac{dy}{dx} +I(x) P(x)y &= I(x)f(x) \\; \\Rightarrow \\; \\frac{d}{dx}\\left\\{ I(x)y \\right \\} = I(x)f(x) \\\\\n",
    "    &\\Downarrow \\\\\n",
    "    y = c I(x)^{-1} &+I(x)^{-1} \\int I(x) f(x) dx\n",
    "  \\end{align*}$"
   ]
  },
  {
   "cell_type": "markdown",
   "metadata": {
    "slideshow": {
     "slide_type": "slide"
    }
   },
   "source": [
    "**Example:** $\\text{ }$ Solve $\\displaystyle\\frac{dy}{dx} -2xy = 2, \\;y(0)=1$\n",
    "\n",
    "*Solution*\n",
    "\n",
    "$\n",
    "\\begin{align*}\n",
    "\\frac{dy}{dx} -2xy &= 2\\\\ \n",
    "& \\Downarrow \\times \\;e^{-x^2} \\\\ \n",
    "\\frac{d}{dx}[e^{-x^2}y] &= 2e^{-x^2}\\\\ \n",
    "y &= c e^{x^2} +2e^{x^2} \\int_0^x e^{-t^2} dt\\\\\n",
    "& \\big\\Downarrow \\;y(0) = 1 \\rightarrow c=1 \\\\ \n",
    "y &= e^{x^2} \\left[ 1 +\\sqrt{\\pi} \\underbrace{\\left(\\frac{2}{\\sqrt{\\pi}} \\int_0^x e^{-t^2} dt \\right)}_{\\mathrm{erf}(x)} \\right ]\n",
    "  = e^{x^2} \\left[1 +\\sqrt{\\pi} \\mathrm{erf} (x) \\right]\n",
    "\\end{align*}\n",
    "$"
   ]
  },
  {
   "cell_type": "markdown",
   "metadata": {
    "slideshow": {
     "slide_type": "slide"
    }
   },
   "source": [
    "### Exercises 2.4\n",
    "\n",
    "* Determine whether the given differential equation is exact. If it is exact, solve it\n",
    "\n",
    "  $(2x - 1)dx + (3y+7)dy=0$\n",
    "  \n",
    "  $(5x + 4y)dx + (4x-8y^2)dy=0$\n",
    "  \n",
    "  $(2xy^2-3)dx +(2x^2y+4)dy=0$\n",
    "  \n",
    "  $(x^2 -y^2)dx+(x^2-2xy)dy=0$"
   ]
  },
  {
   "cell_type": "markdown",
   "metadata": {
    "slideshow": {
     "slide_type": "slide"
    }
   },
   "source": [
    "* Solve the given initial-value problem\n",
    "\n",
    "  $(x+y)^2 dx + (2xy +x^2-1)dy = 0, \\;\\;y(1)=1$\n",
    "  \n",
    "  $(4y + 2t -5)dt + (6y +4t-1)dy=0, \\;\\;y(-1)=2$\n",
    "\n",
    "  $~$\n",
    "\n",
    "* Solve the given differential equation by finding an appropriate integrating factor\n",
    "\n",
    "  $y(x+y+1)dx + (x+2y)dy=0$\n"
   ]
  },
  {
   "cell_type": "markdown",
   "metadata": {
    "slideshow": {
     "slide_type": "slide"
    }
   },
   "source": [
    "## 2.5 Solutions by Substitutions"
   ]
  },
  {
   "cell_type": "markdown",
   "metadata": {
    "slideshow": {
     "slide_type": "fragment"
    }
   },
   "source": [
    "> **Substitution** is often used to get a DE in a form that a known procedure can be used to find a solution\n",
    "\n",
    "* Reduction to separation of variables can be facilitated in the DE $\\displaystyle\\frac{dy}{dx}=f(Ax+By+C)~$ by substituting $u=Ax+By+C, \\;B \\neq 0$\n",
    "  \n",
    "  **Example:** $\\text{ }$ Solve the IVP $\\displaystyle\\frac{dy}{dx} = (-2x +y)^2 -7, \\;y(0)=0$\n",
    "  \n",
    "  Let $u=-2x+y$, $~$then $\\displaystyle\\frac{du}{dx}=-2 + \\frac{dy}{dx}$ giving\n",
    "  \n",
    "  $\\displaystyle\\frac{du}{dx} = u^2 -9$"
   ]
  },
  {
   "cell_type": "markdown",
   "metadata": {
    "slideshow": {
     "slide_type": "slide"
    }
   },
   "source": [
    "* **Homogeneous** first-order DE\n",
    " \n",
    " A first-order ordinary DE in the form: $\\text{ }\\displaystyle\\frac{dy}{dx}=f(x,y) = - \\frac{M(x,y)}{N(x,y)}$\n",
    " \n",
    " is a homogeneous type if both function $M(x,y)$ and $N(x,y)$ are homogeneous functions of the same degree $n$:\n",
    " \n",
    " $\\text{ }\\;\\;\\;M(\\lambda x, \\lambda y) = \\lambda^n M(x, y), \\;\\; N(\\lambda x, \\lambda y) = \\lambda^n N(x, y)$.\n",
    " \n",
    " Thus, $~$we can let $t=\\frac{1}{x}$ to simplify this quotient to a function $f$ of the single variable $\\frac{y}{x}$:\n",
    "\n",
    " $\\text{ }\\;\\;\\;\\displaystyle\\frac{M(x, y)}{N(x, y)}=\\frac{M(t x,t y)}{N(t x, t y)} = \\frac{M\\left(1, \\frac{y}{x}\\right)}{N\\left(1,\\frac{y}{x}\\right)}=-f\\left(\\frac{y}{x}\\right)$.\n",
    " \n",
    " That is, $~\\displaystyle\\frac{dy}{dx}=f\\left(\\frac{y}{x}\\right)$\n",
    "  \n",
    " The change of variables $y=ux$ transforms the original differential equation into the separable form:\n",
    "  \n",
    " $\\text{ }\\;\\;\\;\\displaystyle\\frac{du}{f(u)-u}=\\frac{dx}{x}$"
   ]
  },
  {
   "cell_type": "markdown",
   "metadata": {
    "slideshow": {
     "slide_type": "slide"
    }
   },
   "source": [
    "* **Bernoulli** DE: $\\text{ }$ $y'+P(x)y =Q(x)y^{n}$ where $n \\neq 0$ and $n \\neq 1$\n",
    "\n",
    " Bernoulli equations are special because they are nonlinear differential equations with known exact solutions. \n",
    " The substitution $u=y^{1-n}$ reduces any Bernoulli equation to a linear differential equation\n",
    " \n",
    " **Example:**$\\text{ }$ Solve $\\displaystyle y'-\\frac{2}{x}y=-x^2y^2$\n",
    " \n",
    " Changing variables $\\displaystyle u=\\frac{1}{y}$, $~$$\\displaystyle u'=-\\frac{1}{y^2}y'$ gives the equation\n",
    " \n",
    " $\\text{ }\\;\\;\\;\\displaystyle u'+\\frac{2}{x}u=x^2$"
   ]
  },
  {
   "cell_type": "markdown",
   "metadata": {
    "slideshow": {
     "slide_type": "slide"
    }
   },
   "source": [
    "* **Riccatti** DE\n",
    "\n",
    " Riccati equation is any first-order ordinary differential equation that is quadratic in the unknown function. In other words, it is an equation of the form\n",
    " \n",
    " $\\text{ }\\;\\;\\; y'=q_0(x)+q_1(x)y+q_2(x)y^2$, where $q_0(x)\\neq 0$ and $q_2(x)\\neq 0$\n",
    " \n",
    " The new variable $v=yq_2$ satisfies a Riccati equation of the form\n",
    " \n",
    " $\\text{ }\\;\\;\\; v'=v^2+R(x)v+S(x)$\n",
    " \n",
    " where  $S=q_2 q_0$ and $\\displaystyle R=q_{1}+\\left({\\frac{q_{2}'}{q_{2}}}\\right)$. \n",
    " $~$Substituting $\\displaystyle v=-\\frac{u'}{u\\,}$, $~$it follows that $u$ satisfies the linear 2nd order ODE\n",
    " \n",
    " $\\text{ }\\;\\;\\; u''-R(x)u'+S(x)u=0$.\n",
    " \n",
    " A solution of this equation will lead to a solution $\\displaystyle y=-\\frac{u'}{q_2u}$ of the original Riccati equation"
   ]
  },
  {
   "cell_type": "markdown",
   "metadata": {
    "slideshow": {
     "slide_type": "slide"
    }
   },
   "source": [
    "### Exercises 2.5\n",
    "\n",
    "* Solve the given differential equation by using an appropriate substitution\n",
    "\n",
    "  $(x-y)dx+xdy=0$\n",
    "  \n",
    "  $xdx+(y-2x)dy=0$\n",
    "  \n",
    "  $\\displaystyle \\frac{dy}{dx}=\\frac{y-x}{y+x}$\n",
    "  \n",
    "  $\\displaystyle x\\frac{dy}{dx}=y+\\sqrt{x^2-y^2}, \\;\\;x>0$\n"
   ]
  },
  {
   "cell_type": "markdown",
   "metadata": {
    "slideshow": {
     "slide_type": "slide"
    }
   },
   "source": [
    "* Solve the given initial-value problem\n",
    "\n",
    "  $\\displaystyle xy^2 \\frac{dy}{dx}=y^3-x^3, \\;\\;y(1)=2$\n",
    "  \n",
    "  $\\displaystyle (x^2 +2y^2) \\frac{dx}{dy}=xy, \\;\\; y(-1)=1$\n"
   ]
  },
  {
   "cell_type": "markdown",
   "metadata": {
    "slideshow": {
     "slide_type": "slide"
    }
   },
   "source": [
    "* Solve the given differential equation by using an appropriate substitution\n",
    "\n",
    "  $\\displaystyle x\\frac{dy}{dx} +y =\\frac{1}{y^2}$\n",
    "  \n",
    "  $\\displaystyle 3(1+t^2)\\frac{dy}{dt}=2ty(y^3-1)$\n",
    "  \n",
    "  $\\displaystyle \\frac{dy}{dx}=\\cos (x+y), \\;\\;y(0)=\\frac{\\pi}{4}$\n",
    "\n",
    "\n",
    "  $~$\n",
    "* 35, 37"
   ]
  },
  {
   "cell_type": "markdown",
   "metadata": {
    "slideshow": {
     "slide_type": "slide"
    }
   },
   "source": [
    "## 2.6 A Numerical Method"
   ]
  },
  {
   "cell_type": "markdown",
   "metadata": {
    "slideshow": {
     "slide_type": "fragment"
    }
   },
   "source": [
    "**Numerical method:** $\\text{ }$ an algorithm for approximating the unknown solution to a DE\n",
    "\n",
    "* **Linearization** approximates solutions within a small area around lineal elements in direction fields\n",
    "* The procedure of evaluating successive tangent lines is $~$**Euler's method**\n",
    "\n",
    "    <center><img src=\"figures/ch02_figure03.png\" width=\"450\"></center> "
   ]
  },
  {
   "cell_type": "markdown",
   "metadata": {
    "slideshow": {
     "slide_type": "slide"
    }
   },
   "source": [
    " **Example:** $\\text{ }$ Consider $y'=0.1\\sqrt{y}+0.4x^2, \\;y(2)=4$ and approximate $y(2.5)$ using $h=0.1$\n",
    " \n",
    " * Substituting into the general formula for Euler's method gives\n",
    " > $y_{n+1}=y_n +h\\left(0.1\\sqrt{y_n}+0.4x_n^2 \\right)$\n",
    " \n",
    " * Considering the initial condition and $n=0$\n",
    " \n",
    " > $\n",
    "   \\begin{align*}\n",
    "    y_1 &= 4+0.1\\left( 0.1\\sqrt{4}+0.4 \\cdot2^2\\right ) =4.1800 \\\\ \n",
    "    y_2 &= 4.18 +0.1\\left( 0.1\\sqrt{4.18}+0.4 \\cdot2.1^2\\right ) =4.3768 \\\\ \n",
    "    & \\vdots \\\\\n",
    "    y_5 &= 5.0768\n",
    "   \\end{align*}\n",
    "   $ "
   ]
  },
  {
   "cell_type": "code",
   "execution_count": null,
   "metadata": {
    "scrolled": false,
    "slideshow": {
     "slide_type": "slide"
    }
   },
   "outputs": [],
   "source": [
    "%run ./codes/ch02_code2.ipynb"
   ]
  },
  {
   "cell_type": "markdown",
   "metadata": {
    "slideshow": {
     "slide_type": "fragment"
    }
   },
   "source": [
    " [![Open In Colab](https://colab.research.google.com/assets/colab-badge.svg)](https://colab.research.google.com/github/SeoulTechPSE/EngMath/blob/master/codes/ch02_code2.ipynb) [![Open in My Computer](./figures/my_computer.jpg)](./codes/ch02_code2.ipynb)"
   ]
  },
  {
   "cell_type": "markdown",
   "metadata": {
    "slideshow": {
     "slide_type": "slide"
    }
   },
   "source": [
    "### Exercises 2.6\n",
    "\n",
    "* Use Euler's method to obtain a four-decimal approximation of the indicated value. Carry out the recursion, first using $h=0.1$ and then using $h=0.05$\n",
    " \n",
    "  $y'=2x-3y+1, \\;\\; y(1)=5; \\;\\;y(1.2)$\n",
    "\n",
    "  $~$\n",
    "* 3, 5"
   ]
  },
  {
   "cell_type": "markdown",
   "metadata": {
    "slideshow": {
     "slide_type": "slide"
    }
   },
   "source": [
    "## 2.7 Linear Models"
   ]
  },
  {
   "cell_type": "markdown",
   "metadata": {
    "slideshow": {
     "slide_type": "fragment"
    }
   },
   "source": [
    "**Example:** $\\text{ }$ Series Circuits\n",
    "\n",
    "* For a series circuit containing a resister $R$ and an inductor $L$, $~$Kirchoff's second law gives\n",
    "\n",
    "  $\\displaystyle L\\frac{di}{dt}+Ri=E(t)$\n",
    " \n",
    "  ![LR-series circuit](figures/ch02_figure04.png)"
   ]
  },
  {
   "cell_type": "markdown",
   "metadata": {
    "slideshow": {
     "slide_type": "slide"
    }
   },
   "source": [
    "* For a series circuit containing a resister and a capacitor, $~$Kirchoff's second law gives\n",
    "  \n",
    "  $\\displaystyle Ri+\\frac{1}{C}q=E(t)$\n",
    "  \n",
    "  where $\\displaystyle i=\\frac{dq}{dt}$. $~$Then $~$$\\displaystyle R\\frac{dq}{dt}+\\frac{1}{C}q=E(t)$\n",
    "  \n",
    "  ![RC-series circuit](figures/ch02_figure05.png) "
   ]
  },
  {
   "cell_type": "markdown",
   "metadata": {
    "slideshow": {
     "slide_type": "slide"
    }
   },
   "source": [
    "### Exercises 2.7\n",
    "\n",
    "* The population of a community is known to increase at a rate proportional to the number of people present at time $t$. If an initial population $P_0$ has doubled in 5 years, how long will it take to triple? To quadruple?\n",
    "\n",
    "  $~$\n",
    "* 11, 13, 21, 29, 35"
   ]
  },
  {
   "cell_type": "markdown",
   "metadata": {
    "slideshow": {
     "slide_type": "slide"
    }
   },
   "source": [
    "## 2.8 Nonlinear Models"
   ]
  },
  {
   "cell_type": "markdown",
   "metadata": {
    "cell_style": "center",
    "slideshow": {
     "slide_type": "fragment"
    }
   },
   "source": [
    "**Example:** $\\text{ }$ The logistic model. \n",
    "\n",
    "* Verhulst proposed a model, called the logistic model, for population growth in 1838. It does not assume unlimited resources. Instead, it assumes there is a carrying capacity $K$ for the population. \n",
    "\n",
    "* This carrying capacity is the stable population level. If the population is above $K$, then the population will decrease, but if below, then it will increase."
   ]
  },
  {
   "cell_type": "markdown",
   "metadata": {
    "cell_style": "center",
    "slideshow": {
     "slide_type": "fragment"
    }
   },
   "source": [
    "\n",
    "* For this model, it is assumed that ther rate of\n",
    "change $\\displaystyle\\frac{dy}{dt}$ of the population $y$ is proportional to the product of the current population $y$ and $K − y$\n",
    "\n",
    "> That gives us the logistic differential\n",
    "equation\n",
    "\n",
    "$$\\frac{dy}{dt}=\\alpha y(K-y)$$"
   ]
  },
  {
   "cell_type": "markdown",
   "metadata": {
    "slideshow": {
     "slide_type": "slide"
    }
   },
   "source": [
    "### Exercises 2.8\n",
    "\n",
    "* The number $N(t)$ of people in a community who are exposed to a particular advertisement is governed by the logistic equation. Initially $N(0)=500$, and it is observed that $N(1)=1000$. Solve for $N(t)$ if it is predicted that the limiting number of people in the community who will see the advertisement is $50,000$\n",
    "\n",
    "  $~$\n",
    "* 5, 10, 11, 13"
   ]
  },
  {
   "cell_type": "markdown",
   "metadata": {
    "slideshow": {
     "slide_type": "slide"
    }
   },
   "source": [
    "## 2.9 Modeling with Systems of First-Order DEs"
   ]
  },
  {
   "cell_type": "markdown",
   "metadata": {
    "cell_style": "split",
    "slideshow": {
     "slide_type": "fragment"
    }
   },
   "source": [
    "**Example:** $\\text{ }$ Radioactive Series\n",
    "\n",
    "In radioactive decay series, one substance decays into another and another until a stable element is reached. \n",
    "\n",
    "In the decay of $X \\xrightarrow{k_1} Y \\xrightarrow{k_2} Z$\n"
   ]
  },
  {
   "cell_type": "markdown",
   "metadata": {
    "cell_style": "split",
    "slideshow": {
     "slide_type": "fragment"
    }
   },
   "source": [
    "* The decay of the initial element $X$ is described by\n",
    "\n",
    "  $\\displaystyle\\frac{dx}{dt}=-k_1 x$\n",
    "  \n",
    "* The second element $Y$ is produced by the decay of $X$ and loses from its own spontaneous decay\n",
    "\n",
    "  $\\displaystyle\\frac{dy}{dt}=k_1 x -k_2 y$\n",
    "  \n",
    "* The stable element $z$ is generated from the decay of $Y$\n",
    "\n",
    "  $\\displaystyle\\frac{dz}{dt}=k_2 y$"
   ]
  },
  {
   "cell_type": "markdown",
   "metadata": {
    "slideshow": {
     "slide_type": "slide"
    }
   },
   "source": [
    "### Exercises 2.9\n",
    "\n",
    "* Consider the Lotka-Volterra predator-prey model defined by\n",
    "  \n",
    "  \\begin{align*}\n",
    "   \\frac{dx}{dt} &= -0.1x +0.02xy \\\\ \n",
    "   \\frac{dy}{dt} &= 0.2y -0.025xy \n",
    "  \\end{align*}\n",
    " \n",
    "  where the populations $x(t)$ (predator) and $y(t)$ (prey) are measured in the thousands. Suppose $x(0)=6$ and $y(0)=6$. Use a numerical solver to graph $x(t)$ and $y(t)$. Use the graphs to approximate the time $t>0$ when the two populations are first equal. Use the graphs to approximate the period of each population\n"
   ]
  },
  {
   "cell_type": "code",
   "execution_count": null,
   "metadata": {
    "slideshow": {
     "slide_type": "slide"
    }
   },
   "outputs": [],
   "source": [
    "import numpy as np\n",
    "from scipy import integrate\n",
    "\n",
    "import matplotlib.pyplot as plt"
   ]
  },
  {
   "cell_type": "code",
   "execution_count": null,
   "metadata": {
    "slideshow": {
     "slide_type": "fragment"
    }
   },
   "outputs": [],
   "source": [
    "# Lotka-Volterra predator-prey model\n",
    "\n",
    "a, b, c, d = -0.1, 0.02, 0.2, -0.025\n",
    "def f(t, xy):\n",
    "    x, y = xy\n",
    "    return [a *x +b *x *y, c *y +d *x *y]\n",
    "\n",
    "# Initial condition\n",
    "\n",
    "xy0 = [6, 6]\n",
    "\n",
    "# End of time\n",
    "\n",
    "tf = 400\n",
    "\n",
    "# Numerical Solver\n",
    "sol = integrate.solve_ivp(f, [0, tf], xy0, t_eval=np.linspace(0, tf, 5*tf))\n",
    "\n",
    "t = sol.t\n",
    "xy_t = sol.y.T"
   ]
  },
  {
   "cell_type": "code",
   "execution_count": null,
   "metadata": {
    "slideshow": {
     "slide_type": "slide"
    }
   },
   "outputs": [],
   "source": [
    "fig, ax = plt.subplots(1, 1, figsize=(12, 6))\n",
    "\n",
    "ax.plot(t, xy_t[:,0], 'r', label=\"Predator\")\n",
    "ax.plot(t, xy_t[:,1], 'b', label=\"Prey\")\n",
    "\n",
    "ax.set_xlabel(\"Time\"); ax.set_ylabel(\"Number of animals\")\n",
    "ax.set_xlim(0, tf); ax.set_ylim(0, 12)\n",
    "ax.legend()\n",
    "\n",
    "plt.show()"
   ]
  },
  {
   "cell_type": "markdown",
   "metadata": {
    "slideshow": {
     "slide_type": "slide"
    }
   },
   "source": [
    "* 1, 6, 10"
   ]
  }
 ],
 "metadata": {
  "celltoolbar": "Slideshow",
  "kernelspec": {
   "display_name": "Python 3 (ipykernel)",
   "language": "python",
   "name": "python3"
  },
  "language_info": {
   "codemirror_mode": {
    "name": "ipython",
    "version": 3
   },
   "file_extension": ".py",
   "mimetype": "text/x-python",
   "name": "python",
   "nbconvert_exporter": "python",
   "pygments_lexer": "ipython3",
   "version": "3.8.12"
  }
 },
 "nbformat": 4,
 "nbformat_minor": 4
}
